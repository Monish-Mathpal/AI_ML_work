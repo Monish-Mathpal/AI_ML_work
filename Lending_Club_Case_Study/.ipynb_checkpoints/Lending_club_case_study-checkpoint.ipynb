{
 "cells": [
  {
   "cell_type": "code",
   "execution_count": 1,
   "metadata": {
    "jupyter": {
     "outputs_hidden": true
    }
   },
   "outputs": [],
   "source": [
    "import pandas as pd\n",
    "import matplotlib.pyplot as plt\n",
    "import seaborn as sns\n",
    "import math\n",
    "%matplotlib inline"
   ]
  },
  {
   "cell_type": "code",
   "execution_count": 2,
   "metadata": {
    "jupyter": {
     "outputs_hidden": true
    }
   },
   "outputs": [
    {
     "name": "stdout",
     "output_type": "stream",
     "text": [
      "<class 'pandas.core.frame.DataFrame'>\n",
      "RangeIndex: 39717 entries, 0 to 39716\n",
      "Columns: 111 entries, id to total_il_high_credit_limit\n",
      "dtypes: float64(74), int64(13), object(24)\n",
      "memory usage: 33.6+ MB\n"
     ]
    },
    {
     "data": {
      "text/plain": [
       "Index(['id', 'member_id', 'loan_amnt', 'funded_amnt', 'funded_amnt_inv',\n",
       "       'term', 'int_rate', 'installment', 'grade', 'sub_grade',\n",
       "       ...\n",
       "       'num_tl_90g_dpd_24m', 'num_tl_op_past_12m', 'pct_tl_nvr_dlq',\n",
       "       'percent_bc_gt_75', 'pub_rec_bankruptcies', 'tax_liens',\n",
       "       'tot_hi_cred_lim', 'total_bal_ex_mort', 'total_bc_limit',\n",
       "       'total_il_high_credit_limit'],\n",
       "      dtype='object', length=111)"
      ]
     },
     "execution_count": 2,
     "metadata": {},
     "output_type": "execute_result"
    }
   ],
   "source": [
    "loan_data = pd.read_csv('DATA/loan.csv', low_memory=False)\n",
    "loan_data_copy = loan_data.copy()\n",
    "loan_data.info()\n",
    "loan_data.head()\n",
    "loan_data.columns\n"
   ]
  },
  {
   "cell_type": "code",
   "execution_count": 3,
   "metadata": {},
   "outputs": [
    {
     "data": {
      "text/plain": [
       "(39717, 111)"
      ]
     },
     "execution_count": 3,
     "metadata": {},
     "output_type": "execute_result"
    }
   ],
   "source": [
    "loan_data.shape"
   ]
  },
  {
   "cell_type": "code",
   "execution_count": 4,
   "metadata": {},
   "outputs": [],
   "source": [
    "%%capture cap --no-stderr\n",
    "loan_data.info(max_cols=120)"
   ]
  },
  {
   "cell_type": "code",
   "execution_count": 5,
   "metadata": {
    "jupyter": {
     "outputs_hidden": true
    }
   },
   "outputs": [],
   "source": [
    "    \n",
    "with open(\"loan_metadata.txt\", 'w') as f:\n",
    "    f.write(cap.stdout)"
   ]
  },
  {
   "cell_type": "code",
   "execution_count": 126,
   "metadata": {},
   "outputs": [],
   "source": [
    "## to do analysis of the info output of the loan_dataset, this function will create a file with all \n",
    "## the required metadata about the loan dataset. This file will consist of missing percent of every\n",
    "## single column, datatype and null or non-null object of the loan dataset\n",
    "def create_meta_data_file(dataframe,filename):   \n",
    "\n",
    "    meta_data = pd.read_csv('loan_metadata.txt', sep='\\t', skiprows=5)\n",
    "    print(meta_data.iloc[:,:].apply(lambda x:list(filter(lambda x: x !=\"\", x[0].split(' '))), axis=1))\n",
    "    meta_data['column_name'] = meta_data.iloc[:,:].apply(lambda x:list(filter(lambda x: x !=\"\", x[0].\\\n",
    "                                                                              split(' ')))[1], axis=1)\n",
    "    \n",
    "    meta_data['null_status'] = meta_data.iloc[:,:].apply(lambda x:list(filter(lambda x: x !=\"\", x[0]\\\n",
    "                                                                            .split(' ')))[3], axis=1)\n",
    "    \n",
    "    meta_data['no_of_rows'] = meta_data.loc[:,:].apply(lambda x:list(filter(lambda x: x !=\"\", x[0]\\\n",
    "                                                                            .split(' ')))[2], axis=1)\n",
    "    meta_data = meta_data.iloc[:(meta_data.shape[0]-2),1:]\n",
    "    meta_data['missing_percent'] = meta_data['no_of_rows'].astype('float')/dataframe.shape[0]\n",
    "    meta_data['missing_percent'] = (1-(round(meta_data['no_of_rows'].astype('float')\\\n",
    "                                                   /dataframe.shape[0],2)))*100\n",
    "    meta_data.to_csv(filename+'.csv', index=False)\n",
    "    return meta_data"
   ]
  },
  {
   "cell_type": "code",
   "execution_count": null,
   "metadata": {},
   "outputs": [],
   "source": []
  },
  {
   "cell_type": "code",
   "execution_count": 127,
   "metadata": {},
   "outputs": [],
   "source": [
    "## this function will return the p value after performing the chi square test\n",
    "from scipy import stats\n",
    "def perfrom_chi_2_test(df,col1,col2):\n",
    "    crosstab = pd.crosstab(loan_data[col1], loan_data[col2])\n",
    "    _, p_val, _, *_ = stats.chi2_contingency(crosstab)\n",
    "    print(f\" P_value for chi_2 test between {col1} and {col2} {round(p_val,2)}\")"
   ]
  },
  {
   "cell_type": "code",
   "execution_count": 128,
   "metadata": {},
   "outputs": [
    {
     "name": "stdout",
     "output_type": "stream",
     "text": [
      "0                 [1, member_id, 39717, non-null, int64]\n",
      "1                 [2, loan_amnt, 39717, non-null, int64]\n",
      "2               [3, funded_amnt, 39717, non-null, int64]\n",
      "3         [4, funded_amnt_inv, 39717, non-null, float64]\n",
      "4                     [5, term, 39717, non-null, object]\n",
      "                             ...                        \n",
      "107       [108, total_bal_ex_mort, 0, non-null, float64]\n",
      "108          [109, total_bc_limit, 0, non-null, float64]\n",
      "109    [110, total_il_high_credit_limit, 0, non-null,...\n",
      "110      [dtypes:, float64(74),, int64(13),, object(24)]\n",
      "111                          [memory, usage:, 33.6+, MB]\n",
      "Length: 112, dtype: object\n"
     ]
    },
    {
     "data": {
      "text/html": [
       "<div>\n",
       "<style scoped>\n",
       "    .dataframe tbody tr th:only-of-type {\n",
       "        vertical-align: middle;\n",
       "    }\n",
       "\n",
       "    .dataframe tbody tr th {\n",
       "        vertical-align: top;\n",
       "    }\n",
       "\n",
       "    .dataframe thead th {\n",
       "        text-align: right;\n",
       "    }\n",
       "</style>\n",
       "<table border=\"1\" class=\"dataframe\">\n",
       "  <thead>\n",
       "    <tr style=\"text-align: right;\">\n",
       "      <th></th>\n",
       "      <th>column_name</th>\n",
       "      <th>data_type</th>\n",
       "      <th>no_of_rows</th>\n",
       "      <th>missing_percent</th>\n",
       "    </tr>\n",
       "  </thead>\n",
       "  <tbody>\n",
       "    <tr>\n",
       "      <th>0</th>\n",
       "      <td>member_id</td>\n",
       "      <td>non-null</td>\n",
       "      <td>39717</td>\n",
       "      <td>0.0</td>\n",
       "    </tr>\n",
       "    <tr>\n",
       "      <th>1</th>\n",
       "      <td>loan_amnt</td>\n",
       "      <td>non-null</td>\n",
       "      <td>39717</td>\n",
       "      <td>0.0</td>\n",
       "    </tr>\n",
       "    <tr>\n",
       "      <th>2</th>\n",
       "      <td>funded_amnt</td>\n",
       "      <td>non-null</td>\n",
       "      <td>39717</td>\n",
       "      <td>0.0</td>\n",
       "    </tr>\n",
       "    <tr>\n",
       "      <th>3</th>\n",
       "      <td>funded_amnt_inv</td>\n",
       "      <td>non-null</td>\n",
       "      <td>39717</td>\n",
       "      <td>0.0</td>\n",
       "    </tr>\n",
       "    <tr>\n",
       "      <th>4</th>\n",
       "      <td>term</td>\n",
       "      <td>non-null</td>\n",
       "      <td>39717</td>\n",
       "      <td>0.0</td>\n",
       "    </tr>\n",
       "    <tr>\n",
       "      <th>...</th>\n",
       "      <td>...</td>\n",
       "      <td>...</td>\n",
       "      <td>...</td>\n",
       "      <td>...</td>\n",
       "    </tr>\n",
       "    <tr>\n",
       "      <th>105</th>\n",
       "      <td>tax_liens</td>\n",
       "      <td>non-null</td>\n",
       "      <td>39678</td>\n",
       "      <td>0.0</td>\n",
       "    </tr>\n",
       "    <tr>\n",
       "      <th>106</th>\n",
       "      <td>tot_hi_cred_lim</td>\n",
       "      <td>non-null</td>\n",
       "      <td>0</td>\n",
       "      <td>100.0</td>\n",
       "    </tr>\n",
       "    <tr>\n",
       "      <th>107</th>\n",
       "      <td>total_bal_ex_mort</td>\n",
       "      <td>non-null</td>\n",
       "      <td>0</td>\n",
       "      <td>100.0</td>\n",
       "    </tr>\n",
       "    <tr>\n",
       "      <th>108</th>\n",
       "      <td>total_bc_limit</td>\n",
       "      <td>non-null</td>\n",
       "      <td>0</td>\n",
       "      <td>100.0</td>\n",
       "    </tr>\n",
       "    <tr>\n",
       "      <th>109</th>\n",
       "      <td>total_il_high_credit_limit</td>\n",
       "      <td>non-null</td>\n",
       "      <td>0</td>\n",
       "      <td>100.0</td>\n",
       "    </tr>\n",
       "  </tbody>\n",
       "</table>\n",
       "<p>110 rows × 4 columns</p>\n",
       "</div>"
      ],
      "text/plain": [
       "                    column_name data_type no_of_rows  missing_percent\n",
       "0                     member_id  non-null      39717              0.0\n",
       "1                     loan_amnt  non-null      39717              0.0\n",
       "2                   funded_amnt  non-null      39717              0.0\n",
       "3               funded_amnt_inv  non-null      39717              0.0\n",
       "4                          term  non-null      39717              0.0\n",
       "..                          ...       ...        ...              ...\n",
       "105                   tax_liens  non-null      39678              0.0\n",
       "106             tot_hi_cred_lim  non-null          0            100.0\n",
       "107           total_bal_ex_mort  non-null          0            100.0\n",
       "108              total_bc_limit  non-null          0            100.0\n",
       "109  total_il_high_credit_limit  non-null          0            100.0\n",
       "\n",
       "[110 rows x 4 columns]"
      ]
     },
     "execution_count": 128,
     "metadata": {},
     "output_type": "execute_result"
    }
   ],
   "source": [
    "create_meta_data_file(loan_data,'loan_metadata')"
   ]
  },
  {
   "cell_type": "code",
   "execution_count": 36,
   "metadata": {},
   "outputs": [],
   "source": [
    "loan_metadata = pd.read_csv('loan_metadata.csv')\n",
    "loan_metadata['column_name'] = loan_metadata['column_name'].str.strip()\n",
    "data_dict = pd.read_excel('DATA/Data_Dictionary.xlsx')\n",
    "data_dict.rename(columns= {\"LoanStatNew\":\"column_name\"}, inplace=True)"
   ]
  },
  {
   "cell_type": "code",
   "execution_count": 37,
   "metadata": {},
   "outputs": [],
   "source": [
    "data_dict.column_name = data_dict.column_name.str.strip()\n",
    "data_dict.dropna(axis='index', how='any', inplace=True)"
   ]
  },
  {
   "cell_type": "code",
   "execution_count": 38,
   "metadata": {
    "jupyter": {
     "outputs_hidden": true
    }
   },
   "outputs": [],
   "source": [
    "## merging data dictionary with the loan-metadata to generate the file with columns description, format,\n",
    "## null or non-null object information and missing percent\n",
    "loan_metadata_with_desc = loan_metadata.merge(data_dict, on='column_name', how='left')\n",
    "loan_metadata_with_desc.to_csv('loan_metadata_with_descritption.csv', index=False)"
   ]
  },
  {
   "cell_type": "code",
   "execution_count": 39,
   "metadata": {},
   "outputs": [],
   "source": [
    "## droping all the columns having missing percent greater than 90%\n",
    "drop_columns_list = loan_metadata_with_desc.loc[loan_metadata_with_desc['missing_percent'] > 90,'column_name']\\\n",
    ".values.tolist()\n",
    "loan_data.drop(axis='columns',labels=drop_columns_list,inplace=True)"
   ]
  },
  {
   "cell_type": "code",
   "execution_count": 40,
   "metadata": {},
   "outputs": [],
   "source": [
    "## encoding loan status value\n",
    "def map_loan_status(loan_st):\n",
    "    flag = ''\n",
    "    if loan_st == 'Fully Paid':\n",
    "        flag = 0\n",
    "    elif loan_st == 'Charged Off':\n",
    "        flag = 1\n",
    "    else:\n",
    "        flag = 2\n",
    "    return flag\n",
    "    "
   ]
  },
  {
   "cell_type": "code",
   "execution_count": 41,
   "metadata": {},
   "outputs": [],
   "source": [
    "## deriving different columns \n",
    "\n",
    "loan_data['annual_inc_derv'] = round(loan_data.annual_inc/10**3,2)\n",
    "loan_data['int_rate_derv'] = loan_data.int_rate.apply(lambda int_val: float(int_val.replace('%','')))\n",
    "loan_data['int_rate_amt_derv'] = loan_data['int_rate_derv']*loan_data['loan_amnt']\n",
    "loan_data['is_defaulter_derv'] = loan_data.loan_status.apply(map_loan_status)\n",
    "loan_data.grade = loan_data.grade.astype('category')\n",
    "loan_data['grade_encoded_derv'] = loan_data.grade.cat.codes"
   ]
  },
  {
   "cell_type": "code",
   "execution_count": 42,
   "metadata": {},
   "outputs": [],
   "source": [
    "## keeping only default=1 and non-default=0 observations only. Filtering all the observations where\n",
    "## loan status equals current\n",
    "loan_data = loan_data[(loan_data.is_defaulter_derv==1) | (loan_data.is_defaulter_derv==0)]"
   ]
  },
  {
   "cell_type": "markdown",
   "metadata": {},
   "source": [
    "\n",
    "<h1> <u><center>Univariate Analysis</center></u> </h1>\n",
    "<p>Note: This section contains descriptive and visuals of univariate analysis</p>"
   ]
  },
  {
   "cell_type": "code",
   "execution_count": 48,
   "metadata": {},
   "outputs": [
    {
     "data": {
      "text/html": [
       "<div>\n",
       "<style scoped>\n",
       "    .dataframe tbody tr th:only-of-type {\n",
       "        vertical-align: middle;\n",
       "    }\n",
       "\n",
       "    .dataframe tbody tr th {\n",
       "        vertical-align: top;\n",
       "    }\n",
       "\n",
       "    .dataframe thead th {\n",
       "        text-align: right;\n",
       "    }\n",
       "</style>\n",
       "<table border=\"1\" class=\"dataframe\">\n",
       "  <thead>\n",
       "    <tr style=\"text-align: right;\">\n",
       "      <th></th>\n",
       "      <th>annual_inc</th>\n",
       "      <th>grade</th>\n",
       "      <th>is_defaulter_derv</th>\n",
       "    </tr>\n",
       "  </thead>\n",
       "  <tbody>\n",
       "    <tr>\n",
       "      <th>0</th>\n",
       "      <td>24000.0</td>\n",
       "      <td>B</td>\n",
       "      <td>0</td>\n",
       "    </tr>\n",
       "    <tr>\n",
       "      <th>1</th>\n",
       "      <td>30000.0</td>\n",
       "      <td>C</td>\n",
       "      <td>1</td>\n",
       "    </tr>\n",
       "    <tr>\n",
       "      <th>2</th>\n",
       "      <td>12252.0</td>\n",
       "      <td>C</td>\n",
       "      <td>0</td>\n",
       "    </tr>\n",
       "    <tr>\n",
       "      <th>3</th>\n",
       "      <td>49200.0</td>\n",
       "      <td>C</td>\n",
       "      <td>0</td>\n",
       "    </tr>\n",
       "    <tr>\n",
       "      <th>5</th>\n",
       "      <td>36000.0</td>\n",
       "      <td>A</td>\n",
       "      <td>0</td>\n",
       "    </tr>\n",
       "  </tbody>\n",
       "</table>\n",
       "</div>"
      ],
      "text/plain": [
       "   annual_inc grade  is_defaulter_derv\n",
       "0     24000.0     B                  0\n",
       "1     30000.0     C                  1\n",
       "2     12252.0     C                  0\n",
       "3     49200.0     C                  0\n",
       "5     36000.0     A                  0"
      ]
     },
     "execution_count": 48,
     "metadata": {},
     "output_type": "execute_result"
    }
   ],
   "source": [
    "loan_data[['annual_inc','grade','is_defaulter_derv']].head()"
   ]
  },
  {
   "cell_type": "code",
   "execution_count": 59,
   "metadata": {},
   "outputs": [
    {
     "data": {
      "text/plain": [
       "grade\n",
       "A     67584.99\n",
       "B     68662.63\n",
       "C     69618.87\n",
       "D     69954.38\n",
       "E     79453.81\n",
       "F     85004.33\n",
       "G    102130.90\n",
       "Name: 0, dtype: float64"
      ]
     },
     "execution_count": 59,
     "metadata": {},
     "output_type": "execute_result"
    }
   ],
   "source": [
    "pd.pivot_table(data=loan_data[['annual_inc','grade','is_defaulter_derv']], \\\n",
    "               index='grade',columns='is_defaulter_derv', aggfunc='mean').round(2)['annual_inc'][0]"
   ]
  },
  {
   "cell_type": "markdown",
   "metadata": {},
   "source": [
    "<h2> <u>Home Ownership variable analysis</u> </h2>"
   ]
  },
  {
   "cell_type": "code",
   "execution_count": 265,
   "metadata": {},
   "outputs": [],
   "source": [
    "ASP_RATIO = (12,6)"
   ]
  },
  {
   "cell_type": "code",
   "execution_count": 266,
   "metadata": {},
   "outputs": [
    {
     "data": {
      "text/plain": [
       "(38577, 60)"
      ]
     },
     "execution_count": 266,
     "metadata": {},
     "output_type": "execute_result"
    }
   ],
   "source": [
    "loan_data.shape"
   ]
  },
  {
   "cell_type": "code",
   "execution_count": 267,
   "metadata": {},
   "outputs": [
    {
     "data": {
      "text/plain": [
       "count     38577\n",
       "unique        5\n",
       "top        RENT\n",
       "freq      18480\n",
       "Name: home_ownership, dtype: object"
      ]
     },
     "execution_count": 267,
     "metadata": {},
     "output_type": "execute_result"
    }
   ],
   "source": [
    "loan_data.home_ownership.describe()"
   ]
  },
  {
   "cell_type": "code",
   "execution_count": 268,
   "metadata": {},
   "outputs": [
    {
     "data": {
      "image/png": "[encoded data removed]",
      "text/plain": [
       "<Figure size 864x432 with 1 Axes>"
      ]
     },
     "metadata": {
      "needs_background": "light"
     },
     "output_type": "display_data"
    }
   ],
   "source": [
    "loan_data.home_ownership.value_counts().plot(kind='bar', figsize=ASP_RATIO);\n",
    "plt.grid()"
   ]
  },
  {
   "cell_type": "markdown",
   "metadata": {},
   "source": [
    "<h2> <u>Employee Title variable analysis</u> </h2>"
   ]
  },
  {
   "cell_type": "code",
   "execution_count": 269,
   "metadata": {},
   "outputs": [
    {
     "data": {
      "text/html": [
       "<div>\n",
       "<style scoped>\n",
       "    .dataframe tbody tr th:only-of-type {\n",
       "        vertical-align: middle;\n",
       "    }\n",
       "\n",
       "    .dataframe tbody tr th {\n",
       "        vertical-align: top;\n",
       "    }\n",
       "\n",
       "    .dataframe thead th {\n",
       "        text-align: right;\n",
       "    }\n",
       "</style>\n",
       "<table border=\"1\" class=\"dataframe\">\n",
       "  <thead>\n",
       "    <tr style=\"text-align: right;\">\n",
       "      <th></th>\n",
       "      <th>counts</th>\n",
       "      <th>rank</th>\n",
       "    </tr>\n",
       "  </thead>\n",
       "  <tbody>\n",
       "    <tr>\n",
       "      <th>US Army</th>\n",
       "      <td>131</td>\n",
       "      <td>1.0</td>\n",
       "    </tr>\n",
       "    <tr>\n",
       "      <th>Bank of America</th>\n",
       "      <td>107</td>\n",
       "      <td>2.0</td>\n",
       "    </tr>\n",
       "    <tr>\n",
       "      <th>IBM</th>\n",
       "      <td>65</td>\n",
       "      <td>3.0</td>\n",
       "    </tr>\n",
       "    <tr>\n",
       "      <th>AT&amp;T</th>\n",
       "      <td>57</td>\n",
       "      <td>4.0</td>\n",
       "    </tr>\n",
       "    <tr>\n",
       "      <th>Kaiser Permanente</th>\n",
       "      <td>56</td>\n",
       "      <td>5.0</td>\n",
       "    </tr>\n",
       "    <tr>\n",
       "      <th>USAF</th>\n",
       "      <td>52</td>\n",
       "      <td>6.0</td>\n",
       "    </tr>\n",
       "    <tr>\n",
       "      <th>UPS</th>\n",
       "      <td>52</td>\n",
       "      <td>7.0</td>\n",
       "    </tr>\n",
       "    <tr>\n",
       "      <th>Wells Fargo</th>\n",
       "      <td>52</td>\n",
       "      <td>8.0</td>\n",
       "    </tr>\n",
       "    <tr>\n",
       "      <th>US Air Force</th>\n",
       "      <td>51</td>\n",
       "      <td>9.0</td>\n",
       "    </tr>\n",
       "    <tr>\n",
       "      <th>Walmart</th>\n",
       "      <td>45</td>\n",
       "      <td>10.0</td>\n",
       "    </tr>\n",
       "  </tbody>\n",
       "</table>\n",
       "</div>"
      ],
      "text/plain": [
       "                   counts  rank\n",
       "US Army               131   1.0\n",
       "Bank of America       107   2.0\n",
       "IBM                    65   3.0\n",
       "AT&T                   57   4.0\n",
       "Kaiser Permanente      56   5.0\n",
       "USAF                   52   6.0\n",
       "UPS                    52   7.0\n",
       "Wells Fargo            52   8.0\n",
       "US Air Force           51   9.0\n",
       "Walmart                45  10.0"
      ]
     },
     "execution_count": 269,
     "metadata": {},
     "output_type": "execute_result"
    }
   ],
   "source": [
    "emp_title_ = pd.DataFrame(loan_data.emp_title.value_counts())\n",
    "emp_title_['rank']= emp_title_.rank(method='first', ascending=False)\n",
    "emp_title_.rename(columns={'emp_title':'counts'}, inplace=True)\n",
    "emp_title_.head(10)"
   ]
  },
  {
   "cell_type": "code",
   "execution_count": 270,
   "metadata": {},
   "outputs": [
    {
     "data": {
      "image/png": "[encoded data removed]",
      "text/plain": [
       "<Figure size 864x432 with 1 Axes>"
      ]
     },
     "metadata": {
      "needs_background": "light"
     },
     "output_type": "display_data"
    }
   ],
   "source": [
    "## Rank and frequency distribution plot\n",
    "fig = plt.figure(figsize=ASP_RATIO)\n",
    "plt.grid()\n",
    "plt.xscale('log')\n",
    "plt.yscale('log')\n",
    "plt.scatter(emp_title_['rank'],emp_title_['counts']);"
   ]
  },
  {
   "cell_type": "code",
   "execution_count": null,
   "metadata": {},
   "outputs": [],
   "source": []
  },
  {
   "cell_type": "code",
   "execution_count": null,
   "metadata": {},
   "outputs": [],
   "source": []
  },
  {
   "cell_type": "code",
   "execution_count": null,
   "metadata": {},
   "outputs": [],
   "source": []
  },
  {
   "cell_type": "markdown",
   "metadata": {},
   "source": [
    "<h2> <u>Annual Income variable analysis</u> </h2>"
   ]
  },
  {
   "cell_type": "code",
   "execution_count": 271,
   "metadata": {},
   "outputs": [
    {
     "data": {
      "image/png": "[encoded data removed]",
      "text/plain": [
       "<Figure size 864x432 with 1 Axes>"
      ]
     },
     "metadata": {
      "needs_background": "light"
     },
     "output_type": "display_data"
    }
   ],
   "source": [
    "## boxplot to analyze the distribution of annual_income variable \n",
    "annual_inc_filter1 = (loan_data['annual_inc'] >=39000) & (loan_data['annual_inc'] <=83000)\n",
    "\n",
    "loan_data.loc[annual_inc_filter1, 'annual_inc']\\\n",
    ".describe()\\\n",
    ".plot.box(figsize=ASP_RATIO)\n",
    "\n",
    "plt.grid()"
   ]
  },
  {
   "cell_type": "code",
   "execution_count": 272,
   "metadata": {},
   "outputs": [
    {
     "data": {
      "image/png": "[encoded data removed]",
      "text/plain": [
       "<Figure size 864x432 with 1 Axes>"
      ]
     },
     "metadata": {
      "needs_background": "light"
     },
     "output_type": "display_data"
    }
   ],
   "source": [
    "annual_inc_filter2 = (loan_data['annual_inc'] <=10**5)\n",
    "\n",
    "loan_data.loc[annual_inc_filter2, 'annual_inc']\\\n",
    ".describe()\\\n",
    ".plot.box(figsize=ASP_RATIO)\n",
    "\n",
    "plt.grid()"
   ]
  },
  {
   "cell_type": "code",
   "execution_count": 273,
   "metadata": {},
   "outputs": [
    {
     "data": {
      "image/png": "[encoded data removed]",
      "text/plain": [
       "<Figure size 864x432 with 1 Axes>"
      ]
     },
     "metadata": {
      "needs_background": "light"
     },
     "output_type": "display_data"
    }
   ],
   "source": [
    "loan_data.loc[annual_inc_filter2,'annual_inc']\\\n",
    ".describe()\\\n",
    ".plot.density(rot=90, figsize=ASP_RATIO);\n",
    "\n",
    "plt.grid()"
   ]
  },
  {
   "cell_type": "code",
   "execution_count": 274,
   "metadata": {},
   "outputs": [
    {
     "data": {
      "text/plain": [
       "count     33096.000000\n",
       "mean      54718.949504\n",
       "std       21255.672109\n",
       "min        4000.000000\n",
       "25%       38400.000000\n",
       "50%       52800.000000\n",
       "75%       70000.000000\n",
       "max      100000.000000\n",
       "Name: annual_inc, dtype: float64"
      ]
     },
     "execution_count": 274,
     "metadata": {},
     "output_type": "execute_result"
    }
   ],
   "source": [
    "loan_data.loc[annual_inc_filter2, 'annual_inc'].describe()"
   ]
  },
  {
   "cell_type": "code",
   "execution_count": 275,
   "metadata": {},
   "outputs": [
    {
     "data": {
      "text/plain": [
       "<matplotlib.axes._subplots.AxesSubplot at 0x7f4188eacd30>"
      ]
     },
     "execution_count": 275,
     "metadata": {},
     "output_type": "execute_result"
    },
    {
     "data": {
      "image/png": "[encoded data removed]",
      "text/plain": [
       "<Figure size 432x288 with 1 Axes>"
      ]
     },
     "metadata": {
      "needs_background": "light"
     },
     "output_type": "display_data"
    }
   ],
   "source": [
    "loan_data.annual_inc.plot.hist()"
   ]
  },
  {
   "cell_type": "markdown",
   "metadata": {},
   "source": [
    "<h2> <u>Delinquency for the last 2 years variable analysis</u> </h2>"
   ]
  },
  {
   "cell_type": "code",
   "execution_count": 276,
   "metadata": {},
   "outputs": [
    {
     "data": {
      "text/plain": [
       "0     34386\n",
       "1      3207\n",
       "2       673\n",
       "3       212\n",
       "4        60\n",
       "5        21\n",
       "6        10\n",
       "7         4\n",
       "8         2\n",
       "11        1\n",
       "9         1\n",
       "Name: delinq_2yrs, dtype: int64"
      ]
     },
     "execution_count": 276,
     "metadata": {},
     "output_type": "execute_result"
    }
   ],
   "source": [
    "loan_data.delinq_2yrs.value_counts()"
   ]
  },
  {
   "cell_type": "code",
   "execution_count": 277,
   "metadata": {},
   "outputs": [
    {
     "data": {
      "image/png": "[encoded data removed]",
      "text/plain": [
       "<Figure size 864x432 with 1 Axes>"
      ]
     },
     "metadata": {
      "needs_background": "light"
     },
     "output_type": "display_data"
    }
   ],
   "source": [
    "loan_data.loc[:,'delinq_2yrs'].\\\n",
    "value_counts().plot.bar(figsize=ASP_RATIO);\n",
    "plt.grid()"
   ]
  },
  {
   "cell_type": "code",
   "execution_count": null,
   "metadata": {},
   "outputs": [],
   "source": []
  },
  {
   "cell_type": "markdown",
   "metadata": {},
   "source": [
    "<h2> <u>Employee Job Experience variable analysis</u> </h2>"
   ]
  },
  {
   "cell_type": "code",
   "execution_count": 278,
   "metadata": {},
   "outputs": [
    {
     "data": {
      "image/png": "[encoded data removed]",
      "text/plain": [
       "<Figure size 864x432 with 1 Axes>"
      ]
     },
     "metadata": {
      "needs_background": "light"
     },
     "output_type": "display_data"
    }
   ],
   "source": [
    "loan_data['emp_length'].value_counts().plot.bar(figsize=ASP_RATIO);\n",
    "plt.grid()"
   ]
  },
  {
   "cell_type": "code",
   "execution_count": null,
   "metadata": {},
   "outputs": [],
   "source": []
  },
  {
   "cell_type": "markdown",
   "metadata": {},
   "source": [
    "<h2> <u>Funded Amount variable analysis</u> </h2>"
   ]
  },
  {
   "cell_type": "code",
   "execution_count": 279,
   "metadata": {},
   "outputs": [
    {
     "data": {
      "image/png": "[encoded data removed]",
      "text/plain": [
       "<Figure size 864x432 with 1 Axes>"
      ]
     },
     "metadata": {
      "needs_background": "light"
     },
     "output_type": "display_data"
    }
   ],
   "source": [
    "loan_data.funded_amnt.plot.hist(figsize=ASP_RATIO);\n",
    "plt.grid()"
   ]
  },
  {
   "cell_type": "code",
   "execution_count": 280,
   "metadata": {},
   "outputs": [
    {
     "data": {
      "image/png": "[encoded data removed]",
      "text/plain": [
       "<Figure size 864x432 with 1 Axes>"
      ]
     },
     "metadata": {
      "needs_background": "light"
     },
     "output_type": "display_data"
    }
   ],
   "source": [
    "loan_data.funded_amnt.describe().plot.box(figsize=ASP_RATIO)\n",
    "plt.grid()"
   ]
  },
  {
   "cell_type": "code",
   "execution_count": null,
   "metadata": {},
   "outputs": [],
   "source": []
  },
  {
   "cell_type": "markdown",
   "metadata": {},
   "source": [
    "\n",
    "<h2> <u>State Address variable analysis</u> </h2>"
   ]
  },
  {
   "cell_type": "code",
   "execution_count": 281,
   "metadata": {},
   "outputs": [
    {
     "data": {
      "text/plain": [
       "(38577,)"
      ]
     },
     "execution_count": 281,
     "metadata": {},
     "output_type": "execute_result"
    }
   ],
   "source": [
    "loan_data.addr_state.shape"
   ]
  },
  {
   "cell_type": "code",
   "execution_count": 282,
   "metadata": {},
   "outputs": [
    {
     "data": {
      "image/png": "[encoded data removed]",
      "text/plain": [
       "<Figure size 864x432 with 1 Axes>"
      ]
     },
     "metadata": {
      "needs_background": "light"
     },
     "output_type": "display_data"
    }
   ],
   "source": [
    "loan_data.addr_state.value_counts().plot.bar(figsize=ASP_RATIO);\n",
    "plt.grid()"
   ]
  },
  {
   "cell_type": "code",
   "execution_count": null,
   "metadata": {},
   "outputs": [],
   "source": []
  },
  {
   "cell_type": "markdown",
   "metadata": {},
   "source": [
    "<h2> <u>Interest Rate variable analysis</u> </h2>"
   ]
  },
  {
   "cell_type": "code",
   "execution_count": 283,
   "metadata": {},
   "outputs": [
    {
     "data": {
      "text/plain": [
       "(38577,)"
      ]
     },
     "execution_count": 283,
     "metadata": {},
     "output_type": "execute_result"
    }
   ],
   "source": [
    "loan_data.int_rate_derv.shape"
   ]
  },
  {
   "cell_type": "code",
   "execution_count": 284,
   "metadata": {},
   "outputs": [
    {
     "data": {
      "image/png": "[encoded data removed]",
      "text/plain": [
       "<Figure size 864x432 with 1 Axes>"
      ]
     },
     "metadata": {
      "needs_background": "light"
     },
     "output_type": "display_data"
    }
   ],
   "source": [
    "loan_data.int_rate_derv.plot.hist(figsize=ASP_RATIO);\n",
    "plt.grid()"
   ]
  },
  {
   "cell_type": "code",
   "execution_count": 285,
   "metadata": {},
   "outputs": [
    {
     "data": {
      "image/png": "[encoded data removed]",
      "text/plain": [
       "<Figure size 864x432 with 1 Axes>"
      ]
     },
     "metadata": {
      "needs_background": "light"
     },
     "output_type": "display_data"
    }
   ],
   "source": [
    "loan_data.loc[(loan_data.int_rate_derv > 6)  & (loan_data.int_rate_derv <= 20), 'int_rate_derv']\\\n",
    ".plot.box(figsize=ASP_RATIO);\n",
    "plt.grid()"
   ]
  },
  {
   "cell_type": "code",
   "execution_count": null,
   "metadata": {},
   "outputs": [],
   "source": []
  },
  {
   "cell_type": "markdown",
   "metadata": {},
   "source": [
    "<h2> <u>Interest Amount variable analysis</u> </h2>"
   ]
  },
  {
   "cell_type": "code",
   "execution_count": 286,
   "metadata": {},
   "outputs": [
    {
     "data": {
      "text/plain": [
       "count     38577.000000\n",
       "mean     139987.282779\n",
       "std      121697.735020\n",
       "min        4035.000000\n",
       "25%       55160.000000\n",
       "50%      100620.000000\n",
       "75%      186900.000000\n",
       "max      836850.000000\n",
       "Name: int_rate_amt_derv, dtype: float64"
      ]
     },
     "execution_count": 286,
     "metadata": {},
     "output_type": "execute_result"
    }
   ],
   "source": [
    "loan_data.int_rate_amt_derv.describe()"
   ]
  },
  {
   "cell_type": "code",
   "execution_count": 287,
   "metadata": {},
   "outputs": [],
   "source": [
    "int_rate_amt_int1 = (loan_data.int_rate_amt_derv <= 20000)\n",
    "int_rate_amt_int2 = (loan_data.int_rate_amt_derv > 20000) & (loan_data.int_rate_amt_derv <= 50000)\n",
    "int_rate_amt_int3 = (loan_data.int_rate_amt_derv > 50000) & (loan_data.int_rate_amt_derv <= 80000)\n",
    "int_rate_amt_int4 = (loan_data.int_rate_amt_derv > 80000) & (loan_data.int_rate_amt_derv <= 100000)\n",
    "int_rate_amt_int5 = (loan_data.int_rate_amt_derv > 100000)\n",
    "\n",
    "loan_data.loc[int_rate_amt_int1,'int_rate_amt_derv_encode'] = 1\n",
    "loan_data.loc[int_rate_amt_int2,'int_rate_amt_derv_encode'] = 2 \n",
    "loan_data.loc[int_rate_amt_int3,'int_rate_amt_derv_encode'] = 3 \n",
    "loan_data.loc[int_rate_amt_int4,'int_rate_amt_derv_encode'] = 4\n",
    "loan_data.loc[int_rate_amt_int5,'int_rate_amt_derv_encode'] = 5 "
   ]
  },
  {
   "cell_type": "code",
   "execution_count": 288,
   "metadata": {},
   "outputs": [
    {
     "data": {
      "text/plain": [
       "array([3., 2., 5., 4., 1.])"
      ]
     },
     "execution_count": 288,
     "metadata": {},
     "output_type": "execute_result"
    }
   ],
   "source": [
    "loan_data.int_rate_amt_derv_encode.unique()"
   ]
  },
  {
   "cell_type": "code",
   "execution_count": 289,
   "metadata": {},
   "outputs": [
    {
     "data": {
      "text/plain": [
       "<matplotlib.axes._subplots.AxesSubplot at 0x7f4188c613c8>"
      ]
     },
     "execution_count": 289,
     "metadata": {},
     "output_type": "execute_result"
    },
    {
     "data": {
      "image/png": "[encoded data removed]",
      "text/plain": [
       "<Figure size 432x288 with 1 Axes>"
      ]
     },
     "metadata": {
      "needs_background": "light"
     },
     "output_type": "display_data"
    }
   ],
   "source": [
    "loan_data.int_rate_amt_derv.plot.hist()"
   ]
  },
  {
   "cell_type": "code",
   "execution_count": 290,
   "metadata": {},
   "outputs": [
    {
     "data": {
      "image/png": "[encoded data removed]",
      "text/plain": [
       "<Figure size 864x432 with 1 Axes>"
      ]
     },
     "metadata": {
      "needs_background": "light"
     },
     "output_type": "display_data"
    }
   ],
   "source": [
    "loan_data.loc[loan_data.int_rate_amt_derv <= 3*(10**5),'int_rate_amt_derv'].plot.box(figsize=ASP_RATIO);\n",
    "plt.grid()"
   ]
  },
  {
   "cell_type": "code",
   "execution_count": null,
   "metadata": {},
   "outputs": [],
   "source": []
  },
  {
   "cell_type": "markdown",
   "metadata": {},
   "source": [
    "<h2> <u>Target variable analysis</u> </h2>"
   ]
  },
  {
   "cell_type": "code",
   "execution_count": 291,
   "metadata": {},
   "outputs": [
    {
     "data": {
      "text/plain": [
       "(38577,)"
      ]
     },
     "execution_count": 291,
     "metadata": {},
     "output_type": "execute_result"
    }
   ],
   "source": [
    "loan_data.is_defaulter_derv.shape"
   ]
  },
  {
   "cell_type": "code",
   "execution_count": 292,
   "metadata": {},
   "outputs": [
    {
     "name": "stdout",
     "output_type": "stream",
     "text": [
      "DEFAULTER PERCENT --> 14.59%\n",
      "NON_DEFAULTER PERCENT --> 85.41%\n"
     ]
    }
   ],
   "source": [
    "non_defaulter_percnt = round(loan_data.is_defaulter_derv\\\n",
    "      .value_counts()[0]/loan_data\\\n",
    "      .is_defaulter_derv\\\n",
    "      .value_counts()\\\n",
    "      .sum()*100,2)\n",
    "\n",
    "defaulter_percnt = round(loan_data.is_defaulter_derv\\\n",
    "      .value_counts()[1]/loan_data\\\n",
    "      .is_defaulter_derv\\\n",
    "      .value_counts()\\\n",
    "      .sum()*100,2)\n",
    "\n",
    "print(f\"DEFAULTER PERCENT --> {str(defaulter_percnt)+'%'}\\nNON_DEFAULTER PERCENT --> {str(non_defaulter_percnt)+ '%'}\")"
   ]
  },
  {
   "cell_type": "code",
   "execution_count": 293,
   "metadata": {},
   "outputs": [
    {
     "data": {
      "image/png": "[encoded data removed]",
      "text/plain": [
       "<Figure size 1080x576 with 1 Axes>"
      ]
     },
     "metadata": {
      "needs_background": "light"
     },
     "output_type": "display_data"
    }
   ],
   "source": [
    "loan_data.is_defaulter_derv.value_counts().plot.bar(figsize=(15,8));\n",
    "plt.grid()"
   ]
  },
  {
   "cell_type": "code",
   "execution_count": null,
   "metadata": {},
   "outputs": [],
   "source": []
  },
  {
   "cell_type": "markdown",
   "metadata": {},
   "source": [
    "<h2> <u>Purpose variable analysis</u> </h2>"
   ]
  },
  {
   "cell_type": "code",
   "execution_count": 294,
   "metadata": {},
   "outputs": [
    {
     "data": {
      "image/png": "[encoded data removed]",
      "text/plain": [
       "<Figure size 864x432 with 1 Axes>"
      ]
     },
     "metadata": {
      "needs_background": "light"
     },
     "output_type": "display_data"
    }
   ],
   "source": [
    "purpose_ = pd.DataFrame(loan_data.purpose.value_counts())\n",
    "purpose_['rank']= purpose_.rank(method='first', ascending=False)\n",
    "purpose_.rename(columns={'purpose':'counts'}, inplace=True)\n",
    "purpose_.head(10)\n",
    "\n",
    "fig = plt.figure(figsize=ASP_RATIO)\n",
    "plt.grid()\n",
    "plt.xscale('linear')\n",
    "plt.yscale('log')\n",
    "plt.scatter(purpose_['rank'],purpose_['counts']);"
   ]
  },
  {
   "cell_type": "code",
   "execution_count": 295,
   "metadata": {},
   "outputs": [
    {
     "data": {
      "text/plain": [
       "(38577,)"
      ]
     },
     "execution_count": 295,
     "metadata": {},
     "output_type": "execute_result"
    }
   ],
   "source": [
    "loan_data.purpose.shape"
   ]
  },
  {
   "cell_type": "code",
   "execution_count": 296,
   "metadata": {},
   "outputs": [
    {
     "data": {
      "image/png": "[encoded data removed]",
      "text/plain": [
       "<Figure size 1080x576 with 1 Axes>"
      ]
     },
     "metadata": {
      "needs_background": "light"
     },
     "output_type": "display_data"
    }
   ],
   "source": [
    "loan_data.purpose.value_counts().plot.bar(figsize=(15,8));\n",
    "plt.grid()"
   ]
  },
  {
   "cell_type": "code",
   "execution_count": null,
   "metadata": {},
   "outputs": [],
   "source": []
  },
  {
   "cell_type": "markdown",
   "metadata": {},
   "source": [
    "<h2> <u>Title variable analysis</u> </h2>"
   ]
  },
  {
   "cell_type": "code",
   "execution_count": 297,
   "metadata": {},
   "outputs": [
    {
     "data": {
      "text/plain": [
       "(38577,)"
      ]
     },
     "execution_count": 297,
     "metadata": {},
     "output_type": "execute_result"
    }
   ],
   "source": [
    "loan_data.title.shape"
   ]
  },
  {
   "cell_type": "code",
   "execution_count": 298,
   "metadata": {},
   "outputs": [
    {
     "data": {
      "image/png": "[encoded data removed]",
      "text/plain": [
       "<Figure size 1080x576 with 1 Axes>"
      ]
     },
     "metadata": {
      "needs_background": "light"
     },
     "output_type": "display_data"
    }
   ],
   "source": [
    "loan_data.title.value_counts()[:20].plot.bar(figsize=(15,8))\n",
    "plt.grid()"
   ]
  },
  {
   "cell_type": "code",
   "execution_count": null,
   "metadata": {},
   "outputs": [],
   "source": []
  },
  {
   "cell_type": "markdown",
   "metadata": {},
   "source": [
    "<h2> <u>Grade variable analysis</u> </h2>"
   ]
  },
  {
   "cell_type": "code",
   "execution_count": 299,
   "metadata": {},
   "outputs": [
    {
     "data": {
      "image/png": "[encoded data removed]",
      "text/plain": [
       "<Figure size 864x432 with 1 Axes>"
      ]
     },
     "metadata": {
      "needs_background": "light"
     },
     "output_type": "display_data"
    }
   ],
   "source": [
    "grade_ = pd.DataFrame(loan_data.grade.value_counts())\n",
    "grade_['rank']= grade_.rank(method='first', ascending=False)\n",
    "grade_.rename(columns={'grade':'counts'}, inplace=True)\n",
    "grade_.head(10)\n",
    "\n",
    "fig = plt.figure(figsize=ASP_RATIO)\n",
    "plt.grid()\n",
    "plt.xscale('linear')\n",
    "plt.yscale('linear')\n",
    "plt.scatter(grade_['rank'],grade_['counts']);"
   ]
  },
  {
   "cell_type": "code",
   "execution_count": 300,
   "metadata": {},
   "outputs": [
    {
     "data": {
      "text/plain": [
       "<matplotlib.axes._subplots.AxesSubplot at 0x7f41895b4828>"
      ]
     },
     "execution_count": 300,
     "metadata": {},
     "output_type": "execute_result"
    },
    {
     "data": {
      "image/png": "[encoded data removed]",
      "text/plain": [
       "<Figure size 432x288 with 1 Axes>"
      ]
     },
     "metadata": {
      "needs_background": "light"
     },
     "output_type": "display_data"
    }
   ],
   "source": [
    "loan_data['grade_encoded_derv'].plot.hist()"
   ]
  },
  {
   "cell_type": "code",
   "execution_count": 301,
   "metadata": {},
   "outputs": [
    {
     "data": {
      "image/png": "[encoded data removed]",
      "text/plain": [
       "<Figure size 864x432 with 1 Axes>"
      ]
     },
     "metadata": {
      "needs_background": "light"
     },
     "output_type": "display_data"
    }
   ],
   "source": [
    "loan_data.grade.value_counts().plot.bar(figsize=ASP_RATIO);\n",
    "plt.grid();"
   ]
  },
  {
   "cell_type": "code",
   "execution_count": null,
   "metadata": {},
   "outputs": [],
   "source": []
  },
  {
   "cell_type": "code",
   "execution_count": null,
   "metadata": {},
   "outputs": [],
   "source": []
  },
  {
   "cell_type": "code",
   "execution_count": 302,
   "metadata": {},
   "outputs": [
    {
     "data": {
      "text/plain": [
       "<matplotlib.axes._subplots.AxesSubplot at 0x7f4188c66400>"
      ]
     },
     "execution_count": 302,
     "metadata": {},
     "output_type": "execute_result"
    },
    {
     "data": {
      "image/png": "[encoded data removed]",
      "text/plain": [
       "<Figure size 432x288 with 1 Axes>"
      ]
     },
     "metadata": {
      "needs_background": "light"
     },
     "output_type": "display_data"
    }
   ],
   "source": [
    "loan_data.sub_grade.value_counts().plot.bar()"
   ]
  },
  {
   "cell_type": "code",
   "execution_count": null,
   "metadata": {},
   "outputs": [],
   "source": []
  },
  {
   "cell_type": "code",
   "execution_count": null,
   "metadata": {},
   "outputs": [],
   "source": []
  },
  {
   "cell_type": "code",
   "execution_count": null,
   "metadata": {},
   "outputs": [],
   "source": []
  },
  {
   "cell_type": "code",
   "execution_count": 303,
   "metadata": {},
   "outputs": [
    {
     "data": {
      "text/plain": [
       "grade\n",
       "A    20.75\n",
       "B    30.03\n",
       "C    19.57\n",
       "D    14.47\n",
       "E     9.64\n",
       "F     4.11\n",
       "G     1.43\n",
       "Name: funded_amnt_inv, dtype: float64"
      ]
     },
     "execution_count": 303,
     "metadata": {},
     "output_type": "execute_result"
    }
   ],
   "source": [
    "round((loan_data.groupby('grade')['funded_amnt_inv'].sum()/loan_data['funded_amnt_inv'].sum())*100,2)"
   ]
  },
  {
   "cell_type": "code",
   "execution_count": 304,
   "metadata": {},
   "outputs": [],
   "source": [
    "fainv1 = (loan_data.funded_amnt_inv <= 5000)\n",
    "fainv2 = (loan_data.funded_amnt_inv > 5000)& (loan_data.funded_amnt_inv <= 10000)\n",
    "fainv3 = (loan_data.funded_amnt_inv > 10000)& (loan_data.funded_amnt_inv <= 15000)\n",
    "fainv4 = (loan_data.funded_amnt_inv > 15000)\n",
    "\n",
    "loan_data.loc[fainv1,'funded_amnt_inv_encode_derv'] = 1\n",
    "loan_data.loc[fainv2,'funded_amnt_inv_encode_derv'] = 2\n",
    "loan_data.loc[fainv3,'funded_amnt_inv_encode_derv'] = 3\n",
    "loan_data.loc[fainv4,'funded_amnt_inv_encode_derv'] = 4"
   ]
  },
  {
   "cell_type": "code",
   "execution_count": 305,
   "metadata": {},
   "outputs": [
    {
     "data": {
      "text/plain": [
       "array([1., 2., 3., 4.])"
      ]
     },
     "execution_count": 305,
     "metadata": {},
     "output_type": "execute_result"
    }
   ],
   "source": [
    "loan_data.funded_amnt_inv_encode_derv.unique()"
   ]
  },
  {
   "cell_type": "code",
   "execution_count": 306,
   "metadata": {},
   "outputs": [
    {
     "data": {
      "image/png": "[encoded data removed]",
      "text/plain": [
       "<Figure size 864x432 with 1 Axes>"
      ]
     },
     "metadata": {
      "needs_background": "light"
     },
     "output_type": "display_data"
    }
   ],
   "source": [
    "loan_data.funded_amnt_inv.plot.hist(figsize=ASP_RATIO);\n",
    "plt.grid()"
   ]
  },
  {
   "cell_type": "code",
   "execution_count": 307,
   "metadata": {},
   "outputs": [],
   "source": [
    "def encode_pub_rec(val):\n",
    "    if val == 1 or val==0:\n",
    "        return val\n",
    "    else:\n",
    "        return 1\n",
    "    "
   ]
  },
  {
   "cell_type": "code",
   "execution_count": 308,
   "metadata": {},
   "outputs": [],
   "source": [
    "loan_data['pub_rec_derv']= loan_data.pub_rec.apply(encode_pub_rec)"
   ]
  },
  {
   "cell_type": "code",
   "execution_count": 309,
   "metadata": {},
   "outputs": [
    {
     "data": {
      "text/plain": [
       "0    36507\n",
       "1     2013\n",
       "2       48\n",
       "3        7\n",
       "4        2\n",
       "Name: pub_rec, dtype: int64"
      ]
     },
     "execution_count": 309,
     "metadata": {},
     "output_type": "execute_result"
    }
   ],
   "source": [
    "loan_data.pub_rec.value_counts()"
   ]
  },
  {
   "cell_type": "markdown",
   "metadata": {},
   "source": [
    "<h1> <center><u>Bivariate Analysis</u></center></h1>"
   ]
  },
  {
   "cell_type": "markdown",
   "metadata": {},
   "source": [
    "<h4> <u>No of Months passed since last time, when the payment of loan was missed vs Target variable analysis</u> </h4>"
   ]
  },
  {
   "cell_type": "code",
   "execution_count": 310,
   "metadata": {},
   "outputs": [
    {
     "data": {
      "image/png": "[encoded data removed]",
      "text/plain": [
       "<Figure size 864x432 with 1 Axes>"
      ]
     },
     "metadata": {
      "needs_background": "light"
     },
     "output_type": "display_data"
    }
   ],
   "source": [
    "fig_dims = ASP_RATIO\n",
    "fig_msld, ax_msld = plt.subplots(figsize=fig_dims)\n",
    "sns.boxplot(x='is_defaulter_derv', y='mths_since_last_delinq', data=loan_data, ax=ax_msld);"
   ]
  },
  {
   "cell_type": "code",
   "execution_count": 311,
   "metadata": {},
   "outputs": [
    {
     "data": {
      "image/png": "[encoded data removed]",
      "text/plain": [
       "<Figure size 864x432 with 1 Axes>"
      ]
     },
     "metadata": {
      "needs_background": "light"
     },
     "output_type": "display_data"
    }
   ],
   "source": [
    "(loan_data[(loan_data.is_defaulter_derv==0)]['mths_since_last_delinq'].value_counts()/\\\n",
    "loan_data[(loan_data.is_defaulter_derv==0)]['mths_since_last_delinq'].value_counts().sum()).sort_index()\\\n",
    "[:40].plot(kind='bar', figsize=ASP_RATIO)\n",
    "plt.grid()"
   ]
  },
  {
   "cell_type": "code",
   "execution_count": 312,
   "metadata": {},
   "outputs": [
    {
     "data": {
      "image/png": "[encoded data removed]",
      "text/plain": [
       "<Figure size 864x432 with 1 Axes>"
      ]
     },
     "metadata": {
      "needs_background": "light"
     },
     "output_type": "display_data"
    }
   ],
   "source": [
    "(loan_data[(loan_data.is_defaulter_derv==1)]['mths_since_last_delinq'].value_counts()/\\\n",
    "loan_data[(loan_data.is_defaulter_derv==1)]['mths_since_last_delinq'].value_counts().sum()).sort_index()\\\n",
    "[:40].plot(kind='bar', figsize=ASP_RATIO)\n",
    "plt.grid()"
   ]
  },
  {
   "cell_type": "code",
   "execution_count": 313,
   "metadata": {},
   "outputs": [],
   "source": [
    "\n",
    "msld1 = (loan_data.mths_since_last_delinq <= 20)\n",
    "msld2 = (loan_data.mths_since_last_delinq > 20)& (loan_data.mths_since_last_delinq <= 50)\n",
    "msld3 = (loan_data.mths_since_last_delinq > 50)\n",
    "\n",
    "\n",
    "loan_data.loc[msld1,'mths_since_last_delinq_derv'] = 1 \n",
    "loan_data.loc[msld2,'mths_since_last_delinq_derv'] = 2 \n",
    "loan_data.loc[msld3,'mths_since_last_delinq_derv'] = 3\n",
    "\n",
    "\n",
    "woe_df_msld = pd.DataFrame()\n",
    "\n",
    "min_val =[\n",
    "    loan_data.loc[msld1,'mths_since_last_delinq'].min(),\n",
    "loan_data.loc[msld2,'mths_since_last_delinq'].min(),\n",
    "loan_data.loc[msld3,'mths_since_last_delinq'].min()]\n",
    "\n",
    "max_val =[\n",
    "    loan_data.loc[msld1,'mths_since_last_delinq'].max(),\n",
    "    loan_data.loc[msld2,'mths_since_last_delinq'].max(),\n",
    "    loan_data.loc[msld3,'mths_since_last_delinq'].max()\n",
    "]\n",
    "\n",
    "count_events = [\n",
    "loan_data.loc[msld1 & (loan_data.is_defaulter_derv==1),'is_defaulter_derv'].count(),\n",
    "loan_data.loc[msld2 & (loan_data.is_defaulter_derv==1),'is_defaulter_derv'].count(),\n",
    "loan_data.loc[msld3 & (loan_data.is_defaulter_derv==1),'is_defaulter_derv'].count()]\n",
    "\n",
    "count_non_events =[\n",
    "loan_data.loc[msld1 & (loan_data.is_defaulter_derv==0),'is_defaulter_derv'].count(),\n",
    "loan_data.loc[msld2 & (loan_data.is_defaulter_derv==0),'is_defaulter_derv'].count(),\n",
    "loan_data.loc[msld3 & (loan_data.is_defaulter_derv==0),'is_defaulter_derv'].count()\n",
    "]\n",
    "\n",
    "loan_data.mths_since_last_delinq_derv.value_counts().sort_index()\n",
    "\n",
    "count = loan_data.mths_since_last_delinq_derv.value_counts().sort_index().values.tolist()\n",
    "loan_data.mths_since_last_delinq_derv.value_counts().sort_index().values.tolist()\n",
    "\n",
    "woe_df_msld['variable_name'] = \"mths_since_last_delinq\"\n",
    "woe_df_msld['min_val_'] = min_val\n",
    "woe_df_msld['max_val_'] = max_val\n",
    "woe_df_msld['count_'] = count\n",
    "woe_df_msld['count_events_'] = count_events\n",
    "woe_df_msld['count_non_events_'] = count_non_events\n",
    "woe_df_msld['%_count_events'] = round((woe_df_msld.count_events_/woe_df_msld.count_events_.sum()),4)\\\n",
    ".values*100\n",
    "\n",
    "woe_df_msld['%_non_count_events']= round((woe_df_msld.count_non_events_/woe_df_msld.count_non_events_.sum()),4)\\\n",
    ".values*100\n",
    "\n",
    "woe_df_msld['WOE'] = (woe_df_msld['%_count_events']/woe_df_msld['%_non_count_events']).apply(math.log)\n",
    "woe_df_msld['diff_event_%_non_event'] = (woe_df_msld['%_count_events'] - woe_df_msld['%_non_count_events'])\n",
    "woe_df_msld['IV'] = round((woe_df_msld['diff_event_%_non_event']*woe_df_msld['WOE']),2)"
   ]
  },
  {
   "cell_type": "code",
   "execution_count": 314,
   "metadata": {},
   "outputs": [
    {
     "data": {
      "image/png": "[encoded data removed]",
      "text/plain": [
       "<Figure size 864x432 with 1 Axes>"
      ]
     },
     "metadata": {
      "needs_background": "light"
     },
     "output_type": "display_data"
    }
   ],
   "source": [
    "pd.crosstab(loan_data.mths_since_last_delinq_derv,loan_data.is_defaulter_derv)\\\n",
    ".plot(kind='bar', figsize=ASP_RATIO);\n",
    "plt.savefig('bar_plot_ann_sal_vs_deflt_state.png')\n",
    "plt.grid()"
   ]
  },
  {
   "cell_type": "code",
   "execution_count": 315,
   "metadata": {},
   "outputs": [],
   "source": [
    "woe_df_msld['variable_name'] = \"mths_since_last_delinq\""
   ]
  },
  {
   "cell_type": "code",
   "execution_count": 316,
   "metadata": {},
   "outputs": [
    {
     "data": {
      "text/html": [
       "<div>\n",
       "<style scoped>\n",
       "    .dataframe tbody tr th:only-of-type {\n",
       "        vertical-align: middle;\n",
       "    }\n",
       "\n",
       "    .dataframe tbody tr th {\n",
       "        vertical-align: top;\n",
       "    }\n",
       "\n",
       "    .dataframe thead th {\n",
       "        text-align: right;\n",
       "    }\n",
       "</style>\n",
       "<table border=\"1\" class=\"dataframe\">\n",
       "  <thead>\n",
       "    <tr style=\"text-align: right;\">\n",
       "      <th></th>\n",
       "      <th>variable_name</th>\n",
       "      <th>min_val_</th>\n",
       "      <th>max_val_</th>\n",
       "      <th>count_</th>\n",
       "      <th>count_events_</th>\n",
       "      <th>count_non_events_</th>\n",
       "      <th>%_count_events</th>\n",
       "      <th>%_non_count_events</th>\n",
       "      <th>WOE</th>\n",
       "      <th>diff_event_%_non_event</th>\n",
       "      <th>IV</th>\n",
       "    </tr>\n",
       "  </thead>\n",
       "  <tbody>\n",
       "    <tr>\n",
       "      <th>0</th>\n",
       "      <td>mths_since_last_delinq</td>\n",
       "      <td>0.0</td>\n",
       "      <td>20.0</td>\n",
       "      <td>3955</td>\n",
       "      <td>647</td>\n",
       "      <td>3308</td>\n",
       "      <td>30.21</td>\n",
       "      <td>28.69</td>\n",
       "      <td>0.051624</td>\n",
       "      <td>1.52</td>\n",
       "      <td>0.08</td>\n",
       "    </tr>\n",
       "    <tr>\n",
       "      <th>1</th>\n",
       "      <td>mths_since_last_delinq</td>\n",
       "      <td>21.0</td>\n",
       "      <td>50.0</td>\n",
       "      <td>6132</td>\n",
       "      <td>907</td>\n",
       "      <td>5225</td>\n",
       "      <td>42.34</td>\n",
       "      <td>45.32</td>\n",
       "      <td>-0.068016</td>\n",
       "      <td>-2.98</td>\n",
       "      <td>0.20</td>\n",
       "    </tr>\n",
       "    <tr>\n",
       "      <th>2</th>\n",
       "      <td>mths_since_last_delinq</td>\n",
       "      <td>51.0</td>\n",
       "      <td>120.0</td>\n",
       "      <td>3585</td>\n",
       "      <td>588</td>\n",
       "      <td>2997</td>\n",
       "      <td>27.45</td>\n",
       "      <td>25.99</td>\n",
       "      <td>0.054654</td>\n",
       "      <td>1.46</td>\n",
       "      <td>0.08</td>\n",
       "    </tr>\n",
       "  </tbody>\n",
       "</table>\n",
       "</div>"
      ],
      "text/plain": [
       "            variable_name  min_val_  max_val_  count_  count_events_  \\\n",
       "0  mths_since_last_delinq       0.0      20.0    3955            647   \n",
       "1  mths_since_last_delinq      21.0      50.0    6132            907   \n",
       "2  mths_since_last_delinq      51.0     120.0    3585            588   \n",
       "\n",
       "   count_non_events_  %_count_events  %_non_count_events       WOE  \\\n",
       "0               3308           30.21               28.69  0.051624   \n",
       "1               5225           42.34               45.32 -0.068016   \n",
       "2               2997           27.45               25.99  0.054654   \n",
       "\n",
       "   diff_event_%_non_event    IV  \n",
       "0                    1.52  0.08  \n",
       "1                   -2.98  0.20  \n",
       "2                    1.46  0.08  "
      ]
     },
     "execution_count": 316,
     "metadata": {},
     "output_type": "execute_result"
    }
   ],
   "source": [
    "woe_df_msld"
   ]
  },
  {
   "cell_type": "code",
   "execution_count": 317,
   "metadata": {},
   "outputs": [
    {
     "data": {
      "text/plain": [
       "0.36"
      ]
     },
     "execution_count": 317,
     "metadata": {},
     "output_type": "execute_result"
    }
   ],
   "source": [
    "round(woe_df_msld.IV.sum(),2)"
   ]
  },
  {
   "cell_type": "markdown",
   "metadata": {},
   "source": [
    "<h4> <u>Public Rec is a number number of derogatory records, which lender considers risk. Comparision of it vs Target variable analysis</u> </h4>\n"
   ]
  },
  {
   "cell_type": "code",
   "execution_count": null,
   "metadata": {},
   "outputs": [],
   "source": []
  },
  {
   "cell_type": "code",
   "execution_count": 318,
   "metadata": {},
   "outputs": [
    {
     "data": {
      "image/png": "[encoded data removed]",
      "text/plain": [
       "<Figure size 864x432 with 1 Axes>"
      ]
     },
     "metadata": {
      "needs_background": "light"
     },
     "output_type": "display_data"
    }
   ],
   "source": [
    "fig_ann_inc, ax_pub_rec = plt.subplots(figsize=fig_dims)\n",
    "pd.crosstab(loan_data.pub_rec,loan_data.is_defaulter_derv)\\\n",
    ".plot(kind='bar', figsize=ASP_RATIO, ax=ax_pub_rec);\n",
    "ax_pub_rec.set_title(\"PUBLIC RECORDS VS DEFAULTER STATE\", pad=20, fontsize=18)\n",
    "ax_pub_rec.set_xlabel('DEFAULTER STATE', fontsize=18, labelpad=5);\n",
    "ax_pub_rec.set_ylabel('PUBLIC RECORDS', fontsize=18, labelpad=20);\n",
    "ax_pub_rec.tick_params(axis='both', which='major', labelsize=20);\n",
    "# ax_pub_rec.set_xticklabels(['NON-DEFAULTER','DEFAULTER'], rotation=0);\n",
    "plt.grid()\n",
    "plt.savefig('bar_plot_pub_rec_vs_deflt_state.png')"
   ]
  },
  {
   "cell_type": "code",
   "execution_count": 319,
   "metadata": {},
   "outputs": [
    {
     "data": {
      "text/plain": [
       "0    36507\n",
       "1     2013\n",
       "2       48\n",
       "3        7\n",
       "4        2\n",
       "Name: pub_rec, dtype: int64"
      ]
     },
     "execution_count": 319,
     "metadata": {},
     "output_type": "execute_result"
    }
   ],
   "source": [
    "loan_data.pub_rec.value_counts()"
   ]
  },
  {
   "cell_type": "code",
   "execution_count": 320,
   "metadata": {},
   "outputs": [
    {
     "data": {
      "text/html": [
       "<div>\n",
       "<style scoped>\n",
       "    .dataframe tbody tr th:only-of-type {\n",
       "        vertical-align: middle;\n",
       "    }\n",
       "\n",
       "    .dataframe tbody tr th {\n",
       "        vertical-align: top;\n",
       "    }\n",
       "\n",
       "    .dataframe thead th {\n",
       "        text-align: right;\n",
       "    }\n",
       "</style>\n",
       "<table border=\"1\" class=\"dataframe\">\n",
       "  <thead>\n",
       "    <tr style=\"text-align: right;\">\n",
       "      <th></th>\n",
       "      <th>Defaulter_prcnt</th>\n",
       "      <th>Non_Defaulter_prcnt</th>\n",
       "      <th>Diff_Defaulter_prcnt_Non_Defaulter_prcnt</th>\n",
       "    </tr>\n",
       "  </thead>\n",
       "  <tbody>\n",
       "    <tr>\n",
       "      <th>0</th>\n",
       "      <td>91.70</td>\n",
       "      <td>95.14</td>\n",
       "      <td>-3.44</td>\n",
       "    </tr>\n",
       "    <tr>\n",
       "      <th>1</th>\n",
       "      <td>8.12</td>\n",
       "      <td>4.72</td>\n",
       "      <td>3.40</td>\n",
       "    </tr>\n",
       "    <tr>\n",
       "      <th>2</th>\n",
       "      <td>0.18</td>\n",
       "      <td>0.12</td>\n",
       "      <td>0.06</td>\n",
       "    </tr>\n",
       "    <tr>\n",
       "      <th>3</th>\n",
       "      <td>NaN</td>\n",
       "      <td>0.02</td>\n",
       "      <td>NaN</td>\n",
       "    </tr>\n",
       "    <tr>\n",
       "      <th>4</th>\n",
       "      <td>NaN</td>\n",
       "      <td>0.01</td>\n",
       "      <td>NaN</td>\n",
       "    </tr>\n",
       "  </tbody>\n",
       "</table>\n",
       "</div>"
      ],
      "text/plain": [
       "   Defaulter_prcnt  Non_Defaulter_prcnt  \\\n",
       "0            91.70                95.14   \n",
       "1             8.12                 4.72   \n",
       "2             0.18                 0.12   \n",
       "3              NaN                 0.02   \n",
       "4              NaN                 0.01   \n",
       "\n",
       "   Diff_Defaulter_prcnt_Non_Defaulter_prcnt  \n",
       "0                                     -3.44  \n",
       "1                                      3.40  \n",
       "2                                      0.06  \n",
       "3                                       NaN  \n",
       "4                                       NaN  "
      ]
     },
     "execution_count": 320,
     "metadata": {},
     "output_type": "execute_result"
    }
   ],
   "source": [
    "defaulter_prcnt_pub_rec = round((loan_data[loan_data.is_defaulter_derv==1]['pub_rec'].value_counts().sort_index()/\\\n",
    "loan_data[loan_data.is_defaulter_derv==1]['pub_rec'].value_counts().sum())*100,2)\n",
    "\n",
    "non_defaulter_pub_rec = round((loan_data[loan_data.is_defaulter_derv==0]['pub_rec'].value_counts().sort_index()/\\\n",
    "loan_data[loan_data.is_defaulter_derv==0]['pub_rec'].value_counts().sum())*100,2)\n",
    "\n",
    "pub_rec_dfltr_vs_non_dfltr = pd.concat([defaulter_prcnt_pub_rec, non_defaulter_pub_rec], axis='columns')\n",
    "\n",
    "pub_rec_dfltr_vs_non_dfltr.columns = ['Defaulter_prcnt', 'Non_Defaulter_prcnt']\n",
    "\n",
    "pub_rec_dfltr_vs_non_dfltr['Diff_Defaulter_prcnt_Non_Defaulter_prcnt'] = \\\n",
    "(pub_rec_dfltr_vs_non_dfltr['Defaulter_prcnt']-pub_rec_dfltr_vs_non_dfltr['Non_Defaulter_prcnt'])\n",
    "\n",
    "pub_rec_dfltr_vs_non_dfltr"
   ]
  },
  {
   "cell_type": "code",
   "execution_count": 321,
   "metadata": {},
   "outputs": [
    {
     "name": "stdout",
     "output_type": "stream",
     "text": [
      " P_value for chi_2 test between pub_rec and is_defaulter_derv 0.0\n"
     ]
    }
   ],
   "source": [
    "perfrom_chi_2_test(loan_data,'pub_rec','is_defaulter_derv')"
   ]
  },
  {
   "cell_type": "markdown",
   "metadata": {},
   "source": [
    "<h4> <u>Annual Income vs Target variable analysis</u> </h4>"
   ]
  },
  {
   "cell_type": "code",
   "execution_count": null,
   "metadata": {},
   "outputs": [],
   "source": []
  },
  {
   "cell_type": "code",
   "execution_count": 322,
   "metadata": {},
   "outputs": [],
   "source": [
    "MUL_1K = 10**3\n",
    "\n",
    "l1 =    (loan_data.annual_inc <= 40*MUL_1K)\n",
    "l2 =    (loan_data.annual_inc > 40*MUL_1K)& (loan_data.annual_inc <= 50*MUL_1K)\n",
    "l3 =    (loan_data.annual_inc > 50*MUL_1K)& (loan_data.annual_inc <= 80*MUL_1K)\n",
    "l4 =    (loan_data.annual_inc > 80*MUL_1K) \n",
    "\n",
    "\n",
    "loan_data.loc[l1,'annual_inc_derv'] = 1 \n",
    "loan_data.loc[l2,'annual_inc_derv'] = 2 \n",
    "loan_data.loc[l3,'annual_inc_derv'] = 3\n",
    "loan_data.loc[l4,'annual_inc_derv'] = 4\n",
    "\n",
    "\n",
    "woe_df = pd.DataFrame()\n",
    "\n",
    "min_val =[\n",
    "    loan_data.loc[l1,'annual_inc'].min(),\n",
    "loan_data.loc[l2,'annual_inc'].min(),\n",
    "loan_data.loc[l3,'annual_inc'].min(),\n",
    "    loan_data.loc[l4,'annual_inc'].min()\n",
    "]\n",
    "\n",
    "max_val =[\n",
    "    loan_data.loc[l1,'annual_inc'].max(),\n",
    "    loan_data.loc[l2,'annual_inc'].max(),\n",
    "    loan_data.loc[l3,'annual_inc'].max(),\n",
    "    loan_data.loc[l4,'annual_inc'].max()\n",
    "]\n",
    "\n",
    "count_events = [\n",
    "loan_data.loc[l1 & (loan_data.is_defaulter_derv==1),'is_defaulter_derv'].count(),\n",
    "loan_data.loc[l2 & (loan_data.is_defaulter_derv==1),'is_defaulter_derv'].count(),\n",
    "loan_data.loc[l3 & (loan_data.is_defaulter_derv==1),'is_defaulter_derv'].count(),\n",
    "    loan_data.loc[l4 & (loan_data.is_defaulter_derv==1),'is_defaulter_derv'].count()\n",
    "]\n",
    "\n",
    "count_non_events =[\n",
    "loan_data.loc[l1 & (loan_data.is_defaulter_derv==0),'is_defaulter_derv'].count(),\n",
    "loan_data.loc[l2 & (loan_data.is_defaulter_derv==0),'is_defaulter_derv'].count(),\n",
    "loan_data.loc[l3 & (loan_data.is_defaulter_derv==0),'is_defaulter_derv'].count(),\n",
    "    loan_data.loc[l4 & (loan_data.is_defaulter_derv==0),'is_defaulter_derv'].count()\n",
    "]\n",
    "\n",
    "loan_data.annual_inc_derv.value_counts().sort_index()\n",
    "\n",
    "count = loan_data.annual_inc_derv.value_counts().sort_index().values.tolist()\n",
    "loan_data.annual_inc_derv.value_counts().sort_index().values.tolist()\n",
    "\n",
    "woe_df['variable_name'] = 'annual_income'\n",
    "woe_df['min_val_'] = min_val\n",
    "woe_df['max_val_'] = max_val\n",
    "woe_df['count_'] = count\n",
    "woe_df['count_events_'] = count_events\n",
    "woe_df['count_non_events_'] = count_non_events\n",
    "woe_df['%_count_events'] = round((woe_df.count_events_/woe_df.count_events_.sum()),4).values*100\n",
    "woe_df['%_non_count_events']= round((woe_df.count_non_events_/woe_df.count_non_events_.sum()),4).values*100\n",
    "woe_df['WOE'] = (woe_df['%_count_events']/woe_df['%_non_count_events']).apply(math.log)\n",
    "woe_df['diff_event_%_non_event'] = (woe_df['%_count_events'] - woe_df['%_non_count_events'])\n",
    "woe_df['IV'] = round((woe_df['diff_event_%_non_event']*woe_df['WOE']),2)"
   ]
  },
  {
   "cell_type": "code",
   "execution_count": null,
   "metadata": {},
   "outputs": [],
   "source": []
  },
  {
   "cell_type": "code",
   "execution_count": 323,
   "metadata": {},
   "outputs": [],
   "source": [
    "woe_df['variable_name'] = 'annual_income'"
   ]
  },
  {
   "cell_type": "code",
   "execution_count": 324,
   "metadata": {},
   "outputs": [
    {
     "data": {
      "text/html": [
       "<div>\n",
       "<style scoped>\n",
       "    .dataframe tbody tr th:only-of-type {\n",
       "        vertical-align: middle;\n",
       "    }\n",
       "\n",
       "    .dataframe tbody tr th {\n",
       "        vertical-align: top;\n",
       "    }\n",
       "\n",
       "    .dataframe thead th {\n",
       "        text-align: right;\n",
       "    }\n",
       "</style>\n",
       "<table border=\"1\" class=\"dataframe\">\n",
       "  <thead>\n",
       "    <tr style=\"text-align: right;\">\n",
       "      <th></th>\n",
       "      <th>variable_name</th>\n",
       "      <th>min_val_</th>\n",
       "      <th>max_val_</th>\n",
       "      <th>count_</th>\n",
       "      <th>count_events_</th>\n",
       "      <th>count_non_events_</th>\n",
       "      <th>%_count_events</th>\n",
       "      <th>%_non_count_events</th>\n",
       "      <th>WOE</th>\n",
       "      <th>diff_event_%_non_event</th>\n",
       "      <th>IV</th>\n",
       "    </tr>\n",
       "  </thead>\n",
       "  <tbody>\n",
       "    <tr>\n",
       "      <th>0</th>\n",
       "      <td>annual_income</td>\n",
       "      <td>4000.00</td>\n",
       "      <td>40000.0</td>\n",
       "      <td>9698</td>\n",
       "      <td>1751</td>\n",
       "      <td>7947</td>\n",
       "      <td>31.12</td>\n",
       "      <td>24.12</td>\n",
       "      <td>0.254809</td>\n",
       "      <td>7.00</td>\n",
       "      <td>1.78</td>\n",
       "    </tr>\n",
       "    <tr>\n",
       "      <th>1</th>\n",
       "      <td>annual_income</td>\n",
       "      <td>40008.00</td>\n",
       "      <td>50000.0</td>\n",
       "      <td>5691</td>\n",
       "      <td>862</td>\n",
       "      <td>4829</td>\n",
       "      <td>15.32</td>\n",
       "      <td>14.66</td>\n",
       "      <td>0.044036</td>\n",
       "      <td>0.66</td>\n",
       "      <td>0.03</td>\n",
       "    </tr>\n",
       "    <tr>\n",
       "      <th>2</th>\n",
       "      <td>annual_income</td>\n",
       "      <td>50000.04</td>\n",
       "      <td>80000.0</td>\n",
       "      <td>13193</td>\n",
       "      <td>1891</td>\n",
       "      <td>11302</td>\n",
       "      <td>33.61</td>\n",
       "      <td>34.30</td>\n",
       "      <td>-0.020322</td>\n",
       "      <td>-0.69</td>\n",
       "      <td>0.01</td>\n",
       "    </tr>\n",
       "    <tr>\n",
       "      <th>3</th>\n",
       "      <td>annual_income</td>\n",
       "      <td>80004.00</td>\n",
       "      <td>6000000.0</td>\n",
       "      <td>9995</td>\n",
       "      <td>1123</td>\n",
       "      <td>8872</td>\n",
       "      <td>19.96</td>\n",
       "      <td>26.93</td>\n",
       "      <td>-0.299511</td>\n",
       "      <td>-6.97</td>\n",
       "      <td>2.09</td>\n",
       "    </tr>\n",
       "  </tbody>\n",
       "</table>\n",
       "</div>"
      ],
      "text/plain": [
       "   variable_name  min_val_   max_val_  count_  count_events_  \\\n",
       "0  annual_income   4000.00    40000.0    9698           1751   \n",
       "1  annual_income  40008.00    50000.0    5691            862   \n",
       "2  annual_income  50000.04    80000.0   13193           1891   \n",
       "3  annual_income  80004.00  6000000.0    9995           1123   \n",
       "\n",
       "   count_non_events_  %_count_events  %_non_count_events       WOE  \\\n",
       "0               7947           31.12               24.12  0.254809   \n",
       "1               4829           15.32               14.66  0.044036   \n",
       "2              11302           33.61               34.30 -0.020322   \n",
       "3               8872           19.96               26.93 -0.299511   \n",
       "\n",
       "   diff_event_%_non_event    IV  \n",
       "0                    7.00  1.78  \n",
       "1                    0.66  0.03  \n",
       "2                   -0.69  0.01  \n",
       "3                   -6.97  2.09  "
      ]
     },
     "execution_count": 324,
     "metadata": {},
     "output_type": "execute_result"
    }
   ],
   "source": [
    "woe_df"
   ]
  },
  {
   "cell_type": "code",
   "execution_count": 325,
   "metadata": {},
   "outputs": [
    {
     "data": {
      "text/plain": [
       "3.91"
      ]
     },
     "execution_count": 325,
     "metadata": {},
     "output_type": "execute_result"
    }
   ],
   "source": [
    "woe_df.IV.sum()"
   ]
  },
  {
   "cell_type": "code",
   "execution_count": 326,
   "metadata": {},
   "outputs": [
    {
     "data": {
      "image/png": "[encoded data removed]",
      "text/plain": [
       "<Figure size 864x432 with 1 Axes>"
      ]
     },
     "metadata": {
      "needs_background": "light"
     },
     "output_type": "display_data"
    }
   ],
   "source": [
    "fig_ann_inc, ax_ann_inc = plt.subplots(figsize=fig_dims)\n",
    "pd.crosstab(loan_data.annual_inc_derv,loan_data.is_defaulter_derv)\\\n",
    ".plot(kind='bar', figsize=ASP_RATIO, ax=ax_ann_inc);\n",
    "\n",
    "ax_ann_inc.set_title(\"ANNUAL INCOME VS DEFAULTER STATE\", pad=20, fontsize=18)\n",
    "ax_ann_inc.set_xlabel('DEFAULTER STATE', fontsize=18, labelpad=5);\n",
    "ax_ann_inc.set_ylabel('ANNUAL INCOME', fontsize=18, labelpad=20);\n",
    "ax_ann_inc.tick_params(axis='both', which='major', labelsize=20);\n",
    "ax_ann_inc.set_xticklabels(['<40K', '40K to 50K','50K to 80K','>80K'], rotation=0);\n",
    "plt.grid()\n",
    "plt.savefig('bar_plot_ann_sal_vs_deflt_state.png')\n"
   ]
  },
  {
   "cell_type": "code",
   "execution_count": null,
   "metadata": {},
   "outputs": [],
   "source": []
  },
  {
   "cell_type": "code",
   "execution_count": 327,
   "metadata": {},
   "outputs": [
    {
     "data": {
      "image/png": "[encoded data removed]",
      "text/plain": [
       "<Figure size 864x432 with 1 Axes>"
      ]
     },
     "metadata": {
      "needs_background": "light"
     },
     "output_type": "display_data"
    }
   ],
   "source": [
    "fig_dims = ASP_RATIO\n",
    "fig, ax_ann_inc_box = plt.subplots(figsize=fig_dims)\n",
    "sns.boxplot(x='is_defaulter_derv', y='annual_inc', data=loan_data[loan_data.annual_inc < (1*(10**5))],\\\n",
    "            ax=ax_ann_inc_box);\n",
    "\n",
    "ax_ann_inc_box.set_title(\"ANNUAL INCOME VS DEFAULTER STATE\", pad=20, fontsize=18)\n",
    "ax_ann_inc_box.set_xlabel('DEFAULTER STATE', fontsize=18, labelpad=5);\n",
    "ax_ann_inc_box.set_ylabel('ANNUAL INCOME', fontsize=18, labelpad=20);\n",
    "ax_ann_inc_box.tick_params(axis='both', which='major', labelsize=20);\n",
    "ax_ann_inc_box.set_xticklabels(['NON-DEFAULTER','DEFAULTER'], rotation=0);\n",
    "plt.grid()\n",
    "plt.savefig('box_plot_ann_sal_vs_deflt_state.png')\n"
   ]
  },
  {
   "cell_type": "code",
   "execution_count": 328,
   "metadata": {},
   "outputs": [
    {
     "name": "stdout",
     "output_type": "stream",
     "text": [
      " P_value for chi_2 test between is_defaulter_derv and annual_inc_derv 0.0\n"
     ]
    }
   ],
   "source": [
    "perfrom_chi_2_test(loan_data,'is_defaulter_derv','annual_inc_derv')"
   ]
  },
  {
   "cell_type": "markdown",
   "metadata": {},
   "source": [
    "<h4> <u>Interest Amount vs Target variable analysis</u> </h4>"
   ]
  },
  {
   "cell_type": "code",
   "execution_count": 329,
   "metadata": {},
   "outputs": [
    {
     "data": {
      "image/png": "[encoded data removed]",
      "text/plain": [
       "<Figure size 864x432 with 1 Axes>"
      ]
     },
     "metadata": {
      "needs_background": "light"
     },
     "output_type": "display_data"
    }
   ],
   "source": [
    "fig_int_rate_amnt_bar, ax_int_rate_amnt_bar = plt.subplots(figsize=fig_dims)\n",
    "pd.crosstab(loan_data.int_rate_amt_derv_encode,loan_data.is_defaulter_derv)\\\n",
    ".plot(kind='bar', figsize=ASP_RATIO, ax=ax_int_rate_amnt_bar);\n",
    "\n",
    "ax_int_rate_amnt_bar.set_title(\"INTEREST RATE AMOUNT DISTRIBUTION BY DEFAULTER STATE\", pad=20, fontsize=18)\n",
    "ax_int_rate_amnt_bar.set_xlabel('IS_DEFAULTER', fontsize=18, labelpad=5);\n",
    "ax_int_rate_amnt_bar.set_ylabel('INTEREST RATE AMOUNT', fontsize=18, labelpad=20);\n",
    "ax_int_rate_amnt_bar.tick_params(axis='both', which='major', labelsize=12);\n",
    "ax_int_rate_amnt_bar.set_xticklabels(['0 to 20K','20K to 50K','50K to 80K','80K to 100K','100K to inf']\\\n",
    "                                    , rotation=30);\n",
    "plt.grid()\n",
    "plt.savefig('bar_int_rate_vs_defaulter.png')"
   ]
  },
  {
   "cell_type": "code",
   "execution_count": 330,
   "metadata": {},
   "outputs": [
    {
     "data": {
      "image/png": "[encoded data removed]",
      "text/plain": [
       "<Figure size 864x432 with 1 Axes>"
      ]
     },
     "metadata": {
      "needs_background": "light"
     },
     "output_type": "display_data"
    }
   ],
   "source": [
    "fig_int_rate_amnt_bar, ax_int_rate_amnt_box = plt.subplots(figsize=fig_dims)\n",
    "sns.boxplot(x='is_defaulter_derv', y='int_rate_amt_derv', data=loan_data, ax=ax_int_rate_amnt_box);\n",
    "ax_int_rate_amnt_box.set_title(\"INTEREST RATE AMOUNT DISTRIBUTION BY DEFAULTER STATE\", pad=20, fontsize=18)\n",
    "ax_int_rate_amnt_box.set_xlabel('IS_DEFAULTER', fontsize=18, labelpad=5);\n",
    "ax_int_rate_amnt_box.set_ylabel('INTEREST RATE AMOUNT', fontsize=18, labelpad=20);\n",
    "ax_int_rate_amnt_box.tick_params(axis='both', which='major', labelsize=20);\n",
    "ax_int_rate_amnt_box.set_xticklabels(['NON-DEFAULTER','DEFAULTER'], rotation=0)\n",
    "plt.grid()\n",
    "plt.savefig('box_int_rate_amnt.png')"
   ]
  },
  {
   "cell_type": "code",
   "execution_count": 331,
   "metadata": {},
   "outputs": [
    {
     "name": "stdout",
     "output_type": "stream",
     "text": [
      " P_value for chi_2 test between int_rate_amt_derv_encode and is_defaulter_derv 0.0\n"
     ]
    }
   ],
   "source": [
    "perfrom_chi_2_test(loan_data,'int_rate_amt_derv_encode','is_defaulter_derv')"
   ]
  },
  {
   "cell_type": "markdown",
   "metadata": {},
   "source": [
    "<h4> <u>The actual investment amount issued vs Target variable analysis</u> </h4>"
   ]
  },
  {
   "cell_type": "code",
   "execution_count": 332,
   "metadata": {},
   "outputs": [
    {
     "data": {
      "image/png": "[encoded data removed]",
      "text/plain": [
       "<Figure size 864x432 with 1 Axes>"
      ]
     },
     "metadata": {
      "needs_background": "light"
     },
     "output_type": "display_data"
    },
    {
     "data": {
      "image/png": "[encoded data removed]",
      "text/plain": [
       "<Figure size 864x432 with 1 Axes>"
      ]
     },
     "metadata": {
      "needs_background": "light"
     },
     "output_type": "display_data"
    }
   ],
   "source": [
    "fig_funded_amnt_inv, ax_funded_amnt_inv = plt.subplots(figsize=ASP_RATIO) \n",
    "pd.crosstab(loan_data.funded_amnt_inv_encode_derv,loan_data.is_defaulter_derv)\\\n",
    ".plot(kind='bar', figsize=ASP_RATIO);\n",
    "ax_funded_amnt_inv.set_title(\"ACTUAL INVESTMENT AMOUNT BY DEFAULTER STATE\", pad=20, fontsize=18)\n",
    "ax_funded_amnt_inv.set_xlabel('IS_DEFAULTER', fontsize=18, labelpad=5);\n",
    "ax_funded_amnt_inv.set_ylabel('ACTUAL INVESTMENT AMOUNT', fontsize=18, labelpad=20);\n",
    "# ax_funded_amnt_inv.tick_params(axis='both', which='major', labelsize=20);\n",
    "# ax_funded_amnt_inv.set_xticklabels(['NON-DEFAULTER','DEFAULTER'], rotation=0)\n",
    "\n"
   ]
  },
  {
   "cell_type": "code",
   "execution_count": 333,
   "metadata": {},
   "outputs": [
    {
     "data": {
      "image/png": "[encoded data removed]",
      "text/plain": [
       "<Figure size 864x432 with 1 Axes>"
      ]
     },
     "metadata": {
      "needs_background": "light"
     },
     "output_type": "display_data"
    }
   ],
   "source": [
    "fig2, ax2 = plt.subplots(figsize=fig_dims)\n",
    "sns.boxplot(x='is_defaulter_derv', y='funded_amnt_inv', data=loan_data, ax=ax2);"
   ]
  },
  {
   "cell_type": "code",
   "execution_count": null,
   "metadata": {},
   "outputs": [],
   "source": []
  },
  {
   "cell_type": "code",
   "execution_count": 334,
   "metadata": {},
   "outputs": [
    {
     "name": "stdout",
     "output_type": "stream",
     "text": [
      " P_value for chi_2 test between funded_amnt_inv_encode_derv and is_defaulter_derv 0.0\n"
     ]
    }
   ],
   "source": [
    "perfrom_chi_2_test(loan_data,'funded_amnt_inv_encode_derv','is_defaulter_derv')"
   ]
  },
  {
   "cell_type": "markdown",
   "metadata": {},
   "source": [
    "<h4> <u>Purpose vs Target variable analysis</u> </h4>"
   ]
  },
  {
   "cell_type": "code",
   "execution_count": null,
   "metadata": {},
   "outputs": [],
   "source": []
  },
  {
   "cell_type": "code",
   "execution_count": 335,
   "metadata": {},
   "outputs": [
    {
     "data": {
      "image/png": "[encoded data removed]",
      "text/plain": [
       "<Figure size 864x432 with 1 Axes>"
      ]
     },
     "metadata": {
      "needs_background": "light"
     },
     "output_type": "display_data"
    }
   ],
   "source": [
    "purpose_labels=[label.upper() for label in loan_data.purpose.unique().tolist()]\n",
    "fig_purpose_bar, ax_purpose_bar = plt.subplots(figsize=fig_dims)\n",
    "pd.crosstab(loan_data.purpose,loan_data.is_defaulter_derv)\\\n",
    ".plot(kind='bar', figsize=ASP_RATIO, ax=ax_purpose_bar);\n",
    "\n",
    "ax_purpose_bar.set_title(\"PURPOSE VS DEFAULTER STATE\", pad=20, fontsize=18)\n",
    "ax_purpose_bar.set_xlabel('IS_DEFAULTER', fontsize=18, labelpad=5);\n",
    "ax_purpose_bar.set_ylabel('COUNT', fontsize=18, labelpad=20);\n",
    "ax_purpose_bar.tick_params(axis='both', which='major', labelsize=8);\n",
    "ax_purpose_bar.set_xticklabels(purpose_labels, rotation=30)\n",
    "plt.savefig('bar_purpose.png')\n",
    "plt.grid()"
   ]
  },
  {
   "cell_type": "markdown",
   "metadata": {},
   "source": [
    "Purpose of the loan plays a significant role in determing the chances of getting default or not. As it can be observed that if the loan purpose is debt_consolidation, home_improvement, other, small_business and credit_card then there are chances of getting default is high unlike other loan purpose. "
   ]
  },
  {
   "cell_type": "code",
   "execution_count": 336,
   "metadata": {},
   "outputs": [
    {
     "name": "stdout",
     "output_type": "stream",
     "text": [
      " P_value for chi_2 test between is_defaulter_derv and purpose 0.0\n"
     ]
    }
   ],
   "source": [
    "perfrom_chi_2_test(loan_data,'is_defaulter_derv','purpose')"
   ]
  },
  {
   "cell_type": "markdown",
   "metadata": {},
   "source": [
    "<h4> <u>Home Ownership vs Target variable analysis</u> </h4>"
   ]
  },
  {
   "cell_type": "code",
   "execution_count": null,
   "metadata": {},
   "outputs": [],
   "source": []
  },
  {
   "cell_type": "code",
   "execution_count": 337,
   "metadata": {},
   "outputs": [
    {
     "data": {
      "image/png": "[encoded data removed]",
      "text/plain": [
       "<Figure size 864x432 with 1 Axes>"
      ]
     },
     "metadata": {
      "needs_background": "light"
     },
     "output_type": "display_data"
    }
   ],
   "source": [
    "home_own_labels=[label.upper() for label in loan_data.home_ownership.unique().tolist()]\n",
    "fig_int_rate_amnt_bar, ax_home_ownership = plt.subplots(figsize=fig_dims)\n",
    "pd.crosstab(loan_data.home_ownership,loan_data.is_defaulter_derv)\\\n",
    ".plot(kind='bar', figsize=ASP_RATIO, ax=ax_home_ownership);\n",
    "\n",
    "ax_home_ownership.set_title(\"HOME OWNERSHIP VS DEFAULTER STATE\", pad=10, fontsize=10)\n",
    "ax_home_ownership.set_xlabel('IS_DEFAULTER', fontsize=10);\n",
    "ax_home_ownership.set_ylabel('COUNT', fontsize=14, labelpad=5);\n",
    "ax_home_ownership.tick_params(axis='both', which='major', labelsize=10, rotation=30);\n",
    "# ax_home_ownership.set_xticklabels(home_own_labels, rotation=30)\n",
    "\n",
    "plt.legend(loc=1,prop={'size': 15});\n",
    "plt.grid()\n",
    "plt.savefig('home_own_bar.png')"
   ]
  },
  {
   "cell_type": "markdown",
   "metadata": {},
   "source": [
    "It seems the one who owns has lesser chance of becoming defaulter and greater for those who are on rent and mortgage"
   ]
  },
  {
   "cell_type": "code",
   "execution_count": 338,
   "metadata": {},
   "outputs": [
    {
     "name": "stdout",
     "output_type": "stream",
     "text": [
      " P_value for chi_2 test between home_ownership and is_defaulter_derv 0.0\n"
     ]
    }
   ],
   "source": [
    "perfrom_chi_2_test(loan_data,'home_ownership','is_defaulter_derv')"
   ]
  },
  {
   "cell_type": "markdown",
   "metadata": {},
   "source": [
    "<h4> <u>Grade vs Target variable analysis</u> </h4>"
   ]
  },
  {
   "cell_type": "code",
   "execution_count": null,
   "metadata": {},
   "outputs": [],
   "source": []
  },
  {
   "cell_type": "code",
   "execution_count": 339,
   "metadata": {},
   "outputs": [
    {
     "data": {
      "image/png": "[encoded data removed]",
      "text/plain": [
       "<Figure size 1440x576 with 2 Axes>"
      ]
     },
     "metadata": {
      "needs_background": "light"
     },
     "output_type": "display_data"
    }
   ],
   "source": [
    "fig_grade, ax_grade = plt.subplots(1,2, figsize=(20,8))\n",
    "\n",
    "loan_data[loan_data.is_defaulter_derv==0]['grade']\\\n",
    ".value_counts()\\\n",
    ".sort_index()\\\n",
    ".plot(kind='bar', ax=ax_grade[0]);\n",
    "\n",
    "loan_data[loan_data.is_defaulter_derv==1]['grade']\\\n",
    ".value_counts()\\\n",
    ".sort_index()\\\n",
    ".plot(kind='bar', ax=ax_grade[1]);\n",
    "\n",
    "ax_grade[0].set_title(\"GRADE count BY Defaulter\", pad=20, fontsize=18)\n",
    "ax_grade[0].set_xlabel('GRADE', fontsize=18, labelpad=20);\n",
    "ax_grade[0].set_ylabel('COUNT', fontsize=18, labelpad=20);\n",
    "ax_grade[0].tick_params(axis='both', which='major', labelsize=20);\n",
    "ax_grade[0].grid()\n",
    "\n",
    "ax_grade[1].set_title(\"GRADE count BY Non_Defaulter\", pad=20, fontsize=18)\n",
    "ax_grade[1].set_xlabel('GRADE', fontsize=18, labelpad=20);\n",
    "ax_grade[1].set_ylabel('COUNT', fontsize=18, labelpad=20);\n",
    "\n",
    "ax_grade[1].tick_params(axis='both', which='major', labelsize=20);\n",
    "\n",
    "ax_grade[1].grid()"
   ]
  },
  {
   "cell_type": "code",
   "execution_count": 340,
   "metadata": {},
   "outputs": [
    {
     "data": {
      "text/html": [
       "<div>\n",
       "<style scoped>\n",
       "    .dataframe tbody tr th:only-of-type {\n",
       "        vertical-align: middle;\n",
       "    }\n",
       "\n",
       "    .dataframe tbody tr th {\n",
       "        vertical-align: top;\n",
       "    }\n",
       "\n",
       "    .dataframe thead th {\n",
       "        text-align: right;\n",
       "    }\n",
       "</style>\n",
       "<table border=\"1\" class=\"dataframe\">\n",
       "  <thead>\n",
       "    <tr style=\"text-align: right;\">\n",
       "      <th></th>\n",
       "      <th>Defaulter_prcnt</th>\n",
       "      <th>Non_Defaulter_prcnt</th>\n",
       "      <th>Diff_Defaulter_prcnt_Non_Defaulter_prcnt</th>\n",
       "    </tr>\n",
       "  </thead>\n",
       "  <tbody>\n",
       "    <tr>\n",
       "      <th>A</th>\n",
       "      <td>10.70</td>\n",
       "      <td>28.66</td>\n",
       "      <td>-17.96</td>\n",
       "    </tr>\n",
       "    <tr>\n",
       "      <th>B</th>\n",
       "      <td>25.32</td>\n",
       "      <td>31.11</td>\n",
       "      <td>-5.79</td>\n",
       "    </tr>\n",
       "    <tr>\n",
       "      <th>C</th>\n",
       "      <td>23.94</td>\n",
       "      <td>19.69</td>\n",
       "      <td>4.25</td>\n",
       "    </tr>\n",
       "    <tr>\n",
       "      <th>D</th>\n",
       "      <td>19.87</td>\n",
       "      <td>12.04</td>\n",
       "      <td>7.83</td>\n",
       "    </tr>\n",
       "    <tr>\n",
       "      <th>E</th>\n",
       "      <td>12.71</td>\n",
       "      <td>5.91</td>\n",
       "      <td>6.80</td>\n",
       "    </tr>\n",
       "    <tr>\n",
       "      <th>F</th>\n",
       "      <td>5.67</td>\n",
       "      <td>1.99</td>\n",
       "      <td>3.68</td>\n",
       "    </tr>\n",
       "    <tr>\n",
       "      <th>G</th>\n",
       "      <td>1.79</td>\n",
       "      <td>0.60</td>\n",
       "      <td>1.19</td>\n",
       "    </tr>\n",
       "  </tbody>\n",
       "</table>\n",
       "</div>"
      ],
      "text/plain": [
       "   Defaulter_prcnt  Non_Defaulter_prcnt  \\\n",
       "A            10.70                28.66   \n",
       "B            25.32                31.11   \n",
       "C            23.94                19.69   \n",
       "D            19.87                12.04   \n",
       "E            12.71                 5.91   \n",
       "F             5.67                 1.99   \n",
       "G             1.79                 0.60   \n",
       "\n",
       "   Diff_Defaulter_prcnt_Non_Defaulter_prcnt  \n",
       "A                                    -17.96  \n",
       "B                                     -5.79  \n",
       "C                                      4.25  \n",
       "D                                      7.83  \n",
       "E                                      6.80  \n",
       "F                                      3.68  \n",
       "G                                      1.19  "
      ]
     },
     "execution_count": 340,
     "metadata": {},
     "output_type": "execute_result"
    }
   ],
   "source": [
    "defaulter_prcnt = round((loan_data[loan_data.is_defaulter_derv==1]['grade'].value_counts().sort_index()/\\\n",
    "loan_data[loan_data.is_defaulter_derv==1]['grade'].value_counts().sum())*100,2)\n",
    "\n",
    "non_defaulter_prcnt = round((loan_data[loan_data.is_defaulter_derv==0]['grade'].value_counts().sort_index()/\\\n",
    "loan_data[loan_data.is_defaulter_derv==0]['grade'].value_counts().sum())*100,2)\n",
    "\n",
    "grade_dfltr_vs_non_dfltr = pd.concat([defaulter_prcnt, non_defaulter_prcnt], axis='columns')\n",
    "\n",
    "grade_dfltr_vs_non_dfltr.columns = ['Defaulter_prcnt', 'Non_Defaulter_prcnt']\n",
    "\n",
    "grade_dfltr_vs_non_dfltr['Diff_Defaulter_prcnt_Non_Defaulter_prcnt'] = \\\n",
    "(grade_dfltr_vs_non_dfltr['Defaulter_prcnt']-grade_dfltr_vs_non_dfltr['Non_Defaulter_prcnt'])\n",
    "\n",
    "grade_dfltr_vs_non_dfltr"
   ]
  },
  {
   "cell_type": "markdown",
   "metadata": {},
   "source": [
    "<h4>Findings : When the target variable moves from Non_Defaulter to Defaulter</h4>\n",
    "<ol>\n",
    "    <li>There is a significant negative change of <b>(-17.96)% in GRADE A.</b></li>\n",
    "    <li>There is a significant negative change of <b>(-5.79)% in GRADE B.</b> </li>\n",
    "    <li>There is a significant positive change of <b>4.25% in GRADE C.</b></li>\n",
    "    <li>There is a significant positive change of <b>7.83% in GRADE D.</b></li>\n",
    "    <li>There is a significant positive change of <b>6.80% in GRADE E.</b></li>\n",
    "    <li>There is a significant positive change of <b>3.68% in GRADE F.</b></li>\n",
    "    <li>There is a slight positive change of <b>1.19% in GRADE G.</b></li>\n",
    "</ol>"
   ]
  },
  {
   "cell_type": "markdown",
   "metadata": {},
   "source": [
    "<h4> <u>Loan issue month vs Target variable analysis</u> </h4>"
   ]
  },
  {
   "cell_type": "code",
   "execution_count": null,
   "metadata": {},
   "outputs": [],
   "source": []
  },
  {
   "cell_type": "code",
   "execution_count": 341,
   "metadata": {},
   "outputs": [],
   "source": [
    "loan_data['issue_month_derv']= loan_data.issue_d.apply(lambda val: val.split('-')[0])"
   ]
  },
  {
   "cell_type": "code",
   "execution_count": 342,
   "metadata": {},
   "outputs": [
    {
     "data": {
      "image/png": "[encoded data removed]",
      "text/plain": [
       "<Figure size 864x432 with 1 Axes>"
      ]
     },
     "metadata": {
      "needs_background": "light"
     },
     "output_type": "display_data"
    }
   ],
   "source": [
    "fig_issue_mnth, ax_issue_mnth = plt.subplots()\n",
    "loan_data[loan_data.is_defaulter_derv==1].groupby('issue_month_derv')['is_defaulter_derv']\\\n",
    ".value_counts()\\\n",
    ".sort_index().unstack().plot(figsize=ASP_RATIO, ax=ax_issue_mnth, legend=False)\n",
    "ax_issue_mnth.set_title(\"ISSUE MONTH VS DEFAULTERS\", pad=20, fontsize=18)\n",
    "ax_issue_mnth.set_xlabel('ISSUE MONTH', fontsize=18, labelpad=5);\n",
    "ax_issue_mnth.set_ylabel('DEFAULTER COUNT', fontsize=18, labelpad=20);\n",
    "ax_issue_mnth.tick_params(axis='both', which='major', labelsize=20);\n",
    "# ax_issue_mnth.set_xticklabels(['<40K', '40K to 50K','50K to 80K','>80K'], rotation=0);\n",
    "\n",
    "plt.savefig('issue_month_dfltr.png')\n",
    "plt.grid()"
   ]
  },
  {
   "cell_type": "code",
   "execution_count": null,
   "metadata": {},
   "outputs": [],
   "source": [
    "\n"
   ]
  },
  {
   "cell_type": "markdown",
   "metadata": {},
   "source": [
    "<h4> <u>Employee experience vs Target variable analysis</u> </h4>"
   ]
  },
  {
   "cell_type": "code",
   "execution_count": 343,
   "metadata": {},
   "outputs": [
    {
     "data": {
      "text/plain": [
       "5399"
      ]
     },
     "execution_count": 343,
     "metadata": {},
     "output_type": "execute_result"
    }
   ],
   "source": [
    "loan_data[loan_data['is_defaulter_derv']==1]['emp_length'].count()"
   ]
  },
  {
   "cell_type": "code",
   "execution_count": 353,
   "metadata": {},
   "outputs": [],
   "source": [
    "loan_data.emp_length.fillna(loan_data.emp_length.mode(),inplace =True)"
   ]
  },
  {
   "cell_type": "code",
   "execution_count": 395,
   "metadata": {},
   "outputs": [],
   "source": [
    "df_pivot = pd.crosstab([loan_data.home_ownership,loan_data.grade,loan_data.emp_length]\\\n",
    "                       ,loan_data.is_defaulter_derv)"
   ]
  },
  {
   "cell_type": "code",
   "execution_count": 396,
   "metadata": {},
   "outputs": [],
   "source": [
    "df_pivot['defaulter_%'] = df_pivot[0].apply(lambda val: round((val/(df_pivot[0].sum()))*100,2))"
   ]
  },
  {
   "cell_type": "code",
   "execution_count": 397,
   "metadata": {},
   "outputs": [],
   "source": [
    "df_pivot['non_defaulter_%'] = df_pivot[1].apply(lambda val: round((val/(df_pivot[0].sum()))*100,2))"
   ]
  },
  {
   "cell_type": "code",
   "execution_count": 398,
   "metadata": {},
   "outputs": [
    {
     "data": {
      "text/html": [
       "<div>\n",
       "<style scoped>\n",
       "    .dataframe tbody tr th:only-of-type {\n",
       "        vertical-align: middle;\n",
       "    }\n",
       "\n",
       "    .dataframe tbody tr th {\n",
       "        vertical-align: top;\n",
       "    }\n",
       "\n",
       "    .dataframe thead th {\n",
       "        text-align: right;\n",
       "    }\n",
       "</style>\n",
       "<table border=\"1\" class=\"dataframe\">\n",
       "  <thead>\n",
       "    <tr style=\"text-align: right;\">\n",
       "      <th></th>\n",
       "      <th></th>\n",
       "      <th>is_defaulter_derv</th>\n",
       "      <th>0</th>\n",
       "      <th>1</th>\n",
       "      <th>defaulter_%</th>\n",
       "      <th>non_defaulter_%</th>\n",
       "    </tr>\n",
       "    <tr>\n",
       "      <th>home_ownership</th>\n",
       "      <th>grade</th>\n",
       "      <th>emp_length</th>\n",
       "      <th></th>\n",
       "      <th></th>\n",
       "      <th></th>\n",
       "      <th></th>\n",
       "    </tr>\n",
       "  </thead>\n",
       "  <tbody>\n",
       "    <tr>\n",
       "      <th rowspan=\"30\" valign=\"top\">MORTGAGE</th>\n",
       "      <th rowspan=\"11\" valign=\"top\">A</th>\n",
       "      <th>1 year</th>\n",
       "      <td>238</td>\n",
       "      <td>15</td>\n",
       "      <td>0.74</td>\n",
       "      <td>0.05</td>\n",
       "    </tr>\n",
       "    <tr>\n",
       "      <th>10+ years</th>\n",
       "      <td>1482</td>\n",
       "      <td>81</td>\n",
       "      <td>4.61</td>\n",
       "      <td>0.25</td>\n",
       "    </tr>\n",
       "    <tr>\n",
       "      <th>2 years</th>\n",
       "      <td>390</td>\n",
       "      <td>14</td>\n",
       "      <td>1.21</td>\n",
       "      <td>0.04</td>\n",
       "    </tr>\n",
       "    <tr>\n",
       "      <th>3 years</th>\n",
       "      <td>442</td>\n",
       "      <td>22</td>\n",
       "      <td>1.38</td>\n",
       "      <td>0.07</td>\n",
       "    </tr>\n",
       "    <tr>\n",
       "      <th>4 years</th>\n",
       "      <td>374</td>\n",
       "      <td>16</td>\n",
       "      <td>1.16</td>\n",
       "      <td>0.05</td>\n",
       "    </tr>\n",
       "    <tr>\n",
       "      <th>5 years</th>\n",
       "      <td>407</td>\n",
       "      <td>21</td>\n",
       "      <td>1.27</td>\n",
       "      <td>0.07</td>\n",
       "    </tr>\n",
       "    <tr>\n",
       "      <th>6 years</th>\n",
       "      <td>309</td>\n",
       "      <td>15</td>\n",
       "      <td>0.96</td>\n",
       "      <td>0.05</td>\n",
       "    </tr>\n",
       "    <tr>\n",
       "      <th>7 years</th>\n",
       "      <td>253</td>\n",
       "      <td>6</td>\n",
       "      <td>0.79</td>\n",
       "      <td>0.02</td>\n",
       "    </tr>\n",
       "    <tr>\n",
       "      <th>8 years</th>\n",
       "      <td>230</td>\n",
       "      <td>15</td>\n",
       "      <td>0.72</td>\n",
       "      <td>0.05</td>\n",
       "    </tr>\n",
       "    <tr>\n",
       "      <th>9 years</th>\n",
       "      <td>209</td>\n",
       "      <td>14</td>\n",
       "      <td>0.65</td>\n",
       "      <td>0.04</td>\n",
       "    </tr>\n",
       "    <tr>\n",
       "      <th>&lt; 1 year</th>\n",
       "      <td>370</td>\n",
       "      <td>25</td>\n",
       "      <td>1.15</td>\n",
       "      <td>0.08</td>\n",
       "    </tr>\n",
       "    <tr>\n",
       "      <th rowspan=\"11\" valign=\"top\">B</th>\n",
       "      <th>1 year</th>\n",
       "      <td>260</td>\n",
       "      <td>34</td>\n",
       "      <td>0.81</td>\n",
       "      <td>0.11</td>\n",
       "    </tr>\n",
       "    <tr>\n",
       "      <th>10+ years</th>\n",
       "      <td>1345</td>\n",
       "      <td>184</td>\n",
       "      <td>4.18</td>\n",
       "      <td>0.57</td>\n",
       "    </tr>\n",
       "    <tr>\n",
       "      <th>2 years</th>\n",
       "      <td>415</td>\n",
       "      <td>45</td>\n",
       "      <td>1.29</td>\n",
       "      <td>0.14</td>\n",
       "    </tr>\n",
       "    <tr>\n",
       "      <th>3 years</th>\n",
       "      <td>399</td>\n",
       "      <td>44</td>\n",
       "      <td>1.24</td>\n",
       "      <td>0.14</td>\n",
       "    </tr>\n",
       "    <tr>\n",
       "      <th>4 years</th>\n",
       "      <td>341</td>\n",
       "      <td>52</td>\n",
       "      <td>1.06</td>\n",
       "      <td>0.16</td>\n",
       "    </tr>\n",
       "    <tr>\n",
       "      <th>5 years</th>\n",
       "      <td>402</td>\n",
       "      <td>56</td>\n",
       "      <td>1.25</td>\n",
       "      <td>0.17</td>\n",
       "    </tr>\n",
       "    <tr>\n",
       "      <th>6 years</th>\n",
       "      <td>266</td>\n",
       "      <td>31</td>\n",
       "      <td>0.83</td>\n",
       "      <td>0.10</td>\n",
       "    </tr>\n",
       "    <tr>\n",
       "      <th>7 years</th>\n",
       "      <td>219</td>\n",
       "      <td>36</td>\n",
       "      <td>0.68</td>\n",
       "      <td>0.11</td>\n",
       "    </tr>\n",
       "    <tr>\n",
       "      <th>8 years</th>\n",
       "      <td>193</td>\n",
       "      <td>25</td>\n",
       "      <td>0.60</td>\n",
       "      <td>0.08</td>\n",
       "    </tr>\n",
       "    <tr>\n",
       "      <th>9 years</th>\n",
       "      <td>177</td>\n",
       "      <td>15</td>\n",
       "      <td>0.55</td>\n",
       "      <td>0.05</td>\n",
       "    </tr>\n",
       "    <tr>\n",
       "      <th>&lt; 1 year</th>\n",
       "      <td>291</td>\n",
       "      <td>50</td>\n",
       "      <td>0.91</td>\n",
       "      <td>0.16</td>\n",
       "    </tr>\n",
       "    <tr>\n",
       "      <th rowspan=\"8\" valign=\"top\">C</th>\n",
       "      <th>1 year</th>\n",
       "      <td>166</td>\n",
       "      <td>33</td>\n",
       "      <td>0.52</td>\n",
       "      <td>0.10</td>\n",
       "    </tr>\n",
       "    <tr>\n",
       "      <th>10+ years</th>\n",
       "      <td>809</td>\n",
       "      <td>173</td>\n",
       "      <td>2.52</td>\n",
       "      <td>0.54</td>\n",
       "    </tr>\n",
       "    <tr>\n",
       "      <th>2 years</th>\n",
       "      <td>195</td>\n",
       "      <td>40</td>\n",
       "      <td>0.61</td>\n",
       "      <td>0.12</td>\n",
       "    </tr>\n",
       "    <tr>\n",
       "      <th>3 years</th>\n",
       "      <td>240</td>\n",
       "      <td>53</td>\n",
       "      <td>0.75</td>\n",
       "      <td>0.16</td>\n",
       "    </tr>\n",
       "    <tr>\n",
       "      <th>4 years</th>\n",
       "      <td>222</td>\n",
       "      <td>29</td>\n",
       "      <td>0.69</td>\n",
       "      <td>0.09</td>\n",
       "    </tr>\n",
       "    <tr>\n",
       "      <th>5 years</th>\n",
       "      <td>189</td>\n",
       "      <td>50</td>\n",
       "      <td>0.59</td>\n",
       "      <td>0.16</td>\n",
       "    </tr>\n",
       "    <tr>\n",
       "      <th>6 years</th>\n",
       "      <td>167</td>\n",
       "      <td>36</td>\n",
       "      <td>0.52</td>\n",
       "      <td>0.11</td>\n",
       "    </tr>\n",
       "    <tr>\n",
       "      <th>7 years</th>\n",
       "      <td>132</td>\n",
       "      <td>30</td>\n",
       "      <td>0.41</td>\n",
       "      <td>0.09</td>\n",
       "    </tr>\n",
       "    <tr>\n",
       "      <th>...</th>\n",
       "      <th>...</th>\n",
       "      <th>...</th>\n",
       "      <td>...</td>\n",
       "      <td>...</td>\n",
       "      <td>...</td>\n",
       "      <td>...</td>\n",
       "    </tr>\n",
       "    <tr>\n",
       "      <th rowspan=\"30\" valign=\"top\">RENT</th>\n",
       "      <th rowspan=\"8\" valign=\"top\">E</th>\n",
       "      <th>3 years</th>\n",
       "      <td>104</td>\n",
       "      <td>36</td>\n",
       "      <td>0.32</td>\n",
       "      <td>0.11</td>\n",
       "    </tr>\n",
       "    <tr>\n",
       "      <th>4 years</th>\n",
       "      <td>91</td>\n",
       "      <td>35</td>\n",
       "      <td>0.28</td>\n",
       "      <td>0.11</td>\n",
       "    </tr>\n",
       "    <tr>\n",
       "      <th>5 years</th>\n",
       "      <td>79</td>\n",
       "      <td>32</td>\n",
       "      <td>0.25</td>\n",
       "      <td>0.10</td>\n",
       "    </tr>\n",
       "    <tr>\n",
       "      <th>6 years</th>\n",
       "      <td>52</td>\n",
       "      <td>19</td>\n",
       "      <td>0.16</td>\n",
       "      <td>0.06</td>\n",
       "    </tr>\n",
       "    <tr>\n",
       "      <th>7 years</th>\n",
       "      <td>45</td>\n",
       "      <td>18</td>\n",
       "      <td>0.14</td>\n",
       "      <td>0.06</td>\n",
       "    </tr>\n",
       "    <tr>\n",
       "      <th>8 years</th>\n",
       "      <td>23</td>\n",
       "      <td>12</td>\n",
       "      <td>0.07</td>\n",
       "      <td>0.04</td>\n",
       "    </tr>\n",
       "    <tr>\n",
       "      <th>9 years</th>\n",
       "      <td>27</td>\n",
       "      <td>11</td>\n",
       "      <td>0.08</td>\n",
       "      <td>0.03</td>\n",
       "    </tr>\n",
       "    <tr>\n",
       "      <th>&lt; 1 year</th>\n",
       "      <td>150</td>\n",
       "      <td>51</td>\n",
       "      <td>0.47</td>\n",
       "      <td>0.16</td>\n",
       "    </tr>\n",
       "    <tr>\n",
       "      <th rowspan=\"11\" valign=\"top\">F</th>\n",
       "      <th>1 year</th>\n",
       "      <td>25</td>\n",
       "      <td>17</td>\n",
       "      <td>0.08</td>\n",
       "      <td>0.05</td>\n",
       "    </tr>\n",
       "    <tr>\n",
       "      <th>10+ years</th>\n",
       "      <td>41</td>\n",
       "      <td>31</td>\n",
       "      <td>0.13</td>\n",
       "      <td>0.10</td>\n",
       "    </tr>\n",
       "    <tr>\n",
       "      <th>2 years</th>\n",
       "      <td>42</td>\n",
       "      <td>18</td>\n",
       "      <td>0.13</td>\n",
       "      <td>0.06</td>\n",
       "    </tr>\n",
       "    <tr>\n",
       "      <th>3 years</th>\n",
       "      <td>43</td>\n",
       "      <td>14</td>\n",
       "      <td>0.13</td>\n",
       "      <td>0.04</td>\n",
       "    </tr>\n",
       "    <tr>\n",
       "      <th>4 years</th>\n",
       "      <td>31</td>\n",
       "      <td>16</td>\n",
       "      <td>0.10</td>\n",
       "      <td>0.05</td>\n",
       "    </tr>\n",
       "    <tr>\n",
       "      <th>5 years</th>\n",
       "      <td>26</td>\n",
       "      <td>10</td>\n",
       "      <td>0.08</td>\n",
       "      <td>0.03</td>\n",
       "    </tr>\n",
       "    <tr>\n",
       "      <th>6 years</th>\n",
       "      <td>13</td>\n",
       "      <td>7</td>\n",
       "      <td>0.04</td>\n",
       "      <td>0.02</td>\n",
       "    </tr>\n",
       "    <tr>\n",
       "      <th>7 years</th>\n",
       "      <td>17</td>\n",
       "      <td>8</td>\n",
       "      <td>0.05</td>\n",
       "      <td>0.02</td>\n",
       "    </tr>\n",
       "    <tr>\n",
       "      <th>8 years</th>\n",
       "      <td>12</td>\n",
       "      <td>5</td>\n",
       "      <td>0.04</td>\n",
       "      <td>0.02</td>\n",
       "    </tr>\n",
       "    <tr>\n",
       "      <th>9 years</th>\n",
       "      <td>3</td>\n",
       "      <td>3</td>\n",
       "      <td>0.01</td>\n",
       "      <td>0.01</td>\n",
       "    </tr>\n",
       "    <tr>\n",
       "      <th>&lt; 1 year</th>\n",
       "      <td>42</td>\n",
       "      <td>14</td>\n",
       "      <td>0.13</td>\n",
       "      <td>0.04</td>\n",
       "    </tr>\n",
       "    <tr>\n",
       "      <th rowspan=\"11\" valign=\"top\">G</th>\n",
       "      <th>1 year</th>\n",
       "      <td>1</td>\n",
       "      <td>8</td>\n",
       "      <td>0.00</td>\n",
       "      <td>0.02</td>\n",
       "    </tr>\n",
       "    <tr>\n",
       "      <th>10+ years</th>\n",
       "      <td>14</td>\n",
       "      <td>11</td>\n",
       "      <td>0.04</td>\n",
       "      <td>0.03</td>\n",
       "    </tr>\n",
       "    <tr>\n",
       "      <th>2 years</th>\n",
       "      <td>13</td>\n",
       "      <td>2</td>\n",
       "      <td>0.04</td>\n",
       "      <td>0.01</td>\n",
       "    </tr>\n",
       "    <tr>\n",
       "      <th>3 years</th>\n",
       "      <td>9</td>\n",
       "      <td>10</td>\n",
       "      <td>0.03</td>\n",
       "      <td>0.03</td>\n",
       "    </tr>\n",
       "    <tr>\n",
       "      <th>4 years</th>\n",
       "      <td>13</td>\n",
       "      <td>3</td>\n",
       "      <td>0.04</td>\n",
       "      <td>0.01</td>\n",
       "    </tr>\n",
       "    <tr>\n",
       "      <th>5 years</th>\n",
       "      <td>9</td>\n",
       "      <td>4</td>\n",
       "      <td>0.03</td>\n",
       "      <td>0.01</td>\n",
       "    </tr>\n",
       "    <tr>\n",
       "      <th>6 years</th>\n",
       "      <td>4</td>\n",
       "      <td>2</td>\n",
       "      <td>0.01</td>\n",
       "      <td>0.01</td>\n",
       "    </tr>\n",
       "    <tr>\n",
       "      <th>7 years</th>\n",
       "      <td>4</td>\n",
       "      <td>2</td>\n",
       "      <td>0.01</td>\n",
       "      <td>0.01</td>\n",
       "    </tr>\n",
       "    <tr>\n",
       "      <th>8 years</th>\n",
       "      <td>3</td>\n",
       "      <td>0</td>\n",
       "      <td>0.01</td>\n",
       "      <td>0.00</td>\n",
       "    </tr>\n",
       "    <tr>\n",
       "      <th>9 years</th>\n",
       "      <td>5</td>\n",
       "      <td>0</td>\n",
       "      <td>0.02</td>\n",
       "      <td>0.00</td>\n",
       "    </tr>\n",
       "    <tr>\n",
       "      <th>&lt; 1 year</th>\n",
       "      <td>11</td>\n",
       "      <td>6</td>\n",
       "      <td>0.03</td>\n",
       "      <td>0.02</td>\n",
       "    </tr>\n",
       "  </tbody>\n",
       "</table>\n",
       "<p>270 rows × 4 columns</p>\n",
       "</div>"
      ],
      "text/plain": [
       "is_defaulter_derv                   0    1  defaulter_%  non_defaulter_%\n",
       "home_ownership grade emp_length                                         \n",
       "MORTGAGE       A     1 year       238   15         0.74             0.05\n",
       "                     10+ years   1482   81         4.61             0.25\n",
       "                     2 years      390   14         1.21             0.04\n",
       "                     3 years      442   22         1.38             0.07\n",
       "                     4 years      374   16         1.16             0.05\n",
       "                     5 years      407   21         1.27             0.07\n",
       "                     6 years      309   15         0.96             0.05\n",
       "                     7 years      253    6         0.79             0.02\n",
       "                     8 years      230   15         0.72             0.05\n",
       "                     9 years      209   14         0.65             0.04\n",
       "                     < 1 year     370   25         1.15             0.08\n",
       "               B     1 year       260   34         0.81             0.11\n",
       "                     10+ years   1345  184         4.18             0.57\n",
       "                     2 years      415   45         1.29             0.14\n",
       "                     3 years      399   44         1.24             0.14\n",
       "                     4 years      341   52         1.06             0.16\n",
       "                     5 years      402   56         1.25             0.17\n",
       "                     6 years      266   31         0.83             0.10\n",
       "                     7 years      219   36         0.68             0.11\n",
       "                     8 years      193   25         0.60             0.08\n",
       "                     9 years      177   15         0.55             0.05\n",
       "                     < 1 year     291   50         0.91             0.16\n",
       "               C     1 year       166   33         0.52             0.10\n",
       "                     10+ years    809  173         2.52             0.54\n",
       "                     2 years      195   40         0.61             0.12\n",
       "                     3 years      240   53         0.75             0.16\n",
       "                     4 years      222   29         0.69             0.09\n",
       "                     5 years      189   50         0.59             0.16\n",
       "                     6 years      167   36         0.52             0.11\n",
       "                     7 years      132   30         0.41             0.09\n",
       "...                               ...  ...          ...              ...\n",
       "RENT           E     3 years      104   36         0.32             0.11\n",
       "                     4 years       91   35         0.28             0.11\n",
       "                     5 years       79   32         0.25             0.10\n",
       "                     6 years       52   19         0.16             0.06\n",
       "                     7 years       45   18         0.14             0.06\n",
       "                     8 years       23   12         0.07             0.04\n",
       "                     9 years       27   11         0.08             0.03\n",
       "                     < 1 year     150   51         0.47             0.16\n",
       "               F     1 year        25   17         0.08             0.05\n",
       "                     10+ years     41   31         0.13             0.10\n",
       "                     2 years       42   18         0.13             0.06\n",
       "                     3 years       43   14         0.13             0.04\n",
       "                     4 years       31   16         0.10             0.05\n",
       "                     5 years       26   10         0.08             0.03\n",
       "                     6 years       13    7         0.04             0.02\n",
       "                     7 years       17    8         0.05             0.02\n",
       "                     8 years       12    5         0.04             0.02\n",
       "                     9 years        3    3         0.01             0.01\n",
       "                     < 1 year      42   14         0.13             0.04\n",
       "               G     1 year         1    8         0.00             0.02\n",
       "                     10+ years     14   11         0.04             0.03\n",
       "                     2 years       13    2         0.04             0.01\n",
       "                     3 years        9   10         0.03             0.03\n",
       "                     4 years       13    3         0.04             0.01\n",
       "                     5 years        9    4         0.03             0.01\n",
       "                     6 years        4    2         0.01             0.01\n",
       "                     7 years        4    2         0.01             0.01\n",
       "                     8 years        3    0         0.01             0.00\n",
       "                     9 years        5    0         0.02             0.00\n",
       "                     < 1 year      11    6         0.03             0.02\n",
       "\n",
       "[270 rows x 4 columns]"
      ]
     },
     "execution_count": 398,
     "metadata": {},
     "output_type": "execute_result"
    }
   ],
   "source": [
    "df_pivot"
   ]
  },
  {
   "cell_type": "code",
   "execution_count": 379,
   "metadata": {},
   "outputs": [
    {
     "data": {
      "text/plain": [
       "MultiIndex(levels=[['MORTGAGE', 'NONE', 'OTHER', 'OWN', 'RENT'], ['1 year', '10+ years', '2 years', '3 years', '4 years', '5 years', '6 years', '7 years', '8 years', '9 years', '< 1 year']],\n",
       "           codes=[[0, 0, 0, 0, 0, 0, 0, 0, 0, 0, 0, 1, 1, 2, 2, 2, 2, 2, 2, 2, 2, 2, 2, 3, 3, 3, 3, 3, 3, 3, 3, 3, 3, 3, 4, 4, 4, 4, 4, 4, 4, 4, 4, 4, 4], [0, 1, 2, 3, 4, 5, 6, 7, 8, 9, 10, 5, 10, 0, 1, 2, 3, 4, 5, 6, 7, 8, 10, 0, 1, 2, 3, 4, 5, 6, 7, 8, 9, 10, 0, 1, 2, 3, 4, 5, 6, 7, 8, 9, 10]],\n",
       "           names=['home_ownership', 'emp_length'])"
      ]
     },
     "execution_count": 379,
     "metadata": {},
     "output_type": "execute_result"
    }
   ],
   "source": [
    "df_pivot.index"
   ]
  },
  {
   "cell_type": "code",
   "execution_count": 382,
   "metadata": {},
   "outputs": [
    {
     "data": {
      "text/plain": [
       "emp_length\n",
       "1 year        2.51\n",
       "10+ years    14.11\n",
       "2 years       3.90\n",
       "3 years       4.15\n",
       "4 years       3.68\n",
       "5 years       3.85\n",
       "6 years       2.88\n",
       "7 years       2.28\n",
       "8 years       2.04\n",
       "9 years       1.87\n",
       "< 1 year      3.38\n",
       "Name: defaulter_%, dtype: float64"
      ]
     },
     "execution_count": 382,
     "metadata": {},
     "output_type": "execute_result"
    }
   ],
   "source": [
    "df_pivot.loc['MORTGAGE']['defaulter_%']"
   ]
  },
  {
   "cell_type": "code",
   "execution_count": null,
   "metadata": {},
   "outputs": [],
   "source": [
    "df_pivot.loc['',:]"
   ]
  },
  {
   "cell_type": "code",
   "execution_count": 409,
   "metadata": {},
   "outputs": [
    {
     "data": {
      "text/plain": [
       "emp_length\n",
       "1 year       1.25\n",
       "10+ years    1.34\n",
       "2 years      1.60\n",
       "3 years      1.37\n",
       "4 years      1.13\n",
       "5 years      0.99\n",
       "6 years      0.61\n",
       "7 years      0.37\n",
       "8 years      0.35\n",
       "9 years      0.29\n",
       "< 1 year     2.06\n",
       "Name: defaulter_%, dtype: float64"
      ]
     },
     "execution_count": 409,
     "metadata": {},
     "output_type": "execute_result"
    }
   ],
   "source": [
    "df_pivot.loc[('RENT','A')]['defaulter_%'].sort_index()"
   ]
  },
  {
   "cell_type": "code",
   "execution_count": 350,
   "metadata": {},
   "outputs": [
    {
     "data": {
      "image/png": "[encoded data removed]",
      "text/plain": [
       "<Figure size 864x432 with 1 Axes>"
      ]
     },
     "metadata": {
      "needs_background": "light"
     },
     "output_type": "display_data"
    }
   ],
   "source": [
    "pd.crosstab(loan_data.emp_length,loan_data.is_defaulter_derv)\\\n",
    ".plot(kind='bar', figsize=ASP_RATIO);\n"
   ]
  },
  {
   "cell_type": "code",
   "execution_count": 351,
   "metadata": {},
   "outputs": [
    {
     "name": "stdout",
     "output_type": "stream",
     "text": [
      " P_value for chi_2 test between emp_length and is_defaulter_derv 0.01\n"
     ]
    }
   ],
   "source": [
    "perfrom_chi_2_test(loan_data,'emp_length','is_defaulter_derv')"
   ]
  },
  {
   "cell_type": "code",
   "execution_count": 193,
   "metadata": {},
   "outputs": [
    {
     "name": "stdout",
     "output_type": "stream",
     "text": [
      " P_value for chi_2 test between pub_rec and is_defaulter_derv 0.0\n"
     ]
    }
   ],
   "source": [
    "perfrom_chi_2_test(loan_data,'pub_rec','is_defaulter_derv')"
   ]
  },
  {
   "cell_type": "code",
   "execution_count": 1,
   "metadata": {},
   "outputs": [],
   "source": [
    "%matplotlib inline\n",
    "import matplotlib.pyplot as plt\n",
    "plt.style.use('seaborn-white')\n",
    "import numpy as np"
   ]
  },
  {
   "cell_type": "code",
   "execution_count": null,
   "metadata": {},
   "outputs": [],
   "source": [
    "def f(x, y):\n",
    "    return np.sin(x) ** 10 + np.cos(10 + y * x) * np.cos(x)"
   ]
  }
 ],
 "metadata": {
  "kernelspec": {
   "display_name": "Python 3",
   "language": "python",
   "name": "python3"
  },
  "language_info": {
   "codemirror_mode": {
    "name": "ipython",
    "version": 3
   },
   "file_extension": ".py",
   "mimetype": "text/x-python",
   "name": "python",
   "nbconvert_exporter": "python",
   "pygments_lexer": "ipython3",
   "version": "3.8.3"
  }
 },
 "nbformat": 4,
 "nbformat_minor": 4
}
