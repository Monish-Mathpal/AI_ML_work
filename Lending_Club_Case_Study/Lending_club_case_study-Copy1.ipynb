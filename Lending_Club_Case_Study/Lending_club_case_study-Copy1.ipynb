{
 "cells": [
  {
   "cell_type": "markdown",
   "metadata": {},
   "source": [
    "<h1> <u><center>Imports</center></u> </h1>"
   ]
  },
  {
   "cell_type": "code",
   "execution_count": 1,
   "metadata": {
    "jupyter": {
     "outputs_hidden": true
    }
   },
   "outputs": [
    {
     "name": "stderr",
     "output_type": "stream",
     "text": [
      "/home/monish/anaconda3/lib/python3.7/site-packages/statsmodels/tools/_testing.py:19: FutureWarning: pandas.util.testing is deprecated. Use the functions in the public API at pandas.testing instead.\n",
      "  import pandas.util.testing as tm\n"
     ]
    }
   ],
   "source": [
    "import pandas as pd\n",
    "import matplotlib.pyplot as plt\n",
    "import seaborn as sns\n",
    "import math\n",
    "from scipy import stats\n",
    "import operator as op\n",
    "%matplotlib inline"
   ]
  },
  {
   "cell_type": "markdown",
   "metadata": {},
   "source": [
    "<h1> <u><center>Constants</center></u> </h1>"
   ]
  },
  {
   "cell_type": "code",
   "execution_count": 2,
   "metadata": {},
   "outputs": [],
   "source": [
    "FILE_PATH = 'DATA/loan.csv'\n",
    "META_DAT_PATH = 'DATA/loan_metadata.txt'\n",
    "DAT_DICT = 'DATA/Data_Dictionary.xlsx'\n",
    "META_DAT_CLEAN = 'DATA/loan_metadat.csv'\n",
    "ASP_RATIO = (12,6)"
   ]
  },
  {
   "cell_type": "markdown",
   "metadata": {},
   "source": [
    "<h1> <u><center>Functions</center></u> </h1>"
   ]
  },
  {
   "cell_type": "code",
   "execution_count": 15,
   "metadata": {
    "jupyter": {
     "outputs_hidden": true
    }
   },
   "outputs": [],
   "source": [
    "def read_data(filename):\n",
    "    df = pd.read_csv(filename, low_memory=False)\n",
    "    df_copy = df.copy()\n",
    "    return df, df_copy"
   ]
  },
  {
   "cell_type": "code",
   "execution_count": 4,
   "metadata": {},
   "outputs": [],
   "source": [
    "def save_df_info(df):\n",
    "    with open(META_DAT_PATH, 'w') as f:\n",
    "        df.info(max_cols=120);\n",
    "        f.write(cap.stdout)"
   ]
  },
  {
   "cell_type": "code",
   "execution_count": 34,
   "metadata": {},
   "outputs": [],
   "source": [
    "## to do analysis of the info output of the loan_dataset, this function will create a file with all \n",
    "## the required metadata about the loan dataset. This file will consist of missing percent of every\n",
    "## single column, datatype and null or non-null object of the loan dataset\n",
    "def create_meta_data_file(dataframe,filename):\n",
    "    \n",
    "    META_FILE_NAME = 'DATA/meta_data'+'.csv'\n",
    "    meta_data = pd.read_csv(filename, sep='\\t', skiprows=5, skipfooter=2, names=['columns_info'],\n",
    "                           engine='python')\n",
    "    meta_data['variable_name'] = meta_data.apply(lambda var:var[0].split(' ',1)[0], axis=1)\n",
    "    meta_data['data_type'] =   meta_data.apply(lambda dat_type:dat_type[0].split(' ',1)[1], axis=1)\n",
    "\n",
    "    meta_data['data_format'] = meta_data['data_type'].apply(lambda data_frmt: data_frmt.lstrip().split(' ')[2])\n",
    "    meta_data['null_object_type'] = meta_data['data_type'].\\\n",
    "    apply(lambda null_obj: null_obj.lstrip()\\\n",
    "          .split(' ')[1])\n",
    "    meta_data['no_of_rows'] = meta_data['data_type'].apply(lambda row: row.lstrip().split(' ')[0])\n",
    "#     return meta_data\n",
    "    \n",
    "    del meta_data['data_type']\n",
    "    \n",
    "    meta_data['missing_percent'] = meta_data['no_of_rows'].astype('float')/dataframe.shape[0]\n",
    "    meta_data['missing_percent'] = (1-(round(meta_data['no_of_rows'].astype('float')\\\n",
    "                                                   /dataframe.shape[0],2)))*100\n",
    "    \n",
    "    meta_data.to_csv(META_FILE_NAME, index=False)\n",
    "    return META_FILE_NAME"
   ]
  },
  {
   "cell_type": "code",
   "execution_count": 6,
   "metadata": {},
   "outputs": [],
   "source": [
    "## this function will return the p value after performing the chi square test\n",
    "\n",
    "def perfrom_chi_2_test(df,col1,col2):\n",
    "    crosstab = pd.crosstab(df[col1], df[col2])\n",
    "    _, p_val, _, *_ = stats.chi2_contingency(crosstab)\n",
    "    print(f\" P_value for chi_2 test between {col1} and {col2} {round(p_val,2)}\")"
   ]
  },
  {
   "cell_type": "code",
   "execution_count": 7,
   "metadata": {},
   "outputs": [],
   "source": [
    "def create_bins(df, col_name, new_col, *bin_intervals):\n",
    "\n",
    "    column_ser = df[col_name]\n",
    "    size_lis = len(bin_intervals)\n",
    "    lb = df[col_name] <= bin_intervals[0]\n",
    "    ub = df[col_name] > bin_intervals[-1]\n",
    "    bin_intvls = []\n",
    "    \n",
    "    bin_intvls.append(lb)    \n",
    "    for index, bin_interval in enumerate(bin_intervals):\n",
    "        if index <= len(bin_intervals)-2:\n",
    "            bin_intvls.append(op.gt(column_ser, bin_interval) & op.le(column_ser,bin_intervals[index+1]))\n",
    "    bin_intvls.append(ub)\n",
    "    \n",
    "    for intvl_, bins in enumerate(bin_intvls):\n",
    "        df.loc[bins, new_col] = 'interval'+'_'+str(intvl_)\n",
    "    \n",
    "    return bin_intvls\n"
   ]
  },
  {
   "cell_type": "code",
   "execution_count": 8,
   "metadata": {},
   "outputs": [],
   "source": [
    "def plot_crosstab(df=None, col_names=None, x_label=None, y_label=None, labelsize=None, \\\n",
    "                  labelpad=None, pad=None, t_fontsize=None, ax_fontsize=None, plot_title=None, \\\n",
    "                  x_ticklabels=None, rotation=None, estimator=None, color=None, ls=None, \\\n",
    "                  hline=False, vline=False, aspect_ratio=None, sub_plots=False):\n",
    "    if  ~sub_plots:\n",
    "        fig_obj, ax_obj = plt.subplots(figsize=aspect_ratio)\n",
    "\n",
    "    \n",
    "    pd.crosstab(df[col_names[0]], df[col_names[1]])\\\n",
    "    .plot(kind='bar', ax=ax_obj);\n",
    "    \n",
    "    ax_obj.set_title(plot_title, pad=pad, fontsize=t_fontsize);\n",
    "    ax_obj.set_xlabel(x_label, fontsize=ax_fontsize, labelpad=labelpad);\n",
    "    ax_obj.set_ylabel(y_label, fontsize=ax_fontsize, labelpad=labelpad);\n",
    "    ax_obj.tick_params(axis='both', which='major', labelsize=labelsize);\n",
    "    ax_obj.set_xticklabels(x_ticklabels, rotation=rotation);\n",
    "    \n",
    "    if hline:\n",
    "        ax_obj.axhline(estimator, ls=ls, color=color)\n",
    "    if vline:\n",
    "        ax_obj.axvline(estimator, ls=ls, color=color)\n",
    "    "
   ]
  },
  {
   "cell_type": "code",
   "execution_count": 9,
   "metadata": {},
   "outputs": [],
   "source": [
    "def generate_crosstab_summary(df,col1, col2):\n",
    "\n",
    "    df_pivot = pd.crosstab(df[col1],df[col2])\n",
    "    df_pivot['total'] = df_pivot[0]+df_pivot[1]\n",
    "    df_pivot['avg_defaulter_row%'] = round((df_pivot[0]/(df_pivot['total']))*100,2)\n",
    "    df_pivot['avg_non_defaulter_row%'] = round((df_pivot[1]/(df_pivot['total']))*100,2)\n",
    "    df_pivot['avg_defaulter_diff_row%']= (df_pivot['avg_defaulter_row%']-df_pivot['avg_defaulter_row%'].min())\n",
    "    \n",
    "    df_pivot['avg_defaulter_col%'] = round((df_pivot[0]/(df_pivot[0].sum()))*100,2)\n",
    "    df_pivot['avg_non_defaulter_col%'] = round((df_pivot[1]/(df_pivot[1].sum()))*100,2)\n",
    "    df_pivot['avg_defaulter_diff_col%']= (df_pivot['avg_defaulter_col%']-df_pivot['avg_defaulter_col%'].min())\n",
    "    \n",
    "#     df_pivot.loc[1:,'avg_defaulter_diff_%'] = list(map(op.sub,df_pivot['avg_defaulter_%'].values[1:],\\\n",
    "#                                                 df_pivot['avg_defaulter_%'].values[:-1]))\n",
    "#     list(map(op.sub,df_pivot['avg_defaulter_%'][1:],\\\n",
    "#                                                 df_pivot['avg_defaulter_%'][:-1]))\n",
    "    del df_pivot[0]\n",
    "    del df_pivot[1]\n",
    "    col_ret = ['avg_defaulter_row%', 'avg_non_defaulter_row%','avg_defaulter_diff_row%',\\\n",
    "     'avg_defaulter_col%', 'avg_non_defaulter_col%','avg_defaulter_diff_col%']\n",
    "    return df_pivot[col_ret].sort_index()\n"
   ]
  },
  {
   "cell_type": "code",
   "execution_count": 10,
   "metadata": {},
   "outputs": [],
   "source": [
    "def configure_plot(plot_title=None, pad=None, t_fontsize=None, ax_fontsize=None, labelpad=None, labelsize=None,\\\n",
    "               x_label=None, y_label=None, ax_obj=None):\n",
    "    ax_obj.set_title(plot_title, pad=pad, fontsize=t_fontsize);\n",
    "    ax_obj.set_xlabel(x_label, fontsize=ax_fontsize, labelpad=labelpad);\n",
    "    ax_obj.set_ylabel(y_label, fontsize=ax_fontsize, labelpad=labelpad);\n",
    "    ax_obj.tick_params(axis='both', which='major', labelsize=labelsize);\n",
    "#     ax_obj.xscale(x_scale)\n",
    "#     ax_obj.yscale(y_scale)\n"
   ]
  },
  {
   "cell_type": "code",
   "execution_count": 11,
   "metadata": {},
   "outputs": [],
   "source": [
    "def calculate_woe(df, col_names, bin_tar_col,*intvls):\n",
    "\n",
    "    intervals = create_bins(df, col_names[0], col_names[1], *intvls)\n",
    "    woe_df_ = pd.DataFrame()\n",
    "    \n",
    "    min_val = [df.loc[intvl,col_names[0]].min() for intvl in intervals]\n",
    "    max_val = [df.loc[intvl,col_names[0]].max() for intvl in intervals]\n",
    "    \n",
    "    count_events = [df.loc[intvl & (df[bin_tar_col]==df[bin_tar_col].unique()[0]),\\\n",
    "                           bin_tar_col].count() for intvl in intervals]\n",
    "    count_non_events = [df.loc[intvl & (df[bin_tar_col]==df[bin_tar_col].unique()[1])\\\n",
    "                               ,bin_tar_col].count() for intvl in intervals]\n",
    "    \n",
    "    df[col_names[1]].value_counts().sort_index()\n",
    "    count = df[col_names[1]].value_counts().sort_index().values.tolist()\n",
    "    \n",
    "    woe_df_['min_val_'] = min_val\n",
    "    woe_df_['max_val_'] = max_val\n",
    "    woe_df_['count_'] = count\n",
    "    woe_df_['count_events_'] = count_events\n",
    "    woe_df_['count_non_events_'] = count_non_events\n",
    "    woe_df_['%_count_events'] = round((woe_df_.count_events_/woe_df_.count_events_.sum()),4)\\\n",
    "    .values*100\n",
    "\n",
    "    woe_df_['%_non_count_events']= round((woe_df_.count_non_events_/woe_df_.count_non_events_.sum()),4)\\\n",
    "    .values*100\n",
    "\n",
    "    woe_df_['WOE'] = (woe_df_['%_count_events']/woe_df_['%_non_count_events']).apply(math.log)\n",
    "    woe_df_['diff_event_%_non_event'] = (woe_df_['%_count_events'] - woe_df_['%_non_count_events'])\n",
    "    woe_df_['IV'] = round((woe_df_['diff_event_%_non_event']*woe_df_['WOE']),2)\n",
    "    woe_df_['variable_name'] = \"mths_since_last_delinq\"\n",
    "    \n",
    "    return round(woe_df_['IV'].sum(),2)\n",
    "    \n"
   ]
  },
  {
   "cell_type": "markdown",
   "metadata": {},
   "source": [
    "<h1> <u><center>Data Cleaning</center></u> </h1>"
   ]
  },
  {
   "cell_type": "code",
   "execution_count": 16,
   "metadata": {},
   "outputs": [],
   "source": [
    "loan_data, loan_data_copy = read_data(FILE_PATH)"
   ]
  },
  {
   "cell_type": "code",
   "execution_count": 27,
   "metadata": {},
   "outputs": [],
   "source": [
    "%%capture cap --no-stderr\n",
    "loan_data.info(max_cols=120)"
   ]
  },
  {
   "cell_type": "code",
   "execution_count": 28,
   "metadata": {
    "collapsed": true
   },
   "outputs": [
    {
     "name": "stdout",
     "output_type": "stream",
     "text": [
      "<class 'pandas.core.frame.DataFrame'>\n",
      "RangeIndex: 39717 entries, 0 to 39716\n",
      "Data columns (total 111 columns):\n",
      " #   Column                          Non-Null Count  Dtype  \n",
      "---  ------                          --------------  -----  \n",
      " 0   id                              39717 non-null  int64  \n",
      " 1   member_id                       39717 non-null  int64  \n",
      " 2   loan_amnt                       39717 non-null  int64  \n",
      " 3   funded_amnt                     39717 non-null  int64  \n",
      " 4   funded_amnt_inv                 39717 non-null  float64\n",
      " 5   term                            39717 non-null  object \n",
      " 6   int_rate                        39717 non-null  object \n",
      " 7   installment                     39717 non-null  float64\n",
      " 8   grade                           39717 non-null  object \n",
      " 9   sub_grade                       39717 non-null  object \n",
      " 10  emp_title                       37258 non-null  object \n",
      " 11  emp_length                      38642 non-null  object \n",
      " 12  home_ownership                  39717 non-null  object \n",
      " 13  annual_inc                      39717 non-null  float64\n",
      " 14  verification_status             39717 non-null  object \n",
      " 15  issue_d                         39717 non-null  object \n",
      " 16  loan_status                     39717 non-null  object \n",
      " 17  pymnt_plan                      39717 non-null  object \n",
      " 18  url                             39717 non-null  object \n",
      " 19  desc                            26777 non-null  object \n",
      " 20  purpose                         39717 non-null  object \n",
      " 21  title                           39706 non-null  object \n",
      " 22  zip_code                        39717 non-null  object \n",
      " 23  addr_state                      39717 non-null  object \n",
      " 24  dti                             39717 non-null  float64\n",
      " 25  delinq_2yrs                     39717 non-null  int64  \n",
      " 26  earliest_cr_line                39717 non-null  object \n",
      " 27  inq_last_6mths                  39717 non-null  int64  \n",
      " 28  mths_since_last_delinq          14035 non-null  float64\n",
      " 29  mths_since_last_record          2786 non-null   float64\n",
      " 30  open_acc                        39717 non-null  int64  \n",
      " 31  pub_rec                         39717 non-null  int64  \n",
      " 32  revol_bal                       39717 non-null  int64  \n",
      " 33  revol_util                      39667 non-null  object \n",
      " 34  total_acc                       39717 non-null  int64  \n",
      " 35  initial_list_status             39717 non-null  object \n",
      " 36  out_prncp                       39717 non-null  float64\n",
      " 37  out_prncp_inv                   39717 non-null  float64\n",
      " 38  total_pymnt                     39717 non-null  float64\n",
      " 39  total_pymnt_inv                 39717 non-null  float64\n",
      " 40  total_rec_prncp                 39717 non-null  float64\n",
      " 41  total_rec_int                   39717 non-null  float64\n",
      " 42  total_rec_late_fee              39717 non-null  float64\n",
      " 43  recoveries                      39717 non-null  float64\n",
      " 44  collection_recovery_fee         39717 non-null  float64\n",
      " 45  last_pymnt_d                    39646 non-null  object \n",
      " 46  last_pymnt_amnt                 39717 non-null  float64\n",
      " 47  next_pymnt_d                    1140 non-null   object \n",
      " 48  last_credit_pull_d              39715 non-null  object \n",
      " 49  collections_12_mths_ex_med      39661 non-null  float64\n",
      " 50  mths_since_last_major_derog     0 non-null      float64\n",
      " 51  policy_code                     39717 non-null  int64  \n",
      " 52  application_type                39717 non-null  object \n",
      " 53  annual_inc_joint                0 non-null      float64\n",
      " 54  dti_joint                       0 non-null      float64\n",
      " 55  verification_status_joint       0 non-null      float64\n",
      " 56  acc_now_delinq                  39717 non-null  int64  \n",
      " 57  tot_coll_amt                    0 non-null      float64\n",
      " 58  tot_cur_bal                     0 non-null      float64\n",
      " 59  open_acc_6m                     0 non-null      float64\n",
      " 60  open_il_6m                      0 non-null      float64\n",
      " 61  open_il_12m                     0 non-null      float64\n",
      " 62  open_il_24m                     0 non-null      float64\n",
      " 63  mths_since_rcnt_il              0 non-null      float64\n",
      " 64  total_bal_il                    0 non-null      float64\n",
      " 65  il_util                         0 non-null      float64\n",
      " 66  open_rv_12m                     0 non-null      float64\n",
      " 67  open_rv_24m                     0 non-null      float64\n",
      " 68  max_bal_bc                      0 non-null      float64\n",
      " 69  all_util                        0 non-null      float64\n",
      " 70  total_rev_hi_lim                0 non-null      float64\n",
      " 71  inq_fi                          0 non-null      float64\n",
      " 72  total_cu_tl                     0 non-null      float64\n",
      " 73  inq_last_12m                    0 non-null      float64\n",
      " 74  acc_open_past_24mths            0 non-null      float64\n",
      " 75  avg_cur_bal                     0 non-null      float64\n",
      " 76  bc_open_to_buy                  0 non-null      float64\n",
      " 77  bc_util                         0 non-null      float64\n",
      " 78  chargeoff_within_12_mths        39661 non-null  float64\n",
      " 79  delinq_amnt                     39717 non-null  int64  \n",
      " 80  mo_sin_old_il_acct              0 non-null      float64\n",
      " 81  mo_sin_old_rev_tl_op            0 non-null      float64\n",
      " 82  mo_sin_rcnt_rev_tl_op           0 non-null      float64\n",
      " 83  mo_sin_rcnt_tl                  0 non-null      float64\n",
      " 84  mort_acc                        0 non-null      float64\n",
      " 85  mths_since_recent_bc            0 non-null      float64\n",
      " 86  mths_since_recent_bc_dlq        0 non-null      float64\n",
      " 87  mths_since_recent_inq           0 non-null      float64\n",
      " 88  mths_since_recent_revol_delinq  0 non-null      float64\n",
      " 89  num_accts_ever_120_pd           0 non-null      float64\n",
      " 90  num_actv_bc_tl                  0 non-null      float64\n",
      " 91  num_actv_rev_tl                 0 non-null      float64\n",
      " 92  num_bc_sats                     0 non-null      float64\n",
      " 93  num_bc_tl                       0 non-null      float64\n",
      " 94  num_il_tl                       0 non-null      float64\n",
      " 95  num_op_rev_tl                   0 non-null      float64\n",
      " 96  num_rev_accts                   0 non-null      float64\n",
      " 97  num_rev_tl_bal_gt_0             0 non-null      float64\n",
      " 98  num_sats                        0 non-null      float64\n",
      " 99  num_tl_120dpd_2m                0 non-null      float64\n",
      " 100 num_tl_30dpd                    0 non-null      float64\n",
      " 101 num_tl_90g_dpd_24m              0 non-null      float64\n",
      " 102 num_tl_op_past_12m              0 non-null      float64\n",
      " 103 pct_tl_nvr_dlq                  0 non-null      float64\n",
      " 104 percent_bc_gt_75                0 non-null      float64\n",
      " 105 pub_rec_bankruptcies            39020 non-null  float64\n",
      " 106 tax_liens                       39678 non-null  float64\n",
      " 107 tot_hi_cred_lim                 0 non-null      float64\n",
      " 108 total_bal_ex_mort               0 non-null      float64\n",
      " 109 total_bc_limit                  0 non-null      float64\n",
      " 110 total_il_high_credit_limit      0 non-null      float64\n",
      "dtypes: float64(74), int64(13), object(24)\n",
      "memory usage: 33.6+ MB\n"
     ]
    }
   ],
   "source": [
    "save_df_info(loan_data);"
   ]
  },
  {
   "cell_type": "code",
   "execution_count": 37,
   "metadata": {},
   "outputs": [],
   "source": [
    "metdata_file = create_meta_data_file(loan_data, META_DAT_PATH)\n",
    "# create_meta_data_file(loan_data, META_DAT_PATH)"
   ]
  },
  {
   "cell_type": "code",
   "execution_count": 38,
   "metadata": {},
   "outputs": [
    {
     "ename": "AttributeError",
     "evalue": "Can only use .str accessor with string values!",
     "output_type": "error",
     "traceback": [
      "\u001b[0;31m---------------------------------------------------------------------------\u001b[0m",
      "\u001b[0;31mAttributeError\u001b[0m                            Traceback (most recent call last)",
      "\u001b[0;32m<ipython-input-38-1123856d02b4>\u001b[0m in \u001b[0;36m<module>\u001b[0;34m\u001b[0m\n\u001b[1;32m      1\u001b[0m \u001b[0mloan_metadata\u001b[0m \u001b[0;34m=\u001b[0m \u001b[0mpd\u001b[0m\u001b[0;34m.\u001b[0m\u001b[0mread_csv\u001b[0m\u001b[0;34m(\u001b[0m\u001b[0mmetdata_file\u001b[0m\u001b[0;34m)\u001b[0m\u001b[0;34m\u001b[0m\u001b[0;34m\u001b[0m\u001b[0m\n\u001b[1;32m      2\u001b[0m \u001b[0mloan_metadata\u001b[0m \u001b[0;34m=\u001b[0m \u001b[0mloan_metadata\u001b[0m\u001b[0;34m.\u001b[0m\u001b[0miloc\u001b[0m\u001b[0;34m[\u001b[0m\u001b[0;34m:\u001b[0m\u001b[0;34m,\u001b[0m\u001b[0;36m1\u001b[0m\u001b[0;34m:\u001b[0m\u001b[0;34m]\u001b[0m\u001b[0;34m\u001b[0m\u001b[0;34m\u001b[0m\u001b[0m\n\u001b[0;32m----> 3\u001b[0;31m \u001b[0mloan_metadata\u001b[0m\u001b[0;34m[\u001b[0m\u001b[0;34m'variable_name'\u001b[0m\u001b[0;34m]\u001b[0m \u001b[0;34m=\u001b[0m \u001b[0mloan_metadata\u001b[0m\u001b[0;34m[\u001b[0m\u001b[0;34m'variable_name'\u001b[0m\u001b[0;34m]\u001b[0m\u001b[0;34m.\u001b[0m\u001b[0mstr\u001b[0m\u001b[0;34m.\u001b[0m\u001b[0mstrip\u001b[0m\u001b[0;34m(\u001b[0m\u001b[0;34m)\u001b[0m\u001b[0;34m\u001b[0m\u001b[0;34m\u001b[0m\u001b[0m\n\u001b[0m\u001b[1;32m      4\u001b[0m \u001b[0mdata_dict\u001b[0m \u001b[0;34m=\u001b[0m \u001b[0mpd\u001b[0m\u001b[0;34m.\u001b[0m\u001b[0mread_excel\u001b[0m\u001b[0;34m(\u001b[0m\u001b[0mDAT_DICT\u001b[0m\u001b[0;34m)\u001b[0m\u001b[0;34m\u001b[0m\u001b[0;34m\u001b[0m\u001b[0m\n\u001b[1;32m      5\u001b[0m \u001b[0mdata_dict\u001b[0m\u001b[0;34m.\u001b[0m\u001b[0mrename\u001b[0m\u001b[0;34m(\u001b[0m\u001b[0mcolumns\u001b[0m\u001b[0;34m=\u001b[0m \u001b[0;34m{\u001b[0m\u001b[0;34m\"LoanStatNew\"\u001b[0m\u001b[0;34m:\u001b[0m\u001b[0;34m\"variable_name\"\u001b[0m\u001b[0;34m}\u001b[0m\u001b[0;34m,\u001b[0m \u001b[0minplace\u001b[0m\u001b[0;34m=\u001b[0m\u001b[0;32mTrue\u001b[0m\u001b[0;34m)\u001b[0m\u001b[0;34m\u001b[0m\u001b[0;34m\u001b[0m\u001b[0m\n",
      "\u001b[0;32m~/anaconda3/lib/python3.7/site-packages/pandas/core/generic.py\u001b[0m in \u001b[0;36m__getattr__\u001b[0;34m(self, name)\u001b[0m\n\u001b[1;32m   5268\u001b[0m             \u001b[0;32mor\u001b[0m \u001b[0mname\u001b[0m \u001b[0;32min\u001b[0m \u001b[0mself\u001b[0m\u001b[0;34m.\u001b[0m\u001b[0m_accessors\u001b[0m\u001b[0;34m\u001b[0m\u001b[0;34m\u001b[0m\u001b[0m\n\u001b[1;32m   5269\u001b[0m         ):\n\u001b[0;32m-> 5270\u001b[0;31m             \u001b[0;32mreturn\u001b[0m \u001b[0mobject\u001b[0m\u001b[0;34m.\u001b[0m\u001b[0m__getattribute__\u001b[0m\u001b[0;34m(\u001b[0m\u001b[0mself\u001b[0m\u001b[0;34m,\u001b[0m \u001b[0mname\u001b[0m\u001b[0;34m)\u001b[0m\u001b[0;34m\u001b[0m\u001b[0;34m\u001b[0m\u001b[0m\n\u001b[0m\u001b[1;32m   5271\u001b[0m         \u001b[0;32melse\u001b[0m\u001b[0;34m:\u001b[0m\u001b[0;34m\u001b[0m\u001b[0;34m\u001b[0m\u001b[0m\n\u001b[1;32m   5272\u001b[0m             \u001b[0;32mif\u001b[0m \u001b[0mself\u001b[0m\u001b[0;34m.\u001b[0m\u001b[0m_info_axis\u001b[0m\u001b[0;34m.\u001b[0m\u001b[0m_can_hold_identifiers_and_holds_name\u001b[0m\u001b[0;34m(\u001b[0m\u001b[0mname\u001b[0m\u001b[0;34m)\u001b[0m\u001b[0;34m:\u001b[0m\u001b[0;34m\u001b[0m\u001b[0;34m\u001b[0m\u001b[0m\n",
      "\u001b[0;32m~/anaconda3/lib/python3.7/site-packages/pandas/core/accessor.py\u001b[0m in \u001b[0;36m__get__\u001b[0;34m(self, obj, cls)\u001b[0m\n\u001b[1;32m    185\u001b[0m             \u001b[0;31m# we're accessing the attribute of the class, i.e., Dataset.geo\u001b[0m\u001b[0;34m\u001b[0m\u001b[0;34m\u001b[0m\u001b[0;34m\u001b[0m\u001b[0m\n\u001b[1;32m    186\u001b[0m             \u001b[0;32mreturn\u001b[0m \u001b[0mself\u001b[0m\u001b[0;34m.\u001b[0m\u001b[0m_accessor\u001b[0m\u001b[0;34m\u001b[0m\u001b[0;34m\u001b[0m\u001b[0m\n\u001b[0;32m--> 187\u001b[0;31m         \u001b[0maccessor_obj\u001b[0m \u001b[0;34m=\u001b[0m \u001b[0mself\u001b[0m\u001b[0;34m.\u001b[0m\u001b[0m_accessor\u001b[0m\u001b[0;34m(\u001b[0m\u001b[0mobj\u001b[0m\u001b[0;34m)\u001b[0m\u001b[0;34m\u001b[0m\u001b[0;34m\u001b[0m\u001b[0m\n\u001b[0m\u001b[1;32m    188\u001b[0m         \u001b[0;31m# Replace the property with the accessor object. Inspired by:\u001b[0m\u001b[0;34m\u001b[0m\u001b[0;34m\u001b[0m\u001b[0;34m\u001b[0m\u001b[0m\n\u001b[1;32m    189\u001b[0m         \u001b[0;31m# http://www.pydanny.com/cached-property.html\u001b[0m\u001b[0;34m\u001b[0m\u001b[0;34m\u001b[0m\u001b[0;34m\u001b[0m\u001b[0m\n",
      "\u001b[0;32m~/anaconda3/lib/python3.7/site-packages/pandas/core/strings.py\u001b[0m in \u001b[0;36m__init__\u001b[0;34m(self, data)\u001b[0m\n\u001b[1;32m   2039\u001b[0m \u001b[0;34m\u001b[0m\u001b[0m\n\u001b[1;32m   2040\u001b[0m     \u001b[0;32mdef\u001b[0m \u001b[0m__init__\u001b[0m\u001b[0;34m(\u001b[0m\u001b[0mself\u001b[0m\u001b[0;34m,\u001b[0m \u001b[0mdata\u001b[0m\u001b[0;34m)\u001b[0m\u001b[0;34m:\u001b[0m\u001b[0;34m\u001b[0m\u001b[0;34m\u001b[0m\u001b[0m\n\u001b[0;32m-> 2041\u001b[0;31m         \u001b[0mself\u001b[0m\u001b[0;34m.\u001b[0m\u001b[0m_inferred_dtype\u001b[0m \u001b[0;34m=\u001b[0m \u001b[0mself\u001b[0m\u001b[0;34m.\u001b[0m\u001b[0m_validate\u001b[0m\u001b[0;34m(\u001b[0m\u001b[0mdata\u001b[0m\u001b[0;34m)\u001b[0m\u001b[0;34m\u001b[0m\u001b[0;34m\u001b[0m\u001b[0m\n\u001b[0m\u001b[1;32m   2042\u001b[0m         \u001b[0mself\u001b[0m\u001b[0;34m.\u001b[0m\u001b[0m_is_categorical\u001b[0m \u001b[0;34m=\u001b[0m \u001b[0mis_categorical_dtype\u001b[0m\u001b[0;34m(\u001b[0m\u001b[0mdata\u001b[0m\u001b[0;34m)\u001b[0m\u001b[0;34m\u001b[0m\u001b[0;34m\u001b[0m\u001b[0m\n\u001b[1;32m   2043\u001b[0m         \u001b[0mself\u001b[0m\u001b[0;34m.\u001b[0m\u001b[0m_is_string\u001b[0m \u001b[0;34m=\u001b[0m \u001b[0mdata\u001b[0m\u001b[0;34m.\u001b[0m\u001b[0mdtype\u001b[0m\u001b[0;34m.\u001b[0m\u001b[0mname\u001b[0m \u001b[0;34m==\u001b[0m \u001b[0;34m\"string\"\u001b[0m\u001b[0;34m\u001b[0m\u001b[0;34m\u001b[0m\u001b[0m\n",
      "\u001b[0;32m~/anaconda3/lib/python3.7/site-packages/pandas/core/strings.py\u001b[0m in \u001b[0;36m_validate\u001b[0;34m(data)\u001b[0m\n\u001b[1;32m   2096\u001b[0m \u001b[0;34m\u001b[0m\u001b[0m\n\u001b[1;32m   2097\u001b[0m         \u001b[0;32mif\u001b[0m \u001b[0minferred_dtype\u001b[0m \u001b[0;32mnot\u001b[0m \u001b[0;32min\u001b[0m \u001b[0mallowed_types\u001b[0m\u001b[0;34m:\u001b[0m\u001b[0;34m\u001b[0m\u001b[0;34m\u001b[0m\u001b[0m\n\u001b[0;32m-> 2098\u001b[0;31m             \u001b[0;32mraise\u001b[0m \u001b[0mAttributeError\u001b[0m\u001b[0;34m(\u001b[0m\u001b[0;34m\"Can only use .str accessor with string values!\"\u001b[0m\u001b[0;34m)\u001b[0m\u001b[0;34m\u001b[0m\u001b[0;34m\u001b[0m\u001b[0m\n\u001b[0m\u001b[1;32m   2099\u001b[0m         \u001b[0;32mreturn\u001b[0m \u001b[0minferred_dtype\u001b[0m\u001b[0;34m\u001b[0m\u001b[0;34m\u001b[0m\u001b[0m\n\u001b[1;32m   2100\u001b[0m \u001b[0;34m\u001b[0m\u001b[0m\n",
      "\u001b[0;31mAttributeError\u001b[0m: Can only use .str accessor with string values!"
     ]
    }
   ],
   "source": [
    "loan_metadata = pd.read_csv(metdata_file)\n",
    "loan_metadata = loan_metadata.iloc[:,1:]\n",
    "loan_metadata['variable_name'] = loan_metadata['variable_name'].str.strip()\n",
    "data_dict = pd.read_excel(DAT_DICT)\n",
    "data_dict.rename(columns= {\"LoanStatNew\":\"variable_name\"}, inplace=True)\n",
    "loan_metadata.head()"
   ]
  },
  {
   "cell_type": "code",
   "execution_count": 913,
   "metadata": {},
   "outputs": [],
   "source": [
    "## merging data dictionary with the loan-metadata to generate the file with columns description, format,\n",
    "## null or non-null object information and missing percent\n",
    "\n",
    "data_dict.variable_name = data_dict.variable_name.str.strip()\n",
    "data_dict.dropna(axis='index', how='any', inplace=True)\n",
    "loan_metadata_with_desc = loan_metadata.merge(data_dict, on='variable_name', how='left')\n",
    "loan_metadata_with_desc.to_csv(META_DAT_CLEAN, index=False)"
   ]
  },
  {
   "cell_type": "code",
   "execution_count": 914,
   "metadata": {},
   "outputs": [],
   "source": [
    "## droping all the columns having missing percent greater than 90%\n",
    "missing_drop_filter = loan_metadata_with_desc['missing_percent'] > 90,'variable_name'\n",
    "drop_columns_list = loan_metadata_with_desc.loc[missing_drop_filter]\\\n",
    ".values.tolist()\n",
    "loan_data.drop(axis='columns',labels=drop_columns_list,inplace=True)\n",
    "\n",
    "## keeping only default=1 and non-default=0 observations only. Filtering all the observations where\n",
    "## loan status equals current\n",
    "loan_data = loan_data[(loan_data.loan_status=='Fully Paid') | (loan_data.loan_status=='Charged Off')]"
   ]
  },
  {
   "cell_type": "code",
   "execution_count": 915,
   "metadata": {},
   "outputs": [],
   "source": [
    "for col in loan_data.select_dtypes(include='object').columns:\n",
    "    loan_data[col] = loan_data[col].astype('category')\n"
   ]
  },
  {
   "cell_type": "code",
   "execution_count": 916,
   "metadata": {},
   "outputs": [],
   "source": [
    "##--------------------------Column Derivation"
   ]
  },
  {
   "cell_type": "code",
   "execution_count": null,
   "metadata": {},
   "outputs": [],
   "source": []
  },
  {
   "cell_type": "code",
   "execution_count": 923,
   "metadata": {},
   "outputs": [],
   "source": [
    "## deriving different columns \n",
    "loan_data['annual_inc_derv'] = round(loan_data.annual_inc/10**3,2)\n",
    "loan_data['int_rate_derv'] = loan_data['int_rate'].str.replace('%','').astype('float')\n",
    "loan_data['int_rate_amnt_derv'] = loan_data['int_rate_derv']*loan_data['loan_amnt']\n",
    "loan_data['loan_status_enc_derv']=loan_data.loan_status.cat.codes"
   ]
  },
  {
   "cell_type": "code",
   "execution_count": 924,
   "metadata": {},
   "outputs": [
    {
     "data": {
      "text/plain": [
       "(38577, 60)"
      ]
     },
     "execution_count": 924,
     "metadata": {},
     "output_type": "execute_result"
    }
   ],
   "source": [
    "loan_data.shape"
   ]
  },
  {
   "cell_type": "markdown",
   "metadata": {},
   "source": [
    "\n",
    "<h1> <u><center>Univariate Analysis</center></u> </h1>\n",
    "<p>Note: This section contains descriptive and visuals of univariate analysis</p>"
   ]
  },
  {
   "cell_type": "markdown",
   "metadata": {},
   "source": [
    "<h2> <u>Home Ownership Categorical variable analysis</u> </h2>"
   ]
  },
  {
   "cell_type": "code",
   "execution_count": 964,
   "metadata": {},
   "outputs": [
    {
     "data": {
      "image/png": "[encoded data removed]",
      "text/plain": [
       "<Figure size 864x432 with 1 Axes>"
      ]
     },
     "metadata": {
      "needs_background": "light"
     },
     "output_type": "display_data"
    }
   ],
   "source": [
    "## create layout\n",
    "fig_ho_1, ax_ho_1 = plt.subplots(figsize=ASP_RATIO)\n",
    "\n",
    "## configure plot\n",
    "label_ho_1 = {'plot_title': 'SUMMARY STATS BY HOME_OWNERSHIP',\n",
    "            'pad':18,\n",
    "            'x_label':'HOME OWNERSHIP',\n",
    "            'y_label':'SUMMARY STATS',\n",
    "            'ax_fontsize':14,\n",
    "            't_fontsize':18,\n",
    "            'labelpad':20,\n",
    "            'labelsize':12,\n",
    "            'ax_obj':ax_ho_1\n",
    "           }\n",
    "\n",
    "## plot on the created layout\n",
    "loan_data.\\\n",
    "groupby('home_ownership')['funded_amnt_inv','int_rate_amnt_derv']\\\n",
    ".describe()['int_rate_amnt_derv'].plot.bar(ax=ax_ho_1);\n",
    "\n",
    "\n",
    "## label plot\n",
    "label_plot(**label_ho_1)\n",
    "\n",
    "plt.grid();"
   ]
  },
  {
   "cell_type": "code",
   "execution_count": 858,
   "metadata": {},
   "outputs": [
    {
     "data": {
      "text/html": [
       "<div>\n",
       "<style scoped>\n",
       "    .dataframe tbody tr th:only-of-type {\n",
       "        vertical-align: middle;\n",
       "    }\n",
       "\n",
       "    .dataframe tbody tr th {\n",
       "        vertical-align: top;\n",
       "    }\n",
       "\n",
       "    .dataframe thead th {\n",
       "        text-align: right;\n",
       "    }\n",
       "</style>\n",
       "<table border=\"1\" class=\"dataframe\">\n",
       "  <thead>\n",
       "    <tr style=\"text-align: right;\">\n",
       "      <th>loan_status_enc_derv</th>\n",
       "      <th>avg_defaulter_row%</th>\n",
       "      <th>avg_non_defaulter_row%</th>\n",
       "      <th>avg_defaulter_diff_row%</th>\n",
       "      <th>avg_defaulter_col%</th>\n",
       "      <th>avg_non_defaulter_col%</th>\n",
       "      <th>avg_defaulter_diff_col%</th>\n",
       "    </tr>\n",
       "    <tr>\n",
       "      <th>home_ownership</th>\n",
       "      <th></th>\n",
       "      <th></th>\n",
       "      <th></th>\n",
       "      <th></th>\n",
       "      <th></th>\n",
       "      <th></th>\n",
       "    </tr>\n",
       "  </thead>\n",
       "  <tbody>\n",
       "    <tr>\n",
       "      <th>MORTGAGE</th>\n",
       "      <td>13.67</td>\n",
       "      <td>86.33</td>\n",
       "      <td>13.67</td>\n",
       "      <td>41.35</td>\n",
       "      <td>44.59</td>\n",
       "      <td>41.35</td>\n",
       "    </tr>\n",
       "    <tr>\n",
       "      <th>NONE</th>\n",
       "      <td>0.00</td>\n",
       "      <td>100.00</td>\n",
       "      <td>0.00</td>\n",
       "      <td>0.00</td>\n",
       "      <td>0.01</td>\n",
       "      <td>0.00</td>\n",
       "    </tr>\n",
       "    <tr>\n",
       "      <th>OTHER</th>\n",
       "      <td>18.37</td>\n",
       "      <td>81.63</td>\n",
       "      <td>18.37</td>\n",
       "      <td>0.32</td>\n",
       "      <td>0.24</td>\n",
       "      <td>0.32</td>\n",
       "    </tr>\n",
       "    <tr>\n",
       "      <th>OWN</th>\n",
       "      <td>14.89</td>\n",
       "      <td>85.11</td>\n",
       "      <td>14.89</td>\n",
       "      <td>7.87</td>\n",
       "      <td>7.68</td>\n",
       "      <td>7.87</td>\n",
       "    </tr>\n",
       "    <tr>\n",
       "      <th>RENT</th>\n",
       "      <td>15.36</td>\n",
       "      <td>84.64</td>\n",
       "      <td>15.36</td>\n",
       "      <td>50.45</td>\n",
       "      <td>47.47</td>\n",
       "      <td>50.45</td>\n",
       "    </tr>\n",
       "  </tbody>\n",
       "</table>\n",
       "</div>"
      ],
      "text/plain": [
       "loan_status_enc_derv  avg_defaulter_row%  avg_non_defaulter_row%  \\\n",
       "home_ownership                                                     \n",
       "MORTGAGE                           13.67                   86.33   \n",
       "NONE                                0.00                  100.00   \n",
       "OTHER                              18.37                   81.63   \n",
       "OWN                                14.89                   85.11   \n",
       "RENT                               15.36                   84.64   \n",
       "\n",
       "loan_status_enc_derv  avg_defaulter_diff_row%  avg_defaulter_col%  \\\n",
       "home_ownership                                                      \n",
       "MORTGAGE                                13.67               41.35   \n",
       "NONE                                     0.00                0.00   \n",
       "OTHER                                   18.37                0.32   \n",
       "OWN                                     14.89                7.87   \n",
       "RENT                                    15.36               50.45   \n",
       "\n",
       "loan_status_enc_derv  avg_non_defaulter_col%  avg_defaulter_diff_col%  \n",
       "home_ownership                                                         \n",
       "MORTGAGE                               44.59                    41.35  \n",
       "NONE                                    0.01                     0.00  \n",
       "OTHER                                   0.24                     0.32  \n",
       "OWN                                     7.68                     7.87  \n",
       "RENT                                   47.47                    50.45  "
      ]
     },
     "execution_count": 858,
     "metadata": {},
     "output_type": "execute_result"
    }
   ],
   "source": [
    "generate_crosstab_summary(loan_data,'home_ownership','loan_status_enc_derv')"
   ]
  },
  {
   "cell_type": "code",
   "execution_count": 954,
   "metadata": {},
   "outputs": [
    {
     "data": {
      "text/plain": [
       "0    RENT\n",
       "Name: home_ownership, dtype: category\n",
       "Categories (5, object): [MORTGAGE, NONE, OTHER, OWN, RENT]"
      ]
     },
     "execution_count": 954,
     "metadata": {},
     "output_type": "execute_result"
    }
   ],
   "source": [
    "loan_data.home_ownership.mode()"
   ]
  },
  {
   "cell_type": "code",
   "execution_count": 955,
   "metadata": {},
   "outputs": [
    {
     "data": {
      "text/plain": [
       "RENT        18480\n",
       "MORTGAGE    17021\n",
       "OWN          2975\n",
       "OTHER          98\n",
       "NONE            3\n",
       "Name: home_ownership, dtype: int64"
      ]
     },
     "execution_count": 955,
     "metadata": {},
     "output_type": "execute_result"
    }
   ],
   "source": [
    "loan_data.home_ownership.value_counts()"
   ]
  },
  {
   "cell_type": "code",
   "execution_count": 969,
   "metadata": {},
   "outputs": [
    {
     "data": {
      "image/png": "[encoded data removed]",
      "text/plain": [
       "<Figure size 864x432 with 1 Axes>"
      ]
     },
     "metadata": {
      "needs_background": "light"
     },
     "output_type": "display_data"
    }
   ],
   "source": [
    "## create layout\n",
    "fig_ho_2, ax_ho_2 = plt.subplots(figsize=ASP_RATIO)\n",
    "\n",
    "## configure plot\n",
    "label_ho_2 = {'plot_title': 'HOME_OWNERSHIP FREQUENCY DISTRIBUTION',\n",
    "            'pad':18,\n",
    "            'x_label':'HOME OWNERSHIP',\n",
    "            'y_label':'FREQUENCY',\n",
    "            'ax_fontsize':14,\n",
    "            't_fontsize':18,\n",
    "            'labelpad':20,\n",
    "            'labelsize':12,\n",
    "            'ax_obj':ax_ho_2\n",
    "           }\n",
    "\n",
    "\n",
    "## plot frequency home_ownership distribution\n",
    "loan_data.home_ownership.value_counts().plot(kind='bar', ax=ax_ho_2);\n",
    "label_plot(**label_ho_2)\n",
    "\n",
    "plt.grid()"
   ]
  },
  {
   "cell_type": "code",
   "execution_count": 970,
   "metadata": {},
   "outputs": [
    {
     "data": {
      "text/html": [
       "<div>\n",
       "<style scoped>\n",
       "    .dataframe tbody tr th:only-of-type {\n",
       "        vertical-align: middle;\n",
       "    }\n",
       "\n",
       "    .dataframe tbody tr th {\n",
       "        vertical-align: top;\n",
       "    }\n",
       "\n",
       "    .dataframe thead th {\n",
       "        text-align: right;\n",
       "    }\n",
       "</style>\n",
       "<table border=\"1\" class=\"dataframe\">\n",
       "  <thead>\n",
       "    <tr style=\"text-align: right;\">\n",
       "      <th></th>\n",
       "      <th>counts</th>\n",
       "      <th>rank</th>\n",
       "    </tr>\n",
       "  </thead>\n",
       "  <tbody>\n",
       "    <tr>\n",
       "      <th>RENT</th>\n",
       "      <td>18480</td>\n",
       "      <td>1.0</td>\n",
       "    </tr>\n",
       "    <tr>\n",
       "      <th>MORTGAGE</th>\n",
       "      <td>17021</td>\n",
       "      <td>2.0</td>\n",
       "    </tr>\n",
       "    <tr>\n",
       "      <th>OWN</th>\n",
       "      <td>2975</td>\n",
       "      <td>3.0</td>\n",
       "    </tr>\n",
       "    <tr>\n",
       "      <th>OTHER</th>\n",
       "      <td>98</td>\n",
       "      <td>4.0</td>\n",
       "    </tr>\n",
       "    <tr>\n",
       "      <th>NONE</th>\n",
       "      <td>3</td>\n",
       "      <td>5.0</td>\n",
       "    </tr>\n",
       "  </tbody>\n",
       "</table>\n",
       "</div>"
      ],
      "text/plain": [
       "          counts  rank\n",
       "RENT       18480   1.0\n",
       "MORTGAGE   17021   2.0\n",
       "OWN         2975   3.0\n",
       "OTHER         98   4.0\n",
       "NONE           3   5.0"
      ]
     },
     "execution_count": 970,
     "metadata": {},
     "output_type": "execute_result"
    }
   ],
   "source": [
    "home_ownership_ = pd.DataFrame(loan_data.home_ownership.value_counts())\n",
    "home_ownership_['rank']= home_ownership_.rank(method='first', ascending=False)\n",
    "home_ownership_.rename(columns={'home_ownership':'counts'}, inplace=True)\n",
    "home_ownership_.head(10)"
   ]
  },
  {
   "cell_type": "code",
   "execution_count": 994,
   "metadata": {},
   "outputs": [
    {
     "data": {
      "image/png": "[encoded data removed]",
      "text/plain": [
       "<Figure size 864x432 with 1 Axes>"
      ]
     },
     "metadata": {
      "needs_background": "light"
     },
     "output_type": "display_data"
    }
   ],
   "source": [
    "## Rank and frequency distribution plot\n",
    "fig_ho_3, ax_ho_3 = plt.subplots(figsize=ASP_RATIO)\n",
    "\n",
    "home_ownership_[['rank','counts']].plot(kind='scatter',x='rank',y='counts', ax=ax_ho_3)\n",
    "label_ho_3 = {'plot_title': 'HOME OWNERSHIP RANK FREQUENCY DISTRIBUTION',\n",
    "            'pad':18,\n",
    "            'x_label':'HOME OWNERSHIP RANK',\n",
    "            'y_label':'FREQUENCY',\n",
    "            'ax_fontsize':14,\n",
    "            't_fontsize':18,\n",
    "            'labelpad':20,\n",
    "            'labelsize':12,\n",
    "#             'x_scale':'linear',\n",
    "#             'y_scale':'log',\n",
    "            'ax_obj':ax_ho_3\n",
    "           }\n",
    "configure_plot(**label_ho_3)\n",
    "plt.grid()"
   ]
  },
  {
   "cell_type": "markdown",
   "metadata": {},
   "source": [
    "<h2> <u>Employee Title variable analysis</u> </h2>"
   ]
  },
  {
   "cell_type": "code",
   "execution_count": 172,
   "metadata": {},
   "outputs": [
    {
     "data": {
      "text/html": [
       "<div>\n",
       "<style scoped>\n",
       "    .dataframe tbody tr th:only-of-type {\n",
       "        vertical-align: middle;\n",
       "    }\n",
       "\n",
       "    .dataframe tbody tr th {\n",
       "        vertical-align: top;\n",
       "    }\n",
       "\n",
       "    .dataframe thead th {\n",
       "        text-align: right;\n",
       "    }\n",
       "</style>\n",
       "<table border=\"1\" class=\"dataframe\">\n",
       "  <thead>\n",
       "    <tr style=\"text-align: right;\">\n",
       "      <th></th>\n",
       "      <th>counts</th>\n",
       "      <th>rank</th>\n",
       "    </tr>\n",
       "  </thead>\n",
       "  <tbody>\n",
       "    <tr>\n",
       "      <th>US Army</th>\n",
       "      <td>131</td>\n",
       "      <td>1.0</td>\n",
       "    </tr>\n",
       "    <tr>\n",
       "      <th>Bank of America</th>\n",
       "      <td>107</td>\n",
       "      <td>2.0</td>\n",
       "    </tr>\n",
       "    <tr>\n",
       "      <th>IBM</th>\n",
       "      <td>65</td>\n",
       "      <td>3.0</td>\n",
       "    </tr>\n",
       "    <tr>\n",
       "      <th>AT&amp;T</th>\n",
       "      <td>57</td>\n",
       "      <td>4.0</td>\n",
       "    </tr>\n",
       "    <tr>\n",
       "      <th>Kaiser Permanente</th>\n",
       "      <td>56</td>\n",
       "      <td>5.0</td>\n",
       "    </tr>\n",
       "    <tr>\n",
       "      <th>Wells Fargo</th>\n",
       "      <td>52</td>\n",
       "      <td>6.0</td>\n",
       "    </tr>\n",
       "    <tr>\n",
       "      <th>UPS</th>\n",
       "      <td>52</td>\n",
       "      <td>7.0</td>\n",
       "    </tr>\n",
       "    <tr>\n",
       "      <th>USAF</th>\n",
       "      <td>52</td>\n",
       "      <td>8.0</td>\n",
       "    </tr>\n",
       "    <tr>\n",
       "      <th>US Air Force</th>\n",
       "      <td>51</td>\n",
       "      <td>9.0</td>\n",
       "    </tr>\n",
       "    <tr>\n",
       "      <th>Walmart</th>\n",
       "      <td>45</td>\n",
       "      <td>10.0</td>\n",
       "    </tr>\n",
       "  </tbody>\n",
       "</table>\n",
       "</div>"
      ],
      "text/plain": [
       "                   counts  rank\n",
       "US Army               131   1.0\n",
       "Bank of America       107   2.0\n",
       "IBM                    65   3.0\n",
       "AT&T                   57   4.0\n",
       "Kaiser Permanente      56   5.0\n",
       "Wells Fargo            52   6.0\n",
       "UPS                    52   7.0\n",
       "USAF                   52   8.0\n",
       "US Air Force           51   9.0\n",
       "Walmart                45  10.0"
      ]
     },
     "execution_count": 172,
     "metadata": {},
     "output_type": "execute_result"
    }
   ],
   "source": [
    "emp_title_ = pd.DataFrame(loan_data.emp_title.value_counts())\n",
    "emp_title_['rank']= emp_title_.rank(method='first', ascending=False)\n",
    "emp_title_.rename(columns={'emp_title':'counts'}, inplace=True)\n",
    "emp_title_.head(10)"
   ]
  },
  {
   "cell_type": "code",
   "execution_count": 173,
   "metadata": {},
   "outputs": [
    {
     "data": {
      "image/png": "[encoded data removed]",
      "text/plain": [
       "<Figure size 864x432 with 1 Axes>"
      ]
     },
     "metadata": {
      "needs_background": "light"
     },
     "output_type": "display_data"
    }
   ],
   "source": [
    "## Rank and frequency distribution plot\n",
    "fig = plt.figure(figsize=ASP_RATIO)\n",
    "plt.grid()\n",
    "plt.xscale('log')\n",
    "plt.yscale('log')\n",
    "plt.scatter(emp_title_['rank'],emp_title_['counts']);"
   ]
  },
  {
   "cell_type": "code",
   "execution_count": 999,
   "metadata": {},
   "outputs": [
    {
     "data": {
      "image/png": "[encoded data removed]",
      "text/plain": [
       "<Figure size 432x288 with 1 Axes>"
      ]
     },
     "metadata": {
      "needs_background": "light"
     },
     "output_type": "display_data"
    }
   ],
   "source": [
    "loan_data.emp_title.value_counts().plot.hist();"
   ]
  },
  {
   "cell_type": "code",
   "execution_count": 1005,
   "metadata": {},
   "outputs": [],
   "source": [
    "top_40_title = loan_data.emp_title.value_counts().sort_values(ascending=False)[:40].index.to_list()"
   ]
  },
  {
   "cell_type": "code",
   "execution_count": 998,
   "metadata": {},
   "outputs": [
    {
     "data": {
      "image/png": "[encoded data removed]",
      "text/plain": [
       "<Figure size 864x432 with 1 Axes>"
      ]
     },
     "metadata": {
      "needs_background": "light"
     },
     "output_type": "display_data"
    }
   ],
   "source": [
    "loan_data.emp_title.value_counts()[:40].plot.bar(figsize=ASP_RATIO);\n",
    "plt.grid()"
   ]
  },
  {
   "cell_type": "code",
   "execution_count": 1018,
   "metadata": {},
   "outputs": [
    {
     "data": {
      "text/html": [
       "<div>\n",
       "<style scoped>\n",
       "    .dataframe tbody tr th:only-of-type {\n",
       "        vertical-align: middle;\n",
       "    }\n",
       "\n",
       "    .dataframe tbody tr th {\n",
       "        vertical-align: top;\n",
       "    }\n",
       "\n",
       "    .dataframe thead th {\n",
       "        text-align: right;\n",
       "    }\n",
       "</style>\n",
       "<table border=\"1\" class=\"dataframe\">\n",
       "  <thead>\n",
       "    <tr style=\"text-align: right;\">\n",
       "      <th></th>\n",
       "      <th>emp_title</th>\n",
       "      <th>funded_amnt_inv</th>\n",
       "    </tr>\n",
       "  </thead>\n",
       "  <tbody>\n",
       "    <tr>\n",
       "      <th>13</th>\n",
       "      <td>Target</td>\n",
       "      <td>3000.000000</td>\n",
       "    </tr>\n",
       "    <tr>\n",
       "      <th>23</th>\n",
       "      <td>Wells Fargo Bank</td>\n",
       "      <td>10000.000000</td>\n",
       "    </tr>\n",
       "    <tr>\n",
       "      <th>85</th>\n",
       "      <td>Kaiser Permanente</td>\n",
       "      <td>9200.000000</td>\n",
       "    </tr>\n",
       "    <tr>\n",
       "      <th>125</th>\n",
       "      <td>United States Air Force</td>\n",
       "      <td>18000.000000</td>\n",
       "    </tr>\n",
       "    <tr>\n",
       "      <th>130</th>\n",
       "      <td>Best Buy</td>\n",
       "      <td>7000.000000</td>\n",
       "    </tr>\n",
       "    <tr>\n",
       "      <th>149</th>\n",
       "      <td>Best Buy</td>\n",
       "      <td>8425.000000</td>\n",
       "    </tr>\n",
       "    <tr>\n",
       "      <th>160</th>\n",
       "      <td>US Army</td>\n",
       "      <td>8150.000000</td>\n",
       "    </tr>\n",
       "    <tr>\n",
       "      <th>194</th>\n",
       "      <td>US Air Force</td>\n",
       "      <td>14000.000000</td>\n",
       "    </tr>\n",
       "    <tr>\n",
       "      <th>196</th>\n",
       "      <td>UPS</td>\n",
       "      <td>25000.000000</td>\n",
       "    </tr>\n",
       "    <tr>\n",
       "      <th>250</th>\n",
       "      <td>IBM</td>\n",
       "      <td>4000.000000</td>\n",
       "    </tr>\n",
       "    <tr>\n",
       "      <th>277</th>\n",
       "      <td>Accenture</td>\n",
       "      <td>17950.000000</td>\n",
       "    </tr>\n",
       "    <tr>\n",
       "      <th>347</th>\n",
       "      <td>US Army</td>\n",
       "      <td>11368.734460</td>\n",
       "    </tr>\n",
       "    <tr>\n",
       "      <th>353</th>\n",
       "      <td>United States Air Force</td>\n",
       "      <td>4800.000000</td>\n",
       "    </tr>\n",
       "    <tr>\n",
       "      <th>387</th>\n",
       "      <td>United States Air Force</td>\n",
       "      <td>26043.432490</td>\n",
       "    </tr>\n",
       "    <tr>\n",
       "      <th>388</th>\n",
       "      <td>Fidelity Investments</td>\n",
       "      <td>6000.000000</td>\n",
       "    </tr>\n",
       "    <tr>\n",
       "      <th>408</th>\n",
       "      <td>Department of Defense</td>\n",
       "      <td>23000.000000</td>\n",
       "    </tr>\n",
       "    <tr>\n",
       "      <th>425</th>\n",
       "      <td>JP Morgan Chase</td>\n",
       "      <td>14248.306820</td>\n",
       "    </tr>\n",
       "    <tr>\n",
       "      <th>435</th>\n",
       "      <td>US Postal Service</td>\n",
       "      <td>19523.207740</td>\n",
       "    </tr>\n",
       "    <tr>\n",
       "      <th>469</th>\n",
       "      <td>US Air Force</td>\n",
       "      <td>4500.000000</td>\n",
       "    </tr>\n",
       "    <tr>\n",
       "      <th>482</th>\n",
       "      <td>Bank of America</td>\n",
       "      <td>7200.000000</td>\n",
       "    </tr>\n",
       "    <tr>\n",
       "      <th>503</th>\n",
       "      <td>US Postal Service</td>\n",
       "      <td>9500.000000</td>\n",
       "    </tr>\n",
       "    <tr>\n",
       "      <th>504</th>\n",
       "      <td>Bank of America</td>\n",
       "      <td>19775.000000</td>\n",
       "    </tr>\n",
       "    <tr>\n",
       "      <th>524</th>\n",
       "      <td>Kaiser Permanente</td>\n",
       "      <td>11975.000000</td>\n",
       "    </tr>\n",
       "    <tr>\n",
       "      <th>538</th>\n",
       "      <td>IBM</td>\n",
       "      <td>7000.000000</td>\n",
       "    </tr>\n",
       "    <tr>\n",
       "      <th>546</th>\n",
       "      <td>Department of Defense</td>\n",
       "      <td>23975.000000</td>\n",
       "    </tr>\n",
       "    <tr>\n",
       "      <th>567</th>\n",
       "      <td>Comcast</td>\n",
       "      <td>2000.000000</td>\n",
       "    </tr>\n",
       "    <tr>\n",
       "      <th>584</th>\n",
       "      <td>JPMorgan Chase</td>\n",
       "      <td>5000.000000</td>\n",
       "    </tr>\n",
       "    <tr>\n",
       "      <th>590</th>\n",
       "      <td>Target</td>\n",
       "      <td>2400.000000</td>\n",
       "    </tr>\n",
       "    <tr>\n",
       "      <th>636</th>\n",
       "      <td>US Navy</td>\n",
       "      <td>10000.000000</td>\n",
       "    </tr>\n",
       "    <tr>\n",
       "      <th>670</th>\n",
       "      <td>U.S. Army</td>\n",
       "      <td>16050.000000</td>\n",
       "    </tr>\n",
       "    <tr>\n",
       "      <th>...</th>\n",
       "      <td>...</td>\n",
       "      <td>...</td>\n",
       "    </tr>\n",
       "    <tr>\n",
       "      <th>38888</th>\n",
       "      <td>UPS</td>\n",
       "      <td>4900.000000</td>\n",
       "    </tr>\n",
       "    <tr>\n",
       "      <th>38897</th>\n",
       "      <td>Self Employed</td>\n",
       "      <td>1684.110000</td>\n",
       "    </tr>\n",
       "    <tr>\n",
       "      <th>38967</th>\n",
       "      <td>Northrop Grumman</td>\n",
       "      <td>7657.040000</td>\n",
       "    </tr>\n",
       "    <tr>\n",
       "      <th>39000</th>\n",
       "      <td>US Army</td>\n",
       "      <td>9019.298386</td>\n",
       "    </tr>\n",
       "    <tr>\n",
       "      <th>39002</th>\n",
       "      <td>Kaiser Permanente</td>\n",
       "      <td>9375.000000</td>\n",
       "    </tr>\n",
       "    <tr>\n",
       "      <th>39015</th>\n",
       "      <td>Self Employed</td>\n",
       "      <td>3250.000000</td>\n",
       "    </tr>\n",
       "    <tr>\n",
       "      <th>39039</th>\n",
       "      <td>Self Employed</td>\n",
       "      <td>7625.000000</td>\n",
       "    </tr>\n",
       "    <tr>\n",
       "      <th>39072</th>\n",
       "      <td>Accenture</td>\n",
       "      <td>5397.260000</td>\n",
       "    </tr>\n",
       "    <tr>\n",
       "      <th>39125</th>\n",
       "      <td>Self Employed</td>\n",
       "      <td>4650.000000</td>\n",
       "    </tr>\n",
       "    <tr>\n",
       "      <th>39137</th>\n",
       "      <td>State of California</td>\n",
       "      <td>2875.000000</td>\n",
       "    </tr>\n",
       "    <tr>\n",
       "      <th>39152</th>\n",
       "      <td>Home Depot</td>\n",
       "      <td>2725.000000</td>\n",
       "    </tr>\n",
       "    <tr>\n",
       "      <th>39159</th>\n",
       "      <td>Self Employed</td>\n",
       "      <td>2674.990776</td>\n",
       "    </tr>\n",
       "    <tr>\n",
       "      <th>39203</th>\n",
       "      <td>Comcast</td>\n",
       "      <td>2675.000000</td>\n",
       "    </tr>\n",
       "    <tr>\n",
       "      <th>39282</th>\n",
       "      <td>US Army</td>\n",
       "      <td>6325.000000</td>\n",
       "    </tr>\n",
       "    <tr>\n",
       "      <th>39304</th>\n",
       "      <td>Kaiser Permanente</td>\n",
       "      <td>2428.490000</td>\n",
       "    </tr>\n",
       "    <tr>\n",
       "      <th>39359</th>\n",
       "      <td>Self</td>\n",
       "      <td>1394.510000</td>\n",
       "    </tr>\n",
       "    <tr>\n",
       "      <th>39366</th>\n",
       "      <td>Verizon</td>\n",
       "      <td>3952.570000</td>\n",
       "    </tr>\n",
       "    <tr>\n",
       "      <th>39386</th>\n",
       "      <td>United Parcel Service</td>\n",
       "      <td>7099.995366</td>\n",
       "    </tr>\n",
       "    <tr>\n",
       "      <th>39446</th>\n",
       "      <td>US ARMY</td>\n",
       "      <td>1129.090000</td>\n",
       "    </tr>\n",
       "    <tr>\n",
       "      <th>39453</th>\n",
       "      <td>Self</td>\n",
       "      <td>672.970000</td>\n",
       "    </tr>\n",
       "    <tr>\n",
       "      <th>39454</th>\n",
       "      <td>Self Employed</td>\n",
       "      <td>814.610000</td>\n",
       "    </tr>\n",
       "    <tr>\n",
       "      <th>39456</th>\n",
       "      <td>United States Air Force</td>\n",
       "      <td>750.000000</td>\n",
       "    </tr>\n",
       "    <tr>\n",
       "      <th>39463</th>\n",
       "      <td>United States Air Force</td>\n",
       "      <td>780.460000</td>\n",
       "    </tr>\n",
       "    <tr>\n",
       "      <th>39464</th>\n",
       "      <td>US Air Force</td>\n",
       "      <td>225.000000</td>\n",
       "    </tr>\n",
       "    <tr>\n",
       "      <th>39497</th>\n",
       "      <td>US Army</td>\n",
       "      <td>184.720000</td>\n",
       "    </tr>\n",
       "    <tr>\n",
       "      <th>39500</th>\n",
       "      <td>Walmart</td>\n",
       "      <td>124.994746</td>\n",
       "    </tr>\n",
       "    <tr>\n",
       "      <th>39529</th>\n",
       "      <td>Self Employed</td>\n",
       "      <td>325.000000</td>\n",
       "    </tr>\n",
       "    <tr>\n",
       "      <th>39541</th>\n",
       "      <td>Fidelity Investments</td>\n",
       "      <td>675.000000</td>\n",
       "    </tr>\n",
       "    <tr>\n",
       "      <th>39615</th>\n",
       "      <td>Bank of America</td>\n",
       "      <td>850.000000</td>\n",
       "    </tr>\n",
       "    <tr>\n",
       "      <th>39679</th>\n",
       "      <td>Verizon</td>\n",
       "      <td>3500.000000</td>\n",
       "    </tr>\n",
       "  </tbody>\n",
       "</table>\n",
       "<p>1664 rows × 2 columns</p>\n",
       "</div>"
      ],
      "text/plain": [
       "                     emp_title  funded_amnt_inv\n",
       "13                      Target      3000.000000\n",
       "23            Wells Fargo Bank     10000.000000\n",
       "85           Kaiser Permanente      9200.000000\n",
       "125    United States Air Force     18000.000000\n",
       "130                   Best Buy      7000.000000\n",
       "149                   Best Buy      8425.000000\n",
       "160                    US Army      8150.000000\n",
       "194               US Air Force     14000.000000\n",
       "196                        UPS     25000.000000\n",
       "250                        IBM      4000.000000\n",
       "277                  Accenture     17950.000000\n",
       "347                    US Army     11368.734460\n",
       "353    United States Air Force      4800.000000\n",
       "387    United States Air Force     26043.432490\n",
       "388       Fidelity Investments      6000.000000\n",
       "408      Department of Defense     23000.000000\n",
       "425            JP Morgan Chase     14248.306820\n",
       "435          US Postal Service     19523.207740\n",
       "469               US Air Force      4500.000000\n",
       "482            Bank of America      7200.000000\n",
       "503          US Postal Service      9500.000000\n",
       "504            Bank of America     19775.000000\n",
       "524          Kaiser Permanente     11975.000000\n",
       "538                        IBM      7000.000000\n",
       "546      Department of Defense     23975.000000\n",
       "567                    Comcast      2000.000000\n",
       "584             JPMorgan Chase      5000.000000\n",
       "590                     Target      2400.000000\n",
       "636                    US Navy     10000.000000\n",
       "670                  U.S. Army     16050.000000\n",
       "...                        ...              ...\n",
       "38888                      UPS      4900.000000\n",
       "38897            Self Employed      1684.110000\n",
       "38967         Northrop Grumman      7657.040000\n",
       "39000                  US Army      9019.298386\n",
       "39002        Kaiser Permanente      9375.000000\n",
       "39015            Self Employed      3250.000000\n",
       "39039            Self Employed      7625.000000\n",
       "39072                Accenture      5397.260000\n",
       "39125            Self Employed      4650.000000\n",
       "39137      State of California      2875.000000\n",
       "39152               Home Depot      2725.000000\n",
       "39159            Self Employed      2674.990776\n",
       "39203                  Comcast      2675.000000\n",
       "39282                  US Army      6325.000000\n",
       "39304        Kaiser Permanente      2428.490000\n",
       "39359                     Self      1394.510000\n",
       "39366                  Verizon      3952.570000\n",
       "39386    United Parcel Service      7099.995366\n",
       "39446                  US ARMY      1129.090000\n",
       "39453                     Self       672.970000\n",
       "39454            Self Employed       814.610000\n",
       "39456  United States Air Force       750.000000\n",
       "39463  United States Air Force       780.460000\n",
       "39464             US Air Force       225.000000\n",
       "39497                  US Army       184.720000\n",
       "39500                  Walmart       124.994746\n",
       "39529            Self Employed       325.000000\n",
       "39541     Fidelity Investments       675.000000\n",
       "39615          Bank of America       850.000000\n",
       "39679                  Verizon      3500.000000\n",
       "\n",
       "[1664 rows x 2 columns]"
      ]
     },
     "execution_count": 1018,
     "metadata": {},
     "output_type": "execute_result"
    }
   ],
   "source": [
    "loan_data.loc[loan_data.emp_title.isin(top_40_title),['emp_title','funded_amnt_inv']]"
   ]
  },
  {
   "cell_type": "code",
   "execution_count": 1006,
   "metadata": {},
   "outputs": [
    {
     "data": {
      "text/html": [
       "<div>\n",
       "<style scoped>\n",
       "    .dataframe tbody tr th:only-of-type {\n",
       "        vertical-align: middle;\n",
       "    }\n",
       "\n",
       "    .dataframe tbody tr th {\n",
       "        vertical-align: top;\n",
       "    }\n",
       "\n",
       "    .dataframe thead th {\n",
       "        text-align: right;\n",
       "    }\n",
       "</style>\n",
       "<table border=\"1\" class=\"dataframe\">\n",
       "  <thead>\n",
       "    <tr style=\"text-align: right;\">\n",
       "      <th>loan_status_enc_derv</th>\n",
       "      <th>avg_defaulter_row%</th>\n",
       "      <th>avg_non_defaulter_row%</th>\n",
       "      <th>avg_defaulter_diff_row%</th>\n",
       "      <th>avg_defaulter_col%</th>\n",
       "      <th>avg_non_defaulter_col%</th>\n",
       "      <th>avg_defaulter_diff_col%</th>\n",
       "    </tr>\n",
       "    <tr>\n",
       "      <th>emp_title</th>\n",
       "      <th></th>\n",
       "      <th></th>\n",
       "      <th></th>\n",
       "      <th></th>\n",
       "      <th></th>\n",
       "      <th></th>\n",
       "    </tr>\n",
       "  </thead>\n",
       "  <tbody>\n",
       "    <tr>\n",
       "      <th>AT&amp;T</th>\n",
       "      <td>21.05</td>\n",
       "      <td>78.95</td>\n",
       "      <td>21.05</td>\n",
       "      <td>5.29</td>\n",
       "      <td>3.13</td>\n",
       "      <td>5.29</td>\n",
       "    </tr>\n",
       "    <tr>\n",
       "      <th>Accenture</th>\n",
       "      <td>0.00</td>\n",
       "      <td>100.00</td>\n",
       "      <td>0.00</td>\n",
       "      <td>0.00</td>\n",
       "      <td>2.09</td>\n",
       "      <td>0.00</td>\n",
       "    </tr>\n",
       "    <tr>\n",
       "      <th>Bank of America</th>\n",
       "      <td>18.69</td>\n",
       "      <td>81.31</td>\n",
       "      <td>18.69</td>\n",
       "      <td>8.81</td>\n",
       "      <td>6.05</td>\n",
       "      <td>8.81</td>\n",
       "    </tr>\n",
       "    <tr>\n",
       "      <th>Best Buy</th>\n",
       "      <td>13.33</td>\n",
       "      <td>86.67</td>\n",
       "      <td>13.33</td>\n",
       "      <td>1.76</td>\n",
       "      <td>1.81</td>\n",
       "      <td>1.76</td>\n",
       "    </tr>\n",
       "    <tr>\n",
       "      <th>Booz Allen Hamilton</th>\n",
       "      <td>11.76</td>\n",
       "      <td>88.24</td>\n",
       "      <td>11.76</td>\n",
       "      <td>1.76</td>\n",
       "      <td>2.09</td>\n",
       "      <td>1.76</td>\n",
       "    </tr>\n",
       "    <tr>\n",
       "      <th>Comcast</th>\n",
       "      <td>17.86</td>\n",
       "      <td>82.14</td>\n",
       "      <td>17.86</td>\n",
       "      <td>2.20</td>\n",
       "      <td>1.60</td>\n",
       "      <td>2.20</td>\n",
       "    </tr>\n",
       "    <tr>\n",
       "      <th>Department of Defense</th>\n",
       "      <td>11.43</td>\n",
       "      <td>88.57</td>\n",
       "      <td>11.43</td>\n",
       "      <td>1.76</td>\n",
       "      <td>2.16</td>\n",
       "      <td>1.76</td>\n",
       "    </tr>\n",
       "    <tr>\n",
       "      <th>Fidelity Investments</th>\n",
       "      <td>6.90</td>\n",
       "      <td>93.10</td>\n",
       "      <td>6.90</td>\n",
       "      <td>0.88</td>\n",
       "      <td>1.88</td>\n",
       "      <td>0.88</td>\n",
       "    </tr>\n",
       "    <tr>\n",
       "      <th>Home Depot</th>\n",
       "      <td>22.22</td>\n",
       "      <td>77.78</td>\n",
       "      <td>22.22</td>\n",
       "      <td>2.64</td>\n",
       "      <td>1.46</td>\n",
       "      <td>2.64</td>\n",
       "    </tr>\n",
       "    <tr>\n",
       "      <th>IBM</th>\n",
       "      <td>13.85</td>\n",
       "      <td>86.15</td>\n",
       "      <td>13.85</td>\n",
       "      <td>3.96</td>\n",
       "      <td>3.90</td>\n",
       "      <td>3.96</td>\n",
       "    </tr>\n",
       "    <tr>\n",
       "      <th>JP Morgan Chase</th>\n",
       "      <td>17.14</td>\n",
       "      <td>82.86</td>\n",
       "      <td>17.14</td>\n",
       "      <td>2.64</td>\n",
       "      <td>2.02</td>\n",
       "      <td>2.64</td>\n",
       "    </tr>\n",
       "    <tr>\n",
       "      <th>JPMorgan Chase</th>\n",
       "      <td>2.86</td>\n",
       "      <td>97.14</td>\n",
       "      <td>2.86</td>\n",
       "      <td>0.44</td>\n",
       "      <td>2.37</td>\n",
       "      <td>0.44</td>\n",
       "    </tr>\n",
       "    <tr>\n",
       "      <th>Kaiser Permanente</th>\n",
       "      <td>14.29</td>\n",
       "      <td>85.71</td>\n",
       "      <td>14.29</td>\n",
       "      <td>3.52</td>\n",
       "      <td>3.34</td>\n",
       "      <td>3.52</td>\n",
       "    </tr>\n",
       "    <tr>\n",
       "      <th>Lockheed Martin</th>\n",
       "      <td>4.76</td>\n",
       "      <td>95.24</td>\n",
       "      <td>4.76</td>\n",
       "      <td>0.88</td>\n",
       "      <td>2.78</td>\n",
       "      <td>0.88</td>\n",
       "    </tr>\n",
       "    <tr>\n",
       "      <th>Northrop Grumman</th>\n",
       "      <td>17.65</td>\n",
       "      <td>82.35</td>\n",
       "      <td>17.65</td>\n",
       "      <td>2.64</td>\n",
       "      <td>1.95</td>\n",
       "      <td>2.64</td>\n",
       "    </tr>\n",
       "    <tr>\n",
       "      <th>Self</th>\n",
       "      <td>8.57</td>\n",
       "      <td>91.43</td>\n",
       "      <td>8.57</td>\n",
       "      <td>1.32</td>\n",
       "      <td>2.23</td>\n",
       "      <td>1.32</td>\n",
       "    </tr>\n",
       "    <tr>\n",
       "      <th>Self Employed</th>\n",
       "      <td>12.50</td>\n",
       "      <td>87.50</td>\n",
       "      <td>12.50</td>\n",
       "      <td>2.20</td>\n",
       "      <td>2.44</td>\n",
       "      <td>2.20</td>\n",
       "    </tr>\n",
       "    <tr>\n",
       "      <th>Social Security Administration</th>\n",
       "      <td>8.00</td>\n",
       "      <td>92.00</td>\n",
       "      <td>8.00</td>\n",
       "      <td>0.88</td>\n",
       "      <td>1.60</td>\n",
       "      <td>0.88</td>\n",
       "    </tr>\n",
       "    <tr>\n",
       "      <th>State of California</th>\n",
       "      <td>10.81</td>\n",
       "      <td>89.19</td>\n",
       "      <td>10.81</td>\n",
       "      <td>1.76</td>\n",
       "      <td>2.30</td>\n",
       "      <td>1.76</td>\n",
       "    </tr>\n",
       "    <tr>\n",
       "      <th>Target</th>\n",
       "      <td>20.00</td>\n",
       "      <td>80.00</td>\n",
       "      <td>20.00</td>\n",
       "      <td>3.08</td>\n",
       "      <td>1.95</td>\n",
       "      <td>3.08</td>\n",
       "    </tr>\n",
       "    <tr>\n",
       "      <th>U.S. Army</th>\n",
       "      <td>20.00</td>\n",
       "      <td>80.00</td>\n",
       "      <td>20.00</td>\n",
       "      <td>3.52</td>\n",
       "      <td>2.23</td>\n",
       "      <td>3.52</td>\n",
       "    </tr>\n",
       "    <tr>\n",
       "      <th>UPS</th>\n",
       "      <td>23.08</td>\n",
       "      <td>76.92</td>\n",
       "      <td>23.08</td>\n",
       "      <td>5.29</td>\n",
       "      <td>2.78</td>\n",
       "      <td>5.29</td>\n",
       "    </tr>\n",
       "    <tr>\n",
       "      <th>US ARMY</th>\n",
       "      <td>13.16</td>\n",
       "      <td>86.84</td>\n",
       "      <td>13.16</td>\n",
       "      <td>2.20</td>\n",
       "      <td>2.30</td>\n",
       "      <td>2.20</td>\n",
       "    </tr>\n",
       "    <tr>\n",
       "      <th>US Air Force</th>\n",
       "      <td>11.76</td>\n",
       "      <td>88.24</td>\n",
       "      <td>11.76</td>\n",
       "      <td>2.64</td>\n",
       "      <td>3.13</td>\n",
       "      <td>2.64</td>\n",
       "    </tr>\n",
       "    <tr>\n",
       "      <th>US Army</th>\n",
       "      <td>13.74</td>\n",
       "      <td>86.26</td>\n",
       "      <td>13.74</td>\n",
       "      <td>7.93</td>\n",
       "      <td>7.86</td>\n",
       "      <td>7.93</td>\n",
       "    </tr>\n",
       "    <tr>\n",
       "      <th>US Navy</th>\n",
       "      <td>8.82</td>\n",
       "      <td>91.18</td>\n",
       "      <td>8.82</td>\n",
       "      <td>1.32</td>\n",
       "      <td>2.16</td>\n",
       "      <td>1.32</td>\n",
       "    </tr>\n",
       "    <tr>\n",
       "      <th>US Postal Service</th>\n",
       "      <td>28.00</td>\n",
       "      <td>72.00</td>\n",
       "      <td>28.00</td>\n",
       "      <td>3.08</td>\n",
       "      <td>1.25</td>\n",
       "      <td>3.08</td>\n",
       "    </tr>\n",
       "    <tr>\n",
       "      <th>USAF</th>\n",
       "      <td>3.85</td>\n",
       "      <td>96.15</td>\n",
       "      <td>3.85</td>\n",
       "      <td>0.88</td>\n",
       "      <td>3.48</td>\n",
       "      <td>0.88</td>\n",
       "    </tr>\n",
       "    <tr>\n",
       "      <th>USPS</th>\n",
       "      <td>17.95</td>\n",
       "      <td>82.05</td>\n",
       "      <td>17.95</td>\n",
       "      <td>3.08</td>\n",
       "      <td>2.23</td>\n",
       "      <td>3.08</td>\n",
       "    </tr>\n",
       "    <tr>\n",
       "      <th>United Parcel Service</th>\n",
       "      <td>12.00</td>\n",
       "      <td>88.00</td>\n",
       "      <td>12.00</td>\n",
       "      <td>1.32</td>\n",
       "      <td>1.53</td>\n",
       "      <td>1.32</td>\n",
       "    </tr>\n",
       "    <tr>\n",
       "      <th>United States Air Force</th>\n",
       "      <td>11.90</td>\n",
       "      <td>88.10</td>\n",
       "      <td>11.90</td>\n",
       "      <td>2.20</td>\n",
       "      <td>2.57</td>\n",
       "      <td>2.20</td>\n",
       "    </tr>\n",
       "    <tr>\n",
       "      <th>United States Army</th>\n",
       "      <td>9.09</td>\n",
       "      <td>90.91</td>\n",
       "      <td>9.09</td>\n",
       "      <td>1.32</td>\n",
       "      <td>2.09</td>\n",
       "      <td>1.32</td>\n",
       "    </tr>\n",
       "    <tr>\n",
       "      <th>United States Postal Service</th>\n",
       "      <td>16.00</td>\n",
       "      <td>84.00</td>\n",
       "      <td>16.00</td>\n",
       "      <td>1.76</td>\n",
       "      <td>1.46</td>\n",
       "      <td>1.76</td>\n",
       "    </tr>\n",
       "    <tr>\n",
       "      <th>Verizon</th>\n",
       "      <td>6.25</td>\n",
       "      <td>93.75</td>\n",
       "      <td>6.25</td>\n",
       "      <td>0.88</td>\n",
       "      <td>2.09</td>\n",
       "      <td>0.88</td>\n",
       "    </tr>\n",
       "    <tr>\n",
       "      <th>Verizon Wireless</th>\n",
       "      <td>10.00</td>\n",
       "      <td>90.00</td>\n",
       "      <td>10.00</td>\n",
       "      <td>1.76</td>\n",
       "      <td>2.51</td>\n",
       "      <td>1.76</td>\n",
       "    </tr>\n",
       "    <tr>\n",
       "      <th>Walgreens</th>\n",
       "      <td>8.11</td>\n",
       "      <td>91.89</td>\n",
       "      <td>8.11</td>\n",
       "      <td>1.32</td>\n",
       "      <td>2.37</td>\n",
       "      <td>1.32</td>\n",
       "    </tr>\n",
       "    <tr>\n",
       "      <th>Walmart</th>\n",
       "      <td>31.11</td>\n",
       "      <td>68.89</td>\n",
       "      <td>31.11</td>\n",
       "      <td>6.17</td>\n",
       "      <td>2.16</td>\n",
       "      <td>6.17</td>\n",
       "    </tr>\n",
       "    <tr>\n",
       "      <th>Wells Fargo</th>\n",
       "      <td>7.69</td>\n",
       "      <td>92.31</td>\n",
       "      <td>7.69</td>\n",
       "      <td>1.76</td>\n",
       "      <td>3.34</td>\n",
       "      <td>1.76</td>\n",
       "    </tr>\n",
       "    <tr>\n",
       "      <th>Wells Fargo Bank</th>\n",
       "      <td>8.00</td>\n",
       "      <td>92.00</td>\n",
       "      <td>8.00</td>\n",
       "      <td>0.88</td>\n",
       "      <td>1.60</td>\n",
       "      <td>0.88</td>\n",
       "    </tr>\n",
       "    <tr>\n",
       "      <th>us army</th>\n",
       "      <td>16.67</td>\n",
       "      <td>83.33</td>\n",
       "      <td>16.67</td>\n",
       "      <td>2.20</td>\n",
       "      <td>1.74</td>\n",
       "      <td>2.20</td>\n",
       "    </tr>\n",
       "  </tbody>\n",
       "</table>\n",
       "</div>"
      ],
      "text/plain": [
       "loan_status_enc_derv            avg_defaulter_row%  avg_non_defaulter_row%  \\\n",
       "emp_title                                                                    \n",
       "AT&T                                         21.05                   78.95   \n",
       "Accenture                                     0.00                  100.00   \n",
       "Bank of America                              18.69                   81.31   \n",
       "Best Buy                                     13.33                   86.67   \n",
       "Booz Allen Hamilton                          11.76                   88.24   \n",
       "Comcast                                      17.86                   82.14   \n",
       "Department of Defense                        11.43                   88.57   \n",
       "Fidelity Investments                          6.90                   93.10   \n",
       "Home Depot                                   22.22                   77.78   \n",
       "IBM                                          13.85                   86.15   \n",
       "JP Morgan Chase                              17.14                   82.86   \n",
       "JPMorgan Chase                                2.86                   97.14   \n",
       "Kaiser Permanente                            14.29                   85.71   \n",
       "Lockheed Martin                               4.76                   95.24   \n",
       "Northrop Grumman                             17.65                   82.35   \n",
       "Self                                          8.57                   91.43   \n",
       "Self Employed                                12.50                   87.50   \n",
       "Social Security Administration                8.00                   92.00   \n",
       "State of California                          10.81                   89.19   \n",
       "Target                                       20.00                   80.00   \n",
       "U.S. Army                                    20.00                   80.00   \n",
       "UPS                                          23.08                   76.92   \n",
       "US ARMY                                      13.16                   86.84   \n",
       "US Air Force                                 11.76                   88.24   \n",
       "US Army                                      13.74                   86.26   \n",
       "US Navy                                       8.82                   91.18   \n",
       "US Postal Service                            28.00                   72.00   \n",
       "USAF                                          3.85                   96.15   \n",
       "USPS                                         17.95                   82.05   \n",
       "United Parcel Service                        12.00                   88.00   \n",
       "United States Air Force                      11.90                   88.10   \n",
       "United States Army                            9.09                   90.91   \n",
       "United States Postal Service                 16.00                   84.00   \n",
       "Verizon                                       6.25                   93.75   \n",
       "Verizon Wireless                             10.00                   90.00   \n",
       "Walgreens                                     8.11                   91.89   \n",
       "Walmart                                      31.11                   68.89   \n",
       "Wells Fargo                                   7.69                   92.31   \n",
       "Wells Fargo Bank                              8.00                   92.00   \n",
       "us army                                      16.67                   83.33   \n",
       "\n",
       "loan_status_enc_derv            avg_defaulter_diff_row%  avg_defaulter_col%  \\\n",
       "emp_title                                                                     \n",
       "AT&T                                              21.05                5.29   \n",
       "Accenture                                          0.00                0.00   \n",
       "Bank of America                                   18.69                8.81   \n",
       "Best Buy                                          13.33                1.76   \n",
       "Booz Allen Hamilton                               11.76                1.76   \n",
       "Comcast                                           17.86                2.20   \n",
       "Department of Defense                             11.43                1.76   \n",
       "Fidelity Investments                               6.90                0.88   \n",
       "Home Depot                                        22.22                2.64   \n",
       "IBM                                               13.85                3.96   \n",
       "JP Morgan Chase                                   17.14                2.64   \n",
       "JPMorgan Chase                                     2.86                0.44   \n",
       "Kaiser Permanente                                 14.29                3.52   \n",
       "Lockheed Martin                                    4.76                0.88   \n",
       "Northrop Grumman                                  17.65                2.64   \n",
       "Self                                               8.57                1.32   \n",
       "Self Employed                                     12.50                2.20   \n",
       "Social Security Administration                     8.00                0.88   \n",
       "State of California                               10.81                1.76   \n",
       "Target                                            20.00                3.08   \n",
       "U.S. Army                                         20.00                3.52   \n",
       "UPS                                               23.08                5.29   \n",
       "US ARMY                                           13.16                2.20   \n",
       "US Air Force                                      11.76                2.64   \n",
       "US Army                                           13.74                7.93   \n",
       "US Navy                                            8.82                1.32   \n",
       "US Postal Service                                 28.00                3.08   \n",
       "USAF                                               3.85                0.88   \n",
       "USPS                                              17.95                3.08   \n",
       "United Parcel Service                             12.00                1.32   \n",
       "United States Air Force                           11.90                2.20   \n",
       "United States Army                                 9.09                1.32   \n",
       "United States Postal Service                      16.00                1.76   \n",
       "Verizon                                            6.25                0.88   \n",
       "Verizon Wireless                                  10.00                1.76   \n",
       "Walgreens                                          8.11                1.32   \n",
       "Walmart                                           31.11                6.17   \n",
       "Wells Fargo                                        7.69                1.76   \n",
       "Wells Fargo Bank                                   8.00                0.88   \n",
       "us army                                           16.67                2.20   \n",
       "\n",
       "loan_status_enc_derv            avg_non_defaulter_col%  \\\n",
       "emp_title                                                \n",
       "AT&T                                              3.13   \n",
       "Accenture                                         2.09   \n",
       "Bank of America                                   6.05   \n",
       "Best Buy                                          1.81   \n",
       "Booz Allen Hamilton                               2.09   \n",
       "Comcast                                           1.60   \n",
       "Department of Defense                             2.16   \n",
       "Fidelity Investments                              1.88   \n",
       "Home Depot                                        1.46   \n",
       "IBM                                               3.90   \n",
       "JP Morgan Chase                                   2.02   \n",
       "JPMorgan Chase                                    2.37   \n",
       "Kaiser Permanente                                 3.34   \n",
       "Lockheed Martin                                   2.78   \n",
       "Northrop Grumman                                  1.95   \n",
       "Self                                              2.23   \n",
       "Self Employed                                     2.44   \n",
       "Social Security Administration                    1.60   \n",
       "State of California                               2.30   \n",
       "Target                                            1.95   \n",
       "U.S. Army                                         2.23   \n",
       "UPS                                               2.78   \n",
       "US ARMY                                           2.30   \n",
       "US Air Force                                      3.13   \n",
       "US Army                                           7.86   \n",
       "US Navy                                           2.16   \n",
       "US Postal Service                                 1.25   \n",
       "USAF                                              3.48   \n",
       "USPS                                              2.23   \n",
       "United Parcel Service                             1.53   \n",
       "United States Air Force                           2.57   \n",
       "United States Army                                2.09   \n",
       "United States Postal Service                      1.46   \n",
       "Verizon                                           2.09   \n",
       "Verizon Wireless                                  2.51   \n",
       "Walgreens                                         2.37   \n",
       "Walmart                                           2.16   \n",
       "Wells Fargo                                       3.34   \n",
       "Wells Fargo Bank                                  1.60   \n",
       "us army                                           1.74   \n",
       "\n",
       "loan_status_enc_derv            avg_defaulter_diff_col%  \n",
       "emp_title                                                \n",
       "AT&T                                               5.29  \n",
       "Accenture                                          0.00  \n",
       "Bank of America                                    8.81  \n",
       "Best Buy                                           1.76  \n",
       "Booz Allen Hamilton                                1.76  \n",
       "Comcast                                            2.20  \n",
       "Department of Defense                              1.76  \n",
       "Fidelity Investments                               0.88  \n",
       "Home Depot                                         2.64  \n",
       "IBM                                                3.96  \n",
       "JP Morgan Chase                                    2.64  \n",
       "JPMorgan Chase                                     0.44  \n",
       "Kaiser Permanente                                  3.52  \n",
       "Lockheed Martin                                    0.88  \n",
       "Northrop Grumman                                   2.64  \n",
       "Self                                               1.32  \n",
       "Self Employed                                      2.20  \n",
       "Social Security Administration                     0.88  \n",
       "State of California                                1.76  \n",
       "Target                                             3.08  \n",
       "U.S. Army                                          3.52  \n",
       "UPS                                                5.29  \n",
       "US ARMY                                            2.20  \n",
       "US Air Force                                       2.64  \n",
       "US Army                                            7.93  \n",
       "US Navy                                            1.32  \n",
       "US Postal Service                                  3.08  \n",
       "USAF                                               0.88  \n",
       "USPS                                               3.08  \n",
       "United Parcel Service                              1.32  \n",
       "United States Air Force                            2.20  \n",
       "United States Army                                 1.32  \n",
       "United States Postal Service                       1.76  \n",
       "Verizon                                            0.88  \n",
       "Verizon Wireless                                   1.76  \n",
       "Walgreens                                          1.32  \n",
       "Walmart                                            6.17  \n",
       "Wells Fargo                                        1.76  \n",
       "Wells Fargo Bank                                   0.88  \n",
       "us army                                            2.20  "
      ]
     },
     "execution_count": 1006,
     "metadata": {},
     "output_type": "execute_result"
    }
   ],
   "source": [
    "generate_crosstab_summary(loan_data[loan_data.emp_title.isin(top_40_title)]\\\n",
    "                          ,'emp_title','loan_status_enc_derv')"
   ]
  },
  {
   "cell_type": "markdown",
   "metadata": {},
   "source": [
    "<h2> <u>Annual Income variable analysis</u> </h2>"
   ]
  },
  {
   "cell_type": "code",
   "execution_count": 174,
   "metadata": {},
   "outputs": [
    {
     "data": {
      "image/png": "[encoded data removed]",
      "text/plain": [
       "<Figure size 864x432 with 1 Axes>"
      ]
     },
     "metadata": {
      "needs_background": "light"
     },
     "output_type": "display_data"
    }
   ],
   "source": [
    "## boxplot to analyze the distribution of annual_income variable \n",
    "annual_inc_filter1 = (loan_data['annual_inc'] >=39000) & (loan_data['annual_inc'] <=83000)\n",
    "\n",
    "loan_data.loc[annual_inc_filter1, 'annual_inc']\\\n",
    ".describe()\\\n",
    ".plot.box(figsize=ASP_RATIO)\n",
    "\n",
    "plt.grid()"
   ]
  },
  {
   "cell_type": "code",
   "execution_count": 175,
   "metadata": {},
   "outputs": [
    {
     "data": {
      "image/png": "[encoded data removed]",
      "text/plain": [
       "<Figure size 864x432 with 1 Axes>"
      ]
     },
     "metadata": {
      "needs_background": "light"
     },
     "output_type": "display_data"
    }
   ],
   "source": [
    "annual_inc_filter2 = (loan_data['annual_inc'] <=10**5)\n",
    "\n",
    "loan_data.loc[annual_inc_filter2, 'annual_inc']\\\n",
    ".describe()\\\n",
    ".plot.box(figsize=ASP_RATIO)\n",
    "\n",
    "plt.grid()"
   ]
  },
  {
   "cell_type": "code",
   "execution_count": 176,
   "metadata": {},
   "outputs": [
    {
     "data": {
      "image/png": "[encoded data removed]",
      "text/plain": [
       "<Figure size 864x432 with 1 Axes>"
      ]
     },
     "metadata": {
      "needs_background": "light"
     },
     "output_type": "display_data"
    }
   ],
   "source": [
    "loan_data.loc[annual_inc_filter2,'annual_inc']\\\n",
    ".describe()\\\n",
    ".plot.density(rot=90, figsize=ASP_RATIO);\n",
    "\n",
    "plt.grid()"
   ]
  },
  {
   "cell_type": "code",
   "execution_count": 177,
   "metadata": {},
   "outputs": [
    {
     "data": {
      "text/plain": [
       "count     33096.000000\n",
       "mean      54718.949504\n",
       "std       21255.672109\n",
       "min        4000.000000\n",
       "25%       38400.000000\n",
       "50%       52800.000000\n",
       "75%       70000.000000\n",
       "max      100000.000000\n",
       "Name: annual_inc, dtype: float64"
      ]
     },
     "execution_count": 177,
     "metadata": {},
     "output_type": "execute_result"
    }
   ],
   "source": [
    "loan_data.loc[annual_inc_filter2, 'annual_inc'].describe()"
   ]
  },
  {
   "cell_type": "code",
   "execution_count": 178,
   "metadata": {},
   "outputs": [
    {
     "data": {
      "text/plain": [
       "<matplotlib.axes._subplots.AxesSubplot at 0x7f9ee83e40b8>"
      ]
     },
     "execution_count": 178,
     "metadata": {},
     "output_type": "execute_result"
    },
    {
     "data": {
      "image/png": "[encoded data removed]",
      "text/plain": [
       "<Figure size 432x288 with 1 Axes>"
      ]
     },
     "metadata": {
      "needs_background": "light"
     },
     "output_type": "display_data"
    }
   ],
   "source": [
    "loan_data.annual_inc.plot.hist()"
   ]
  },
  {
   "cell_type": "markdown",
   "metadata": {},
   "source": [
    "<h2> <u>Delinquency for the last 2 years variable analysis</u> </h2>"
   ]
  },
  {
   "cell_type": "code",
   "execution_count": 179,
   "metadata": {},
   "outputs": [
    {
     "data": {
      "text/plain": [
       "0     34386\n",
       "1      3207\n",
       "2       673\n",
       "3       212\n",
       "4        60\n",
       "5        21\n",
       "6        10\n",
       "7         4\n",
       "8         2\n",
       "11        1\n",
       "9         1\n",
       "Name: delinq_2yrs, dtype: int64"
      ]
     },
     "execution_count": 179,
     "metadata": {},
     "output_type": "execute_result"
    }
   ],
   "source": [
    "loan_data.delinq_2yrs.value_counts()"
   ]
  },
  {
   "cell_type": "code",
   "execution_count": 180,
   "metadata": {},
   "outputs": [
    {
     "data": {
      "image/png": "[encoded data removed]",
      "text/plain": [
       "<Figure size 864x432 with 1 Axes>"
      ]
     },
     "metadata": {
      "needs_background": "light"
     },
     "output_type": "display_data"
    }
   ],
   "source": [
    "loan_data.loc[:,'delinq_2yrs'].\\\n",
    "value_counts().plot.bar(figsize=ASP_RATIO);\n",
    "plt.grid()"
   ]
  },
  {
   "cell_type": "code",
   "execution_count": null,
   "metadata": {},
   "outputs": [],
   "source": []
  },
  {
   "cell_type": "markdown",
   "metadata": {},
   "source": [
    "<h2> <u>Employee Job Experience variable analysis</u> </h2>"
   ]
  },
  {
   "cell_type": "code",
   "execution_count": 181,
   "metadata": {},
   "outputs": [
    {
     "data": {
      "image/png": "[encoded data removed]",
      "text/plain": [
       "<Figure size 864x432 with 1 Axes>"
      ]
     },
     "metadata": {
      "needs_background": "light"
     },
     "output_type": "display_data"
    }
   ],
   "source": [
    "loan_data['emp_length'].value_counts().plot.bar(figsize=ASP_RATIO);\n",
    "plt.grid()"
   ]
  },
  {
   "cell_type": "code",
   "execution_count": null,
   "metadata": {},
   "outputs": [],
   "source": []
  },
  {
   "cell_type": "markdown",
   "metadata": {},
   "source": [
    "<h2> <u>Funded Amount variable analysis</u> </h2>"
   ]
  },
  {
   "cell_type": "code",
   "execution_count": 182,
   "metadata": {},
   "outputs": [
    {
     "data": {
      "image/png": "[encoded data removed]",
      "text/plain": [
       "<Figure size 864x432 with 1 Axes>"
      ]
     },
     "metadata": {
      "needs_background": "light"
     },
     "output_type": "display_data"
    }
   ],
   "source": [
    "loan_data.funded_amnt.plot.hist(figsize=ASP_RATIO);\n",
    "plt.grid()"
   ]
  },
  {
   "cell_type": "code",
   "execution_count": 183,
   "metadata": {},
   "outputs": [
    {
     "data": {
      "image/png": "[encoded data removed]",
      "text/plain": [
       "<Figure size 864x432 with 1 Axes>"
      ]
     },
     "metadata": {
      "needs_background": "light"
     },
     "output_type": "display_data"
    }
   ],
   "source": [
    "loan_data.funded_amnt.describe().plot.box(figsize=ASP_RATIO)\n",
    "plt.grid()"
   ]
  },
  {
   "cell_type": "code",
   "execution_count": null,
   "metadata": {},
   "outputs": [],
   "source": []
  },
  {
   "cell_type": "markdown",
   "metadata": {},
   "source": [
    "\n",
    "<h2> <u>State Address variable analysis</u> </h2>"
   ]
  },
  {
   "cell_type": "code",
   "execution_count": 184,
   "metadata": {},
   "outputs": [
    {
     "data": {
      "text/plain": [
       "(38577,)"
      ]
     },
     "execution_count": 184,
     "metadata": {},
     "output_type": "execute_result"
    }
   ],
   "source": [
    "loan_data.addr_state.shape"
   ]
  },
  {
   "cell_type": "code",
   "execution_count": null,
   "metadata": {},
   "outputs": [],
   "source": []
  },
  {
   "cell_type": "code",
   "execution_count": 185,
   "metadata": {},
   "outputs": [
    {
     "data": {
      "image/png": "[encoded data removed]",
      "text/plain": [
       "<Figure size 864x432 with 1 Axes>"
      ]
     },
     "metadata": {
      "needs_background": "light"
     },
     "output_type": "display_data"
    }
   ],
   "source": [
    "loan_data.addr_state.value_counts().plot.bar(figsize=ASP_RATIO);\n",
    "plt.grid()"
   ]
  },
  {
   "cell_type": "code",
   "execution_count": null,
   "metadata": {},
   "outputs": [],
   "source": []
  },
  {
   "cell_type": "markdown",
   "metadata": {},
   "source": [
    "<h2> <u>Interest Rate variable analysis</u> </h2>"
   ]
  },
  {
   "cell_type": "code",
   "execution_count": 186,
   "metadata": {},
   "outputs": [
    {
     "data": {
      "text/plain": [
       "(38577,)"
      ]
     },
     "execution_count": 186,
     "metadata": {},
     "output_type": "execute_result"
    }
   ],
   "source": [
    "loan_data.int_rate_derv.shape"
   ]
  },
  {
   "cell_type": "code",
   "execution_count": 187,
   "metadata": {},
   "outputs": [
    {
     "data": {
      "image/png": "[encoded data removed]",
      "text/plain": [
       "<Figure size 864x432 with 1 Axes>"
      ]
     },
     "metadata": {
      "needs_background": "light"
     },
     "output_type": "display_data"
    }
   ],
   "source": [
    "loan_data.int_rate_derv.plot.hist(figsize=ASP_RATIO);\n",
    "plt.grid()"
   ]
  },
  {
   "cell_type": "code",
   "execution_count": 188,
   "metadata": {},
   "outputs": [
    {
     "data": {
      "image/png": "[encoded data removed]",
      "text/plain": [
       "<Figure size 864x432 with 1 Axes>"
      ]
     },
     "metadata": {
      "needs_background": "light"
     },
     "output_type": "display_data"
    }
   ],
   "source": [
    "loan_data.loc[(loan_data.int_rate_derv > 6)  & (loan_data.int_rate_derv <= 20), 'int_rate_derv']\\\n",
    ".plot.box(figsize=ASP_RATIO);\n",
    "plt.grid()"
   ]
  },
  {
   "cell_type": "code",
   "execution_count": null,
   "metadata": {},
   "outputs": [],
   "source": []
  },
  {
   "cell_type": "markdown",
   "metadata": {},
   "source": [
    "<h2> <u>Interest Amount variable analysis</u> </h2>"
   ]
  },
  {
   "cell_type": "code",
   "execution_count": 189,
   "metadata": {},
   "outputs": [
    {
     "data": {
      "text/plain": [
       "count     38577.000000\n",
       "mean     139987.282779\n",
       "std      121697.735020\n",
       "min        4035.000000\n",
       "25%       55160.000000\n",
       "50%      100620.000000\n",
       "75%      186900.000000\n",
       "max      836850.000000\n",
       "Name: int_rate_amt_derv, dtype: float64"
      ]
     },
     "execution_count": 189,
     "metadata": {},
     "output_type": "execute_result"
    }
   ],
   "source": [
    "loan_data.int_rate_amt_derv.describe()"
   ]
  },
  {
   "cell_type": "code",
   "execution_count": 190,
   "metadata": {},
   "outputs": [
    {
     "data": {
      "text/plain": [
       "True"
      ]
     },
     "execution_count": 190,
     "metadata": {},
     "output_type": "execute_result"
    }
   ],
   "source": [
    "operator.gt(12,6)"
   ]
  },
  {
   "cell_type": "code",
   "execution_count": 191,
   "metadata": {},
   "outputs": [],
   "source": [
    "import operator as op\n",
    "\n",
    "operatorlookup = {\n",
    "    '+': operator.add,\n",
    "    '-': operator.sub,\n",
    "    '*': operator.mul,\n",
    "    '/': operator.truediv\n",
    "}"
   ]
  },
  {
   "cell_type": "code",
   "execution_count": 192,
   "metadata": {},
   "outputs": [
    {
     "data": {
      "text/plain": [
       "True"
      ]
     },
     "execution_count": 192,
     "metadata": {},
     "output_type": "execute_result"
    }
   ],
   "source": [
    "op.le(5,6)"
   ]
  },
  {
   "cell_type": "code",
   "execution_count": 193,
   "metadata": {},
   "outputs": [],
   "source": [
    "create_bins(loan_data,'int_rate_amt_derv','int_rate_amt_encode',10000,20000,30000,40000,50000,80000,100000)"
   ]
  },
  {
   "cell_type": "code",
   "execution_count": 194,
   "metadata": {},
   "outputs": [
    {
     "data": {
      "text/plain": [
       "interval_0      226\n",
       "interval_1     1279\n",
       "interval_2     1992\n",
       "interval_3     2368\n",
       "interval_4     2473\n",
       "interval_5     7308\n",
       "interval_6     3583\n",
       "interval_7    19348\n",
       "Name: int_rate_amt_encode, dtype: int64"
      ]
     },
     "execution_count": 194,
     "metadata": {},
     "output_type": "execute_result"
    }
   ],
   "source": [
    "loan_data.int_rate_amt_encode.value_counts().sort_index()"
   ]
  },
  {
   "cell_type": "code",
   "execution_count": 195,
   "metadata": {},
   "outputs": [],
   "source": [
    "loan_data['int_rate_amt_derv'] = loan_data['int_rate_derv']*loan_data['loan_amnt']"
   ]
  },
  {
   "cell_type": "code",
   "execution_count": 196,
   "metadata": {},
   "outputs": [
    {
     "data": {
      "text/plain": [
       "50008.0"
      ]
     },
     "execution_count": 196,
     "metadata": {},
     "output_type": "execute_result"
    }
   ],
   "source": [
    "loan_data.loc[filt_list[2],'int_rate_amt_derv'].min()"
   ]
  },
  {
   "cell_type": "code",
   "execution_count": 197,
   "metadata": {},
   "outputs": [],
   "source": [
    "int_rate_amt_int1 = (loan_data.int_rate_amt_derv <= 20000)\n",
    "int_rate_amt_int2 = (loan_data.int_rate_amt_derv > 20000) & (loan_data.int_rate_amt_derv <= 50000)\n",
    "int_rate_amt_int3 = (loan_data.int_rate_amt_derv > 50000) & (loan_data.int_rate_amt_derv <= 80000)\n",
    "int_rate_amt_int4 = (loan_data.int_rate_amt_derv > 80000) & (loan_data.int_rate_amt_derv <= 100000)\n",
    "int_rate_amt_int5 = (loan_data.int_rate_amt_derv > 100000)\n",
    "\n",
    "loan_data.loc[int_rate_amt_int1,'int_rate_amt_derv_encode'] = 1\n",
    "loan_data.loc[int_rate_amt_int2,'int_rate_amt_derv_encode'] = 2 \n",
    "loan_data.loc[int_rate_amt_int3,'int_rate_amt_derv_encode'] = 3 \n",
    "loan_data.loc[int_rate_amt_int4,'int_rate_amt_derv_encode'] = 4\n",
    "loan_data.loc[int_rate_amt_int5,'int_rate_amt_derv_encode'] = 5 "
   ]
  },
  {
   "cell_type": "code",
   "execution_count": 198,
   "metadata": {},
   "outputs": [
    {
     "data": {
      "text/plain": [
       "1.0     1505\n",
       "2.0     6833\n",
       "3.0     7308\n",
       "4.0     3583\n",
       "5.0    19348\n",
       "Name: int_rate_amt_derv_encode, dtype: int64"
      ]
     },
     "execution_count": 198,
     "metadata": {},
     "output_type": "execute_result"
    }
   ],
   "source": [
    "loan_data.int_rate_amt_derv_encode.value_counts().sort_index()"
   ]
  },
  {
   "cell_type": "code",
   "execution_count": 199,
   "metadata": {},
   "outputs": [
    {
     "data": {
      "text/plain": [
       "<matplotlib.axes._subplots.AxesSubplot at 0x7f9ee7ffa7f0>"
      ]
     },
     "execution_count": 199,
     "metadata": {},
     "output_type": "execute_result"
    },
    {
     "data": {
      "image/png": "[encoded data removed]",
      "text/plain": [
       "<Figure size 432x288 with 1 Axes>"
      ]
     },
     "metadata": {
      "needs_background": "light"
     },
     "output_type": "display_data"
    }
   ],
   "source": [
    "loan_data.int_rate_amt_derv.plot.hist()"
   ]
  },
  {
   "cell_type": "code",
   "execution_count": 200,
   "metadata": {},
   "outputs": [
    {
     "data": {
      "image/png": "[encoded data removed]",
      "text/plain": [
       "<Figure size 864x432 with 1 Axes>"
      ]
     },
     "metadata": {
      "needs_background": "light"
     },
     "output_type": "display_data"
    }
   ],
   "source": [
    "loan_data.loc[loan_data.int_rate_amt_derv <= 3*(10**5),'int_rate_amt_derv'].plot.box(figsize=ASP_RATIO);\n",
    "plt.grid()"
   ]
  },
  {
   "cell_type": "code",
   "execution_count": null,
   "metadata": {},
   "outputs": [],
   "source": []
  },
  {
   "cell_type": "markdown",
   "metadata": {},
   "source": [
    "<h2> <u>Target variable analysis</u> </h2>"
   ]
  },
  {
   "cell_type": "code",
   "execution_count": 201,
   "metadata": {},
   "outputs": [
    {
     "data": {
      "text/plain": [
       "(38577,)"
      ]
     },
     "execution_count": 201,
     "metadata": {},
     "output_type": "execute_result"
    }
   ],
   "source": [
    "loan_data.is_defaulter_derv.shape"
   ]
  },
  {
   "cell_type": "code",
   "execution_count": 202,
   "metadata": {},
   "outputs": [
    {
     "name": "stdout",
     "output_type": "stream",
     "text": [
      "DEFAULTER PERCENT --> 14.59%\n",
      "NON_DEFAULTER PERCENT --> 85.41%\n"
     ]
    }
   ],
   "source": [
    "non_defaulter_percnt = round(loan_data.is_defaulter_derv\\\n",
    "      .value_counts()[0]/loan_data\\\n",
    "      .is_defaulter_derv\\\n",
    "      .value_counts()\\\n",
    "      .sum()*100,2)\n",
    "\n",
    "defaulter_percnt = round(loan_data.is_defaulter_derv\\\n",
    "      .value_counts()[1]/loan_data\\\n",
    "      .is_defaulter_derv\\\n",
    "      .value_counts()\\\n",
    "      .sum()*100,2)\n",
    "\n",
    "print(f\"DEFAULTER PERCENT --> {str(defaulter_percnt)+'%'}\\nNON_DEFAULTER PERCENT --> {str(non_defaulter_percnt)+ '%'}\")"
   ]
  },
  {
   "cell_type": "code",
   "execution_count": 203,
   "metadata": {},
   "outputs": [
    {
     "data": {
      "image/png": "[encoded data removed]",
      "text/plain": [
       "<Figure size 1080x576 with 1 Axes>"
      ]
     },
     "metadata": {
      "needs_background": "light"
     },
     "output_type": "display_data"
    }
   ],
   "source": [
    "loan_data.is_defaulter_derv.value_counts().plot.bar(figsize=(15,8));\n",
    "plt.grid()"
   ]
  },
  {
   "cell_type": "code",
   "execution_count": null,
   "metadata": {},
   "outputs": [],
   "source": []
  },
  {
   "cell_type": "markdown",
   "metadata": {},
   "source": [
    "<h2> <u>Purpose variable analysis</u> </h2>"
   ]
  },
  {
   "cell_type": "code",
   "execution_count": 204,
   "metadata": {},
   "outputs": [
    {
     "data": {
      "image/png": "[encoded data removed]",
      "text/plain": [
       "<Figure size 864x432 with 1 Axes>"
      ]
     },
     "metadata": {
      "needs_background": "light"
     },
     "output_type": "display_data"
    }
   ],
   "source": [
    "purpose_ = pd.DataFrame(loan_data.purpose.value_counts())\n",
    "purpose_['rank']= purpose_.rank(method='first', ascending=False)\n",
    "purpose_.rename(columns={'purpose':'counts'}, inplace=True)\n",
    "purpose_.head(10)\n",
    "\n",
    "fig = plt.figure(figsize=ASP_RATIO)\n",
    "plt.grid()\n",
    "plt.xscale('linear')\n",
    "plt.yscale('log')\n",
    "plt.scatter(purpose_['rank'],purpose_['counts']);"
   ]
  },
  {
   "cell_type": "code",
   "execution_count": 205,
   "metadata": {},
   "outputs": [
    {
     "data": {
      "text/plain": [
       "(38577,)"
      ]
     },
     "execution_count": 205,
     "metadata": {},
     "output_type": "execute_result"
    }
   ],
   "source": [
    "loan_data.purpose.shape"
   ]
  },
  {
   "cell_type": "code",
   "execution_count": 206,
   "metadata": {},
   "outputs": [
    {
     "data": {
      "image/png": "[encoded data removed]",
      "text/plain": [
       "<Figure size 1080x576 with 1 Axes>"
      ]
     },
     "metadata": {
      "needs_background": "light"
     },
     "output_type": "display_data"
    }
   ],
   "source": [
    "loan_data.purpose.value_counts().plot.bar(figsize=(15,8));\n",
    "plt.grid()"
   ]
  },
  {
   "cell_type": "code",
   "execution_count": null,
   "metadata": {},
   "outputs": [],
   "source": []
  },
  {
   "cell_type": "markdown",
   "metadata": {},
   "source": [
    "<h2> <u>Title variable analysis</u> </h2>"
   ]
  },
  {
   "cell_type": "code",
   "execution_count": 207,
   "metadata": {},
   "outputs": [
    {
     "data": {
      "text/plain": [
       "(38577,)"
      ]
     },
     "execution_count": 207,
     "metadata": {},
     "output_type": "execute_result"
    }
   ],
   "source": [
    "loan_data.title.shape"
   ]
  },
  {
   "cell_type": "code",
   "execution_count": 208,
   "metadata": {},
   "outputs": [
    {
     "data": {
      "image/png": "[encoded data removed]",
      "text/plain": [
       "<Figure size 1080x576 with 1 Axes>"
      ]
     },
     "metadata": {
      "needs_background": "light"
     },
     "output_type": "display_data"
    }
   ],
   "source": [
    "loan_data.title.value_counts()[:20].plot.bar(figsize=(15,8))\n",
    "plt.grid()"
   ]
  },
  {
   "cell_type": "code",
   "execution_count": null,
   "metadata": {},
   "outputs": [],
   "source": []
  },
  {
   "cell_type": "markdown",
   "metadata": {},
   "source": [
    "<h2> <u>Grade variable analysis</u> </h2>"
   ]
  },
  {
   "cell_type": "code",
   "execution_count": 209,
   "metadata": {},
   "outputs": [
    {
     "data": {
      "image/png": "[encoded data removed]",
      "text/plain": [
       "<Figure size 864x432 with 1 Axes>"
      ]
     },
     "metadata": {
      "needs_background": "light"
     },
     "output_type": "display_data"
    }
   ],
   "source": [
    "grade_ = pd.DataFrame(loan_data.grade.value_counts())\n",
    "grade_['rank']= grade_.rank(method='first', ascending=False)\n",
    "grade_.rename(columns={'grade':'counts'}, inplace=True)\n",
    "grade_.head(10)\n",
    "\n",
    "fig = plt.figure(figsize=ASP_RATIO)\n",
    "plt.grid()\n",
    "plt.xscale('linear')\n",
    "plt.yscale('linear')\n",
    "plt.scatter(grade_['rank'],grade_['counts']);"
   ]
  },
  {
   "cell_type": "code",
   "execution_count": 210,
   "metadata": {},
   "outputs": [
    {
     "data": {
      "text/plain": [
       "<matplotlib.axes._subplots.AxesSubplot at 0x7f9eeb2cccc0>"
      ]
     },
     "execution_count": 210,
     "metadata": {},
     "output_type": "execute_result"
    },
    {
     "data": {
      "image/png": "[encoded data removed]",
      "text/plain": [
       "<Figure size 432x288 with 1 Axes>"
      ]
     },
     "metadata": {
      "needs_background": "light"
     },
     "output_type": "display_data"
    }
   ],
   "source": [
    "loan_data['grade_encoded_derv'].plot.hist()"
   ]
  },
  {
   "cell_type": "code",
   "execution_count": 211,
   "metadata": {},
   "outputs": [
    {
     "data": {
      "image/png": "[encoded data removed]",
      "text/plain": [
       "<Figure size 864x432 with 1 Axes>"
      ]
     },
     "metadata": {
      "needs_background": "light"
     },
     "output_type": "display_data"
    }
   ],
   "source": [
    "loan_data.grade.value_counts().plot.bar(figsize=ASP_RATIO);\n",
    "plt.grid();"
   ]
  },
  {
   "cell_type": "code",
   "execution_count": null,
   "metadata": {},
   "outputs": [],
   "source": []
  },
  {
   "cell_type": "code",
   "execution_count": null,
   "metadata": {},
   "outputs": [],
   "source": []
  },
  {
   "cell_type": "code",
   "execution_count": 212,
   "metadata": {},
   "outputs": [
    {
     "data": {
      "text/plain": [
       "<matplotlib.axes._subplots.AxesSubplot at 0x7f9ee8491d68>"
      ]
     },
     "execution_count": 212,
     "metadata": {},
     "output_type": "execute_result"
    },
    {
     "data": {
      "image/png": "[encoded data removed]",
      "text/plain": [
       "<Figure size 432x288 with 1 Axes>"
      ]
     },
     "metadata": {
      "needs_background": "light"
     },
     "output_type": "display_data"
    }
   ],
   "source": [
    "loan_data.sub_grade.value_counts().plot.bar()"
   ]
  },
  {
   "cell_type": "code",
   "execution_count": null,
   "metadata": {},
   "outputs": [],
   "source": []
  },
  {
   "cell_type": "code",
   "execution_count": null,
   "metadata": {},
   "outputs": [],
   "source": []
  },
  {
   "cell_type": "code",
   "execution_count": null,
   "metadata": {},
   "outputs": [],
   "source": []
  },
  {
   "cell_type": "code",
   "execution_count": 213,
   "metadata": {},
   "outputs": [
    {
     "data": {
      "text/plain": [
       "grade\n",
       "A    20.75\n",
       "B    30.03\n",
       "C    19.57\n",
       "D    14.47\n",
       "E     9.64\n",
       "F     4.11\n",
       "G     1.43\n",
       "Name: funded_amnt_inv, dtype: float64"
      ]
     },
     "execution_count": 213,
     "metadata": {},
     "output_type": "execute_result"
    }
   ],
   "source": [
    "round((loan_data.groupby('grade')['funded_amnt_inv'].sum()/loan_data['funded_amnt_inv'].sum())*100,2)"
   ]
  },
  {
   "cell_type": "code",
   "execution_count": 214,
   "metadata": {},
   "outputs": [],
   "source": [
    "fainv1 = (loan_data.funded_amnt_inv <= 5000)\n",
    "fainv2 = (loan_data.funded_amnt_inv > 5000)& (loan_data.funded_amnt_inv <= 10000)\n",
    "fainv3 = (loan_data.funded_amnt_inv > 10000)& (loan_data.funded_amnt_inv <= 15000)\n",
    "fainv4 = (loan_data.funded_amnt_inv > 15000)\n",
    "\n",
    "loan_data.loc[fainv1,'funded_amnt_inv_encode_derv'] = 1\n",
    "loan_data.loc[fainv2,'funded_amnt_inv_encode_derv'] = 2\n",
    "loan_data.loc[fainv3,'funded_amnt_inv_encode_derv'] = 3\n",
    "loan_data.loc[fainv4,'funded_amnt_inv_encode_derv'] = 4"
   ]
  },
  {
   "cell_type": "code",
   "execution_count": 215,
   "metadata": {},
   "outputs": [
    {
     "data": {
      "text/plain": [
       "array([1., 2., 3., 4.])"
      ]
     },
     "execution_count": 215,
     "metadata": {},
     "output_type": "execute_result"
    }
   ],
   "source": [
    "loan_data.funded_amnt_inv_encode_derv.unique()"
   ]
  },
  {
   "cell_type": "code",
   "execution_count": 216,
   "metadata": {},
   "outputs": [
    {
     "data": {
      "image/png": "[encoded data removed]",
      "text/plain": [
       "<Figure size 864x432 with 1 Axes>"
      ]
     },
     "metadata": {
      "needs_background": "light"
     },
     "output_type": "display_data"
    }
   ],
   "source": [
    "loan_data.funded_amnt_inv.plot.hist(figsize=ASP_RATIO);\n",
    "plt.grid()"
   ]
  },
  {
   "cell_type": "code",
   "execution_count": 217,
   "metadata": {},
   "outputs": [],
   "source": [
    "def encode_pub_rec(val):\n",
    "    if val == 1 or val==0:\n",
    "        return val\n",
    "    else:\n",
    "        return 1\n",
    "    "
   ]
  },
  {
   "cell_type": "code",
   "execution_count": 218,
   "metadata": {},
   "outputs": [],
   "source": [
    "loan_data['pub_rec_derv']= loan_data.pub_rec.apply(encode_pub_rec)"
   ]
  },
  {
   "cell_type": "code",
   "execution_count": 219,
   "metadata": {},
   "outputs": [
    {
     "data": {
      "text/plain": [
       "0    36507\n",
       "1     2013\n",
       "2       48\n",
       "3        7\n",
       "4        2\n",
       "Name: pub_rec, dtype: int64"
      ]
     },
     "execution_count": 219,
     "metadata": {},
     "output_type": "execute_result"
    }
   ],
   "source": [
    "loan_data.pub_rec.value_counts()"
   ]
  },
  {
   "cell_type": "markdown",
   "metadata": {},
   "source": [
    "<h1> <center><u>Bivariate Analysis</u></center></h1>"
   ]
  },
  {
   "cell_type": "markdown",
   "metadata": {},
   "source": [
    "<h4> <u>No of Months passed since last time, when the payment of loan was missed vs Target variable analysis</u> </h4>"
   ]
  },
  {
   "cell_type": "code",
   "execution_count": 220,
   "metadata": {},
   "outputs": [
    {
     "data": {
      "image/png": "[encoded data removed]",
      "text/plain": [
       "<Figure size 864x432 with 1 Axes>"
      ]
     },
     "metadata": {
      "needs_background": "light"
     },
     "output_type": "display_data"
    }
   ],
   "source": [
    "fig_dims = ASP_RATIO\n",
    "fig_msld, ax_msld = plt.subplots(figsize=fig_dims)\n",
    "sns.boxplot(x='is_defaulter_derv', y='mths_since_last_delinq', data=loan_data, ax=ax_msld);"
   ]
  },
  {
   "cell_type": "code",
   "execution_count": 221,
   "metadata": {},
   "outputs": [
    {
     "data": {
      "image/png": "[encoded data removed]",
      "text/plain": [
       "<Figure size 864x432 with 1 Axes>"
      ]
     },
     "metadata": {
      "needs_background": "light"
     },
     "output_type": "display_data"
    }
   ],
   "source": [
    "(loan_data[(loan_data.is_defaulter_derv==0)]['mths_since_last_delinq'].value_counts()/\\\n",
    "loan_data[(loan_data.is_defaulter_derv==0)]['mths_since_last_delinq'].value_counts().sum()).sort_index()\\\n",
    "[:40].plot(kind='bar', figsize=ASP_RATIO)\n",
    "plt.grid()"
   ]
  },
  {
   "cell_type": "code",
   "execution_count": 222,
   "metadata": {},
   "outputs": [
    {
     "data": {
      "image/png": "[encoded data removed]",
      "text/plain": [
       "<Figure size 864x432 with 1 Axes>"
      ]
     },
     "metadata": {
      "needs_background": "light"
     },
     "output_type": "display_data"
    }
   ],
   "source": [
    "(loan_data[(loan_data.is_defaulter_derv==1)]['mths_since_last_delinq'].value_counts()/\\\n",
    "loan_data[(loan_data.is_defaulter_derv==1)]['mths_since_last_delinq'].value_counts().sum()).sort_index()\\\n",
    "[:40].plot(kind='bar', figsize=ASP_RATIO)\n",
    "plt.grid()"
   ]
  },
  {
   "cell_type": "code",
   "execution_count": 223,
   "metadata": {},
   "outputs": [
    {
     "ename": "IndexError",
     "evalue": "tuple index out of range",
     "output_type": "error",
     "traceback": [
      "\u001b[0;31m---------------------------------------------------------------------------\u001b[0m",
      "\u001b[0;31mIndexError\u001b[0m                                Traceback (most recent call last)",
      "\u001b[0;32m<ipython-input-223-3be8566c0d09>\u001b[0m in \u001b[0;36m<module>\u001b[0;34m\u001b[0m\n\u001b[0;32m----> 1\u001b[0;31m \u001b[0mcreate_bins\u001b[0m\u001b[0;34m(\u001b[0m\u001b[0mloan_data\u001b[0m\u001b[0;34m,\u001b[0m\u001b[0;34m'mths_since_last_delinq'\u001b[0m\u001b[0;34m,\u001b[0m\u001b[0;34m'mths_since_last_delinq_encode'\u001b[0m\u001b[0;34m)\u001b[0m\u001b[0;34m\u001b[0m\u001b[0;34m\u001b[0m\u001b[0m\n\u001b[0m",
      "\u001b[0;32m<ipython-input-159-40dc5323f4c4>\u001b[0m in \u001b[0;36mcreate_bins\u001b[0;34m(df, col_name, new_col, *bin_intervals)\u001b[0m\n\u001b[1;32m      3\u001b[0m     \u001b[0mcolumn_ser\u001b[0m \u001b[0;34m=\u001b[0m \u001b[0mdf\u001b[0m\u001b[0;34m[\u001b[0m\u001b[0mcol_name\u001b[0m\u001b[0;34m]\u001b[0m\u001b[0;34m\u001b[0m\u001b[0;34m\u001b[0m\u001b[0m\n\u001b[1;32m      4\u001b[0m     \u001b[0msize_lis\u001b[0m \u001b[0;34m=\u001b[0m \u001b[0mlen\u001b[0m\u001b[0;34m(\u001b[0m\u001b[0mbin_intervals\u001b[0m\u001b[0;34m)\u001b[0m\u001b[0;34m\u001b[0m\u001b[0;34m\u001b[0m\u001b[0m\n\u001b[0;32m----> 5\u001b[0;31m     \u001b[0mlb\u001b[0m \u001b[0;34m=\u001b[0m \u001b[0mdf\u001b[0m\u001b[0;34m[\u001b[0m\u001b[0mcol_name\u001b[0m\u001b[0;34m]\u001b[0m \u001b[0;34m<=\u001b[0m \u001b[0mbin_intervals\u001b[0m\u001b[0;34m[\u001b[0m\u001b[0;36m0\u001b[0m\u001b[0;34m]\u001b[0m\u001b[0;34m\u001b[0m\u001b[0;34m\u001b[0m\u001b[0m\n\u001b[0m\u001b[1;32m      6\u001b[0m     \u001b[0mub\u001b[0m \u001b[0;34m=\u001b[0m \u001b[0mdf\u001b[0m\u001b[0;34m[\u001b[0m\u001b[0mcol_name\u001b[0m\u001b[0;34m]\u001b[0m \u001b[0;34m>\u001b[0m \u001b[0mbin_intervals\u001b[0m\u001b[0;34m[\u001b[0m\u001b[0;34m-\u001b[0m\u001b[0;36m1\u001b[0m\u001b[0;34m]\u001b[0m\u001b[0;34m\u001b[0m\u001b[0;34m\u001b[0m\u001b[0m\n\u001b[1;32m      7\u001b[0m     \u001b[0mbin_intvls\u001b[0m \u001b[0;34m=\u001b[0m \u001b[0;34m[\u001b[0m\u001b[0;34m]\u001b[0m\u001b[0;34m\u001b[0m\u001b[0;34m\u001b[0m\u001b[0m\n",
      "\u001b[0;31mIndexError\u001b[0m: tuple index out of range"
     ]
    }
   ],
   "source": [
    "create_bins(loan_data,'mths_since_last_delinq','mths_since_last_delinq_encode')"
   ]
  },
  {
   "cell_type": "code",
   "execution_count": null,
   "metadata": {},
   "outputs": [],
   "source": [
    "create_bins()"
   ]
  },
  {
   "cell_type": "code",
   "execution_count": null,
   "metadata": {},
   "outputs": [],
   "source": [
    "msld1 = (loan_data.mths_since_last_delinq <= 20)\n",
    "msld2 = (loan_data.mths_since_last_delinq > 20)& (loan_data.mths_since_last_delinq <= 50)\n",
    "msld3 = (loan_data.mths_since_last_delinq > 50)\n",
    "\n",
    "\n",
    "loan_data.loc[msld1,'mths_since_last_delinq_derv'] = 1 \n",
    "loan_data.loc[msld2,'mths_since_last_delinq_derv'] = 2 \n",
    "loan_data.loc[msld3,'mths_since_last_delinq_derv'] = 3\n",
    "\n",
    "\n",
    "woe_df_msld = pd.DataFrame()\n",
    "\n",
    "min_val =[\n",
    "    loan_data.loc[msld1,'mths_since_last_delinq'].min(),\n",
    "loan_data.loc[msld2,'mths_since_last_delinq'].min(),\n",
    "loan_data.loc[msld3,'mths_since_last_delinq'].min()]\n",
    "\n",
    "max_val =[\n",
    "    loan_data.loc[msld1,'mths_since_last_delinq'].max(),\n",
    "    loan_data.loc[msld2,'mths_since_last_delinq'].max(),\n",
    "    loan_data.loc[msld3,'mths_since_last_delinq'].max()\n",
    "]\n",
    "\n",
    "count_events = [\n",
    "loan_data.loc[msld1 & (loan_data.is_defaulter_derv==1),'is_defaulter_derv'].count(),\n",
    "loan_data.loc[msld2 & (loan_data.is_defaulter_derv==1),'is_defaulter_derv'].count(),\n",
    "loan_data.loc[msld3 & (loan_data.is_defaulter_derv==1),'is_defaulter_derv'].count()]\n",
    "\n",
    "count_non_events =[\n",
    "loan_data.loc[msld1 & (loan_data.is_defaulter_derv==0),'is_defaulter_derv'].count(),\n",
    "loan_data.loc[msld2 & (loan_data.is_defaulter_derv==0),'is_defaulter_derv'].count(),\n",
    "loan_data.loc[msld3 & (loan_data.is_defaulter_derv==0),'is_defaulter_derv'].count()\n",
    "]\n",
    "\n",
    "loan_data.mths_since_last_delinq_derv.value_counts().sort_index()\n",
    "\n",
    "count = loan_data.mths_since_last_delinq_derv.value_counts().sort_index().values.tolist()\n",
    "loan_data.mths_since_last_delinq_derv.value_counts().sort_index().values.tolist()"
   ]
  },
  {
   "cell_type": "code",
   "execution_count": 435,
   "metadata": {},
   "outputs": [
    {
     "data": {
      "text/plain": [
       "0"
      ]
     },
     "execution_count": 435,
     "metadata": {},
     "output_type": "execute_result"
    }
   ],
   "source": [
    "loan_data.is_defaulter_derv.unique()[0]"
   ]
  },
  {
   "cell_type": "code",
   "execution_count": null,
   "metadata": {},
   "outputs": [],
   "source": [
    "'mths_since_last_delinq','mths_since_last_delinq_cat'"
   ]
  },
  {
   "cell_type": "code",
   "execution_count": 463,
   "metadata": {},
   "outputs": [],
   "source": [
    "def calculate_woe(df, col_names, bin_tar_col,*intvls):\n",
    "\n",
    "    intervals = create_bins(df, col_names[0], col_names[1], *intvls)\n",
    "    woe_df_ = pd.DataFrame()\n",
    "    \n",
    "    min_val = [df.loc[intvl,col_names[0]].min() for intvl in intervals]\n",
    "    max_val = [df.loc[intvl,col_names[0]].max() for intvl in intervals]\n",
    "    \n",
    "    count_events = [df.loc[intvl & (df[bin_tar_col]==df[bin_tar_col].unique()[0]),\\\n",
    "                           bin_tar_col].count() for intvl in intervals]\n",
    "    count_non_events = [df.loc[intvl & (df[bin_tar_col]==df[bin_tar_col].unique()[1])\\\n",
    "                               ,bin_tar_col].count() for intvl in intervals]\n",
    "    \n",
    "    df[col_names[1]].value_counts().sort_index()\n",
    "    count = df[col_names[1]].value_counts().sort_index().values.tolist()\n",
    "    \n",
    "    woe_df_['min_val_'] = min_val\n",
    "    woe_df_['max_val_'] = max_val\n",
    "    woe_df_['count_'] = count\n",
    "    woe_df_['count_events_'] = count_events\n",
    "    woe_df_['count_non_events_'] = count_non_events\n",
    "    woe_df_['%_count_events'] = round((woe_df_.count_events_/woe_df_.count_events_.sum()),4)\\\n",
    "    .values*100\n",
    "\n",
    "    woe_df_['%_non_count_events']= round((woe_df_.count_non_events_/woe_df_.count_non_events_.sum()),4)\\\n",
    "    .values*100\n",
    "\n",
    "    woe_df_['WOE'] = (woe_df_['%_count_events']/woe_df_['%_non_count_events']).apply(math.log)\n",
    "    woe_df_['diff_event_%_non_event'] = (woe_df_['%_count_events'] - woe_df_['%_non_count_events'])\n",
    "    woe_df_['IV'] = round((woe_df_['diff_event_%_non_event']*woe_df_['WOE']),2)\n",
    "    woe_df_['variable_name'] = \"mths_since_last_delinq\"\n",
    "    \n",
    "    return round(woe_df_['IV'].sum(),2)\n",
    "    \n",
    "\n"
   ]
  },
  {
   "cell_type": "code",
   "execution_count": 464,
   "metadata": {},
   "outputs": [
    {
     "data": {
      "text/plain": [
       "0.36"
      ]
     },
     "execution_count": 464,
     "metadata": {},
     "output_type": "execute_result"
    }
   ],
   "source": [
    "calculate_woe(loan_data, ['mths_since_last_delinq','mths_since_last_delinq_cat'], 'is_defaulter_derv',20,50)"
   ]
  },
  {
   "cell_type": "code",
   "execution_count": null,
   "metadata": {},
   "outputs": [],
   "source": [
    "woe_df_msld['variable_name'] = \"mths_since_last_delinq\"\n",
    "woe_df_msld['min_val_'] = min_val\n",
    "woe_df_msld['max_val_'] = max_val\n",
    "woe_df_msld['count_'] = count\n",
    "woe_df_msld['count_events_'] = count_events\n",
    "woe_df_msld['count_non_events_'] = count_non_events\n",
    "woe_df_msld['%_count_events'] = round((woe_df_msld.count_events_/woe_df_msld.count_events_.sum()),4)\\\n",
    ".values*100\n",
    "\n",
    "woe_df_msld['%_non_count_events']= round((woe_df_msld.count_non_events_/woe_df_msld.count_non_events_.sum()),4)\\\n",
    ".values*100\n",
    "\n",
    "woe_df_msld['WOE'] = (woe_df_msld['%_count_events']/woe_df_msld['%_non_count_events']).apply(math.log)\n",
    "woe_df_msld['diff_event_%_non_event'] = (woe_df_msld['%_count_events'] - woe_df_msld['%_non_count_events'])\n",
    "woe_df_msld['IV'] = round((woe_df_msld['diff_event_%_non_event']*woe_df_msld['WOE']),2)"
   ]
  },
  {
   "cell_type": "code",
   "execution_count": 431,
   "metadata": {},
   "outputs": [],
   "source": [
    "dat_list = create_bins(loan_data,'mths_since_last_delinq','mths_since_last_delinq_cat',20,50)"
   ]
  },
  {
   "cell_type": "code",
   "execution_count": 433,
   "metadata": {},
   "outputs": [
    {
     "data": {
      "text/plain": [
       "3"
      ]
     },
     "execution_count": 433,
     "metadata": {},
     "output_type": "execute_result"
    }
   ],
   "source": [
    "len(dat_list)"
   ]
  },
  {
   "cell_type": "code",
   "execution_count": 428,
   "metadata": {},
   "outputs": [
    {
     "data": {
      "text/plain": [
       "interval_0    3955\n",
       "interval_1    6132\n",
       "interval_2    3585\n",
       "Name: mths_since_last_delinq_cat, dtype: int64"
      ]
     },
     "execution_count": 428,
     "metadata": {},
     "output_type": "execute_result"
    }
   ],
   "source": [
    "loan_data.mths_since_last_delinq_cat.value_counts().sort_index()"
   ]
  },
  {
   "cell_type": "code",
   "execution_count": null,
   "metadata": {},
   "outputs": [],
   "source": [
    "\n",
    "msld1 = (loan_data.mths_since_last_delinq <= 20)\n",
    "msld2 = (loan_data.mths_since_last_delinq > 20)& (loan_data.mths_since_last_delinq <= 50)\n",
    "msld3 = (loan_data.mths_since_last_delinq > 50)\n",
    "\n",
    "\n",
    "loan_data.loc[msld1,'mths_since_last_delinq_derv'] = 1 \n",
    "loan_data.loc[msld2,'mths_since_last_delinq_derv'] = 2 \n",
    "loan_data.loc[msld3,'mths_since_last_delinq_derv'] = 3\n",
    "\n",
    "\n",
    "woe_df_msld = pd.DataFrame()\n",
    "\n",
    "min_val =[\n",
    "    loan_data.loc[msld1,'mths_since_last_delinq'].min(),\n",
    "loan_data.loc[msld2,'mths_since_last_delinq'].min(),\n",
    "loan_data.loc[msld3,'mths_since_last_delinq'].min()]\n",
    "\n",
    "max_val =[\n",
    "    loan_data.loc[msld1,'mths_since_last_delinq'].max(),\n",
    "    loan_data.loc[msld2,'mths_since_last_delinq'].max(),\n",
    "    loan_data.loc[msld3,'mths_since_last_delinq'].max()\n",
    "]\n",
    "\n",
    "count_events = [\n",
    "loan_data.loc[msld1 & (loan_data.is_defaulter_derv==1),'is_defaulter_derv'].count(),\n",
    "loan_data.loc[msld2 & (loan_data.is_defaulter_derv==1),'is_defaulter_derv'].count(),\n",
    "loan_data.loc[msld3 & (loan_data.is_defaulter_derv==1),'is_defaulter_derv'].count()]\n",
    "\n",
    "count_non_events =[\n",
    "loan_data.loc[msld1 & (loan_data.is_defaulter_derv==0),'is_defaulter_derv'].count(),\n",
    "loan_data.loc[msld2 & (loan_data.is_defaulter_derv==0),'is_defaulter_derv'].count(),\n",
    "loan_data.loc[msld3 & (loan_data.is_defaulter_derv==0),'is_defaulter_derv'].count()\n",
    "]\n",
    "\n",
    "loan_data.mths_since_last_delinq_derv.value_counts().sort_index()\n",
    "\n",
    "count = loan_data.mths_since_last_delinq_derv.value_counts().sort_index().values.tolist()\n",
    "loan_data.mths_since_last_delinq_derv.value_counts().sort_index().values.tolist()\n",
    "\n",
    "woe_df_msld['variable_name'] = \"mths_since_last_delinq\"\n",
    "woe_df_msld['min_val_'] = min_val\n",
    "woe_df_msld['max_val_'] = max_val\n",
    "woe_df_msld['count_'] = count\n",
    "woe_df_msld['count_events_'] = count_events\n",
    "woe_df_msld['count_non_events_'] = count_non_events\n",
    "woe_df_msld['%_count_events'] = round((woe_df_msld.count_events_/woe_df_msld.count_events_.sum()),4)\\\n",
    ".values*100\n",
    "\n",
    "woe_df_msld['%_non_count_events']= round((woe_df_msld.count_non_events_/woe_df_msld.count_non_events_.sum()),4)\\\n",
    ".values*100\n",
    "\n",
    "woe_df_msld['WOE'] = (woe_df_msld['%_count_events']/woe_df_msld['%_non_count_events']).apply(math.log)\n",
    "woe_df_msld['diff_event_%_non_event'] = (woe_df_msld['%_count_events'] - woe_df_msld['%_non_count_events'])\n",
    "woe_df_msld['IV'] = round((woe_df_msld['diff_event_%_non_event']*woe_df_msld['WOE']),2)"
   ]
  },
  {
   "cell_type": "code",
   "execution_count": null,
   "metadata": {},
   "outputs": [],
   "source": [
    "pd.crosstab(loan_data.mths_since_last_delinq_derv,loan_data.is_defaulter_derv)\\\n",
    ".plot(kind='bar', figsize=ASP_RATIO);\n",
    "plt.savefig('bar_plot_ann_sal_vs_deflt_state.png')\n",
    "plt.grid()"
   ]
  },
  {
   "cell_type": "code",
   "execution_count": null,
   "metadata": {},
   "outputs": [],
   "source": [
    "woe_df_msld['variable_name'] = \"mths_since_last_delinq\""
   ]
  },
  {
   "cell_type": "code",
   "execution_count": null,
   "metadata": {},
   "outputs": [],
   "source": [
    "woe_df_msld"
   ]
  },
  {
   "cell_type": "code",
   "execution_count": null,
   "metadata": {},
   "outputs": [],
   "source": [
    "round(woe_df_msld.IV.sum(),2)"
   ]
  },
  {
   "cell_type": "markdown",
   "metadata": {},
   "source": [
    "<h4> <u>Public Rec is a number number of derogatory records, which lender considers risk. Comparision of it vs Target variable analysis</u> </h4>\n"
   ]
  },
  {
   "cell_type": "code",
   "execution_count": null,
   "metadata": {},
   "outputs": [],
   "source": []
  },
  {
   "cell_type": "code",
   "execution_count": null,
   "metadata": {},
   "outputs": [],
   "source": [
    "fig_ann_inc, ax_pub_rec = plt.subplots(figsize=fig_dims)\n",
    "pd.crosstab(loan_data.pub_rec,loan_data.is_defaulter_derv)\\\n",
    ".plot(kind='bar', figsize=ASP_RATIO, ax=ax_pub_rec);\n",
    "ax_pub_rec.set_title(\"PUBLIC RECORDS VS DEFAULTER STATE\", pad=20, fontsize=18)\n",
    "ax_pub_rec.set_xlabel('DEFAULTER STATE', fontsize=18, labelpad=5);\n",
    "ax_pub_rec.set_ylabel('PUBLIC RECORDS', fontsize=18, labelpad=20);\n",
    "ax_pub_rec.tick_params(axis='both', which='major', labelsize=20);\n",
    "# ax_pub_rec.set_xticklabels(['NON-DEFAULTER','DEFAULTER'], rotation=0);\n",
    "plt.grid()\n",
    "plt.savefig('bar_plot_pub_rec_vs_deflt_state.png')"
   ]
  },
  {
   "cell_type": "code",
   "execution_count": null,
   "metadata": {},
   "outputs": [],
   "source": [
    "loan_data.pub_rec.value_counts()"
   ]
  },
  {
   "cell_type": "code",
   "execution_count": null,
   "metadata": {},
   "outputs": [],
   "source": [
    "defaulter_prcnt_pub_rec = round((loan_data[loan_data.is_defaulter_derv==1]['pub_rec'].value_counts().sort_index()/\\\n",
    "loan_data[loan_data.is_defaulter_derv==1]['pub_rec'].value_counts().sum())*100,2)\n",
    "\n",
    "non_defaulter_pub_rec = round((loan_data[loan_data.is_defaulter_derv==0]['pub_rec'].value_counts().sort_index()/\\\n",
    "loan_data[loan_data.is_defaulter_derv==0]['pub_rec'].value_counts().sum())*100,2)\n",
    "\n",
    "pub_rec_dfltr_vs_non_dfltr = pd.concat([defaulter_prcnt_pub_rec, non_defaulter_pub_rec], axis='columns')\n",
    "\n",
    "pub_rec_dfltr_vs_non_dfltr.columns = ['Defaulter_prcnt', 'Non_Defaulter_prcnt']\n",
    "\n",
    "pub_rec_dfltr_vs_non_dfltr['Diff_Defaulter_prcnt_Non_Defaulter_prcnt'] = \\\n",
    "(pub_rec_dfltr_vs_non_dfltr['Defaulter_prcnt']-pub_rec_dfltr_vs_non_dfltr['Non_Defaulter_prcnt'])\n",
    "\n",
    "pub_rec_dfltr_vs_non_dfltr"
   ]
  },
  {
   "cell_type": "code",
   "execution_count": null,
   "metadata": {},
   "outputs": [],
   "source": [
    "perfrom_chi_2_test(loan_data,'pub_rec','is_defaulter_derv')"
   ]
  },
  {
   "cell_type": "markdown",
   "metadata": {},
   "source": [
    "<h4> <u>Annual Income vs Target variable analysis</u> </h4>"
   ]
  },
  {
   "cell_type": "code",
   "execution_count": null,
   "metadata": {},
   "outputs": [],
   "source": []
  },
  {
   "cell_type": "code",
   "execution_count": null,
   "metadata": {},
   "outputs": [],
   "source": [
    "MUL_1K = 10**3\n",
    "\n",
    "l1 =    (loan_data.annual_inc <= 40*MUL_1K)\n",
    "l2 =    (loan_data.annual_inc > 40*MUL_1K)& (loan_data.annual_inc <= 50*MUL_1K)\n",
    "l3 =    (loan_data.annual_inc > 50*MUL_1K)& (loan_data.annual_inc <= 80*MUL_1K)\n",
    "l4 =    (loan_data.annual_inc > 80*MUL_1K) \n",
    "\n",
    "\n",
    "loan_data.loc[l1,'annual_inc_derv'] = 1 \n",
    "loan_data.loc[l2,'annual_inc_derv'] = 2 \n",
    "loan_data.loc[l3,'annual_inc_derv'] = 3\n",
    "loan_data.loc[l4,'annual_inc_derv'] = 4\n",
    "\n",
    "\n",
    "woe_df = pd.DataFrame()\n",
    "\n",
    "min_val =[\n",
    "    loan_data.loc[l1,'annual_inc'].min(),\n",
    "loan_data.loc[l2,'annual_inc'].min(),\n",
    "loan_data.loc[l3,'annual_inc'].min(),\n",
    "    loan_data.loc[l4,'annual_inc'].min()\n",
    "]\n",
    "\n",
    "max_val =[\n",
    "    loan_data.loc[l1,'annual_inc'].max(),\n",
    "    loan_data.loc[l2,'annual_inc'].max(),\n",
    "    loan_data.loc[l3,'annual_inc'].max(),\n",
    "    loan_data.loc[l4,'annual_inc'].max()\n",
    "]\n",
    "\n",
    "count_events = [\n",
    "loan_data.loc[l1 & (loan_data.is_defaulter_derv==1),'is_defaulter_derv'].count(),\n",
    "loan_data.loc[l2 & (loan_data.is_defaulter_derv==1),'is_defaulter_derv'].count(),\n",
    "loan_data.loc[l3 & (loan_data.is_defaulter_derv==1),'is_defaulter_derv'].count(),\n",
    "    loan_data.loc[l4 & (loan_data.is_defaulter_derv==1),'is_defaulter_derv'].count()\n",
    "]\n",
    "\n",
    "count_non_events =[\n",
    "loan_data.loc[l1 & (loan_data.is_defaulter_derv==0),'is_defaulter_derv'].count(),\n",
    "loan_data.loc[l2 & (loan_data.is_defaulter_derv==0),'is_defaulter_derv'].count(),\n",
    "loan_data.loc[l3 & (loan_data.is_defaulter_derv==0),'is_defaulter_derv'].count(),\n",
    "    loan_data.loc[l4 & (loan_data.is_defaulter_derv==0),'is_defaulter_derv'].count()\n",
    "]\n",
    "\n",
    "loan_data.annual_inc_derv.value_counts().sort_index()\n",
    "\n",
    "count = loan_data.annual_inc_derv.value_counts().sort_index().values.tolist()\n",
    "loan_data.annual_inc_derv.value_counts().sort_index().values.tolist()\n",
    "\n",
    "woe_df['variable_name'] = 'annual_income'\n",
    "woe_df['min_val_'] = min_val\n",
    "woe_df['max_val_'] = max_val\n",
    "woe_df['count_'] = count\n",
    "woe_df['count_events_'] = count_events\n",
    "woe_df['count_non_events_'] = count_non_events\n",
    "woe_df['%_count_events'] = round((woe_df.count_events_/woe_df.count_events_.sum()),4).values*100\n",
    "woe_df['%_non_count_events']= round((woe_df.count_non_events_/woe_df.count_non_events_.sum()),4).values*100\n",
    "woe_df['WOE'] = (woe_df['%_count_events']/woe_df['%_non_count_events']).apply(math.log)\n",
    "woe_df['diff_event_%_non_event'] = (woe_df['%_count_events'] - woe_df['%_non_count_events'])\n",
    "woe_df['IV'] = round((woe_df['diff_event_%_non_event']*woe_df['WOE']),2)"
   ]
  },
  {
   "cell_type": "code",
   "execution_count": null,
   "metadata": {},
   "outputs": [],
   "source": []
  },
  {
   "cell_type": "code",
   "execution_count": null,
   "metadata": {},
   "outputs": [],
   "source": [
    "woe_df['variable_name'] = 'annual_income'"
   ]
  },
  {
   "cell_type": "code",
   "execution_count": null,
   "metadata": {},
   "outputs": [],
   "source": [
    "woe_df"
   ]
  },
  {
   "cell_type": "code",
   "execution_count": null,
   "metadata": {},
   "outputs": [],
   "source": [
    "woe_df.IV.sum()"
   ]
  },
  {
   "cell_type": "code",
   "execution_count": null,
   "metadata": {},
   "outputs": [],
   "source": [
    "fig_ann_inc, ax_ann_inc = plt.subplots(figsize=fig_dims)\n",
    "pd.crosstab(loan_data.annual_inc_derv,loan_data.is_defaulter_derv)\\\n",
    ".plot(kind='bar', figsize=ASP_RATIO, ax=ax_ann_inc);\n",
    "\n",
    "ax_ann_inc.set_title(\"ANNUAL INCOME VS DEFAULTER STATE\", pad=20, fontsize=18)\n",
    "ax_ann_inc.set_xlabel('DEFAULTER STATE', fontsize=18, labelpad=5);\n",
    "ax_ann_inc.set_ylabel('ANNUAL INCOME', fontsize=18, labelpad=20);\n",
    "ax_ann_inc.tick_params(axis='both', which='major', labelsize=20);\n",
    "ax_ann_inc.set_xticklabels(['<40K', '40K to 50K','50K to 80K','>80K'], rotation=0);\n",
    "plt.grid()\n",
    "plt.savefig('bar_plot_ann_sal_vs_deflt_state.png')\n"
   ]
  },
  {
   "cell_type": "code",
   "execution_count": null,
   "metadata": {},
   "outputs": [],
   "source": []
  },
  {
   "cell_type": "code",
   "execution_count": null,
   "metadata": {},
   "outputs": [],
   "source": [
    "fig_dims = ASP_RATIO\n",
    "fig, ax_ann_inc_box = plt.subplots(figsize=fig_dims)\n",
    "sns.boxplot(x='is_defaulter_derv', y='annual_inc', data=loan_data[loan_data.annual_inc < (1*(10**5))],\\\n",
    "            ax=ax_ann_inc_box);\n",
    "\n",
    "ax_ann_inc_box.set_title(\"ANNUAL INCOME VS DEFAULTER STATE\", pad=20, fontsize=18)\n",
    "ax_ann_inc_box.set_xlabel('DEFAULTER STATE', fontsize=18, labelpad=5);\n",
    "ax_ann_inc_box.set_ylabel('ANNUAL INCOME', fontsize=18, labelpad=20);\n",
    "ax_ann_inc_box.tick_params(axis='both', which='major', labelsize=20);\n",
    "ax_ann_inc_box.set_xticklabels(['NON-DEFAULTER','DEFAULTER'], rotation=0);\n",
    "plt.grid()\n",
    "plt.savefig('box_plot_ann_sal_vs_deflt_state.png')\n"
   ]
  },
  {
   "cell_type": "code",
   "execution_count": 328,
   "metadata": {},
   "outputs": [
    {
     "name": "stdout",
     "output_type": "stream",
     "text": [
      " P_value for chi_2 test between is_defaulter_derv and annual_inc_derv 0.0\n"
     ]
    }
   ],
   "source": [
    "perfrom_chi_2_test(loan_data,'is_defaulter_derv','annual_inc_derv')"
   ]
  },
  {
   "cell_type": "markdown",
   "metadata": {},
   "source": [
    "<h4> <u>Interest Amount vs Target variable analysis</u> </h4>"
   ]
  },
  {
   "cell_type": "code",
   "execution_count": 420,
   "metadata": {},
   "outputs": [],
   "source": [
    "def plot_crosstab(df=None, col_names=None, x_label=None, y_label=None, labelsize=None, \\\n",
    "                  labelpad=None, pad=None, t_fontsize=None, ax_fontsize=None, plot_title=None, \\\n",
    "                  x_ticklabels=None, rotation=None, estimator=None, color=None, ls=None, \\\n",
    "                  hline=False, vline=False, aspect_ratio=None, sub_plots=False):\n",
    "    if  ~sub_plots:\n",
    "        fig_obj, ax_obj = plt.subplots(figsize=aspect_ratio)\n",
    "\n",
    "    \n",
    "    pd.crosstab(df[col_names[0]], df[col_names[1]])\\\n",
    "    .plot(kind='bar', ax=ax_obj);\n",
    "    \n",
    "    ax_obj.set_title(plot_title, pad=pad, fontsize=t_fontsize);\n",
    "    ax_obj.set_xlabel(x_label, fontsize=ax_fontsize, labelpad=labelpad);\n",
    "    ax_obj.set_ylabel(y_label, fontsize=ax_fontsize, labelpad=labelpad);\n",
    "    ax_obj.tick_params(axis='both', which='major', labelsize=labelsize);\n",
    "    ax_obj.set_xticklabels(x_ticklabels, rotation=rotation);\n",
    "    \n",
    "    if hline:\n",
    "        ax_obj.axhline(estimator, ls=ls, color=color)\n",
    "    if vline:\n",
    "        ax_obj.axvline(estimator, ls=ls, color=color)\n",
    "    "
   ]
  },
  {
   "cell_type": "code",
   "execution_count": 421,
   "metadata": {},
   "outputs": [
    {
     "data": {
      "image/png": "[encoded data removed]",
      "text/plain": [
       "<Figure size 864x576 with 1 Axes>"
      ]
     },
     "metadata": {
      "needs_background": "light"
     },
     "output_type": "display_data"
    }
   ],
   "source": [
    "\n",
    "\n",
    "label_name={'plot_title':\"INTEREST RATE AMOUNT DISTRIBUTION BY DEFAULTER STATE\",\n",
    "    'x_label':\"IS_DEFAULTER\",\n",
    "    'y_label':\"INTEREST RATE AMOUNT\",\n",
    "    't_fontsize':20,\n",
    "    'ax_fontsize':18,\n",
    "    'labelpad':20,\n",
    "    'labelsize':12,\n",
    "    'pad':20,\n",
    "    'x_ticklabels':['A','B','C','D','E'],\n",
    "    'color':'r',\n",
    "    'ls':'--',\n",
    "    'hline':True,\n",
    "    'estimator':loan_data.int_rate_amt_derv_encode.value_counts().mean(),\n",
    "    'df':loan_data,\n",
    "    'col_names':['int_rate_amt_derv_encode','is_defaulter_derv'],\n",
    "    'aspect_ratio':(12,8)\n",
    "           }\n",
    "\n",
    "\n",
    "\n",
    "plot_crosstab(**label_name)\n",
    "\n",
    "# ax_int_rate_amnt_bar.set(**label_name)\n",
    "# ax_int_rate_amnt_bar.axhline(loan_data.int_rate_amt_encode.value_counts().mean(), ls='--', color='r')\n",
    "# ax_int_rate_amnt_bar.set_title(\"INTEREST RATE AMOUNT DISTRIBUTION BY DEFAULTER STATE\", pad=20, fontsize=18)\n",
    "# ax_int_rate_amnt_bar.set_xlabel('IS_DEFAULTER', fontsize=18, labelpad=5);\n",
    "# ax_int_rate_amnt_bar.set_ylabel('INTEREST RATE AMOUNT', fontsize=18, labelpad=20);\n",
    "# ax_int_rate_amnt_bar.tick_params(axis='both', which='major', labelsize=12);\n",
    "# ax_int_rate_amnt_bar.set_xticklabels(['0 to 20K','20K to 50K','50K to 80K','80K to 100K','100K to inf']\\\n",
    "#                                     , rotation=30);\n",
    "plt.grid()\n",
    "# plt.savefig('bar_int_rate_vs_defaulter.png')"
   ]
  },
  {
   "cell_type": "code",
   "execution_count": 315,
   "metadata": {},
   "outputs": [
    {
     "data": {
      "image/png": "[encoded data removed]",
      "text/plain": [
       "<Figure size 864x432 with 1 Axes>"
      ]
     },
     "metadata": {
      "needs_background": "light"
     },
     "output_type": "display_data"
    }
   ],
   "source": [
    "fig_int_rate_amnt_bar, ax_int_rate_amnt_box = plt.subplots(figsize=fig_dims)\n",
    "sns.boxplot(x='is_defaulter_derv', y='int_rate_amt_derv', data=loan_data, ax=ax_int_rate_amnt_box);\n",
    "ax_int_rate_amnt_box.set_title(\"INTEREST RATE AMOUNT DISTRIBUTION BY DEFAULTER STATE\", pad=20, fontsize=18)\n",
    "ax_int_rate_amnt_box.set_xlabel('IS_DEFAULTER', fontsize=18, labelpad=5);\n",
    "ax_int_rate_amnt_box.set_ylabel('INTEREST RATE AMOUNT', fontsize=18, labelpad=20);\n",
    "ax_int_rate_amnt_box.tick_params(axis='both', which='major', labelsize=20);\n",
    "ax_int_rate_amnt_box.set_xticklabels(['NON-DEFAULTER','DEFAULTER'], rotation=0)\n",
    "plt.grid()\n",
    "plt.savefig('box_int_rate_amnt.png')"
   ]
  },
  {
   "cell_type": "code",
   "execution_count": 331,
   "metadata": {},
   "outputs": [
    {
     "name": "stdout",
     "output_type": "stream",
     "text": [
      " P_value for chi_2 test between int_rate_amt_derv_encode and is_defaulter_derv 0.0\n"
     ]
    }
   ],
   "source": [
    "perfrom_chi_2_test(loan_data,'int_rate_amt_derv_encode','is_defaulter_derv')"
   ]
  },
  {
   "cell_type": "markdown",
   "metadata": {},
   "source": [
    "<h4> <u>The actual investment amount issued vs Target variable analysis</u> </h4>"
   ]
  },
  {
   "cell_type": "code",
   "execution_count": 332,
   "metadata": {},
   "outputs": [
    {
     "data": {
      "image/png": "[encoded data removed]",
      "text/plain": [
       "<Figure size 864x432 with 1 Axes>"
      ]
     },
     "metadata": {
      "needs_background": "light"
     },
     "output_type": "display_data"
    },
    {
     "data": {
      "image/png": "[encoded data removed]",
      "text/plain": [
       "<Figure size 864x432 with 1 Axes>"
      ]
     },
     "metadata": {
      "needs_background": "light"
     },
     "output_type": "display_data"
    }
   ],
   "source": [
    "fig_funded_amnt_inv, ax_funded_amnt_inv = plt.subplots(figsize=ASP_RATIO) \n",
    "pd.crosstab(loan_data.funded_amnt_inv_encode_derv,loan_data.is_defaulter_derv)\\\n",
    ".plot(kind='bar', figsize=ASP_RATIO);\n",
    "ax_funded_amnt_inv.set_title(\"ACTUAL INVESTMENT AMOUNT BY DEFAULTER STATE\", pad=20, fontsize=18)\n",
    "ax_funded_amnt_inv.set_xlabel('IS_DEFAULTER', fontsize=18, labelpad=5);\n",
    "ax_funded_amnt_inv.set_ylabel('ACTUAL INVESTMENT AMOUNT', fontsize=18, labelpad=20);\n",
    "# ax_funded_amnt_inv.tick_params(axis='both', which='major', labelsize=20);\n",
    "# ax_funded_amnt_inv.set_xticklabels(['NON-DEFAULTER','DEFAULTER'], rotation=0)\n",
    "\n"
   ]
  },
  {
   "cell_type": "code",
   "execution_count": 333,
   "metadata": {},
   "outputs": [
    {
     "data": {
      "image/png": "[encoded data removed]",
      "text/plain": [
       "<Figure size 864x432 with 1 Axes>"
      ]
     },
     "metadata": {
      "needs_background": "light"
     },
     "output_type": "display_data"
    }
   ],
   "source": [
    "fig2, ax2 = plt.subplots(figsize=fig_dims)\n",
    "sns.boxplot(x='is_defaulter_derv', y='funded_amnt_inv', data=loan_data, ax=ax2);"
   ]
  },
  {
   "cell_type": "code",
   "execution_count": null,
   "metadata": {},
   "outputs": [],
   "source": []
  },
  {
   "cell_type": "code",
   "execution_count": 334,
   "metadata": {},
   "outputs": [
    {
     "name": "stdout",
     "output_type": "stream",
     "text": [
      " P_value for chi_2 test between funded_amnt_inv_encode_derv and is_defaulter_derv 0.0\n"
     ]
    }
   ],
   "source": [
    "perfrom_chi_2_test(loan_data,'funded_amnt_inv_encode_derv','is_defaulter_derv')"
   ]
  },
  {
   "cell_type": "markdown",
   "metadata": {},
   "source": [
    "<h4> <u>Purpose vs Target variable analysis</u> </h4>"
   ]
  },
  {
   "cell_type": "code",
   "execution_count": null,
   "metadata": {},
   "outputs": [],
   "source": []
  },
  {
   "cell_type": "code",
   "execution_count": 335,
   "metadata": {},
   "outputs": [
    {
     "data": {
      "image/png": "[encoded data removed]",
      "text/plain": [
       "<Figure size 864x432 with 1 Axes>"
      ]
     },
     "metadata": {
      "needs_background": "light"
     },
     "output_type": "display_data"
    }
   ],
   "source": [
    "purpose_labels=[label.upper() for label in loan_data.purpose.unique().tolist()]\n",
    "fig_purpose_bar, ax_purpose_bar = plt.subplots(figsize=fig_dims)\n",
    "pd.crosstab(loan_data.purpose,loan_data.is_defaulter_derv)\\\n",
    ".plot(kind='bar', figsize=ASP_RATIO, ax=ax_purpose_bar);\n",
    "\n",
    "ax_purpose_bar.set_title(\"PURPOSE VS DEFAULTER STATE\", pad=20, fontsize=18)\n",
    "ax_purpose_bar.set_xlabel('IS_DEFAULTER', fontsize=18, labelpad=5);\n",
    "ax_purpose_bar.set_ylabel('COUNT', fontsize=18, labelpad=20);\n",
    "ax_purpose_bar.tick_params(axis='both', which='major', labelsize=8);\n",
    "ax_purpose_bar.set_xticklabels(purpose_labels, rotation=30)\n",
    "plt.savefig('bar_purpose.png')\n",
    "plt.grid()"
   ]
  },
  {
   "cell_type": "markdown",
   "metadata": {},
   "source": [
    "Purpose of the loan plays a significant role in determing the chances of getting default or not. As it can be observed that if the loan purpose is debt_consolidation, home_improvement, other, small_business and credit_card then there are chances of getting default is high unlike other loan purpose. "
   ]
  },
  {
   "cell_type": "code",
   "execution_count": 336,
   "metadata": {},
   "outputs": [
    {
     "name": "stdout",
     "output_type": "stream",
     "text": [
      " P_value for chi_2 test between is_defaulter_derv and purpose 0.0\n"
     ]
    }
   ],
   "source": [
    "perfrom_chi_2_test(loan_data,'is_defaulter_derv','purpose')"
   ]
  },
  {
   "cell_type": "markdown",
   "metadata": {},
   "source": [
    "<h4> <u>Home Ownership vs Target variable analysis</u> </h4>"
   ]
  },
  {
   "cell_type": "code",
   "execution_count": null,
   "metadata": {},
   "outputs": [],
   "source": []
  },
  {
   "cell_type": "code",
   "execution_count": 337,
   "metadata": {},
   "outputs": [
    {
     "data": {
      "image/png": "[encoded data removed]",
      "text/plain": [
       "<Figure size 864x432 with 1 Axes>"
      ]
     },
     "metadata": {
      "needs_background": "light"
     },
     "output_type": "display_data"
    }
   ],
   "source": [
    "home_own_labels=[label.upper() for label in loan_data.home_ownership.unique().tolist()]\n",
    "fig_int_rate_amnt_bar, ax_home_ownership = plt.subplots(figsize=fig_dims)\n",
    "pd.crosstab(loan_data.home_ownership,loan_data.is_defaulter_derv)\\\n",
    ".plot(kind='bar', figsize=ASP_RATIO, ax=ax_home_ownership);\n",
    "\n",
    "ax_home_ownership.set_title(\"HOME OWNERSHIP VS DEFAULTER STATE\", pad=10, fontsize=10)\n",
    "ax_home_ownership.set_xlabel('IS_DEFAULTER', fontsize=10);\n",
    "ax_home_ownership.set_ylabel('COUNT', fontsize=14, labelpad=5);\n",
    "ax_home_ownership.tick_params(axis='both', which='major', labelsize=10, rotation=30);\n",
    "# ax_home_ownership.set_xticklabels(home_own_labels, rotation=30)\n",
    "\n",
    "plt.legend(loc=1,prop={'size': 15});\n",
    "plt.grid()\n",
    "plt.savefig('home_own_bar.png')"
   ]
  },
  {
   "cell_type": "markdown",
   "metadata": {},
   "source": [
    "It seems the one who owns has lesser chance of becoming defaulter and greater for those who are on rent and mortgage"
   ]
  },
  {
   "cell_type": "code",
   "execution_count": 338,
   "metadata": {},
   "outputs": [
    {
     "name": "stdout",
     "output_type": "stream",
     "text": [
      " P_value for chi_2 test between home_ownership and is_defaulter_derv 0.0\n"
     ]
    }
   ],
   "source": [
    "perfrom_chi_2_test(loan_data,'home_ownership','is_defaulter_derv')"
   ]
  },
  {
   "cell_type": "markdown",
   "metadata": {},
   "source": [
    "<h4> <u>Grade vs Target variable analysis</u> </h4>"
   ]
  },
  {
   "cell_type": "code",
   "execution_count": null,
   "metadata": {},
   "outputs": [],
   "source": []
  },
  {
   "cell_type": "code",
   "execution_count": 339,
   "metadata": {},
   "outputs": [
    {
     "data": {
      "image/png": "[encoded data removed]",
      "text/plain": [
       "<Figure size 1440x576 with 2 Axes>"
      ]
     },
     "metadata": {
      "needs_background": "light"
     },
     "output_type": "display_data"
    }
   ],
   "source": [
    "fig_grade, ax_grade = plt.subplots(1,2, figsize=(20,8))\n",
    "\n",
    "loan_data[loan_data.is_defaulter_derv==0]['grade']\\\n",
    ".value_counts()\\\n",
    ".sort_index()\\\n",
    ".plot(kind='bar', ax=ax_grade[0]);\n",
    "\n",
    "loan_data[loan_data.is_defaulter_derv==1]['grade']\\\n",
    ".value_counts()\\\n",
    ".sort_index()\\\n",
    ".plot(kind='bar', ax=ax_grade[1]);\n",
    "\n",
    "ax_grade[0].set_title(\"GRADE count BY Defaulter\", pad=20, fontsize=18)\n",
    "ax_grade[0].set_xlabel('GRADE', fontsize=18, labelpad=20);\n",
    "ax_grade[0].set_ylabel('COUNT', fontsize=18, labelpad=20);\n",
    "ax_grade[0].tick_params(axis='both', which='major', labelsize=20);\n",
    "ax_grade[0].grid()\n",
    "\n",
    "ax_grade[1].set_title(\"GRADE count BY Non_Defaulter\", pad=20, fontsize=18)\n",
    "ax_grade[1].set_xlabel('GRADE', fontsize=18, labelpad=20);\n",
    "ax_grade[1].set_ylabel('COUNT', fontsize=18, labelpad=20);\n",
    "\n",
    "ax_grade[1].tick_params(axis='both', which='major', labelsize=20);\n",
    "\n",
    "ax_grade[1].grid()"
   ]
  },
  {
   "cell_type": "code",
   "execution_count": 340,
   "metadata": {},
   "outputs": [
    {
     "data": {
      "text/html": [
       "<div>\n",
       "<style scoped>\n",
       "    .dataframe tbody tr th:only-of-type {\n",
       "        vertical-align: middle;\n",
       "    }\n",
       "\n",
       "    .dataframe tbody tr th {\n",
       "        vertical-align: top;\n",
       "    }\n",
       "\n",
       "    .dataframe thead th {\n",
       "        text-align: right;\n",
       "    }\n",
       "</style>\n",
       "<table border=\"1\" class=\"dataframe\">\n",
       "  <thead>\n",
       "    <tr style=\"text-align: right;\">\n",
       "      <th></th>\n",
       "      <th>Defaulter_prcnt</th>\n",
       "      <th>Non_Defaulter_prcnt</th>\n",
       "      <th>Diff_Defaulter_prcnt_Non_Defaulter_prcnt</th>\n",
       "    </tr>\n",
       "  </thead>\n",
       "  <tbody>\n",
       "    <tr>\n",
       "      <th>A</th>\n",
       "      <td>10.70</td>\n",
       "      <td>28.66</td>\n",
       "      <td>-17.96</td>\n",
       "    </tr>\n",
       "    <tr>\n",
       "      <th>B</th>\n",
       "      <td>25.32</td>\n",
       "      <td>31.11</td>\n",
       "      <td>-5.79</td>\n",
       "    </tr>\n",
       "    <tr>\n",
       "      <th>C</th>\n",
       "      <td>23.94</td>\n",
       "      <td>19.69</td>\n",
       "      <td>4.25</td>\n",
       "    </tr>\n",
       "    <tr>\n",
       "      <th>D</th>\n",
       "      <td>19.87</td>\n",
       "      <td>12.04</td>\n",
       "      <td>7.83</td>\n",
       "    </tr>\n",
       "    <tr>\n",
       "      <th>E</th>\n",
       "      <td>12.71</td>\n",
       "      <td>5.91</td>\n",
       "      <td>6.80</td>\n",
       "    </tr>\n",
       "    <tr>\n",
       "      <th>F</th>\n",
       "      <td>5.67</td>\n",
       "      <td>1.99</td>\n",
       "      <td>3.68</td>\n",
       "    </tr>\n",
       "    <tr>\n",
       "      <th>G</th>\n",
       "      <td>1.79</td>\n",
       "      <td>0.60</td>\n",
       "      <td>1.19</td>\n",
       "    </tr>\n",
       "  </tbody>\n",
       "</table>\n",
       "</div>"
      ],
      "text/plain": [
       "   Defaulter_prcnt  Non_Defaulter_prcnt  \\\n",
       "A            10.70                28.66   \n",
       "B            25.32                31.11   \n",
       "C            23.94                19.69   \n",
       "D            19.87                12.04   \n",
       "E            12.71                 5.91   \n",
       "F             5.67                 1.99   \n",
       "G             1.79                 0.60   \n",
       "\n",
       "   Diff_Defaulter_prcnt_Non_Defaulter_prcnt  \n",
       "A                                    -17.96  \n",
       "B                                     -5.79  \n",
       "C                                      4.25  \n",
       "D                                      7.83  \n",
       "E                                      6.80  \n",
       "F                                      3.68  \n",
       "G                                      1.19  "
      ]
     },
     "execution_count": 340,
     "metadata": {},
     "output_type": "execute_result"
    }
   ],
   "source": [
    "defaulter_prcnt = round((loan_data[loan_data.is_defaulter_derv==1]['grade'].value_counts().sort_index()/\\\n",
    "loan_data[loan_data.is_defaulter_derv==1]['grade'].value_counts().sum())*100,2)\n",
    "\n",
    "non_defaulter_prcnt = round((loan_data[loan_data.is_defaulter_derv==0]['grade'].value_counts().sort_index()/\\\n",
    "loan_data[loan_data.is_defaulter_derv==0]['grade'].value_counts().sum())*100,2)\n",
    "\n",
    "grade_dfltr_vs_non_dfltr = pd.concat([defaulter_prcnt, non_defaulter_prcnt], axis='columns')\n",
    "\n",
    "grade_dfltr_vs_non_dfltr.columns = ['Defaulter_prcnt', 'Non_Defaulter_prcnt']\n",
    "\n",
    "grade_dfltr_vs_non_dfltr['Diff_Defaulter_prcnt_Non_Defaulter_prcnt'] = \\\n",
    "(grade_dfltr_vs_non_dfltr['Defaulter_prcnt']-grade_dfltr_vs_non_dfltr['Non_Defaulter_prcnt'])\n",
    "\n",
    "grade_dfltr_vs_non_dfltr"
   ]
  },
  {
   "cell_type": "markdown",
   "metadata": {},
   "source": [
    "<h4>Findings : When the target variable moves from Non_Defaulter to Defaulter</h4>\n",
    "<ol>\n",
    "    <li>There is a significant negative change of <b>(-17.96)% in GRADE A.</b></li>\n",
    "    <li>There is a significant negative change of <b>(-5.79)% in GRADE B.</b> </li>\n",
    "    <li>There is a significant positive change of <b>4.25% in GRADE C.</b></li>\n",
    "    <li>There is a significant positive change of <b>7.83% in GRADE D.</b></li>\n",
    "    <li>There is a significant positive change of <b>6.80% in GRADE E.</b></li>\n",
    "    <li>There is a significant positive change of <b>3.68% in GRADE F.</b></li>\n",
    "    <li>There is a slight positive change of <b>1.19% in GRADE G.</b></li>\n",
    "</ol>"
   ]
  },
  {
   "cell_type": "markdown",
   "metadata": {},
   "source": [
    "<h4> <u>Loan issue month vs Target variable analysis</u> </h4>"
   ]
  },
  {
   "cell_type": "code",
   "execution_count": null,
   "metadata": {},
   "outputs": [],
   "source": []
  },
  {
   "cell_type": "code",
   "execution_count": 341,
   "metadata": {},
   "outputs": [],
   "source": [
    "loan_data['issue_month_derv']= loan_data.issue_d.apply(lambda val: val.split('-')[0])"
   ]
  },
  {
   "cell_type": "code",
   "execution_count": 342,
   "metadata": {},
   "outputs": [
    {
     "data": {
      "image/png": "[encoded data removed]",
      "text/plain": [
       "<Figure size 864x432 with 1 Axes>"
      ]
     },
     "metadata": {
      "needs_background": "light"
     },
     "output_type": "display_data"
    }
   ],
   "source": [
    "fig_issue_mnth, ax_issue_mnth = plt.subplots()\n",
    "loan_data[loan_data.is_defaulter_derv==1].groupby('issue_month_derv')['is_defaulter_derv']\\\n",
    ".value_counts()\\\n",
    ".sort_index().unstack().plot(figsize=ASP_RATIO, ax=ax_issue_mnth, legend=False)\n",
    "ax_issue_mnth.set_title(\"ISSUE MONTH VS DEFAULTERS\", pad=20, fontsize=18)\n",
    "ax_issue_mnth.set_xlabel('ISSUE MONTH', fontsize=18, labelpad=5);\n",
    "ax_issue_mnth.set_ylabel('DEFAULTER COUNT', fontsize=18, labelpad=20);\n",
    "ax_issue_mnth.tick_params(axis='both', which='major', labelsize=20);\n",
    "# ax_issue_mnth.set_xticklabels(['<40K', '40K to 50K','50K to 80K','>80K'], rotation=0);\n",
    "\n",
    "plt.savefig('issue_month_dfltr.png')\n",
    "plt.grid()"
   ]
  },
  {
   "cell_type": "code",
   "execution_count": null,
   "metadata": {},
   "outputs": [],
   "source": [
    "\n"
   ]
  },
  {
   "cell_type": "markdown",
   "metadata": {},
   "source": [
    "<h4> <u>Employee experience vs Target variable analysis</u> </h4>"
   ]
  },
  {
   "cell_type": "code",
   "execution_count": 343,
   "metadata": {},
   "outputs": [
    {
     "data": {
      "text/plain": [
       "5399"
      ]
     },
     "execution_count": 343,
     "metadata": {},
     "output_type": "execute_result"
    }
   ],
   "source": [
    "loan_data[loan_data['is_defaulter_derv']==1]['emp_length'].count()"
   ]
  },
  {
   "cell_type": "code",
   "execution_count": 353,
   "metadata": {},
   "outputs": [],
   "source": [
    "loan_data.emp_length.fillna(loan_data.emp_length.mode(),inplace =True)"
   ]
  },
  {
   "cell_type": "code",
   "execution_count": 395,
   "metadata": {},
   "outputs": [],
   "source": [
    "df_pivot = pd.crosstab([loan_data.home_ownership,loan_data.grade,loan_data.emp_length]\\\n",
    "                       ,loan_data.is_defaulter_derv)"
   ]
  },
  {
   "cell_type": "code",
   "execution_count": 396,
   "metadata": {},
   "outputs": [],
   "source": [
    "df_pivot['defaulter_%'] = df_pivot[0].apply(lambda val: round((val/(df_pivot[0].sum()))*100,2))"
   ]
  },
  {
   "cell_type": "code",
   "execution_count": 397,
   "metadata": {},
   "outputs": [],
   "source": [
    "df_pivot['non_defaulter_%'] = df_pivot[1].apply(lambda val: round((val/(df_pivot[0].sum()))*100,2))"
   ]
  },
  {
   "cell_type": "code",
   "execution_count": 398,
   "metadata": {},
   "outputs": [
    {
     "data": {
      "text/html": [
       "<div>\n",
       "<style scoped>\n",
       "    .dataframe tbody tr th:only-of-type {\n",
       "        vertical-align: middle;\n",
       "    }\n",
       "\n",
       "    .dataframe tbody tr th {\n",
       "        vertical-align: top;\n",
       "    }\n",
       "\n",
       "    .dataframe thead th {\n",
       "        text-align: right;\n",
       "    }\n",
       "</style>\n",
       "<table border=\"1\" class=\"dataframe\">\n",
       "  <thead>\n",
       "    <tr style=\"text-align: right;\">\n",
       "      <th></th>\n",
       "      <th></th>\n",
       "      <th>is_defaulter_derv</th>\n",
       "      <th>0</th>\n",
       "      <th>1</th>\n",
       "      <th>defaulter_%</th>\n",
       "      <th>non_defaulter_%</th>\n",
       "    </tr>\n",
       "    <tr>\n",
       "      <th>home_ownership</th>\n",
       "      <th>grade</th>\n",
       "      <th>emp_length</th>\n",
       "      <th></th>\n",
       "      <th></th>\n",
       "      <th></th>\n",
       "      <th></th>\n",
       "    </tr>\n",
       "  </thead>\n",
       "  <tbody>\n",
       "    <tr>\n",
       "      <th rowspan=\"30\" valign=\"top\">MORTGAGE</th>\n",
       "      <th rowspan=\"11\" valign=\"top\">A</th>\n",
       "      <th>1 year</th>\n",
       "      <td>238</td>\n",
       "      <td>15</td>\n",
       "      <td>0.74</td>\n",
       "      <td>0.05</td>\n",
       "    </tr>\n",
       "    <tr>\n",
       "      <th>10+ years</th>\n",
       "      <td>1482</td>\n",
       "      <td>81</td>\n",
       "      <td>4.61</td>\n",
       "      <td>0.25</td>\n",
       "    </tr>\n",
       "    <tr>\n",
       "      <th>2 years</th>\n",
       "      <td>390</td>\n",
       "      <td>14</td>\n",
       "      <td>1.21</td>\n",
       "      <td>0.04</td>\n",
       "    </tr>\n",
       "    <tr>\n",
       "      <th>3 years</th>\n",
       "      <td>442</td>\n",
       "      <td>22</td>\n",
       "      <td>1.38</td>\n",
       "      <td>0.07</td>\n",
       "    </tr>\n",
       "    <tr>\n",
       "      <th>4 years</th>\n",
       "      <td>374</td>\n",
       "      <td>16</td>\n",
       "      <td>1.16</td>\n",
       "      <td>0.05</td>\n",
       "    </tr>\n",
       "    <tr>\n",
       "      <th>5 years</th>\n",
       "      <td>407</td>\n",
       "      <td>21</td>\n",
       "      <td>1.27</td>\n",
       "      <td>0.07</td>\n",
       "    </tr>\n",
       "    <tr>\n",
       "      <th>6 years</th>\n",
       "      <td>309</td>\n",
       "      <td>15</td>\n",
       "      <td>0.96</td>\n",
       "      <td>0.05</td>\n",
       "    </tr>\n",
       "    <tr>\n",
       "      <th>7 years</th>\n",
       "      <td>253</td>\n",
       "      <td>6</td>\n",
       "      <td>0.79</td>\n",
       "      <td>0.02</td>\n",
       "    </tr>\n",
       "    <tr>\n",
       "      <th>8 years</th>\n",
       "      <td>230</td>\n",
       "      <td>15</td>\n",
       "      <td>0.72</td>\n",
       "      <td>0.05</td>\n",
       "    </tr>\n",
       "    <tr>\n",
       "      <th>9 years</th>\n",
       "      <td>209</td>\n",
       "      <td>14</td>\n",
       "      <td>0.65</td>\n",
       "      <td>0.04</td>\n",
       "    </tr>\n",
       "    <tr>\n",
       "      <th>&lt; 1 year</th>\n",
       "      <td>370</td>\n",
       "      <td>25</td>\n",
       "      <td>1.15</td>\n",
       "      <td>0.08</td>\n",
       "    </tr>\n",
       "    <tr>\n",
       "      <th rowspan=\"11\" valign=\"top\">B</th>\n",
       "      <th>1 year</th>\n",
       "      <td>260</td>\n",
       "      <td>34</td>\n",
       "      <td>0.81</td>\n",
       "      <td>0.11</td>\n",
       "    </tr>\n",
       "    <tr>\n",
       "      <th>10+ years</th>\n",
       "      <td>1345</td>\n",
       "      <td>184</td>\n",
       "      <td>4.18</td>\n",
       "      <td>0.57</td>\n",
       "    </tr>\n",
       "    <tr>\n",
       "      <th>2 years</th>\n",
       "      <td>415</td>\n",
       "      <td>45</td>\n",
       "      <td>1.29</td>\n",
       "      <td>0.14</td>\n",
       "    </tr>\n",
       "    <tr>\n",
       "      <th>3 years</th>\n",
       "      <td>399</td>\n",
       "      <td>44</td>\n",
       "      <td>1.24</td>\n",
       "      <td>0.14</td>\n",
       "    </tr>\n",
       "    <tr>\n",
       "      <th>4 years</th>\n",
       "      <td>341</td>\n",
       "      <td>52</td>\n",
       "      <td>1.06</td>\n",
       "      <td>0.16</td>\n",
       "    </tr>\n",
       "    <tr>\n",
       "      <th>5 years</th>\n",
       "      <td>402</td>\n",
       "      <td>56</td>\n",
       "      <td>1.25</td>\n",
       "      <td>0.17</td>\n",
       "    </tr>\n",
       "    <tr>\n",
       "      <th>6 years</th>\n",
       "      <td>266</td>\n",
       "      <td>31</td>\n",
       "      <td>0.83</td>\n",
       "      <td>0.10</td>\n",
       "    </tr>\n",
       "    <tr>\n",
       "      <th>7 years</th>\n",
       "      <td>219</td>\n",
       "      <td>36</td>\n",
       "      <td>0.68</td>\n",
       "      <td>0.11</td>\n",
       "    </tr>\n",
       "    <tr>\n",
       "      <th>8 years</th>\n",
       "      <td>193</td>\n",
       "      <td>25</td>\n",
       "      <td>0.60</td>\n",
       "      <td>0.08</td>\n",
       "    </tr>\n",
       "    <tr>\n",
       "      <th>9 years</th>\n",
       "      <td>177</td>\n",
       "      <td>15</td>\n",
       "      <td>0.55</td>\n",
       "      <td>0.05</td>\n",
       "    </tr>\n",
       "    <tr>\n",
       "      <th>&lt; 1 year</th>\n",
       "      <td>291</td>\n",
       "      <td>50</td>\n",
       "      <td>0.91</td>\n",
       "      <td>0.16</td>\n",
       "    </tr>\n",
       "    <tr>\n",
       "      <th rowspan=\"8\" valign=\"top\">C</th>\n",
       "      <th>1 year</th>\n",
       "      <td>166</td>\n",
       "      <td>33</td>\n",
       "      <td>0.52</td>\n",
       "      <td>0.10</td>\n",
       "    </tr>\n",
       "    <tr>\n",
       "      <th>10+ years</th>\n",
       "      <td>809</td>\n",
       "      <td>173</td>\n",
       "      <td>2.52</td>\n",
       "      <td>0.54</td>\n",
       "    </tr>\n",
       "    <tr>\n",
       "      <th>2 years</th>\n",
       "      <td>195</td>\n",
       "      <td>40</td>\n",
       "      <td>0.61</td>\n",
       "      <td>0.12</td>\n",
       "    </tr>\n",
       "    <tr>\n",
       "      <th>3 years</th>\n",
       "      <td>240</td>\n",
       "      <td>53</td>\n",
       "      <td>0.75</td>\n",
       "      <td>0.16</td>\n",
       "    </tr>\n",
       "    <tr>\n",
       "      <th>4 years</th>\n",
       "      <td>222</td>\n",
       "      <td>29</td>\n",
       "      <td>0.69</td>\n",
       "      <td>0.09</td>\n",
       "    </tr>\n",
       "    <tr>\n",
       "      <th>5 years</th>\n",
       "      <td>189</td>\n",
       "      <td>50</td>\n",
       "      <td>0.59</td>\n",
       "      <td>0.16</td>\n",
       "    </tr>\n",
       "    <tr>\n",
       "      <th>6 years</th>\n",
       "      <td>167</td>\n",
       "      <td>36</td>\n",
       "      <td>0.52</td>\n",
       "      <td>0.11</td>\n",
       "    </tr>\n",
       "    <tr>\n",
       "      <th>7 years</th>\n",
       "      <td>132</td>\n",
       "      <td>30</td>\n",
       "      <td>0.41</td>\n",
       "      <td>0.09</td>\n",
       "    </tr>\n",
       "    <tr>\n",
       "      <th>...</th>\n",
       "      <th>...</th>\n",
       "      <th>...</th>\n",
       "      <td>...</td>\n",
       "      <td>...</td>\n",
       "      <td>...</td>\n",
       "      <td>...</td>\n",
       "    </tr>\n",
       "    <tr>\n",
       "      <th rowspan=\"30\" valign=\"top\">RENT</th>\n",
       "      <th rowspan=\"8\" valign=\"top\">E</th>\n",
       "      <th>3 years</th>\n",
       "      <td>104</td>\n",
       "      <td>36</td>\n",
       "      <td>0.32</td>\n",
       "      <td>0.11</td>\n",
       "    </tr>\n",
       "    <tr>\n",
       "      <th>4 years</th>\n",
       "      <td>91</td>\n",
       "      <td>35</td>\n",
       "      <td>0.28</td>\n",
       "      <td>0.11</td>\n",
       "    </tr>\n",
       "    <tr>\n",
       "      <th>5 years</th>\n",
       "      <td>79</td>\n",
       "      <td>32</td>\n",
       "      <td>0.25</td>\n",
       "      <td>0.10</td>\n",
       "    </tr>\n",
       "    <tr>\n",
       "      <th>6 years</th>\n",
       "      <td>52</td>\n",
       "      <td>19</td>\n",
       "      <td>0.16</td>\n",
       "      <td>0.06</td>\n",
       "    </tr>\n",
       "    <tr>\n",
       "      <th>7 years</th>\n",
       "      <td>45</td>\n",
       "      <td>18</td>\n",
       "      <td>0.14</td>\n",
       "      <td>0.06</td>\n",
       "    </tr>\n",
       "    <tr>\n",
       "      <th>8 years</th>\n",
       "      <td>23</td>\n",
       "      <td>12</td>\n",
       "      <td>0.07</td>\n",
       "      <td>0.04</td>\n",
       "    </tr>\n",
       "    <tr>\n",
       "      <th>9 years</th>\n",
       "      <td>27</td>\n",
       "      <td>11</td>\n",
       "      <td>0.08</td>\n",
       "      <td>0.03</td>\n",
       "    </tr>\n",
       "    <tr>\n",
       "      <th>&lt; 1 year</th>\n",
       "      <td>150</td>\n",
       "      <td>51</td>\n",
       "      <td>0.47</td>\n",
       "      <td>0.16</td>\n",
       "    </tr>\n",
       "    <tr>\n",
       "      <th rowspan=\"11\" valign=\"top\">F</th>\n",
       "      <th>1 year</th>\n",
       "      <td>25</td>\n",
       "      <td>17</td>\n",
       "      <td>0.08</td>\n",
       "      <td>0.05</td>\n",
       "    </tr>\n",
       "    <tr>\n",
       "      <th>10+ years</th>\n",
       "      <td>41</td>\n",
       "      <td>31</td>\n",
       "      <td>0.13</td>\n",
       "      <td>0.10</td>\n",
       "    </tr>\n",
       "    <tr>\n",
       "      <th>2 years</th>\n",
       "      <td>42</td>\n",
       "      <td>18</td>\n",
       "      <td>0.13</td>\n",
       "      <td>0.06</td>\n",
       "    </tr>\n",
       "    <tr>\n",
       "      <th>3 years</th>\n",
       "      <td>43</td>\n",
       "      <td>14</td>\n",
       "      <td>0.13</td>\n",
       "      <td>0.04</td>\n",
       "    </tr>\n",
       "    <tr>\n",
       "      <th>4 years</th>\n",
       "      <td>31</td>\n",
       "      <td>16</td>\n",
       "      <td>0.10</td>\n",
       "      <td>0.05</td>\n",
       "    </tr>\n",
       "    <tr>\n",
       "      <th>5 years</th>\n",
       "      <td>26</td>\n",
       "      <td>10</td>\n",
       "      <td>0.08</td>\n",
       "      <td>0.03</td>\n",
       "    </tr>\n",
       "    <tr>\n",
       "      <th>6 years</th>\n",
       "      <td>13</td>\n",
       "      <td>7</td>\n",
       "      <td>0.04</td>\n",
       "      <td>0.02</td>\n",
       "    </tr>\n",
       "    <tr>\n",
       "      <th>7 years</th>\n",
       "      <td>17</td>\n",
       "      <td>8</td>\n",
       "      <td>0.05</td>\n",
       "      <td>0.02</td>\n",
       "    </tr>\n",
       "    <tr>\n",
       "      <th>8 years</th>\n",
       "      <td>12</td>\n",
       "      <td>5</td>\n",
       "      <td>0.04</td>\n",
       "      <td>0.02</td>\n",
       "    </tr>\n",
       "    <tr>\n",
       "      <th>9 years</th>\n",
       "      <td>3</td>\n",
       "      <td>3</td>\n",
       "      <td>0.01</td>\n",
       "      <td>0.01</td>\n",
       "    </tr>\n",
       "    <tr>\n",
       "      <th>&lt; 1 year</th>\n",
       "      <td>42</td>\n",
       "      <td>14</td>\n",
       "      <td>0.13</td>\n",
       "      <td>0.04</td>\n",
       "    </tr>\n",
       "    <tr>\n",
       "      <th rowspan=\"11\" valign=\"top\">G</th>\n",
       "      <th>1 year</th>\n",
       "      <td>1</td>\n",
       "      <td>8</td>\n",
       "      <td>0.00</td>\n",
       "      <td>0.02</td>\n",
       "    </tr>\n",
       "    <tr>\n",
       "      <th>10+ years</th>\n",
       "      <td>14</td>\n",
       "      <td>11</td>\n",
       "      <td>0.04</td>\n",
       "      <td>0.03</td>\n",
       "    </tr>\n",
       "    <tr>\n",
       "      <th>2 years</th>\n",
       "      <td>13</td>\n",
       "      <td>2</td>\n",
       "      <td>0.04</td>\n",
       "      <td>0.01</td>\n",
       "    </tr>\n",
       "    <tr>\n",
       "      <th>3 years</th>\n",
       "      <td>9</td>\n",
       "      <td>10</td>\n",
       "      <td>0.03</td>\n",
       "      <td>0.03</td>\n",
       "    </tr>\n",
       "    <tr>\n",
       "      <th>4 years</th>\n",
       "      <td>13</td>\n",
       "      <td>3</td>\n",
       "      <td>0.04</td>\n",
       "      <td>0.01</td>\n",
       "    </tr>\n",
       "    <tr>\n",
       "      <th>5 years</th>\n",
       "      <td>9</td>\n",
       "      <td>4</td>\n",
       "      <td>0.03</td>\n",
       "      <td>0.01</td>\n",
       "    </tr>\n",
       "    <tr>\n",
       "      <th>6 years</th>\n",
       "      <td>4</td>\n",
       "      <td>2</td>\n",
       "      <td>0.01</td>\n",
       "      <td>0.01</td>\n",
       "    </tr>\n",
       "    <tr>\n",
       "      <th>7 years</th>\n",
       "      <td>4</td>\n",
       "      <td>2</td>\n",
       "      <td>0.01</td>\n",
       "      <td>0.01</td>\n",
       "    </tr>\n",
       "    <tr>\n",
       "      <th>8 years</th>\n",
       "      <td>3</td>\n",
       "      <td>0</td>\n",
       "      <td>0.01</td>\n",
       "      <td>0.00</td>\n",
       "    </tr>\n",
       "    <tr>\n",
       "      <th>9 years</th>\n",
       "      <td>5</td>\n",
       "      <td>0</td>\n",
       "      <td>0.02</td>\n",
       "      <td>0.00</td>\n",
       "    </tr>\n",
       "    <tr>\n",
       "      <th>&lt; 1 year</th>\n",
       "      <td>11</td>\n",
       "      <td>6</td>\n",
       "      <td>0.03</td>\n",
       "      <td>0.02</td>\n",
       "    </tr>\n",
       "  </tbody>\n",
       "</table>\n",
       "<p>270 rows × 4 columns</p>\n",
       "</div>"
      ],
      "text/plain": [
       "is_defaulter_derv                   0    1  defaulter_%  non_defaulter_%\n",
       "home_ownership grade emp_length                                         \n",
       "MORTGAGE       A     1 year       238   15         0.74             0.05\n",
       "                     10+ years   1482   81         4.61             0.25\n",
       "                     2 years      390   14         1.21             0.04\n",
       "                     3 years      442   22         1.38             0.07\n",
       "                     4 years      374   16         1.16             0.05\n",
       "                     5 years      407   21         1.27             0.07\n",
       "                     6 years      309   15         0.96             0.05\n",
       "                     7 years      253    6         0.79             0.02\n",
       "                     8 years      230   15         0.72             0.05\n",
       "                     9 years      209   14         0.65             0.04\n",
       "                     < 1 year     370   25         1.15             0.08\n",
       "               B     1 year       260   34         0.81             0.11\n",
       "                     10+ years   1345  184         4.18             0.57\n",
       "                     2 years      415   45         1.29             0.14\n",
       "                     3 years      399   44         1.24             0.14\n",
       "                     4 years      341   52         1.06             0.16\n",
       "                     5 years      402   56         1.25             0.17\n",
       "                     6 years      266   31         0.83             0.10\n",
       "                     7 years      219   36         0.68             0.11\n",
       "                     8 years      193   25         0.60             0.08\n",
       "                     9 years      177   15         0.55             0.05\n",
       "                     < 1 year     291   50         0.91             0.16\n",
       "               C     1 year       166   33         0.52             0.10\n",
       "                     10+ years    809  173         2.52             0.54\n",
       "                     2 years      195   40         0.61             0.12\n",
       "                     3 years      240   53         0.75             0.16\n",
       "                     4 years      222   29         0.69             0.09\n",
       "                     5 years      189   50         0.59             0.16\n",
       "                     6 years      167   36         0.52             0.11\n",
       "                     7 years      132   30         0.41             0.09\n",
       "...                               ...  ...          ...              ...\n",
       "RENT           E     3 years      104   36         0.32             0.11\n",
       "                     4 years       91   35         0.28             0.11\n",
       "                     5 years       79   32         0.25             0.10\n",
       "                     6 years       52   19         0.16             0.06\n",
       "                     7 years       45   18         0.14             0.06\n",
       "                     8 years       23   12         0.07             0.04\n",
       "                     9 years       27   11         0.08             0.03\n",
       "                     < 1 year     150   51         0.47             0.16\n",
       "               F     1 year        25   17         0.08             0.05\n",
       "                     10+ years     41   31         0.13             0.10\n",
       "                     2 years       42   18         0.13             0.06\n",
       "                     3 years       43   14         0.13             0.04\n",
       "                     4 years       31   16         0.10             0.05\n",
       "                     5 years       26   10         0.08             0.03\n",
       "                     6 years       13    7         0.04             0.02\n",
       "                     7 years       17    8         0.05             0.02\n",
       "                     8 years       12    5         0.04             0.02\n",
       "                     9 years        3    3         0.01             0.01\n",
       "                     < 1 year      42   14         0.13             0.04\n",
       "               G     1 year         1    8         0.00             0.02\n",
       "                     10+ years     14   11         0.04             0.03\n",
       "                     2 years       13    2         0.04             0.01\n",
       "                     3 years        9   10         0.03             0.03\n",
       "                     4 years       13    3         0.04             0.01\n",
       "                     5 years        9    4         0.03             0.01\n",
       "                     6 years        4    2         0.01             0.01\n",
       "                     7 years        4    2         0.01             0.01\n",
       "                     8 years        3    0         0.01             0.00\n",
       "                     9 years        5    0         0.02             0.00\n",
       "                     < 1 year      11    6         0.03             0.02\n",
       "\n",
       "[270 rows x 4 columns]"
      ]
     },
     "execution_count": 398,
     "metadata": {},
     "output_type": "execute_result"
    }
   ],
   "source": [
    "df_pivot"
   ]
  },
  {
   "cell_type": "code",
   "execution_count": 379,
   "metadata": {},
   "outputs": [
    {
     "data": {
      "text/plain": [
       "MultiIndex(levels=[['MORTGAGE', 'NONE', 'OTHER', 'OWN', 'RENT'], ['1 year', '10+ years', '2 years', '3 years', '4 years', '5 years', '6 years', '7 years', '8 years', '9 years', '< 1 year']],\n",
       "           codes=[[0, 0, 0, 0, 0, 0, 0, 0, 0, 0, 0, 1, 1, 2, 2, 2, 2, 2, 2, 2, 2, 2, 2, 3, 3, 3, 3, 3, 3, 3, 3, 3, 3, 3, 4, 4, 4, 4, 4, 4, 4, 4, 4, 4, 4], [0, 1, 2, 3, 4, 5, 6, 7, 8, 9, 10, 5, 10, 0, 1, 2, 3, 4, 5, 6, 7, 8, 10, 0, 1, 2, 3, 4, 5, 6, 7, 8, 9, 10, 0, 1, 2, 3, 4, 5, 6, 7, 8, 9, 10]],\n",
       "           names=['home_ownership', 'emp_length'])"
      ]
     },
     "execution_count": 379,
     "metadata": {},
     "output_type": "execute_result"
    }
   ],
   "source": [
    "df_pivot.index"
   ]
  },
  {
   "cell_type": "code",
   "execution_count": 382,
   "metadata": {},
   "outputs": [
    {
     "data": {
      "text/plain": [
       "emp_length\n",
       "1 year        2.51\n",
       "10+ years    14.11\n",
       "2 years       3.90\n",
       "3 years       4.15\n",
       "4 years       3.68\n",
       "5 years       3.85\n",
       "6 years       2.88\n",
       "7 years       2.28\n",
       "8 years       2.04\n",
       "9 years       1.87\n",
       "< 1 year      3.38\n",
       "Name: defaulter_%, dtype: float64"
      ]
     },
     "execution_count": 382,
     "metadata": {},
     "output_type": "execute_result"
    }
   ],
   "source": [
    "df_pivot.loc['MORTGAGE']['defaulter_%']"
   ]
  },
  {
   "cell_type": "code",
   "execution_count": null,
   "metadata": {},
   "outputs": [],
   "source": [
    "df_pivot.loc['',:]"
   ]
  },
  {
   "cell_type": "code",
   "execution_count": 409,
   "metadata": {},
   "outputs": [
    {
     "data": {
      "text/plain": [
       "emp_length\n",
       "1 year       1.25\n",
       "10+ years    1.34\n",
       "2 years      1.60\n",
       "3 years      1.37\n",
       "4 years      1.13\n",
       "5 years      0.99\n",
       "6 years      0.61\n",
       "7 years      0.37\n",
       "8 years      0.35\n",
       "9 years      0.29\n",
       "< 1 year     2.06\n",
       "Name: defaulter_%, dtype: float64"
      ]
     },
     "execution_count": 409,
     "metadata": {},
     "output_type": "execute_result"
    }
   ],
   "source": [
    "df_pivot.loc[('RENT','A')]['defaulter_%'].sort_index()"
   ]
  },
  {
   "cell_type": "code",
   "execution_count": 350,
   "metadata": {},
   "outputs": [
    {
     "data": {
      "image/png": "[encoded data removed]",
      "text/plain": [
       "<Figure size 864x432 with 1 Axes>"
      ]
     },
     "metadata": {
      "needs_background": "light"
     },
     "output_type": "display_data"
    }
   ],
   "source": [
    "pd.crosstab(loan_data.emp_length,loan_data.is_defaulter_derv)\\\n",
    ".plot(kind='bar', figsize=ASP_RATIO);\n"
   ]
  },
  {
   "cell_type": "code",
   "execution_count": 351,
   "metadata": {},
   "outputs": [
    {
     "name": "stdout",
     "output_type": "stream",
     "text": [
      " P_value for chi_2 test between emp_length and is_defaulter_derv 0.01\n"
     ]
    }
   ],
   "source": [
    "perfrom_chi_2_test(loan_data,'emp_length','is_defaulter_derv')"
   ]
  },
  {
   "cell_type": "code",
   "execution_count": 193,
   "metadata": {},
   "outputs": [
    {
     "name": "stdout",
     "output_type": "stream",
     "text": [
      " P_value for chi_2 test between pub_rec and is_defaulter_derv 0.0\n"
     ]
    }
   ],
   "source": [
    "perfrom_chi_2_test(loan_data,'pub_rec','is_defaulter_derv')"
   ]
  },
  {
   "cell_type": "code",
   "execution_count": null,
   "metadata": {},
   "outputs": [],
   "source": []
  }
 ],
 "metadata": {
  "kernelspec": {
   "display_name": "Python 3",
   "language": "python",
   "name": "python3"
  },
  "language_info": {
   "codemirror_mode": {
    "name": "ipython",
    "version": 3
   },
   "file_extension": ".py",
   "mimetype": "text/x-python",
   "name": "python",
   "nbconvert_exporter": "python",
   "pygments_lexer": "ipython3",
   "version": "3.8.3"
  }
 },
 "nbformat": 4,
 "nbformat_minor": 4
}
