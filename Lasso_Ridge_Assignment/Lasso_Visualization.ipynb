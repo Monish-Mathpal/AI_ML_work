{
 "cells": [
  {
   "cell_type": "code",
   "execution_count": null,
   "metadata": {},
   "outputs": [],
   "source": [
    "%matplotlib inline\n",
    "import matplotlib.pyplot as plt\n",
    "plt.style.use('seaborn-white')\n",
    "import numpy as np\n",
    "\n",
    "def f(x, y):\n",
    "    return np.sin(x) ** 10 + np.cos(10 + y * x) * np.cos(x)\n",
    "\n",
    "x = np.linspace(0, 5, 50)\n",
    "y = np.linspace(0, 5, 40)\n",
    "\n",
    "X, Y = np.meshgrid(x, y)\n",
    "Z = f(X, Y)\n",
    "\n",
    "plt.contour(X, Y, Z, colors='black');\n",
    "\n",
    "def f_t(X, Y):\n",
    "    return X + Y\n",
    "\n",
    "np.linspace(1, 10, 10)\n",
    "\n",
    "X = np.linspace(-10.0, 10.0, 500)\n",
    "Y = np.linspace(-10.0, 10.0, 500)\n",
    "\n",
    "X_t, Y_t = np.meshgrid(X, Y)\n",
    "Z = f_t(X_t, Y_t)\n",
    "\n",
    "# plt.plot(X, Y)\n",
    "plt.contour(X_t, Y_t, Z, colors='black');\n"
   ]
  }
 ],
 "metadata": {
  "kernelspec": {
   "display_name": "Python 3",
   "language": "python",
   "name": "python3"
  },
  "language_info": {
   "codemirror_mode": {
    "name": "ipython",
    "version": 3
   },
   "file_extension": ".py",
   "mimetype": "text/x-python",
   "name": "python",
   "nbconvert_exporter": "python",
   "pygments_lexer": "ipython3",
   "version": "3.8.3"
  }
 },
 "nbformat": 4,
 "nbformat_minor": 4
}
