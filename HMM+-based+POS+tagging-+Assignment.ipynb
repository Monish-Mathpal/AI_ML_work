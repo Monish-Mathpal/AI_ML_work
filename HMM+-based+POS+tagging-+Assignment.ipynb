{
 "cells": [
  {
   "cell_type": "markdown",
   "metadata": {},
   "source": [
    "## POS tagging using modified Viterbi"
   ]
  },
  {
   "cell_type": "markdown",
   "metadata": {},
   "source": [
    "### Data Preparation"
   ]
  },
  {
   "cell_type": "code",
   "execution_count": 354,
   "metadata": {},
   "outputs": [],
   "source": [
    "#Importing libraries\n",
    "import nltk\n",
    "import nltk, re, pprint\n",
    "import numpy as np\n",
    "import pandas as pd\n",
    "import requests\n",
    "import matplotlib.pyplot as plt\n",
    "import seaborn as sns\n",
    "import pprint, time\n",
    "import random\n",
    "from sklearn.model_selection import train_test_split\n",
    "from nltk.tokenize import word_tokenize"
   ]
  },
  {
   "cell_type": "code",
   "execution_count": 355,
   "metadata": {},
   "outputs": [
    {
     "name": "stderr",
     "output_type": "stream",
     "text": [
      "[nltk_data] Downloading package universal_tagset to\n",
      "[nltk_data]     C:\\Users\\monis\\AppData\\Roaming\\nltk_data...\n",
      "[nltk_data]   Package universal_tagset is already up-to-date!\n"
     ]
    },
    {
     "data": {
      "text/plain": [
       "True"
      ]
     },
     "execution_count": 355,
     "metadata": {},
     "output_type": "execute_result"
    }
   ],
   "source": [
    "nltk.download('universal_tagset')"
   ]
  },
  {
   "cell_type": "code",
   "execution_count": 356,
   "metadata": {},
   "outputs": [
    {
     "data": {
      "text/plain": [
       "<ConllCorpusReader in '.../corpora/universal_treebanks_v20' (not loaded yet)>"
      ]
     },
     "execution_count": 356,
     "metadata": {},
     "output_type": "execute_result"
    }
   ],
   "source": [
    "nltk.corpus.universal_treebanks"
   ]
  },
  {
   "cell_type": "code",
   "execution_count": 357,
   "metadata": {},
   "outputs": [],
   "source": [
    "# reading the Treebank tagged sentences\n",
    "nltk_data = list(nltk.corpus.treebank.tagged_sents(tagset='universal'))"
   ]
  },
  {
   "cell_type": "code",
   "execution_count": 358,
   "metadata": {},
   "outputs": [
    {
     "name": "stdout",
     "output_type": "stream",
     "text": [
      "[[('Pierre', 'NOUN'), ('Vinken', 'NOUN'), (',', '.'), ('61', 'NUM'), ('years', 'NOUN'), ('old', 'ADJ'), (',', '.'), ('will', 'VERB'), ('join', 'VERB'), ('the', 'DET'), ('board', 'NOUN'), ('as', 'ADP'), ('a', 'DET'), ('nonexecutive', 'ADJ'), ('director', 'NOUN'), ('Nov.', 'NOUN'), ('29', 'NUM'), ('.', '.')], [('Mr.', 'NOUN'), ('Vinken', 'NOUN'), ('is', 'VERB'), ('chairman', 'NOUN'), ('of', 'ADP'), ('Elsevier', 'NOUN'), ('N.V.', 'NOUN'), (',', '.'), ('the', 'DET'), ('Dutch', 'NOUN'), ('publishing', 'VERB'), ('group', 'NOUN'), ('.', '.')], [('Rudolph', 'NOUN'), ('Agnew', 'NOUN'), (',', '.'), ('55', 'NUM'), ('years', 'NOUN'), ('old', 'ADJ'), ('and', 'CONJ'), ('former', 'ADJ'), ('chairman', 'NOUN'), ('of', 'ADP'), ('Consolidated', 'NOUN'), ('Gold', 'NOUN'), ('Fields', 'NOUN'), ('PLC', 'NOUN'), (',', '.'), ('was', 'VERB'), ('named', 'VERB'), ('*-1', 'X'), ('a', 'DET'), ('nonexecutive', 'ADJ'), ('director', 'NOUN'), ('of', 'ADP'), ('this', 'DET'), ('British', 'ADJ'), ('industrial', 'ADJ'), ('conglomerate', 'NOUN'), ('.', '.')], [('A', 'DET'), ('form', 'NOUN'), ('of', 'ADP'), ('asbestos', 'NOUN'), ('once', 'ADV'), ('used', 'VERB'), ('*', 'X'), ('*', 'X'), ('to', 'PRT'), ('make', 'VERB'), ('Kent', 'NOUN'), ('cigarette', 'NOUN'), ('filters', 'NOUN'), ('has', 'VERB'), ('caused', 'VERB'), ('a', 'DET'), ('high', 'ADJ'), ('percentage', 'NOUN'), ('of', 'ADP'), ('cancer', 'NOUN'), ('deaths', 'NOUN'), ('among', 'ADP'), ('a', 'DET'), ('group', 'NOUN'), ('of', 'ADP'), ('workers', 'NOUN'), ('exposed', 'VERB'), ('*', 'X'), ('to', 'PRT'), ('it', 'PRON'), ('more', 'ADV'), ('than', 'ADP'), ('30', 'NUM'), ('years', 'NOUN'), ('ago', 'ADP'), (',', '.'), ('researchers', 'NOUN'), ('reported', 'VERB'), ('0', 'X'), ('*T*-1', 'X'), ('.', '.')], [('The', 'DET'), ('asbestos', 'NOUN'), ('fiber', 'NOUN'), (',', '.'), ('crocidolite', 'NOUN'), (',', '.'), ('is', 'VERB'), ('unusually', 'ADV'), ('resilient', 'ADJ'), ('once', 'ADP'), ('it', 'PRON'), ('enters', 'VERB'), ('the', 'DET'), ('lungs', 'NOUN'), (',', '.'), ('with', 'ADP'), ('even', 'ADV'), ('brief', 'ADJ'), ('exposures', 'NOUN'), ('to', 'PRT'), ('it', 'PRON'), ('causing', 'VERB'), ('symptoms', 'NOUN'), ('that', 'DET'), ('*T*-1', 'X'), ('show', 'VERB'), ('up', 'PRT'), ('decades', 'NOUN'), ('later', 'ADJ'), (',', '.'), ('researchers', 'NOUN'), ('said', 'VERB'), ('0', 'X'), ('*T*-2', 'X'), ('.', '.')], [('Lorillard', 'NOUN'), ('Inc.', 'NOUN'), (',', '.'), ('the', 'DET'), ('unit', 'NOUN'), ('of', 'ADP'), ('New', 'ADJ'), ('York-based', 'ADJ'), ('Loews', 'NOUN'), ('Corp.', 'NOUN'), ('that', 'DET'), ('*T*-2', 'X'), ('makes', 'VERB'), ('Kent', 'NOUN'), ('cigarettes', 'NOUN'), (',', '.'), ('stopped', 'VERB'), ('using', 'VERB'), ('crocidolite', 'NOUN'), ('in', 'ADP'), ('its', 'PRON'), ('Micronite', 'NOUN'), ('cigarette', 'NOUN'), ('filters', 'NOUN'), ('in', 'ADP'), ('1956', 'NUM'), ('.', '.')], [('Although', 'ADP'), ('preliminary', 'ADJ'), ('findings', 'NOUN'), ('were', 'VERB'), ('reported', 'VERB'), ('*-2', 'X'), ('more', 'ADV'), ('than', 'ADP'), ('a', 'DET'), ('year', 'NOUN'), ('ago', 'ADP'), (',', '.'), ('the', 'DET'), ('latest', 'ADJ'), ('results', 'NOUN'), ('appear', 'VERB'), ('in', 'ADP'), ('today', 'NOUN'), (\"'s\", 'PRT'), ('New', 'NOUN'), ('England', 'NOUN'), ('Journal', 'NOUN'), ('of', 'ADP'), ('Medicine', 'NOUN'), (',', '.'), ('a', 'DET'), ('forum', 'NOUN'), ('likely', 'ADJ'), ('*', 'X'), ('to', 'PRT'), ('bring', 'VERB'), ('new', 'ADJ'), ('attention', 'NOUN'), ('to', 'PRT'), ('the', 'DET'), ('problem', 'NOUN'), ('.', '.')], [('A', 'DET'), ('Lorillard', 'NOUN'), ('spokewoman', 'NOUN'), ('said', 'VERB'), (',', '.'), ('``', '.'), ('This', 'DET'), ('is', 'VERB'), ('an', 'DET'), ('old', 'ADJ'), ('story', 'NOUN'), ('.', '.')], [('We', 'PRON'), (\"'re\", 'VERB'), ('talking', 'VERB'), ('about', 'ADP'), ('years', 'NOUN'), ('ago', 'ADP'), ('before', 'ADP'), ('anyone', 'NOUN'), ('heard', 'VERB'), ('of', 'ADP'), ('asbestos', 'NOUN'), ('having', 'VERB'), ('any', 'DET'), ('questionable', 'ADJ'), ('properties', 'NOUN'), ('.', '.')], [('There', 'DET'), ('is', 'VERB'), ('no', 'DET'), ('asbestos', 'NOUN'), ('in', 'ADP'), ('our', 'PRON'), ('products', 'NOUN'), ('now', 'ADV'), ('.', '.'), (\"''\", '.')], [('Neither', 'DET'), ('Lorillard', 'NOUN'), ('nor', 'CONJ'), ('the', 'DET'), ('researchers', 'NOUN'), ('who', 'PRON'), ('*T*-3', 'X'), ('studied', 'VERB'), ('the', 'DET'), ('workers', 'NOUN'), ('were', 'VERB'), ('aware', 'ADJ'), ('of', 'ADP'), ('any', 'DET'), ('research', 'NOUN'), ('on', 'ADP'), ('smokers', 'NOUN'), ('of', 'ADP'), ('the', 'DET'), ('Kent', 'NOUN'), ('cigarettes', 'NOUN'), ('.', '.')], [('``', '.'), ('We', 'PRON'), ('have', 'VERB'), ('no', 'DET'), ('useful', 'ADJ'), ('information', 'NOUN'), ('on', 'ADP'), ('whether', 'ADP'), ('users', 'NOUN'), ('are', 'VERB'), ('at', 'ADP'), ('risk', 'NOUN'), (',', '.'), (\"''\", '.'), ('said', 'VERB'), ('*T*-1', 'X'), ('James', 'NOUN'), ('A.', 'NOUN'), ('Talcott', 'NOUN'), ('of', 'ADP'), ('Boston', 'NOUN'), (\"'s\", 'PRT'), ('Dana-Farber', 'NOUN'), ('Cancer', 'NOUN'), ('Institute', 'NOUN'), ('.', '.')], [('Dr.', 'NOUN'), ('Talcott', 'NOUN'), ('led', 'VERB'), ('a', 'DET'), ('team', 'NOUN'), ('of', 'ADP'), ('researchers', 'NOUN'), ('from', 'ADP'), ('the', 'DET'), ('National', 'NOUN'), ('Cancer', 'NOUN'), ('Institute', 'NOUN'), ('and', 'CONJ'), ('the', 'DET'), ('medical', 'ADJ'), ('schools', 'NOUN'), ('of', 'ADP'), ('Harvard', 'NOUN'), ('University', 'NOUN'), ('and', 'CONJ'), ('Boston', 'NOUN'), ('University', 'NOUN'), ('.', '.')], [('The', 'DET'), ('Lorillard', 'NOUN'), ('spokeswoman', 'NOUN'), ('said', 'VERB'), ('0', 'X'), ('asbestos', 'NOUN'), ('was', 'VERB'), ('used', 'VERB'), ('*-1', 'X'), ('in', 'ADP'), ('``', '.'), ('very', 'ADV'), ('modest', 'ADJ'), ('amounts', 'NOUN'), (\"''\", '.'), ('in', 'ADP'), ('*', 'X'), ('making', 'VERB'), ('paper', 'NOUN'), ('for', 'ADP'), ('the', 'DET'), ('filters', 'NOUN'), ('in', 'ADP'), ('the', 'DET'), ('early', 'ADJ'), ('1950s', 'NUM'), ('and', 'CONJ'), ('replaced', 'VERB'), ('*-1', 'X'), ('with', 'ADP'), ('a', 'DET'), ('different', 'ADJ'), ('type', 'NOUN'), ('of', 'ADP'), ('filter', 'NOUN'), ('in', 'ADP'), ('1956', 'NUM'), ('.', '.')], [('From', 'ADP'), ('1953', 'NUM'), ('to', 'PRT'), ('1955', 'NUM'), (',', '.'), ('9.8', 'NUM'), ('billion', 'NUM'), ('Kent', 'NOUN'), ('cigarettes', 'NOUN'), ('with', 'ADP'), ('the', 'DET'), ('filters', 'NOUN'), ('were', 'VERB'), ('sold', 'VERB'), ('*-3', 'X'), (',', '.'), ('the', 'DET'), ('company', 'NOUN'), ('said', 'VERB'), ('0', 'X'), ('*T*-1', 'X'), ('.', '.')], [('Among', 'ADP'), ('33', 'NUM'), ('men', 'NOUN'), ('who', 'PRON'), ('*T*-4', 'X'), ('worked', 'VERB'), ('closely', 'ADV'), ('with', 'ADP'), ('the', 'DET'), ('substance', 'NOUN'), (',', '.'), ('28', 'NUM'), ('*ICH*-1', 'X'), ('have', 'VERB'), ('died', 'VERB'), ('--', '.'), ('more', 'ADJ'), ('than', 'ADP'), ('three', 'NUM'), ('times', 'NOUN'), ('the', 'DET'), ('expected', 'VERB'), ('number', 'NOUN'), ('.', '.')], [('Four', 'NUM'), ('of', 'ADP'), ('the', 'DET'), ('five', 'NUM'), ('surviving', 'VERB'), ('workers', 'NOUN'), ('have', 'VERB'), ('asbestos-related', 'ADJ'), ('diseases', 'NOUN'), (',', '.'), ('including', 'VERB'), ('three', 'NUM'), ('with', 'ADP'), ('recently', 'ADV'), ('diagnosed', 'VERB'), ('cancer', 'NOUN'), ('.', '.')], [('The', 'DET'), ('total', 'NOUN'), ('of', 'ADP'), ('18', 'NUM'), ('deaths', 'NOUN'), ('from', 'ADP'), ('malignant', 'ADJ'), ('mesothelioma', 'NOUN'), (',', '.'), ('lung', 'NOUN'), ('cancer', 'NOUN'), ('and', 'CONJ'), ('asbestosis', 'NOUN'), ('was', 'VERB'), ('far', 'ADV'), ('higher', 'ADJ'), ('than', 'ADP'), ('*', 'X'), ('expected', 'VERB'), ('*?*', 'X'), (',', '.'), ('the', 'DET'), ('researchers', 'NOUN'), ('said', 'VERB'), ('0', 'X'), ('*T*-1', 'X'), ('.', '.')], [('``', '.'), ('The', 'DET'), ('morbidity', 'NOUN'), ('rate', 'NOUN'), ('is', 'VERB'), ('a', 'DET'), ('striking', 'ADJ'), ('finding', 'NOUN'), ('among', 'ADP'), ('those', 'DET'), ('of', 'ADP'), ('us', 'PRON'), ('who', 'PRON'), ('*T*-5', 'X'), ('study', 'VERB'), ('asbestos-related', 'ADJ'), ('diseases', 'NOUN'), (',', '.'), (\"''\", '.'), ('said', 'VERB'), ('*T*-1', 'X'), ('Dr.', 'NOUN'), ('Talcott', 'NOUN'), ('.', '.')], [('The', 'DET'), ('percentage', 'NOUN'), ('of', 'ADP'), ('lung', 'NOUN'), ('cancer', 'NOUN'), ('deaths', 'NOUN'), ('among', 'ADP'), ('the', 'DET'), ('workers', 'NOUN'), ('at', 'ADP'), ('the', 'DET'), ('West', 'NOUN'), ('Groton', 'NOUN'), (',', '.'), ('Mass.', 'NOUN'), (',', '.'), ('paper', 'NOUN'), ('factory', 'NOUN'), ('appears', 'VERB'), ('*-1', 'X'), ('to', 'PRT'), ('be', 'VERB'), ('the', 'DET'), ('highest', 'ADJ'), ('for', 'ADP'), ('any', 'DET'), ('asbestos', 'NOUN'), ('workers', 'NOUN'), ('studied', 'VERB'), ('*', 'X'), ('in', 'ADP'), ('Western', 'ADJ'), ('industrialized', 'VERB'), ('countries', 'NOUN'), (',', '.'), ('he', 'PRON'), ('said', 'VERB'), ('0', 'X'), ('*T*-2', 'X'), ('.', '.')], [('The', 'DET'), ('plant', 'NOUN'), (',', '.'), ('which', 'DET'), ('*T*-1', 'X'), ('is', 'VERB'), ('owned', 'VERB'), ('*-4', 'X'), ('by', 'ADP'), ('Hollingsworth', 'NOUN'), ('&', 'CONJ'), ('Vose', 'NOUN'), ('Co.', 'NOUN'), (',', '.'), ('was', 'VERB'), ('under', 'ADP'), ('contract', 'NOUN'), ('*ICH*-2', 'X'), ('with', 'ADP'), ('Lorillard', 'NOUN'), ('*', 'X'), ('to', 'PRT'), ('make', 'VERB'), ('the', 'DET'), ('cigarette', 'NOUN'), ('filters', 'NOUN'), ('.', '.')], [('The', 'DET'), ('finding', 'NOUN'), ('probably', 'ADV'), ('will', 'VERB'), ('support', 'VERB'), ('those', 'DET'), ('who', 'PRON'), ('*T*-6', 'X'), ('argue', 'VERB'), ('that', 'ADP'), ('the', 'DET'), ('U.S.', 'NOUN'), ('should', 'VERB'), ('regulate', 'VERB'), ('the', 'DET'), ('class', 'NOUN'), ('of', 'ADP'), ('asbestos', 'NOUN'), ('including', 'VERB'), ('crocidolite', 'NOUN'), ('more', 'ADV'), ('stringently', 'ADV'), ('than', 'ADP'), ('the', 'DET'), ('common', 'ADJ'), ('kind', 'NOUN'), ('of', 'ADP'), ('asbestos', 'NOUN'), (',', '.'), ('chrysotile', 'NOUN'), (',', '.'), ('found', 'VERB'), ('*', 'X'), ('in', 'ADP'), ('most', 'ADJ'), ('schools', 'NOUN'), ('and', 'CONJ'), ('other', 'ADJ'), ('buildings', 'NOUN'), (',', '.'), ('Dr.', 'NOUN'), ('Talcott', 'NOUN'), ('said', 'VERB'), ('0', 'X'), ('*T*-1', 'X'), ('.', '.')], [('The', 'DET'), ('U.S.', 'NOUN'), ('is', 'VERB'), ('one', 'NUM'), ('of', 'ADP'), ('the', 'DET'), ('few', 'ADJ'), ('industrialized', 'VERB'), ('nations', 'NOUN'), ('that', 'DET'), ('*T*-7', 'X'), ('does', 'VERB'), (\"n't\", 'ADV'), ('have', 'VERB'), ('a', 'DET'), ('higher', 'ADJ'), ('standard', 'NOUN'), ('of', 'ADP'), ('regulation', 'NOUN'), ('for', 'ADP'), ('the', 'DET'), ('smooth', 'ADJ'), (',', '.'), ('needle-like', 'ADJ'), ('fibers', 'NOUN'), ('such', 'ADJ'), ('as', 'ADP'), ('crocidolite', 'NOUN'), ('that', 'DET'), ('*T*-1', 'X'), ('are', 'VERB'), ('classified', 'VERB'), ('*-5', 'X'), ('as', 'ADP'), ('amphobiles', 'NOUN'), (',', '.'), ('according', 'VERB'), ('to', 'PRT'), ('Brooke', 'NOUN'), ('T.', 'NOUN'), ('Mossman', 'NOUN'), (',', '.'), ('a', 'DET'), ('professor', 'NOUN'), ('of', 'ADP'), ('pathlogy', 'NOUN'), ('at', 'ADP'), ('the', 'DET'), ('University', 'NOUN'), ('of', 'ADP'), ('Vermont', 'NOUN'), ('College', 'NOUN'), ('of', 'ADP'), ('Medicine', 'NOUN'), ('.', '.')], [('More', 'ADV'), ('common', 'ADJ'), ('chrysotile', 'NOUN'), ('fibers', 'NOUN'), ('are', 'VERB'), ('curly', 'ADJ'), ('and', 'CONJ'), ('are', 'VERB'), ('more', 'ADV'), ('easily', 'ADV'), ('rejected', 'VERB'), ('*-1', 'X'), ('by', 'ADP'), ('the', 'DET'), ('body', 'NOUN'), (',', '.'), ('Dr.', 'NOUN'), ('Mossman', 'NOUN'), ('explained', 'VERB'), ('0', 'X'), ('*T*-2', 'X'), ('.', '.')], [('In', 'ADP'), ('July', 'NOUN'), (',', '.'), ('the', 'DET'), ('Environmental', 'NOUN'), ('Protection', 'NOUN'), ('Agency', 'NOUN'), ('imposed', 'VERB'), ('a', 'DET'), ('gradual', 'ADJ'), ('ban', 'NOUN'), ('on', 'ADP'), ('virtually', 'ADV'), ('all', 'DET'), ('uses', 'NOUN'), ('of', 'ADP'), ('asbestos', 'NOUN'), ('.', '.')], [('By', 'ADP'), ('1997', 'NUM'), (',', '.'), ('almost', 'ADV'), ('all', 'DET'), ('remaining', 'VERB'), ('uses', 'NOUN'), ('of', 'ADP'), ('cancer-causing', 'ADJ'), ('asbestos', 'NOUN'), ('will', 'VERB'), ('be', 'VERB'), ('outlawed', 'VERB'), ('*-6', 'X'), ('.', '.')], [('About', 'ADP'), ('160', 'NUM'), ('workers', 'NOUN'), ('at', 'ADP'), ('a', 'DET'), ('factory', 'NOUN'), ('that', 'DET'), ('*T*-8', 'X'), ('made', 'VERB'), ('paper', 'NOUN'), ('for', 'ADP'), ('the', 'DET'), ('Kent', 'NOUN'), ('filters', 'NOUN'), ('were', 'VERB'), ('exposed', 'VERB'), ('*-7', 'X'), ('to', 'PRT'), ('asbestos', 'NOUN'), ('in', 'ADP'), ('the', 'DET'), ('1950s', 'NUM'), ('.', '.')], [('Areas', 'NOUN'), ('of', 'ADP'), ('the', 'DET'), ('factory', 'NOUN'), ('*ICH*-2', 'X'), ('were', 'VERB'), ('particularly', 'ADV'), ('dusty', 'ADJ'), ('where', 'ADV'), ('the', 'DET'), ('crocidolite', 'NOUN'), ('was', 'VERB'), ('used', 'VERB'), ('*-8', 'X'), ('*T*-1', 'X'), ('.', '.')], [('Workers', 'NOUN'), ('dumped', 'VERB'), ('large', 'ADJ'), ('burlap', 'NOUN'), ('sacks', 'NOUN'), ('of', 'ADP'), ('the', 'DET'), ('imported', 'VERB'), ('material', 'NOUN'), ('into', 'ADP'), ('a', 'DET'), ('huge', 'ADJ'), ('bin', 'NOUN'), (',', '.'), ('poured', 'VERB'), ('in', 'PRT'), ('cotton', 'NOUN'), ('and', 'CONJ'), ('acetate', 'NOUN'), ('fibers', 'NOUN'), ('and', 'CONJ'), ('mechanically', 'ADV'), ('mixed', 'VERB'), ('the', 'DET'), ('dry', 'ADJ'), ('fibers', 'NOUN'), ('in', 'ADP'), ('a', 'DET'), ('process', 'NOUN'), ('used', 'VERB'), ('*', 'X'), ('*', 'X'), ('to', 'PRT'), ('make', 'VERB'), ('filters', 'NOUN'), ('.', '.')], [('Workers', 'NOUN'), ('described', 'VERB'), ('``', '.'), ('clouds', 'NOUN'), ('of', 'ADP'), ('blue', 'ADJ'), ('dust', 'NOUN'), (\"''\", '.'), ('that', 'DET'), ('*T*-1', 'X'), ('hung', 'VERB'), ('over', 'ADP'), ('parts', 'NOUN'), ('of', 'ADP'), ('the', 'DET'), ('factory', 'NOUN'), (',', '.'), ('even', 'ADV'), ('though', 'ADP'), ('exhaust', 'NOUN'), ('fans', 'NOUN'), ('ventilated', 'VERB'), ('the', 'DET'), ('area', 'NOUN'), ('.', '.')], [('``', '.'), ('There', 'DET'), (\"'s\", 'VERB'), ('no', 'DET'), ('question', 'NOUN'), ('that', 'ADP'), ('some', 'DET'), ('of', 'ADP'), ('those', 'DET'), ('workers', 'NOUN'), ('and', 'CONJ'), ('managers', 'NOUN'), ('contracted', 'VERB'), ('asbestos-related', 'ADJ'), ('diseases', 'NOUN'), (',', '.'), (\"''\", '.'), ('said', 'VERB'), ('*T*-1', 'X'), ('Darrell', 'NOUN'), ('Phillips', 'NOUN'), (',', '.'), ('vice', 'NOUN'), ('president', 'NOUN'), ('of', 'ADP'), ('human', 'ADJ'), ('resources', 'NOUN'), ('for', 'ADP'), ('Hollingsworth', 'NOUN'), ('&', 'CONJ'), ('Vose', 'NOUN'), ('.', '.')], [('``', '.'), ('But', 'CONJ'), ('you', 'PRON'), ('have', 'VERB'), ('*-1', 'X'), ('to', 'PRT'), ('recognize', 'VERB'), ('that', 'ADP'), ('these', 'DET'), ('events', 'NOUN'), ('took', 'VERB'), ('place', 'NOUN'), ('35', 'NUM'), ('years', 'NOUN'), ('ago', 'ADP'), ('.', '.')], [('It', 'PRON'), ('has', 'VERB'), ('no', 'DET'), ('bearing', 'NOUN'), ('on', 'ADP'), ('our', 'PRON'), ('work', 'NOUN'), ('force', 'NOUN'), ('today', 'NOUN'), ('.', '.')], [('Yields', 'NOUN'), ('on', 'ADP'), ('money-market', 'ADJ'), ('mutual', 'ADJ'), ('funds', 'NOUN'), ('continued', 'VERB'), ('*-1', 'X'), ('to', 'PRT'), ('slide', 'VERB'), (',', '.'), ('amid', 'ADP'), ('signs', 'NOUN'), ('that', 'ADP'), ('portfolio', 'NOUN'), ('managers', 'NOUN'), ('expect', 'VERB'), ('further', 'ADJ'), ('declines', 'NOUN'), ('in', 'ADP'), ('interest', 'NOUN'), ('rates', 'NOUN'), ('.', '.')], [('The', 'DET'), ('average', 'ADJ'), ('seven-day', 'ADJ'), ('compound', 'NOUN'), ('yield', 'NOUN'), ('of', 'ADP'), ('the', 'DET'), ('400', 'NUM'), ('taxable', 'ADJ'), ('funds', 'NOUN'), ('tracked', 'VERB'), ('*', 'X'), ('by', 'ADP'), ('IBC', 'NOUN'), (\"'s\", 'PRT'), ('Money', 'NOUN'), ('Fund', 'NOUN'), ('Report', 'NOUN'), ('eased', 'VERB'), ('a', 'DET'), ('fraction', 'NOUN'), ('of', 'ADP'), ('a', 'DET'), ('percentage', 'NOUN'), ('point', 'NOUN'), ('to', 'PRT'), ('8.45', 'NUM'), ('%', 'NOUN'), ('from', 'ADP'), ('8.47', 'NUM'), ('%', 'NOUN'), ('for', 'ADP'), ('the', 'DET'), ('week', 'NOUN'), ('ended', 'VERB'), ('Tuesday', 'NOUN'), ('.', '.')], [('Compound', 'NOUN'), ('yields', 'NOUN'), ('assume', 'VERB'), ('reinvestment', 'NOUN'), ('of', 'ADP'), ('dividends', 'NOUN'), ('and', 'CONJ'), ('that', 'ADP'), ('the', 'DET'), ('current', 'ADJ'), ('yield', 'NOUN'), ('continues', 'VERB'), ('for', 'ADP'), ('a', 'DET'), ('year', 'NOUN'), ('.', '.')], [('Average', 'ADJ'), ('maturity', 'NOUN'), ('of', 'ADP'), ('the', 'DET'), ('funds', 'NOUN'), (\"'\", 'PRT'), ('investments', 'NOUN'), ('lengthened', 'VERB'), ('by', 'ADP'), ('a', 'DET'), ('day', 'NOUN'), ('to', 'PRT'), ('41', 'NUM'), ('days', 'NOUN'), (',', '.'), ('the', 'DET'), ('longest', 'ADJ'), ('since', 'ADP'), ('early', 'ADJ'), ('August', 'NOUN'), (',', '.'), ('according', 'VERB'), ('to', 'PRT'), ('Donoghue', 'NOUN'), (\"'s\", 'PRT'), ('.', '.')], [('Longer', 'ADJ'), ('maturities', 'NOUN'), ('are', 'VERB'), ('thought', 'VERB'), ('*-1', 'X'), ('to', 'PRT'), ('indicate', 'VERB'), ('declining', 'VERB'), ('interest', 'NOUN'), ('rates', 'NOUN'), ('because', 'ADP'), ('they', 'PRON'), ('permit', 'VERB'), ('portfolio', 'NOUN'), ('managers', 'NOUN'), ('to', 'PRT'), ('retain', 'VERB'), ('relatively', 'ADV'), ('higher', 'ADJ'), ('rates', 'NOUN'), ('for', 'ADP'), ('a', 'DET'), ('longer', 'ADJ'), ('period', 'NOUN'), ('.', '.')], [('Shorter', 'ADJ'), ('maturities', 'NOUN'), ('are', 'VERB'), ('considered', 'VERB'), ('*-9', 'X'), ('a', 'DET'), ('sign', 'NOUN'), ('of', 'ADP'), ('rising', 'VERB'), ('rates', 'NOUN'), ('because', 'ADP'), ('portfolio', 'NOUN'), ('managers', 'NOUN'), ('can', 'VERB'), ('capture', 'VERB'), ('higher', 'ADJ'), ('rates', 'NOUN'), ('sooner', 'ADV'), ('.', '.')], [('The', 'DET'), ('average', 'ADJ'), ('maturity', 'NOUN'), ('for', 'ADP'), ('funds', 'NOUN'), ('open', 'ADJ'), ('only', 'ADV'), ('to', 'PRT'), ('institutions', 'NOUN'), (',', '.'), ('considered', 'VERB'), ('by', 'ADP'), ('some', 'DET'), ('*', 'X'), ('to', 'PRT'), ('be', 'VERB'), ('a', 'DET'), ('stronger', 'ADJ'), ('indicator', 'NOUN'), ('because', 'ADP'), ('those', 'DET'), ('managers', 'NOUN'), ('watch', 'VERB'), ('the', 'DET'), ('market', 'NOUN'), ('closely', 'ADV'), (',', '.'), ('reached', 'VERB'), ('a', 'DET'), ('high', 'ADJ'), ('point', 'NOUN'), ('for', 'ADP'), ('the', 'DET'), ('year', 'NOUN'), ('--', '.'), ('33', 'NUM'), ('days', 'NOUN'), ('.', '.')]]\n"
     ]
    }
   ],
   "source": [
    "print(nltk_data[:40])"
   ]
  },
  {
   "cell_type": "code",
   "execution_count": 359,
   "metadata": {},
   "outputs": [
    {
     "name": "stdout",
     "output_type": "stream",
     "text": [
      "3718\n",
      "196\n",
      "[[('``', '.'), ('When', 'ADV'), ('you', 'PRON'), ('do', 'VERB'), ('that', 'DET'), ('*T*-1', 'X'), (',', '.'), ('there', 'DET'), ('is', 'VERB'), ('not', 'ADV'), ('a', 'DET'), ('cut', 'NOUN'), (',', '.'), ('but', 'CONJ'), ('there', 'DET'), ('is', 'VERB'), ('in', 'ADP'), ('fact', 'NOUN'), ('a', 'DET'), ('program', 'NOUN'), ('increase', 'NOUN'), ('of', 'ADP'), ('$', '.'), ('5', 'NUM'), ('million', 'NUM'), ('*U*', 'X'), (\"''\", '.'), ('each', 'DET'), ('for', 'ADP'), ('the', 'DET'), ('FTC', 'NOUN'), ('and', 'CONJ'), ('the', 'DET'), ('Justice', 'NOUN'), ('Department', 'NOUN'), (',', '.'), ('Rep.', 'NOUN'), ('Neal', 'NOUN'), ('Smith', 'NOUN'), ('-LRB-', '.'), ('D.', 'NOUN'), (',', '.'), ('Iowa', 'NOUN'), ('-RRB-', '.'), ('said', 'VERB'), ('0', 'X'), ('*T*-2', 'X'), ('during', 'ADP'), ('House', 'NOUN'), ('debate', 'NOUN'), ('.', '.')], [('Many', 'ADJ'), ('grain', 'NOUN'), ('processors', 'NOUN'), ('and', 'CONJ'), ('exporters', 'NOUN'), ('use', 'VERB'), ('the', 'DET'), ('price', 'NOUN'), ('of', 'ADP'), ('the', 'DET'), ('corn', 'NOUN'), ('futures', 'NOUN'), ('contracts', 'NOUN'), ('traded', 'VERB'), ('*', 'X'), ('there', 'ADV'), ('*-1', 'X'), ('to', 'PRT'), ('calculate', 'VERB'), ('the', 'DET'), ('price', 'NOUN'), ('0', 'X'), ('they', 'PRON'), ('offer', 'VERB'), ('*T*-2', 'X'), ('*-3', 'X'), ('to', 'PRT'), ('buy', 'VERB'), ('corn', 'NOUN'), ('from', 'ADP'), ('farmers', 'NOUN'), ('.', '.')], [('Marubeni', 'NOUN'), ('advanced', 'VERB'), ('11', 'NUM'), ('to', 'PRT'), ('890', 'NUM'), ('.', '.')], [('Each', 'DET'), ('50,000', 'NUM'), ('Swiss', 'ADJ'), ('franc', 'NOUN'), ('note', 'NOUN'), ('is', 'VERB'), ('convertible', 'ADJ'), ('from', 'ADP'), ('Dec.', 'NOUN'), ('5', 'NUM'), (',', '.'), ('1989', 'NUM'), (',', '.'), ('to', 'PRT'), ('Dec.', 'NOUN'), ('31', 'NUM'), (',', '.'), ('1993', 'NUM'), (',', '.'), ('at', 'ADP'), ('a', 'DET'), ('5', 'NUM'), ('%', 'NOUN'), ('premium', 'NOUN'), ('over', 'ADP'), ('the', 'DET'), ('closing', 'ADJ'), ('share', 'NOUN'), ('price', 'NOUN'), ('Tuesday', 'NOUN'), (',', '.'), ('when', 'ADV'), ('terms', 'NOUN'), ('are', 'VERB'), ('scheduled', 'VERB'), ('*-3', 'X'), ('to', 'PRT'), ('be', 'VERB'), ('fixed', 'VERB'), ('*-1', 'X'), ('*T*-2', 'X'), ('.', '.')], [('For', 'ADP'), ('instance', 'NOUN'), (',', '.'), ('at', 'ADP'), ('the', 'DET'), ('first', 'ADJ'), ('meeting', 'NOUN'), ('the', 'DET'), ('two', 'NUM'), ('sides', 'NOUN'), ('could', 'VERB'), (\"n't\", 'ADV'), ('even', 'ADV'), ('agree', 'VERB'), ('on', 'ADP'), ('basic', 'ADJ'), ('data', 'NOUN'), ('used', 'VERB'), ('*', 'X'), ('in', 'ADP'), ('price', 'NOUN'), ('discussions', 'NOUN'), ('.', '.')], [('She', 'PRON'), ('adds', 'VERB'), ('that', 'ADP'), ('legislation', 'NOUN'), ('curbing', 'VERB'), ('it', 'PRON'), ('would', 'VERB'), ('be', 'VERB'), ('``', '.'), ('a', 'DET'), ('darned', 'ADV'), ('good', 'ADJ'), ('idea', 'NOUN'), ('.', '.'), (\"''\", '.')], [('Mr.', 'NOUN'), ('Steinberg', 'NOUN'), ('is', 'VERB'), ('thought', 'VERB'), ('*-1', 'X'), ('to', 'PRT'), ('be', 'VERB'), ('on', 'ADP'), ('friendly', 'ADJ'), ('terms', 'NOUN'), ('with', 'ADP'), ('UAL', 'NOUN'), (\"'s\", 'PRT'), ('Mr.', 'NOUN'), ('Wolf', 'NOUN'), ('.', '.')], [('CS', 'NOUN'), ('First', 'NOUN'), ('Boston', 'NOUN'), (',', '.'), ('however', 'ADV'), (',', '.'), ('benefits', 'VERB'), ('from', 'ADP'), ('the', 'DET'), ('backing', 'NOUN'), ('of', 'ADP'), ('its', 'PRON'), ('largest', 'ADJ'), ('shareholder', 'NOUN'), (',', '.'), ('Credit', 'NOUN'), ('Suisse', 'NOUN'), (',', '.'), ('Switzerland', 'NOUN'), (\"'s\", 'PRT'), ('third', 'ADJ'), ('largest', 'ADJ'), ('bank', 'NOUN'), ('.', '.')], [('To', 'PRT'), ('the', 'DET'), ('astonishment', 'NOUN'), ('and', 'CONJ'), ('dismay', 'NOUN'), ('of', 'ADP'), ('her', 'PRON'), ('superiors', 'NOUN'), ('and', 'CONJ'), ('legal', 'ADJ'), ('authorities', 'NOUN'), ('--', '.'), ('and', 'ADJ'), ('perhaps', 'ADV'), ('as', 'ADP'), ('a', 'DET'), ('measure', 'NOUN'), ('of', 'ADP'), ('the', 'DET'), ('unpopularity', 'NOUN'), ('of', 'ADP'), ('standardized', 'ADJ'), ('tests', 'NOUN'), ('--', '.'), ('Mrs', 'NOUN'), ('.', '.'), ('Yeargin', 'NOUN'), ('won', 'VERB'), ('widespread', 'ADJ'), ('local', 'ADJ'), ('support', 'NOUN'), ('.', '.')], [('But', 'CONJ'), ('he', 'PRON'), ('also', 'ADV'), ('showed', 'VERB'), ('a', 'DET'), ('willingness', 'NOUN'), ('*-1', 'X'), ('to', 'PRT'), ('take', 'VERB'), ('a', 'DET'), ('strong', 'ADJ'), ('stand', 'NOUN'), ('.', '.')], [('Neither', 'DET'), ('First', 'NOUN'), ('Securities', 'NOUN'), (',', '.'), ('of', 'ADP'), ('Beverly', 'NOUN'), ('Hills', 'NOUN'), (',', '.'), ('nor', 'CONJ'), ('Mr.', 'NOUN'), ('Vargas', 'NOUN'), ('could', 'VERB'), ('be', 'VERB'), ('reached', 'VERB'), ('*-153', 'X'), ('for', 'ADP'), ('comment', 'NOUN'), ('.', '.')], [('Advocates', 'NOUN'), ('said', 'VERB'), ('0', 'X'), ('the', 'DET'), ('90-cent-an-hour', 'ADJ'), ('rise', 'NOUN'), (',', '.'), ('to', 'PRT'), ('$', '.'), ('4.25', 'NUM'), ('*U*', 'X'), ('an', 'DET'), ('hour', 'NOUN'), ('by', 'ADP'), ('April', 'NOUN'), ('1991', 'NUM'), (',', '.'), ('is', 'VERB'), ('too', 'ADV'), ('small', 'ADJ'), ('for', 'ADP'), ('the', 'DET'), ('working', 'VERB'), ('poor', 'NOUN'), (',', '.'), ('while', 'ADP'), ('opponents', 'NOUN'), ('argued', 'VERB'), ('that', 'ADP'), ('the', 'DET'), ('increase', 'NOUN'), ('will', 'VERB'), ('still', 'ADV'), ('hurt', 'VERB'), ('small', 'ADJ'), ('business', 'NOUN'), ('and', 'CONJ'), ('cost', 'VERB'), ('many', 'ADJ'), ('thousands', 'NOUN'), ('of', 'ADP'), ('jobs', 'NOUN'), ('.', '.')], [('But', 'CONJ'), ('despite', 'ADP'), ('partisan', 'ADJ'), ('bickering', 'NOUN'), ('over', 'ADP'), ('the', 'DET'), ('debt', 'NOUN'), ('ceiling', 'NOUN'), (',', '.'), ('which', 'DET'), ('*T*-177', 'X'), ('has', 'VERB'), ('become', 'VERB'), ('entangled', 'ADJ'), ('in', 'ADP'), ('the', 'DET'), ('fight', 'NOUN'), ('over', 'ADP'), ('*', 'X'), ('cutting', 'VERB'), ('capital-gains', 'NOUN'), ('taxes', 'NOUN'), (',', '.'), ('Congress', 'NOUN'), ('is', 'VERB'), ('almost', 'ADV'), ('certain', 'ADJ'), ('*-1', 'X'), ('to', 'PRT'), ('act', 'VERB'), ('in', 'ADP'), ('time', 'NOUN'), ('0', 'X'), ('*', 'X'), ('to', 'PRT'), ('avoid', 'VERB'), ('default', 'NOUN'), ('*T*-3', 'X'), ('.', '.')], [('--', '.'), ('Pat', 'NOUN'), (\"D'Amico\", 'NOUN'), ('.', '.')], [('The', 'DET'), ('word', 'NOUN'), ('dissemination', 'NOUN'), (',', '.'), ('it', 'PRON'), ('decided', 'VERB'), ('0', 'X'), ('*T*-1', 'X'), (',', '.'), ('referred', 'VERB'), ('only', 'ADV'), ('to', 'PRT'), ('itself', 'PRON'), ('.', '.')], [('The', 'DET'), ('ruling', 'NOUN'), ('could', 'VERB'), ('lead', 'VERB'), ('to', 'PRT'), ('the', 'DET'), ('cancellation', 'NOUN'), ('of', 'ADP'), ('huge', 'ADJ'), ('bank', 'NOUN'), ('debts', 'NOUN'), ('0', 'X'), ('the', 'DET'), ('London', 'NOUN'), ('Borough', 'NOUN'), ('of', 'ADP'), ('Hammersmith', 'NOUN'), ('and', 'CONJ'), ('Fulham', 'NOUN'), ('ran', 'VERB'), ('up', 'PRT'), ('*T*-1', 'X'), ('after', 'ADP'), ('*-2', 'X'), ('losing', 'VERB'), ('heavily', 'ADV'), ('on', 'ADP'), ('swap', 'NOUN'), ('transactions', 'NOUN'), ('.', '.')], [('Mr.', 'NOUN'), ('Droz', 'NOUN'), ('says', 'VERB'), ('0', 'X'), ('the', 'DET'), ('Soviets', 'NOUN'), ('could', 'VERB'), ('even', 'ADV'), ('help', 'VERB'), ('U.S.', 'NOUN'), ('designers', 'NOUN'), ('renew', 'VERB'), ('their', 'PRON'), ('sense', 'NOUN'), ('of', 'ADP'), ('purpose', 'NOUN'), ('.', '.')], [('The', 'DET'), ('firmness', 'NOUN'), ('in', 'ADP'), ('heating', 'NOUN'), ('oil', 'NOUN'), ('was', 'VERB'), ('attributed', 'VERB'), ('*-1', 'X'), ('to', 'PRT'), ('colder', 'ADJ'), ('weather', 'NOUN'), ('in', 'ADP'), ('parts', 'NOUN'), ('of', 'ADP'), ('the', 'DET'), ('U.S.', 'NOUN'), ('and', 'CONJ'), ('to', 'PRT'), ('the', 'DET'), ('latest', 'ADJ'), ('weekly', 'ADJ'), ('report', 'NOUN'), ('by', 'ADP'), ('the', 'DET'), ('American', 'NOUN'), ('Petroleum', 'NOUN'), ('Institute', 'NOUN'), (',', '.'), ('which', 'DET'), ('*T*-2', 'X'), ('showed', 'VERB'), ('a', 'DET'), ('decline', 'NOUN'), ('in', 'ADP'), ('inventories', 'NOUN'), ('of', 'ADP'), ('the', 'DET'), ('fuel', 'NOUN'), ('.', '.')], [('``', '.'), ('There', 'DET'), ('is', 'VERB'), ('always', 'ADV'), ('a', 'DET'), ('chance', 'NOUN'), ('of', 'ADP'), ('recession', 'NOUN'), (',', '.'), (\"''\", '.'), ('added', 'VERB'), ('*T*-2', 'X'), ('Mr.', 'NOUN'), ('Guffey', 'NOUN'), (',', '.'), ('``', '.'), ('but', 'CONJ'), ('if', 'ADP'), ('you', 'PRON'), ('ask', 'VERB'), ('me', 'PRON'), ('*-3', 'X'), ('to', 'PRT'), ('put', 'VERB'), ('a', 'DET'), ('percentage', 'NOUN'), ('on', 'ADP'), ('it', 'PRON'), (',', '.'), ('I', 'PRON'), ('would', 'VERB'), ('think', 'VERB'), ('0', 'X'), ('it', 'PRON'), (\"'s\", 'VERB'), ('well', 'ADV'), ('below', 'ADP'), ('a', 'DET'), ('50', 'NUM'), ('%', 'NOUN'), ('chance', 'NOUN'), ('.', '.')], [('It', 'PRON'), ('would', 'VERB'), ('be', 'VERB'), ('a', 'DET'), ('good', 'ADJ'), ('match', 'NOUN'), (',', '.'), ('Mr.', 'NOUN'), ('Hahn', 'NOUN'), ('and', 'CONJ'), ('many', 'ADJ'), ('analysts', 'NOUN'), ('say', 'VERB'), ('0', 'X'), ('*T*-1', 'X'), (',', '.'), ('of', 'ADP'), ('two', 'NUM'), ('healthy', 'ADJ'), ('companies', 'NOUN'), ('with', 'ADP'), ('high-quality', 'ADJ'), ('assets', 'NOUN'), ('and', 'CONJ'), ('strong', 'ADJ'), ('cash', 'NOUN'), ('flows', 'VERB'), ('.', '.')], [('But', 'CONJ'), ('Sony', 'NOUN'), ('ultimately', 'ADV'), ('took', 'VERB'), ('a', 'DET'), ('lesson', 'NOUN'), ('from', 'ADP'), ('the', 'DET'), ('American', 'ADJ'), ('management', 'NOUN'), ('books', 'NOUN'), ('and', 'CONJ'), ('fired', 'VERB'), ('Mr.', 'NOUN'), ('Katzenstein', 'NOUN'), (',', '.'), ('after', 'ADP'), ('he', 'PRON'), ('committed', 'VERB'), ('the', 'DET'), ('social', 'ADJ'), ('crime', 'NOUN'), ('of', 'ADP'), ('*', 'X'), ('making', 'VERB'), ('an', 'DET'), ('appointment', 'NOUN'), ('*', 'X'), ('to', 'PRT'), ('see', 'VERB'), ('the', 'DET'), ('venerable', 'ADJ'), ('Akio', 'NOUN'), ('Morita', 'NOUN'), (',', '.'), ('founder', 'NOUN'), ('of', 'ADP'), ('Sony', 'NOUN'), ('.', '.')], [('``', '.'), ('We', 'PRON'), (\"'re\", 'VERB'), ('willing', 'ADJ'), ('*-2', 'X'), ('to', 'PRT'), ('negotiate', 'VERB'), (',', '.'), (\"''\", '.'), ('says', 'VERB'), ('*T*-1', 'X'), ('Dennis', 'NOUN'), ('Gillespie', 'NOUN'), (',', '.'), ('executive', 'ADJ'), ('vice', 'NOUN'), ('president', 'NOUN'), ('of', 'ADP'), ('marketing', 'VERB'), ('.', '.')], [('The', 'DET'), ('Chicago', 'NOUN'), ('company', 'NOUN'), (\"'s\", 'PRT'), ('beverage', 'NOUN'), ('carrier', 'NOUN'), (',', '.'), ('*-1', 'X'), ('meant', 'VERB'), ('*-2', 'X'), ('to', 'PRT'), ('replace', 'VERB'), ('cardboard', 'NOUN'), ('trays', 'NOUN'), ('at', 'ADP'), ('concession', 'NOUN'), ('stands', 'NOUN'), ('and', 'CONJ'), ('fast-food', 'NOUN'), ('outlets', 'NOUN'), (',', '.'), ('resembles', 'VERB'), ('the', 'DET'), ('plastic', 'ADJ'), ('loops', 'NOUN'), ('used', 'VERB'), ('*', 'X'), ('on', 'ADP'), ('six-packs', 'NOUN'), ('of', 'ADP'), ('beer', 'NOUN'), (',', '.'), ('only', 'ADV'), ('the', 'DET'), ('loops', 'NOUN'), ('hang', 'VERB'), ('from', 'ADP'), ('a', 'DET'), ('web', 'NOUN'), ('of', 'ADP'), ('strings', 'NOUN'), ('.', '.')], [('Upjohn', 'NOUN'), ('Co.', 'NOUN'), ('said', 'VERB'), ('0', 'X'), ('it', 'PRON'), ('will', 'VERB'), ('offer', 'VERB'), ('an', 'DET'), ('early', 'ADJ'), ('retirement', 'NOUN'), ('package', 'NOUN'), ('to', 'PRT'), ('as', 'ADV'), ('many', 'ADJ'), ('as', 'ADP'), ('1,100', 'NUM'), ('employees', 'NOUN'), ('in', 'ADP'), ('a', 'DET'), ('cost-cutting', 'ADJ'), ('move', 'NOUN'), ('expected', 'VERB'), ('*', 'X'), ('to', 'PRT'), ('result', 'VERB'), ('in', 'ADP'), ('a', 'DET'), ('fourth-quarter', 'NOUN'), ('charge', 'NOUN'), ('.', '.')], [('Hearst', 'NOUN'), ('had', 'VERB'), ('flirted', 'VERB'), ('with', 'ADP'), ('a', 'DET'), ('conversion', 'NOUN'), ('to', 'PRT'), ('tabloid', 'ADJ'), ('format', 'NOUN'), ('for', 'ADP'), ('years', 'NOUN'), ('but', 'CONJ'), ('never', 'ADV'), ('executed', 'VERB'), ('the', 'DET'), ('plan', 'NOUN'), ('.', '.')], [('United', 'NOUN'), ('Illuminating', 'NOUN'), ('is', 'VERB'), ('based', 'VERB'), ('*-13', 'X'), ('in', 'ADP'), ('New', 'NOUN'), ('Haven', 'NOUN'), (',', '.'), ('Conn.', 'NOUN'), (',', '.'), ('and', 'CONJ'), ('Northeast', 'NOUN'), ('is', 'VERB'), ('based', 'VERB'), ('*-14', 'X'), ('in', 'ADP'), ('Hartford', 'NOUN'), (',', '.'), ('Conn', 'NOUN'), ('.', '.')], [('Mr.', 'NOUN'), ('Reupke', 'NOUN'), ('was', 'VERB'), ('one', 'NUM'), ('of', 'ADP'), ('three', 'NUM'), ('executives', 'NOUN'), ('on', 'ADP'), ('Reuters', 'NOUN'), (\"'s\", 'PRT'), ('eight-person', 'ADJ'), ('executive', 'NOUN'), ('committee', 'NOUN'), ('who', 'PRON'), ('*T*-1', 'X'), ('did', 'VERB'), (\"n't\", 'ADV'), ('also', 'ADV'), ('serve', 'VERB'), ('on', 'ADP'), ('the', 'DET'), ('company', 'NOUN'), (\"'s\", 'PRT'), ('board', 'NOUN'), ('of', 'ADP'), ('directors', 'NOUN'), ('.', '.')], [('And', 'CONJ'), ('South', 'NOUN'), ('Carolina', 'NOUN'), ('says', 'VERB'), ('0', 'X'), ('it', 'PRON'), ('is', 'VERB'), ('getting', 'VERB'), ('results', 'NOUN'), ('.', '.')], [('Criminal', 'ADJ'), ('charges', 'NOUN'), ('*ICH*-2', 'X'), ('were', 'VERB'), ('filed', 'VERB'), ('*-1', 'X'), ('against', 'ADP'), ('Diceon', 'NOUN'), ('Electronics', 'NOUN'), ('Inc.', 'NOUN'), ('and', 'CONJ'), ('two', 'NUM'), ('company', 'NOUN'), ('officials', 'NOUN'), ('alleging', 'VERB'), ('waste', 'NOUN'), ('disposal', 'NOUN'), ('violations', 'NOUN'), ('in', 'ADP'), ('its', 'PRON'), ('Chatsworth', 'NOUN'), (',', '.'), ('Calif.', 'NOUN'), (',', '.'), ('facility', 'NOUN'), ('.', '.')], [('By', 'ADP'), ('this', 'DET'), ('September', 'NOUN'), (',', '.'), ('program', 'NOUN'), ('traders', 'NOUN'), ('were', 'VERB'), ('doing', 'VERB'), ('a', 'DET'), ('record', 'NOUN'), ('13.8', 'NUM'), ('%', 'NOUN'), ('of', 'ADP'), ('the', 'DET'), ('Big', 'NOUN'), ('Board', 'NOUN'), (\"'s\", 'PRT'), ('average', 'ADJ'), ('daily', 'ADJ'), ('trading', 'NOUN'), ('volume', 'NOUN'), ('.', '.')], [('In', 'ADP'), ('May', 'NOUN'), (',', '.'), ('the', 'DET'), ('two', 'NUM'), ('companies', 'NOUN'), (',', '.'), ('through', 'ADP'), ('their', 'PRON'), ('jointly', 'ADV'), ('owned', 'VERB'), ('holding', 'VERB'), ('company', 'NOUN'), (',', '.'), ('Temple', 'NOUN'), (',', '.'), ('offered', 'VERB'), ('$', '.'), ('50', 'NUM'), ('*U*', 'X'), ('a', 'DET'), ('share', 'NOUN'), (',', '.'), ('or', 'CONJ'), ('$', '.'), ('777', 'NUM'), ('million', 'NUM'), ('*U*', 'X'), (',', '.'), ('for', 'ADP'), ('Sea', 'NOUN'), ('Containers', 'NOUN'), ('.', '.')], [('He', 'PRON'), ('added', 'VERB'), ('that', 'ADP'), ('the', 'DET'), ('current-carrying', 'ADJ'), ('capacity', 'NOUN'), ('of', 'ADP'), ('multi-crystal', 'ADJ'), ('samples', 'NOUN'), ('of', 'ADP'), ('superconductors', 'NOUN'), ('remains', 'VERB'), ('too', 'ADV'), ('low', 'ADV'), ('for', 'ADP'), ('most', 'ADJ'), ('practical', 'ADJ'), ('uses', 'NOUN'), ('because', 'ADP'), ('of', 'ADP'), ('so-called', 'ADJ'), ('weak', 'ADJ'), ('links', 'NOUN'), ('between', 'ADP'), ('crystals', 'NOUN'), ('.', '.')], [('John', 'NOUN'), ('Rowe', 'NOUN'), (',', '.'), ('president', 'NOUN'), ('*RNR*-1', 'X'), ('and', 'CONJ'), ('chief', 'ADJ'), ('executive', 'ADJ'), ('officer', 'NOUN'), ('*RNR*-1', 'X'), ('of', 'ADP'), ('New', 'NOUN'), ('England', 'NOUN'), ('Electric', 'NOUN'), (',', '.'), ('said', 'VERB'), ('0', 'X'), ('the', 'DET'), ('company', 'NOUN'), (\"'s\", 'PRT'), ('return', 'NOUN'), ('on', 'ADP'), ('equity', 'NOUN'), ('could', 'VERB'), ('suffer', 'VERB'), ('if', 'ADP'), ('it', 'PRON'), ('made', 'VERB'), ('a', 'DET'), ('higher', 'ADJ'), ('bid', 'NOUN'), ('and', 'CONJ'), ('its', 'PRON'), ('forecasts', 'NOUN'), ('related', 'VERB'), ('*', 'X'), ('to', 'PRT'), ('PS', 'NOUN'), ('of', 'ADP'), ('New', 'NOUN'), ('Hampshire', 'NOUN'), ('--', '.'), ('such', 'ADJ'), ('as', 'ADP'), ('growth', 'NOUN'), ('in', 'ADP'), ('electricity', 'NOUN'), ('demand', 'NOUN'), ('and', 'CONJ'), ('improved', 'VERB'), ('operating', 'NOUN'), ('efficiencies', 'NOUN'), ('--', '.'), ('did', 'VERB'), (\"n't\", 'ADV'), ('come', 'VERB'), ('true', 'ADJ'), ('.', '.')], [('And', 'CONJ'), ('unlike', 'ADP'), ('some', 'DET'), ('trays', 'NOUN'), (',', '.'), ('there', 'DET'), (\"'s\", 'VERB'), ('no', 'DET'), ('place', 'NOUN'), ('for', 'ADP'), ('food', 'NOUN'), ('.', '.')], [('Earlier', 'ADV'), ('this', 'DET'), ('year', 'NOUN'), ('Shaw', 'NOUN'), ('Publishing', 'NOUN'), ('Inc.', 'NOUN'), (',', '.'), ('Charlotte', 'NOUN'), (',', '.'), ('acquired', 'VERB'), ('30', 'NUM'), ('%', 'NOUN'), ('of', 'ADP'), ('American', 'NOUN'), ('City', 'NOUN'), ('*T*-1', 'X'), ('and', 'CONJ'), ('has', 'VERB'), ('an', 'DET'), ('agreement', 'NOUN'), ('*', 'X'), ('to', 'PRT'), ('acquire', 'VERB'), ('a', 'DET'), ('further', 'ADJ'), ('25', 'NUM'), ('%', 'NOUN'), ('from', 'ADP'), ('E.W.', 'NOUN'), ('Scripps', 'NOUN'), ('Co.', 'NOUN'), ('next', 'ADJ'), ('year', 'NOUN'), ('.', '.')], [('Despite', 'ADP'), ('the', 'DET'), ('enormous', 'ADJ'), ('sums', 'NOUN'), ('of', 'ADP'), ('money', 'NOUN'), ('0', 'X'), ('they', 'PRON'), (\"'re\", 'VERB'), ('paid', 'VERB'), ('*T*-1', 'X'), ('*-2', 'X'), ('to', 'PRT'), ('stand', 'VERB'), ('up', 'PRT'), ('at', 'ADP'), ('a', 'DET'), ('Japanese', 'ADJ'), ('plate', 'NOUN'), (',', '.'), ('a', 'DET'), ('good', 'ADJ'), ('number', 'NOUN'), ('decide', 'VERB'), ('0', 'X'), ('it', 'PRON'), (\"'s\", 'VERB'), ('not', 'ADV'), ('worth', 'ADJ'), ('it', 'PRON'), ('and', 'CONJ'), ('run', 'VERB'), ('for', 'ADP'), ('home', 'NOUN'), ('.', '.')], [('The', 'DET'), ('Pennsylvania', 'NOUN'), ('bank', 'NOUN'), ('agreed', 'VERB'), ('*-1', 'X'), ('to', 'PRT'), ('be', 'VERB'), ('acquired', 'VERB'), ('*-2', 'X'), ('in', 'ADP'), ('a', 'DET'), ('merger', 'NOUN'), ('with', 'ADP'), ('Univest', 'NOUN'), ('Corp.', 'NOUN'), ('of', 'ADP'), ('Pennsylvania', 'NOUN'), ('for', 'ADP'), ('$', '.'), ('25.50', 'NUM'), ('*U*', 'X'), ('a', 'DET'), ('share', 'NOUN'), ('.', '.')], [('The', 'DET'), ('offer', 'NOUN'), (',', '.'), ('valued', 'VERB'), ('*', 'X'), ('at', 'ADP'), ('about', 'ADP'), ('$', '.'), ('576', 'NUM'), ('million', 'NUM'), ('*U*', 'X'), ('for', 'ADP'), ('the', 'DET'), ('33', 'NUM'), ('%', 'NOUN'), ('of', 'ADP'), ('Telerate', 'NOUN'), ('that', 'ADP'), ('Dow', 'NOUN'), ('Jones', 'NOUN'), ('does', 'VERB'), (\"n't\", 'ADV'), ('already', 'ADV'), ('own', 'VERB'), ('*T*-1', 'X'), (',', '.'), ('had', 'VERB'), ('been', 'VERB'), ('set', 'VERB'), ('*-2', 'X'), ('to', 'PRT'), ('expire', 'VERB'), ('Nov.', 'NOUN'), ('6', 'NUM'), ('.', '.')], [('Now', 'ADV'), (',', '.'), ('on', 'ADP'), ('a', 'DET'), ('good', 'ADJ'), ('day', 'NOUN'), (',', '.'), ('Chicago', 'NOUN'), (\"'s\", 'PRT'), ('stock-index', 'NOUN'), ('traders', 'NOUN'), ('trade', 'VERB'), ('more', 'ADJ'), ('dollars', 'NOUN'), ('worth', 'NOUN'), ('of', 'ADP'), ('stock', 'NOUN'), ('futures', 'NOUN'), ('than', 'ADP'), ('the', 'DET'), ('Big', 'NOUN'), ('Board', 'NOUN'), ('trades', 'VERB'), ('in', 'ADP'), ('stock', 'NOUN'), ('.', '.')], [('Workers', 'NOUN'), ('described', 'VERB'), ('``', '.'), ('clouds', 'NOUN'), ('of', 'ADP'), ('blue', 'ADJ'), ('dust', 'NOUN'), (\"''\", '.'), ('that', 'DET'), ('*T*-1', 'X'), ('hung', 'VERB'), ('over', 'ADP'), ('parts', 'NOUN'), ('of', 'ADP'), ('the', 'DET'), ('factory', 'NOUN'), (',', '.'), ('even', 'ADV'), ('though', 'ADP'), ('exhaust', 'NOUN'), ('fans', 'NOUN'), ('ventilated', 'VERB'), ('the', 'DET'), ('area', 'NOUN'), ('.', '.')]]\n"
     ]
    }
   ],
   "source": [
    "random.seed(1234)\n",
    "train_set, test_set = train_test_split(nltk_data,test_size=0.05)\n",
    "\n",
    "print(len(train_set))\n",
    "print(len(test_set))\n",
    "print(train_set[:40])"
   ]
  },
  {
   "cell_type": "code",
   "execution_count": 360,
   "metadata": {},
   "outputs": [
    {
     "data": {
      "text/plain": [
       "95730"
      ]
     },
     "execution_count": 360,
     "metadata": {},
     "output_type": "execute_result"
    }
   ],
   "source": [
    "# Getting list of tagged words\n",
    "train_tagged_words = [tup for sent in train_set for tup in sent]\n",
    "len(train_tagged_words)"
   ]
  },
  {
   "cell_type": "code",
   "execution_count": 361,
   "metadata": {},
   "outputs": [
    {
     "data": {
      "text/plain": [
       "['``', 'When', 'you', 'do', 'that', '*T*-1', ',', 'there', 'is', 'not']"
      ]
     },
     "execution_count": 361,
     "metadata": {},
     "output_type": "execute_result"
    }
   ],
   "source": [
    "# tokens \n",
    "tokens = [pair[0] for pair in train_tagged_words]\n",
    "tokens[:10]"
   ]
  },
  {
   "cell_type": "code",
   "execution_count": 362,
   "metadata": {},
   "outputs": [
    {
     "name": "stdout",
     "output_type": "stream",
     "text": [
      "12095\n"
     ]
    }
   ],
   "source": [
    "# vocabulary\n",
    "V = set(tokens)\n",
    "print(len(V))"
   ]
  },
  {
   "cell_type": "code",
   "execution_count": 363,
   "metadata": {},
   "outputs": [
    {
     "data": {
      "text/plain": [
       "12"
      ]
     },
     "execution_count": 363,
     "metadata": {},
     "output_type": "execute_result"
    }
   ],
   "source": [
    "# number of tags\n",
    "T = set([pair[1] for pair in train_tagged_words])\n",
    "len(T)"
   ]
  },
  {
   "cell_type": "code",
   "execution_count": 365,
   "metadata": {},
   "outputs": [],
   "source": [
    "# computing P(w/t) and storing in T x V matrix\n",
    "t = len(T)\n",
    "v = len(V)\n",
    "w_given_t = np.zeros((t, v))"
   ]
  },
  {
   "cell_type": "markdown",
   "metadata": {},
   "source": [
    "#### Transition probablities"
   ]
  },
  {
   "cell_type": "code",
   "execution_count": 366,
   "metadata": {},
   "outputs": [],
   "source": [
    "# compute word given tag: Emission Probability\n",
    "def word_given_tag(word, tag, train_bag = train_tagged_words):\n",
    "    tag_list = [pair for pair in train_bag if pair[1]==tag]\n",
    "    count_tag = len(tag_list)\n",
    "    w_given_tag_list = [pair[0] for pair in tag_list if pair[0]==word]\n",
    "    count_w_given_tag = len(w_given_tag_list)\n",
    "    \n",
    "    return (count_w_given_tag, count_tag)"
   ]
  },
  {
   "cell_type": "code",
   "execution_count": 367,
   "metadata": {},
   "outputs": [],
   "source": [
    "def t2_given_t1(t2, t1, train_bag = train_tagged_words):\n",
    "    tags = [pair[1] for pair in train_bag]\n",
    "    count_t1 = len([t for t in tags if t==t1])\n",
    "    count_t2_t1 = 0\n",
    "    for index in range(len(tags)-1):\n",
    "        if tags[index]==t1 and tags[index+1] == t2:\n",
    "            count_t2_t1 += 1\n",
    "    return (count_t2_t1, count_t1)"
   ]
  },
  {
   "cell_type": "code",
   "execution_count": null,
   "metadata": {},
   "outputs": [],
   "source": []
  },
  {
   "cell_type": "markdown",
   "metadata": {},
   "source": [
    "#### Lexical and Rule based taggers"
   ]
  },
  {
   "cell_type": "code",
   "execution_count": 418,
   "metadata": {},
   "outputs": [
    {
     "data": {
      "text/plain": [
       "0.9049737161342499"
      ]
     },
     "execution_count": 418,
     "metadata": {},
     "output_type": "execute_result"
    }
   ],
   "source": [
    "unigram_tagger = nltk.UnigramTagger(train_set)\n",
    "unigram_tagger.evaluate(test_set)"
   ]
  },
  {
   "cell_type": "code",
   "execution_count": 368,
   "metadata": {},
   "outputs": [],
   "source": [
    "def unigram_based_tagger(train_set, test_set):\n",
    "    # Lexicon (or unigram tagger)\n",
    "    unigram_tagger = nltk.UnigramTagger(train_set)\n",
    "    unigram_tagger.evaluate(test_set)\n",
    "    return unigram_tagger"
   ]
  },
  {
   "cell_type": "code",
   "execution_count": 416,
   "metadata": {},
   "outputs": [
    {
     "data": {
      "text/plain": [
       "0.32713303679741207"
      ]
     },
     "execution_count": 416,
     "metadata": {},
     "output_type": "execute_result"
    }
   ],
   "source": [
    "patterns = [\n",
    "    (r'.*ing$', 'VERB'),              # gerund\n",
    "    (r'.*ed$', 'VERB'),               # past tense\n",
    "    (r'.*es$', 'VERB'),               # 3rd singular present\n",
    "    (r'.*ould$', 'VERB'),              # modals\n",
    "    (r'.*\\'s$', 'NOUN'),              # possessive nouns\n",
    "    (r'.*s$', 'NOUN'),                # plural nouns\n",
    "    (r'^-?[0-9]+(.[0-9]+)?$', 'NUM'), # cardinal numbers\n",
    "    (r'.*', 'NOUN')                    # nouns\n",
    "    ]\n",
    "regexp_tagger = nltk.RegexpTagger(patterns)\n",
    "regexp_tagger.evaluate(test_set)\n"
   ]
  },
  {
   "cell_type": "code",
   "execution_count": 414,
   "metadata": {},
   "outputs": [],
   "source": [
    "def rule_based_tagger(test_set):\n",
    "    patterns = [\n",
    "    (r'.*ing$', 'VERB'),              # gerund\n",
    "    (r'.*ed$', 'VERB'),               # past tense\n",
    "    (r'.*es$', 'VERB'),               # 3rd singular present\n",
    "    (r'.*ould$', 'VERB'),              # modals\n",
    "    (r'.*\\'s$', 'NOUN'),              # possessive nouns\n",
    "    (r'.*s$', 'NOUN'),                # plural nouns\n",
    "    (r'^-?[0-9]+(.[0-9]+)?$', 'NUM'), # cardinal numbers\n",
    "    (r'.*', 'NOUN')                    # nouns\n",
    "    ]\n",
    "    regexp_tagger = nltk.RegexpTagger(patterns)\n",
    "    regexp_tagger.evaluate(test_set)\n",
    "    return regexp_tagger"
   ]
  },
  {
   "cell_type": "markdown",
   "metadata": {},
   "source": [
    "#### Tags matrix creation to make dataframe out of it"
   ]
  },
  {
   "cell_type": "code",
   "execution_count": 370,
   "metadata": {},
   "outputs": [],
   "source": [
    "tags_matrix = np.zeros((len(T), len(T)), dtype='float32')\n",
    "for i, t1 in enumerate(list(T)):\n",
    "    for j, t2 in enumerate(list(T)): \n",
    "        tags_matrix[i, j] = t2_given_t1(t2, t1)[0]/t2_given_t1(t2, t1)[1]"
   ]
  },
  {
   "cell_type": "code",
   "execution_count": 371,
   "metadata": {},
   "outputs": [],
   "source": [
    "# convert the matrix to a df for better readability\n",
    "tags_df = pd.DataFrame(tags_matrix, columns = list(T), index=list(T))"
   ]
  },
  {
   "cell_type": "code",
   "execution_count": 372,
   "metadata": {},
   "outputs": [],
   "source": [
    "test = rule_based_tagger(test_set)"
   ]
  },
  {
   "cell_type": "markdown",
   "metadata": {},
   "source": [
    "### Build the vanilla Viterbi based POS tagger"
   ]
  },
  {
   "cell_type": "code",
   "execution_count": 373,
   "metadata": {},
   "outputs": [],
   "source": [
    "rule_based_tagged = rule_based_tagger(test_set)"
   ]
  },
  {
   "cell_type": "code",
   "execution_count": 374,
   "metadata": {},
   "outputs": [],
   "source": [
    "# Viterbi Heuristic\n",
    "def Viterbi(words, train_bag = train_tagged_words):\n",
    "    state = []\n",
    "    rule_tagged =[]\n",
    "    T = list(set([pair[1] for pair in train_bag]))\n",
    "    \n",
    "    for key, word in enumerate(words):\n",
    "        #initialise list of probability column for a given observation\n",
    "        p = []\n",
    "        for tag in T:\n",
    "            if key == 0:\n",
    "                transition_p = tags_df.loc['.', tag]\n",
    "            else:\n",
    "                transition_p = tags_df.loc[state[-1], tag]\n",
    "                \n",
    "            # compute emission and state probabilities\n",
    "            emission_p = word_given_tag(words[key], tag)[0]/word_given_tag(words[key], tag)[1]\n",
    "            state_probability = emission_p * transition_p    \n",
    "            p.append(state_probability)\n",
    "            \n",
    "        pmax = max(p)\n",
    "        # getting state for which probability is maximum\n",
    "#         print(pmax)\n",
    "        state_max = T[p.index(pmax)] \n",
    "        state.append(state_max)\n",
    "    return list(zip(words, state))\n"
   ]
  },
  {
   "cell_type": "markdown",
   "metadata": {},
   "source": [
    "#### Modified Viterbi  by adding rule based tagger"
   ]
  },
  {
   "cell_type": "code",
   "execution_count": 375,
   "metadata": {},
   "outputs": [],
   "source": [
    "# Viterbi Heuristic\n",
    "def Viterbi_modified(words, train_bag = train_tagged_words):\n",
    "    state = []\n",
    "    rule_tagged = []\n",
    "    T = list(set([pair[1] for pair in train_bag]))\n",
    "    \n",
    "     \n",
    "    for key, word in enumerate(words):\n",
    "        \n",
    "        ## Applying rules for the unknown words which are not part of the Vo\n",
    "        if word not in V:\n",
    "            rule_tagged.append(rule_based_tagged.tag_sents([[word]])[0][0][1])\n",
    "            state.append(rule_based_tagged.tag_sents([[word]])[0][0][1])\n",
    "        \n",
    "        else:\n",
    "            p = []\n",
    "            for tag in T:\n",
    "#                 print(key)\n",
    "                if key == 0:\n",
    "                    transition_p = tags_df.loc['.', tag]\n",
    "                else:\n",
    "                    transition_p = tags_df.loc[state[-1], tag]\n",
    "\n",
    "                # compute emission and state probabilities\n",
    "                emission_p = word_given_tag(words[key], tag)[0]/word_given_tag(words[key], tag)[1]\n",
    "                state_probability = emission_p * transition_p    \n",
    "                p.append(state_probability)\n",
    "            \n",
    "            pmax = max(p)\n",
    "            state_max = T[p.index(pmax)] \n",
    "            state.append(state_max)\n",
    "            \n",
    "    \n",
    "#     state.extend(rule_tagged)        \n",
    "    return list(zip(words, state))\n"
   ]
  },
  {
   "cell_type": "code",
   "execution_count": 378,
   "metadata": {
    "collapsed": true
   },
   "outputs": [
    {
     "data": {
      "text/plain": [
       "[[('Prosecutors', 'NOUN'),\n",
       "  ('need', 'VERB'),\n",
       "  ('court', 'NOUN'),\n",
       "  ('permission', 'NOUN'),\n",
       "  ('*-1', 'X'),\n",
       "  ('to', 'PRT'),\n",
       "  ('obtain', 'VERB'),\n",
       "  ('the', 'DET'),\n",
       "  ('tax', 'NOUN'),\n",
       "  ('returns', 'NOUN'),\n",
       "  ('of', 'ADP'),\n",
       "  ('an', 'DET'),\n",
       "  ('individual', 'NOUN'),\n",
       "  ('or', 'CONJ'),\n",
       "  ('a', 'DET'),\n",
       "  ('business', 'NOUN'),\n",
       "  ('.', '.')],\n",
       " [('In', 'ADP'),\n",
       "  ('a', 'DET'),\n",
       "  ('meeting', 'NOUN'),\n",
       "  ('Tuesday', 'NOUN'),\n",
       "  (',', '.'),\n",
       "  ('supreme', 'NOUN'),\n",
       "  ('leader', 'NOUN'),\n",
       "  (',', '.'),\n",
       "  ('Deng', 'NOUN'),\n",
       "  ('Xiaoping', 'NOUN'),\n",
       "  (',', '.'),\n",
       "  ('told', 'VERB'),\n",
       "  ('Mr.', 'NOUN'),\n",
       "  ('Nixon', 'NOUN'),\n",
       "  (',', '.'),\n",
       "  ('``', '.'),\n",
       "  ('*', 'X'),\n",
       "  ('Frankly', 'ADV'),\n",
       "  ('speaking', 'VERB'),\n",
       "  (',', '.'),\n",
       "  ('the', 'DET'),\n",
       "  ('U.S.', 'NOUN'),\n",
       "  ('was', 'VERB'),\n",
       "  ('involved', 'VERB'),\n",
       "  ('*-146', 'X'),\n",
       "  ('too', 'ADV'),\n",
       "  ('deeply', 'ADV'),\n",
       "  ('in', 'ADP'),\n",
       "  ('the', 'DET'),\n",
       "  ('turmoil', 'NOUN'),\n",
       "  ('and', 'CONJ'),\n",
       "  ('counterrevolutionary', 'ADJ'),\n",
       "  ('rebellion', 'NOUN'),\n",
       "  ('which', 'DET'),\n",
       "  ('*T*-243', 'X'),\n",
       "  ('occurred', 'VERB'),\n",
       "  ('in', 'ADP'),\n",
       "  ('Beijing', 'NOUN'),\n",
       "  ('not', 'ADV'),\n",
       "  ('long', 'ADV'),\n",
       "  ('ago', 'ADV'),\n",
       "  ('.', '.')],\n",
       " [('Railroad', 'NOUN'),\n",
       "  ('companies', 'NOUN'),\n",
       "  ('and', 'CONJ'),\n",
       "  ('some', 'DET'),\n",
       "  ('ports', 'NOUN'),\n",
       "  ('are', 'VERB'),\n",
       "  ('reaping', 'VERB'),\n",
       "  ('a', 'DET'),\n",
       "  ('sudden', 'ADJ'),\n",
       "  ('windfall', 'NOUN'),\n",
       "  ('of', 'ADP'),\n",
       "  ('business', 'NOUN'),\n",
       "  ('.', '.')],\n",
       " [('While', 'ADP'),\n",
       "  ('the', 'DET'),\n",
       "  ('small', 'ADJ'),\n",
       "  ('deals', 'NOUN'),\n",
       "  ('are', 'VERB'),\n",
       "  ('far', 'ADV'),\n",
       "  ('less', 'ADV'),\n",
       "  ('conspicuous', 'ADJ'),\n",
       "  (',', '.'),\n",
       "  ('they', 'PRON'),\n",
       "  ('add', 'VERB'),\n",
       "  ('to', 'PRT'),\n",
       "  ('Japanese', 'ADJ'),\n",
       "  ('penetration', 'NOUN'),\n",
       "  ('of', 'ADP'),\n",
       "  ('the', 'DET'),\n",
       "  ('U.S.', 'NOUN'),\n",
       "  ('market', 'NOUN'),\n",
       "  ('.', '.')],\n",
       " [('It', 'PRON'),\n",
       "  (\"'s\", 'VERB'),\n",
       "  ('the', 'DET'),\n",
       "  ('latest', 'ADJ'),\n",
       "  ('investment', 'NOUN'),\n",
       "  ('craze', 'NOUN'),\n",
       "  ('sweeping', 'VERB'),\n",
       "  ('Wall', 'NOUN'),\n",
       "  ('Street', 'NOUN'),\n",
       "  (':', '.'),\n",
       "  ('a', 'DET'),\n",
       "  ('rash', 'NOUN'),\n",
       "  ('of', 'ADP'),\n",
       "  ('new', 'ADJ'),\n",
       "  ('closed-end', 'ADJ'),\n",
       "  ('country', 'NOUN'),\n",
       "  ('funds', 'NOUN'),\n",
       "  (',', '.'),\n",
       "  ('those', 'DET'),\n",
       "  ('publicly', 'ADV'),\n",
       "  ('traded', 'VERB'),\n",
       "  ('portfolios', 'NOUN'),\n",
       "  ('that', 'DET'),\n",
       "  ('*T*-37', 'X'),\n",
       "  ('invest', 'VERB'),\n",
       "  ('in', 'ADP'),\n",
       "  ('stocks', 'NOUN'),\n",
       "  ('of', 'ADP'),\n",
       "  ('a', 'DET'),\n",
       "  ('single', 'ADJ'),\n",
       "  ('foreign', 'ADJ'),\n",
       "  ('country', 'NOUN'),\n",
       "  ('.', '.')]]"
      ]
     },
     "execution_count": 378,
     "metadata": {},
     "output_type": "execute_result"
    }
   ],
   "source": [
    "random.seed(1234)\n",
    "\n",
    "# choose random 5 sents\n",
    "rndom = [random.randint(1,len(test_set)) for x in range(5)]\n",
    "\n",
    "# list of sents\n",
    "test_run = [test_set[i] for i in rndom]\n",
    "\n",
    "# list of tagged words\n",
    "test_run_base = [tup for sent in test_run for tup in sent]\n",
    "\n",
    "# list of untagged words\n",
    "test_tagged_words = [tup[0] for sent in test_run for tup in sent]\n",
    "test_run"
   ]
  },
  {
   "cell_type": "code",
   "execution_count": 384,
   "metadata": {},
   "outputs": [],
   "source": [
    "tagged_seq = Viterbi(test_tagged_words)"
   ]
  },
  {
   "cell_type": "code",
   "execution_count": 385,
   "metadata": {},
   "outputs": [
    {
     "data": {
      "text/plain": [
       "0.8548387096774194"
      ]
     },
     "execution_count": 385,
     "metadata": {},
     "output_type": "execute_result"
    }
   ],
   "source": [
    "# accuracy\n",
    "check = [i for i, j in zip(tagged_seq, test_run_base) if i == j] \n",
    "accuracy = len(check)/len(tagged_seq)\n",
    "accuracy"
   ]
  },
  {
   "cell_type": "code",
   "execution_count": 386,
   "metadata": {},
   "outputs": [],
   "source": [
    "incorrect_tagged_cases = [[test_run_base[i-1],j] for i, j in enumerate(zip(tagged_seq, test_run_base)) if j[0]!=j[1]]"
   ]
  },
  {
   "cell_type": "code",
   "execution_count": 387,
   "metadata": {},
   "outputs": [
    {
     "data": {
      "text/plain": [
       "[[('an', 'DET'), (('individual', 'ADJ'), ('individual', 'NOUN'))],\n",
       " [(',', '.'), (('supreme', 'ADJ'), ('supreme', 'NOUN'))],\n",
       " [(',', '.'), (('Deng', 'ADJ'), ('Deng', 'NOUN'))],\n",
       " [('Deng', 'NOUN'), (('Xiaoping', 'ADJ'), ('Xiaoping', 'NOUN'))],\n",
       " [('*', 'X'), (('Frankly', 'ADJ'), ('Frankly', 'ADV'))],\n",
       " [('Frankly', 'ADV'), (('speaking', 'ADJ'), ('speaking', 'VERB'))],\n",
       " [('involved', 'VERB'), (('*-146', 'ADJ'), ('*-146', 'X'))],\n",
       " [('too', 'ADV'), (('deeply', 'ADJ'), ('deeply', 'ADV'))],\n",
       " [('counterrevolutionary', 'ADJ'),\n",
       "  (('rebellion', 'ADJ'), ('rebellion', 'NOUN'))],\n",
       " [('which', 'DET'), (('*T*-243', 'ADJ'), ('*T*-243', 'X'))],\n",
       " [('not', 'ADV'), (('long', 'ADJ'), ('long', 'ADV'))],\n",
       " [('long', 'ADV'), (('ago', 'ADP'), ('ago', 'ADV'))],\n",
       " [('are', 'VERB'), (('reaping', 'ADJ'), ('reaping', 'VERB'))],\n",
       " [('sudden', 'ADJ'), (('windfall', 'ADJ'), ('windfall', 'NOUN'))],\n",
       " [('far', 'ADV'), (('less', 'ADJ'), ('less', 'ADV'))],\n",
       " [('Japanese', 'ADJ'), (('penetration', 'ADJ'), ('penetration', 'NOUN'))],\n",
       " [('a', 'DET'), (('rash', 'ADJ'), ('rash', 'NOUN'))],\n",
       " [('portfolios', 'NOUN'), (('that', 'ADP'), ('that', 'DET'))]]"
      ]
     },
     "execution_count": 387,
     "metadata": {},
     "output_type": "execute_result"
    }
   ],
   "source": [
    "incorrect_tagged_cases"
   ]
  },
  {
   "cell_type": "markdown",
   "metadata": {},
   "source": [
    "### Solve the problem of unknown words"
   ]
  },
  {
   "cell_type": "code",
   "execution_count": 388,
   "metadata": {},
   "outputs": [],
   "source": [
    "unknown_words = set(test_tagged_words) - V"
   ]
  },
  {
   "cell_type": "code",
   "execution_count": 389,
   "metadata": {},
   "outputs": [
    {
     "data": {
      "text/plain": [
       "{'*-146',\n",
       " '*T*-243',\n",
       " 'Deng',\n",
       " 'Frankly',\n",
       " 'Xiaoping',\n",
       " 'counterrevolutionary',\n",
       " 'deeply',\n",
       " 'penetration',\n",
       " 'rash',\n",
       " 'reaping',\n",
       " 'rebellion',\n",
       " 'speaking',\n",
       " 'supreme',\n",
       " 'windfall'}"
      ]
     },
     "execution_count": 389,
     "metadata": {},
     "output_type": "execute_result"
    }
   ],
   "source": [
    "unknown_words"
   ]
  },
  {
   "cell_type": "code",
   "execution_count": 392,
   "metadata": {},
   "outputs": [
    {
     "data": {
      "text/plain": [
       "[('speaking', 'ADJ'),\n",
       " ('*-146', 'ADJ'),\n",
       " ('Deng', 'ADJ'),\n",
       " ('rash', 'ADJ'),\n",
       " ('rebellion', 'ADJ'),\n",
       " ('deeply', 'ADJ'),\n",
       " ('supreme', 'ADJ'),\n",
       " ('*T*-243', 'ADJ'),\n",
       " ('penetration', 'ADJ'),\n",
       " ('Xiaoping', 'ADJ'),\n",
       " ('windfall', 'ADJ'),\n",
       " ('reaping', 'ADJ'),\n",
       " ('counterrevolutionary', 'ADJ'),\n",
       " ('Frankly', 'ADJ')]"
      ]
     },
     "execution_count": 392,
     "metadata": {},
     "output_type": "execute_result"
    }
   ],
   "source": [
    "Viterbi(list(unknown_words))"
   ]
  },
  {
   "cell_type": "code",
   "execution_count": 390,
   "metadata": {},
   "outputs": [
    {
     "data": {
      "text/plain": [
       "[('speaking', 'VERB'),\n",
       " ('*-146', 'NOUN'),\n",
       " ('Deng', 'NOUN'),\n",
       " ('rash', 'NOUN'),\n",
       " ('rebellion', 'NOUN'),\n",
       " ('deeply', 'NOUN'),\n",
       " ('supreme', 'NOUN'),\n",
       " ('*T*-243', 'NOUN'),\n",
       " ('penetration', 'NOUN'),\n",
       " ('Xiaoping', 'VERB'),\n",
       " ('windfall', 'NOUN'),\n",
       " ('reaping', 'VERB'),\n",
       " ('counterrevolutionary', 'NOUN'),\n",
       " ('Frankly', 'NOUN')]"
      ]
     },
     "execution_count": 390,
     "metadata": {},
     "output_type": "execute_result"
    }
   ],
   "source": [
    "Viterbi_modified(unknown_words)"
   ]
  },
  {
   "cell_type": "code",
   "execution_count": 106,
   "metadata": {},
   "outputs": [],
   "source": [
    "def parse_text(document):\n",
    "    \"parse text into words\"\n",
    "    return re.findall(r'\\w+', document.lower())"
   ]
  },
  {
   "cell_type": "code",
   "execution_count": 248,
   "metadata": {},
   "outputs": [],
   "source": [
    "test_sent = parse_text(open(\"Test_sentences.txt\").read())"
   ]
  },
  {
   "cell_type": "code",
   "execution_count": null,
   "metadata": {},
   "outputs": [],
   "source": [
    "Viterbi(test_sent)"
   ]
  },
  {
   "cell_type": "code",
   "execution_count": 274,
   "metadata": {
    "collapsed": true
   },
   "outputs": [
    {
     "ename": "IndexError",
     "evalue": "list index out of range",
     "output_type": "error",
     "traceback": [
      "\u001b[1;31m---------------------------------------------------------------------------\u001b[0m",
      "\u001b[1;31mIndexError\u001b[0m                                Traceback (most recent call last)",
      "\u001b[1;32m<ipython-input-274-1a0baf18a9b0>\u001b[0m in \u001b[0;36m<module>\u001b[1;34m\u001b[0m\n\u001b[1;32m----> 1\u001b[1;33m \u001b[0mViterbi_modified\u001b[0m\u001b[1;33m(\u001b[0m\u001b[0mtest_sent\u001b[0m\u001b[1;33m)\u001b[0m\u001b[1;33m\u001b[0m\u001b[1;33m\u001b[0m\u001b[0m\n\u001b[0m",
      "\u001b[1;32m<ipython-input-273-e3888b32357e>\u001b[0m in \u001b[0;36mViterbi_modified\u001b[1;34m(words, train_bag)\u001b[0m\n\u001b[0;32m     17\u001b[0m                     \u001b[0mtransition_p\u001b[0m \u001b[1;33m=\u001b[0m \u001b[0mtags_df\u001b[0m\u001b[1;33m.\u001b[0m\u001b[0mloc\u001b[0m\u001b[1;33m[\u001b[0m\u001b[1;34m'.'\u001b[0m\u001b[1;33m,\u001b[0m \u001b[0mtag\u001b[0m\u001b[1;33m]\u001b[0m\u001b[1;33m\u001b[0m\u001b[1;33m\u001b[0m\u001b[0m\n\u001b[0;32m     18\u001b[0m                 \u001b[1;32melse\u001b[0m\u001b[1;33m:\u001b[0m\u001b[1;33m\u001b[0m\u001b[1;33m\u001b[0m\u001b[0m\n\u001b[1;32m---> 19\u001b[1;33m                     \u001b[0mtransition_p\u001b[0m \u001b[1;33m=\u001b[0m \u001b[0mtags_df\u001b[0m\u001b[1;33m.\u001b[0m\u001b[0mloc\u001b[0m\u001b[1;33m[\u001b[0m\u001b[0mstate\u001b[0m\u001b[1;33m[\u001b[0m\u001b[1;33m-\u001b[0m\u001b[1;36m1\u001b[0m\u001b[1;33m]\u001b[0m\u001b[1;33m,\u001b[0m \u001b[0mtag\u001b[0m\u001b[1;33m]\u001b[0m\u001b[1;33m\u001b[0m\u001b[1;33m\u001b[0m\u001b[0m\n\u001b[0m\u001b[0;32m     20\u001b[0m \u001b[1;33m\u001b[0m\u001b[0m\n\u001b[0;32m     21\u001b[0m                 \u001b[1;31m# compute emission and state probabilities\u001b[0m\u001b[1;33m\u001b[0m\u001b[1;33m\u001b[0m\u001b[1;33m\u001b[0m\u001b[0m\n",
      "\u001b[1;31mIndexError\u001b[0m: list index out of range"
     ]
    }
   ],
   "source": [
    "Viterbi_modified(test_sent)"
   ]
  },
  {
   "cell_type": "markdown",
   "metadata": {},
   "source": [
    "#### Evaluating tagging accuracy"
   ]
  },
  {
   "cell_type": "code",
   "execution_count": 394,
   "metadata": {},
   "outputs": [
    {
     "data": {
      "text/plain": [
       "0.9112903225806451"
      ]
     },
     "execution_count": 394,
     "metadata": {},
     "output_type": "execute_result"
    }
   ],
   "source": [
    "tagged_seq = Viterbi_modified(test_tagged_words)\n",
    "\n",
    "# accuracy\n",
    "check = [i for i, j in zip(tagged_seq, test_run_base) if i == j] \n",
    "accuracy = len(check)/len(tagged_seq)\n",
    "accuracy"
   ]
  },
  {
   "cell_type": "markdown",
   "metadata": {},
   "source": [
    "### Compare the tagging accuracies of the modifications with the vanilla Viterbi algorithm"
   ]
  },
  {
   "cell_type": "code",
   "execution_count": 398,
   "metadata": {},
   "outputs": [
    {
     "data": {
      "text/plain": [
       "0.8548387096774194"
      ]
     },
     "execution_count": 398,
     "metadata": {},
     "output_type": "execute_result"
    }
   ],
   "source": [
    "tagged_seq = Viterbi(test_tagged_words)\n",
    "\n",
    "# accuracy\n",
    "check = [i for i, j in zip(tagged_seq, test_run_base) if i == j] \n",
    "accuracy = len(check)/len(tagged_seq)\n",
    "accuracy"
   ]
  },
  {
   "cell_type": "code",
   "execution_count": null,
   "metadata": {},
   "outputs": [],
   "source": []
  },
  {
   "cell_type": "code",
   "execution_count": 399,
   "metadata": {},
   "outputs": [
    {
     "data": {
      "text/plain": [
       "0.9112903225806451"
      ]
     },
     "execution_count": 399,
     "metadata": {},
     "output_type": "execute_result"
    }
   ],
   "source": [
    "tagged_seq = Viterbi_modified(test_tagged_words)\n",
    "\n",
    "# accuracy\n",
    "check = [i for i, j in zip(tagged_seq, test_run_base) if i == j] \n",
    "accuracy = len(check)/len(tagged_seq)\n",
    "accuracy"
   ]
  },
  {
   "cell_type": "code",
   "execution_count": 403,
   "metadata": {},
   "outputs": [
    {
     "name": "stdout",
     "output_type": "stream",
     "text": [
      "The difference between Viterbi modified and Viterbi Vanilla 6.0%\n"
     ]
    }
   ],
   "source": [
    "print(f\"The difference between Viterbi modified and Viterbi Vanilla {round(0.91 - 0.85,2)*100}%\")"
   ]
  },
  {
   "cell_type": "markdown",
   "metadata": {},
   "source": [
    "### List down cases which were incorrectly tagged by original POS tagger and got corrected by your modifications"
   ]
  },
  {
   "cell_type": "code",
   "execution_count": 397,
   "metadata": {},
   "outputs": [],
   "source": [
    "vanila_viterbi_results = Viterbi(test_sent)"
   ]
  },
  {
   "cell_type": "code",
   "execution_count": 396,
   "metadata": {},
   "outputs": [],
   "source": [
    "modified_viterbi_results = Viterbi_modified(test_sent)"
   ]
  },
  {
   "cell_type": "markdown",
   "metadata": {},
   "source": [
    "#### Some of the Incorrected Tags"
   ]
  },
  {
   "cell_type": "code",
   "execution_count": 409,
   "metadata": {},
   "outputs": [
    {
     "name": "stdout",
     "output_type": "stream",
     "text": [
      "('android', 'ADJ') ('mobile', 'ADJ') ('operating', 'NOUN') ('developed', 'VERB')\n"
     ]
    }
   ],
   "source": [
    "print(vanila_viterbi_results[0], vanila_viterbi_results[3], vanila_viterbi_results[4], vanila_viterbi_results[6])\n"
   ]
  },
  {
   "cell_type": "markdown",
   "metadata": {},
   "source": [
    "#### Some of the Corrected Tags after modifying Viterbi"
   ]
  },
  {
   "cell_type": "code",
   "execution_count": 412,
   "metadata": {},
   "outputs": [
    {
     "name": "stdout",
     "output_type": "stream",
     "text": [
      "('android', 'NOUN') ('mobile', 'ADJ') ('operating', 'NOUN') ('developed', 'VERB')\n"
     ]
    }
   ],
   "source": [
    "print(modified_viterbi_results[0], modified_viterbi_results[3], modified_viterbi_results[4], vanila_viterbi_results[6])"
   ]
  },
  {
   "cell_type": "code",
   "execution_count": null,
   "metadata": {},
   "outputs": [],
   "source": []
  }
 ],
 "metadata": {
  "kernelspec": {
   "display_name": "Python 3",
   "language": "python",
   "name": "python3"
  },
  "language_info": {
   "codemirror_mode": {
    "name": "ipython",
    "version": 3
   },
   "file_extension": ".py",
   "mimetype": "text/x-python",
   "name": "python",
   "nbconvert_exporter": "python",
   "pygments_lexer": "ipython3",
   "version": "3.8.3"
  }
 },
 "nbformat": 4,
 "nbformat_minor": 2
}
